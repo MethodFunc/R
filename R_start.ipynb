{
 "cells": [
  {
   "cell_type": "code",
   "execution_count": 55,
   "metadata": {},
   "outputs": [
    {
     "data": {
      "text/html": [
       "<ol class=list-inline>\n",
       "\t<li>179.366222246103</li>\n",
       "\t<li>177.333655853716</li>\n",
       "\t<li>178.69931265597</li>\n",
       "\t<li>178.538980670385</li>\n",
       "\t<li>170.412604484602</li>\n",
       "\t<li>177.289484000082</li>\n",
       "\t<li>177.141874222922</li>\n",
       "\t<li>175.525134698942</li>\n",
       "\t<li>177.145574302655</li>\n",
       "\t<li>175.231594834494</li>\n",
       "\t<li>177.00485936214</li>\n",
       "\t<li>175.724543247921</li>\n",
       "\t<li>177.530175271295</li>\n",
       "\t<li>174.377453071646</li>\n",
       "\t<li>176.513025891609</li>\n",
       "\t<li>176.103251004631</li>\n",
       "\t<li>176.121048737658</li>\n",
       "\t<li>175.08506272058</li>\n",
       "\t<li>172.179034884369</li>\n",
       "\t<li>174.992533276827</li>\n",
       "\t<li>175.516326058937</li>\n",
       "\t<li>174.00356557256</li>\n",
       "\t<li>175.50035617979</li>\n",
       "\t<li>175.4510044169</li>\n",
       "\t<li>174.063592730094</li>\n",
       "\t<li>175.168870666391</li>\n",
       "\t<li>177.895907303355</li>\n",
       "\t<li>175.428366375302</li>\n",
       "\t<li>175.067229979064</li>\n",
       "\t<li>173.971826466854</li>\n",
       "\t<li>174.251319404429</li>\n",
       "\t<li>174.288792349127</li>\n",
       "\t<li>175.231539928886</li>\n",
       "\t<li>177.043692421072</li>\n",
       "\t<li>174.05149510991</li>\n",
       "\t<li>175.130894757906</li>\n",
       "\t<li>173.618671733599</li>\n",
       "\t<li>175.19682876558</li>\n",
       "\t<li>178.35994057184</li>\n",
       "\t<li>177.156444778364</li>\n",
       "\t<li>175.878087442614</li>\n",
       "\t<li>173.43064968088</li>\n",
       "\t<li>174.825870322231</li>\n",
       "\t<li>174.550742740285</li>\n",
       "\t<li>175.370440978464</li>\n",
       "\t<li>175.908933752113</li>\n",
       "\t<li>175.103061960466</li>\n",
       "\t<li>174.468057503438</li>\n",
       "\t<li>177.173538772486</li>\n",
       "\t<li>174.462931828535</li>\n",
       "\t<li>174.847175671783</li>\n",
       "\t<li>175.283297780461</li>\n",
       "\t<li>170.274946535695</li>\n",
       "\t<li>175.745722640872</li>\n",
       "\t<li>172.036452745797</li>\n",
       "\t<li>172.374311830665</li>\n",
       "\t<li>176.41354956171</li>\n",
       "\t<li>172.798269135967</li>\n",
       "\t<li>175.399197594878</li>\n",
       "\t<li>174.723248933607</li>\n",
       "\t<li>174.606191722599</li>\n",
       "\t<li>172.349766376345</li>\n",
       "\t<li>174.391950480701</li>\n",
       "\t<li>176.694036309832</li>\n",
       "\t<li>173.141278117906</li>\n",
       "\t<li>175.260345529417</li>\n",
       "\t<li>172.944553181557</li>\n",
       "\t<li>175.236483336931</li>\n",
       "\t<li>174.85350712484</li>\n",
       "\t<li>172.267954477936</li>\n",
       "\t<li>172.698255048909</li>\n",
       "\t<li>178.163462652867</li>\n",
       "\t<li>177.815688319893</li>\n",
       "\t<li>176.746418056127</li>\n",
       "\t<li>176.779876896455</li>\n",
       "\t<li>171.925053809161</li>\n",
       "\t<li>171.262487445835</li>\n",
       "\t<li>173.977151105795</li>\n",
       "\t<li>175.661248870348</li>\n",
       "\t<li>175.57144202767</li>\n",
       "\t<li>174.73646894269</li>\n",
       "\t<li>175.173916469893</li>\n",
       "\t<li>171.867651477346</li>\n",
       "\t<li>175.213092911897</li>\n",
       "\t<li>174.050506702896</li>\n",
       "\t<li>176.008067119182</li>\n",
       "\t<li>174.731468072428</li>\n",
       "\t<li>173.855501909811</li>\n",
       "\t<li>175.072677350854</li>\n",
       "\t<li>176.961009529776</li>\n",
       "\t<li>172.474894702549</li>\n",
       "\t<li>176.214265324614</li>\n",
       "\t<li>174.982585148776</li>\n",
       "\t<li>175.496230347959</li>\n",
       "\t<li>174.003371902499</li>\n",
       "\t<li>174.305308744718</li>\n",
       "\t<li>173.939822726801</li>\n",
       "\t<li>175.392231715173</li>\n",
       "\t<li>174.94066619017</li>\n",
       "\t<li>174.531033959781</li>\n",
       "</ol>\n"
      ],
      "text/latex": [
       "\\begin{enumerate*}\n",
       "\\item 179.366222246103\n",
       "\\item 177.333655853716\n",
       "\\item 178.69931265597\n",
       "\\item 178.538980670385\n",
       "\\item 170.412604484602\n",
       "\\item 177.289484000082\n",
       "\\item 177.141874222922\n",
       "\\item 175.525134698942\n",
       "\\item 177.145574302655\n",
       "\\item 175.231594834494\n",
       "\\item 177.00485936214\n",
       "\\item 175.724543247921\n",
       "\\item 177.530175271295\n",
       "\\item 174.377453071646\n",
       "\\item 176.513025891609\n",
       "\\item 176.103251004631\n",
       "\\item 176.121048737658\n",
       "\\item 175.08506272058\n",
       "\\item 172.179034884369\n",
       "\\item 174.992533276827\n",
       "\\item 175.516326058937\n",
       "\\item 174.00356557256\n",
       "\\item 175.50035617979\n",
       "\\item 175.4510044169\n",
       "\\item 174.063592730094\n",
       "\\item 175.168870666391\n",
       "\\item 177.895907303355\n",
       "\\item 175.428366375302\n",
       "\\item 175.067229979064\n",
       "\\item 173.971826466854\n",
       "\\item 174.251319404429\n",
       "\\item 174.288792349127\n",
       "\\item 175.231539928886\n",
       "\\item 177.043692421072\n",
       "\\item 174.05149510991\n",
       "\\item 175.130894757906\n",
       "\\item 173.618671733599\n",
       "\\item 175.19682876558\n",
       "\\item 178.35994057184\n",
       "\\item 177.156444778364\n",
       "\\item 175.878087442614\n",
       "\\item 173.43064968088\n",
       "\\item 174.825870322231\n",
       "\\item 174.550742740285\n",
       "\\item 175.370440978464\n",
       "\\item 175.908933752113\n",
       "\\item 175.103061960466\n",
       "\\item 174.468057503438\n",
       "\\item 177.173538772486\n",
       "\\item 174.462931828535\n",
       "\\item 174.847175671783\n",
       "\\item 175.283297780461\n",
       "\\item 170.274946535695\n",
       "\\item 175.745722640872\n",
       "\\item 172.036452745797\n",
       "\\item 172.374311830665\n",
       "\\item 176.41354956171\n",
       "\\item 172.798269135967\n",
       "\\item 175.399197594878\n",
       "\\item 174.723248933607\n",
       "\\item 174.606191722599\n",
       "\\item 172.349766376345\n",
       "\\item 174.391950480701\n",
       "\\item 176.694036309832\n",
       "\\item 173.141278117906\n",
       "\\item 175.260345529417\n",
       "\\item 172.944553181557\n",
       "\\item 175.236483336931\n",
       "\\item 174.85350712484\n",
       "\\item 172.267954477936\n",
       "\\item 172.698255048909\n",
       "\\item 178.163462652867\n",
       "\\item 177.815688319893\n",
       "\\item 176.746418056127\n",
       "\\item 176.779876896455\n",
       "\\item 171.925053809161\n",
       "\\item 171.262487445835\n",
       "\\item 173.977151105795\n",
       "\\item 175.661248870348\n",
       "\\item 175.57144202767\n",
       "\\item 174.73646894269\n",
       "\\item 175.173916469893\n",
       "\\item 171.867651477346\n",
       "\\item 175.213092911897\n",
       "\\item 174.050506702896\n",
       "\\item 176.008067119182\n",
       "\\item 174.731468072428\n",
       "\\item 173.855501909811\n",
       "\\item 175.072677350854\n",
       "\\item 176.961009529776\n",
       "\\item 172.474894702549\n",
       "\\item 176.214265324614\n",
       "\\item 174.982585148776\n",
       "\\item 175.496230347959\n",
       "\\item 174.003371902499\n",
       "\\item 174.305308744718\n",
       "\\item 173.939822726801\n",
       "\\item 175.392231715173\n",
       "\\item 174.94066619017\n",
       "\\item 174.531033959781\n",
       "\\end{enumerate*}\n"
      ],
      "text/markdown": [
       "1. 179.366222246103\n",
       "2. 177.333655853716\n",
       "3. 178.69931265597\n",
       "4. 178.538980670385\n",
       "5. 170.412604484602\n",
       "6. 177.289484000082\n",
       "7. 177.141874222922\n",
       "8. 175.525134698942\n",
       "9. 177.145574302655\n",
       "10. 175.231594834494\n",
       "11. 177.00485936214\n",
       "12. 175.724543247921\n",
       "13. 177.530175271295\n",
       "14. 174.377453071646\n",
       "15. 176.513025891609\n",
       "16. 176.103251004631\n",
       "17. 176.121048737658\n",
       "18. 175.08506272058\n",
       "19. 172.179034884369\n",
       "20. 174.992533276827\n",
       "21. 175.516326058937\n",
       "22. 174.00356557256\n",
       "23. 175.50035617979\n",
       "24. 175.4510044169\n",
       "25. 174.063592730094\n",
       "26. 175.168870666391\n",
       "27. 177.895907303355\n",
       "28. 175.428366375302\n",
       "29. 175.067229979064\n",
       "30. 173.971826466854\n",
       "31. 174.251319404429\n",
       "32. 174.288792349127\n",
       "33. 175.231539928886\n",
       "34. 177.043692421072\n",
       "35. 174.05149510991\n",
       "36. 175.130894757906\n",
       "37. 173.618671733599\n",
       "38. 175.19682876558\n",
       "39. 178.35994057184\n",
       "40. 177.156444778364\n",
       "41. 175.878087442614\n",
       "42. 173.43064968088\n",
       "43. 174.825870322231\n",
       "44. 174.550742740285\n",
       "45. 175.370440978464\n",
       "46. 175.908933752113\n",
       "47. 175.103061960466\n",
       "48. 174.468057503438\n",
       "49. 177.173538772486\n",
       "50. 174.462931828535\n",
       "51. 174.847175671783\n",
       "52. 175.283297780461\n",
       "53. 170.274946535695\n",
       "54. 175.745722640872\n",
       "55. 172.036452745797\n",
       "56. 172.374311830665\n",
       "57. 176.41354956171\n",
       "58. 172.798269135967\n",
       "59. 175.399197594878\n",
       "60. 174.723248933607\n",
       "61. 174.606191722599\n",
       "62. 172.349766376345\n",
       "63. 174.391950480701\n",
       "64. 176.694036309832\n",
       "65. 173.141278117906\n",
       "66. 175.260345529417\n",
       "67. 172.944553181557\n",
       "68. 175.236483336931\n",
       "69. 174.85350712484\n",
       "70. 172.267954477936\n",
       "71. 172.698255048909\n",
       "72. 178.163462652867\n",
       "73. 177.815688319893\n",
       "74. 176.746418056127\n",
       "75. 176.779876896455\n",
       "76. 171.925053809161\n",
       "77. 171.262487445835\n",
       "78. 173.977151105795\n",
       "79. 175.661248870348\n",
       "80. 175.57144202767\n",
       "81. 174.73646894269\n",
       "82. 175.173916469893\n",
       "83. 171.867651477346\n",
       "84. 175.213092911897\n",
       "85. 174.050506702896\n",
       "86. 176.008067119182\n",
       "87. 174.731468072428\n",
       "88. 173.855501909811\n",
       "89. 175.072677350854\n",
       "90. 176.961009529776\n",
       "91. 172.474894702549\n",
       "92. 176.214265324614\n",
       "93. 174.982585148776\n",
       "94. 175.496230347959\n",
       "95. 174.003371902499\n",
       "96. 174.305308744718\n",
       "97. 173.939822726801\n",
       "98. 175.392231715173\n",
       "99. 174.94066619017\n",
       "100. 174.531033959781\n",
       "\n",
       "\n"
      ],
      "text/plain": [
       "  [1] 179.3662 177.3337 178.6993 178.5390 170.4126 177.2895 177.1419 175.5251\n",
       "  [9] 177.1456 175.2316 177.0049 175.7245 177.5302 174.3775 176.5130 176.1033\n",
       " [17] 176.1210 175.0851 172.1790 174.9925 175.5163 174.0036 175.5004 175.4510\n",
       " [25] 174.0636 175.1689 177.8959 175.4284 175.0672 173.9718 174.2513 174.2888\n",
       " [33] 175.2315 177.0437 174.0515 175.1309 173.6187 175.1968 178.3599 177.1564\n",
       " [41] 175.8781 173.4306 174.8259 174.5507 175.3704 175.9089 175.1031 174.4681\n",
       " [49] 177.1735 174.4629 174.8472 175.2833 170.2749 175.7457 172.0365 172.3743\n",
       " [57] 176.4135 172.7983 175.3992 174.7232 174.6062 172.3498 174.3920 176.6940\n",
       " [65] 173.1413 175.2603 172.9446 175.2365 174.8535 172.2680 172.6983 178.1635\n",
       " [73] 177.8157 176.7464 176.7799 171.9251 171.2625 173.9772 175.6612 175.5714\n",
       " [81] 174.7365 175.1739 171.8677 175.2131 174.0505 176.0081 174.7315 173.8555\n",
       " [89] 175.0727 176.9610 172.4749 176.2143 174.9826 175.4962 174.0034 174.3053\n",
       " [97] 173.9398 175.3922 174.9407 174.5310"
      ]
     },
     "metadata": {},
     "output_type": "display_data"
    },
    {
     "data": {
      "image/png": "[encoded data removed]",
      "text/plain": [
       "Plot with title \"Histogram of x\""
      ]
     },
     "metadata": {},
     "output_type": "display_data"
    },
    {
     "data": {
      "text/plain": [
       "\n",
       "\tShapiro-Wilk normality test\n",
       "\n",
       "data:  x\n",
       "W = 0.98246, p-value = 0.2057\n"
      ]
     },
     "metadata": {},
     "output_type": "display_data"
    },
    {
     "name": "stdout",
     "output_type": "stream",
     "text": [
      "[1] \"a\"\n"
     ]
    },
    {
     "data": {
      "text/html": [
       "<ol class=list-inline>\n",
       "\t<li>'i'</li>\n",
       "\t<li>'am'</li>\n",
       "\t<li>'a boy'</li>\n",
       "</ol>\n"
      ],
      "text/latex": [
       "\\begin{enumerate*}\n",
       "\\item 'i'\n",
       "\\item 'am'\n",
       "\\item 'a boy'\n",
       "\\end{enumerate*}\n"
      ],
      "text/markdown": [
       "1. 'i'\n",
       "2. 'am'\n",
       "3. 'a boy'\n",
       "\n",
       "\n"
      ],
      "text/plain": [
       "[1] \"i\"     \"am\"    \"a boy\""
      ]
     },
     "metadata": {},
     "output_type": "display_data"
    },
    {
     "data": {
      "text/html": [
       "4"
      ],
      "text/latex": [
       "4"
      ],
      "text/markdown": [
       "4"
      ],
      "text/plain": [
       "[1] 4"
      ]
     },
     "metadata": {},
     "output_type": "display_data"
    },
    {
     "data": {
      "text/html": [
       "7"
      ],
      "text/latex": [
       "7"
      ],
      "text/markdown": [
       "7"
      ],
      "text/plain": [
       "[1] 7"
      ]
     },
     "metadata": {},
     "output_type": "display_data"
    },
    {
     "data": {
      "text/html": [
       "1"
      ],
      "text/latex": [
       "1"
      ],
      "text/markdown": [
       "1"
      ],
      "text/plain": [
       "[1] 1"
      ]
     },
     "metadata": {},
     "output_type": "display_data"
    },
    {
     "data": {
      "text/html": [
       "3"
      ],
      "text/latex": [
       "3"
      ],
      "text/markdown": [
       "3"
      ],
      "text/plain": [
       "[1] 3"
      ]
     },
     "metadata": {},
     "output_type": "display_data"
    },
    {
     "data": {
      "text/html": [
       "'i am a boy'"
      ],
      "text/latex": [
       "'i am a boy'"
      ],
      "text/markdown": [
       "'i am a boy'"
      ],
      "text/plain": [
       "[1] \"i am a boy\""
      ]
     },
     "metadata": {},
     "output_type": "display_data"
    },
    {
     "data": {
      "text/html": [
       "<ol class=list-inline>\n",
       "\t<li>'a'</li>\n",
       "\t<li>'a'</li>\n",
       "\t<li>'b'</li>\n",
       "\t<li>'c'</li>\n",
       "</ol>\n"
      ],
      "text/latex": [
       "\\begin{enumerate*}\n",
       "\\item 'a'\n",
       "\\item 'a'\n",
       "\\item 'b'\n",
       "\\item 'c'\n",
       "\\end{enumerate*}\n"
      ],
      "text/markdown": [
       "1. 'a'\n",
       "2. 'a'\n",
       "3. 'b'\n",
       "4. 'c'\n",
       "\n",
       "\n"
      ],
      "text/plain": [
       "[1] \"a\" \"a\" \"b\" \"c\""
      ]
     },
     "metadata": {},
     "output_type": "display_data"
    },
    {
     "data": {
      "image/png": "[encoded data removed]",
      "text/plain": [
       "Plot with title \"Histogram of x\""
      ]
     },
     "metadata": {},
     "output_type": "display_data"
    },
    {
     "name": "stderr",
     "output_type": "stream",
     "text": [
      "`stat_bin()` using `bins = 30`. Pick better value with `binwidth`.\n"
     ]
    },
    {
     "data": {
      "image/png": "[encoded data removed]",
      "text/plain": [
       "plot without title"
      ]
     },
     "metadata": {},
     "output_type": "display_data"
    },
    {
     "name": "stderr",
     "output_type": "stream",
     "text": [
      "`stat_bin()` using `bins = 30`. Pick better value with `binwidth`.\n"
     ]
    },
    {
     "data": {
      "image/png": "[encoded data removed]",
      "text/plain": [
       "plot without title"
      ]
     },
     "metadata": {},
     "output_type": "display_data"
    },
    {
     "data": {
      "image/png": "[encoded data removed]",
      "text/plain": [
       "plot without title"
      ]
     },
     "metadata": {},
     "output_type": "display_data"
    },
    {
     "data": {
      "image/png": "[encoded data removed]",
      "text/plain": [
       "plot without title"
      ]
     },
     "metadata": {},
     "output_type": "display_data"
    },
    {
     "data": {
      "image/png": "[encoded data removed]",
      "text/plain": [
       "plot without title"
      ]
     },
     "metadata": {},
     "output_type": "display_data"
    },
    {
     "data": {
      "image/png": "[encoded data removed]",
      "text/plain": [
       "plot without title"
      ]
     },
     "metadata": {},
     "output_type": "display_data"
    },
    {
     "data": {
      "image/png": "[encoded data removed]",
      "text/plain": [
       "plot without title"
      ]
     },
     "metadata": {},
     "output_type": "display_data"
    },
    {
     "data": {
      "text/html": [
       "70"
      ],
      "text/latex": [
       "70"
      ],
      "text/markdown": [
       "70"
      ],
      "text/plain": [
       "[1] 70"
      ]
     },
     "metadata": {},
     "output_type": "display_data"
    },
    {
     "data": {
      "text/html": [
       "70"
      ],
      "text/latex": [
       "70"
      ],
      "text/markdown": [
       "70"
      ],
      "text/plain": [
       "[1] 70"
      ]
     },
     "metadata": {},
     "output_type": "display_data"
    },
    {
     "data": {
      "image/png": "[encoded data removed]",
      "text/plain": [
       "plot without title"
      ]
     },
     "metadata": {},
     "output_type": "display_data"
    },
    {
     "data": {
      "text/html": [
       "\n",
       "<table width=\"100%\" summary=\"page for qplot {ggplot2}\"><tr><td>qplot {ggplot2}</td><td style=\"text-align: right;\">R Documentation</td></tr></table>\n",
       "\n",
       "<h2>Quick plot</h2>\n",
       "\n",
       "<h3>Description</h3>\n",
       "\n",
       "<p><code>qplot()</code> is a shortcut designed to be familiar if you're used to base\n",
       "<code>plot()</code>. It's a convenient wrapper for creating a number of\n",
       "different types of plots using a consistent calling scheme. It's great\n",
       "for allowing you to produce plots quickly, but I highly recommend\n",
       "learning <code>ggplot()</code> as it makes it easier to create\n",
       "complex graphics.\n",
       "</p>\n",
       "\n",
       "\n",
       "<h3>Usage</h3>\n",
       "\n",
       "<pre>\n",
       "qplot(\n",
       "  x,\n",
       "  y,\n",
       "  ...,\n",
       "  data,\n",
       "  facets = NULL,\n",
       "  margins = FALSE,\n",
       "  geom = \"auto\",\n",
       "  xlim = c(NA, NA),\n",
       "  ylim = c(NA, NA),\n",
       "  log = \"\",\n",
       "  main = NULL,\n",
       "  xlab = NULL,\n",
       "  ylab = NULL,\n",
       "  asp = NA,\n",
       "  stat = NULL,\n",
       "  position = NULL\n",
       ")\n",
       "\n",
       "quickplot(\n",
       "  x,\n",
       "  y,\n",
       "  ...,\n",
       "  data,\n",
       "  facets = NULL,\n",
       "  margins = FALSE,\n",
       "  geom = \"auto\",\n",
       "  xlim = c(NA, NA),\n",
       "  ylim = c(NA, NA),\n",
       "  log = \"\",\n",
       "  main = NULL,\n",
       "  xlab = NULL,\n",
       "  ylab = NULL,\n",
       "  asp = NA,\n",
       "  stat = NULL,\n",
       "  position = NULL\n",
       ")\n",
       "</pre>\n",
       "\n",
       "\n",
       "<h3>Arguments</h3>\n",
       "\n",
       "<table summary=\"R argblock\">\n",
       "<tr valign=\"top\"><td><code>x, y, ...</code></td>\n",
       "<td>\n",
       "<p>Aesthetics passed into each layer</p>\n",
       "</td></tr>\n",
       "<tr valign=\"top\"><td><code>data</code></td>\n",
       "<td>\n",
       "<p>Data frame to use (optional).  If not specified, will create\n",
       "one, extracting vectors from the current environment.</p>\n",
       "</td></tr>\n",
       "<tr valign=\"top\"><td><code>facets</code></td>\n",
       "<td>\n",
       "<p>faceting formula to use. Picks <code>facet_wrap()</code> or\n",
       "<code>facet_grid()</code> depending on whether the formula is one-\n",
       "or two-sided</p>\n",
       "</td></tr>\n",
       "<tr valign=\"top\"><td><code>margins</code></td>\n",
       "<td>\n",
       "<p>See <code>facet_grid</code>: display marginal facets?</p>\n",
       "</td></tr>\n",
       "<tr valign=\"top\"><td><code>geom</code></td>\n",
       "<td>\n",
       "<p>Character vector specifying geom(s) to draw. Defaults to\n",
       "&quot;point&quot; if x and y are specified, and &quot;histogram&quot; if only x is specified.</p>\n",
       "</td></tr>\n",
       "<tr valign=\"top\"><td><code>xlim, ylim</code></td>\n",
       "<td>\n",
       "<p>X and y axis limits</p>\n",
       "</td></tr>\n",
       "<tr valign=\"top\"><td><code>log</code></td>\n",
       "<td>\n",
       "<p>Which variables to log transform (&quot;x&quot;, &quot;y&quot;, or &quot;xy&quot;)</p>\n",
       "</td></tr>\n",
       "<tr valign=\"top\"><td><code>main, xlab, ylab</code></td>\n",
       "<td>\n",
       "<p>Character vector (or expression) giving plot title,\n",
       "x axis label, and y axis label respectively.</p>\n",
       "</td></tr>\n",
       "<tr valign=\"top\"><td><code>asp</code></td>\n",
       "<td>\n",
       "<p>The y/x aspect ratio</p>\n",
       "</td></tr>\n",
       "<tr valign=\"top\"><td><code>stat, position</code></td>\n",
       "<td>\n",
       "<p>DEPRECATED.</p>\n",
       "</td></tr>\n",
       "</table>\n",
       "\n",
       "\n",
       "<h3>Examples</h3>\n",
       "\n",
       "<pre>\n",
       "# Use data from data.frame\n",
       "qplot(mpg, wt, data = mtcars)\n",
       "qplot(mpg, wt, data = mtcars, colour = cyl)\n",
       "qplot(mpg, wt, data = mtcars, size = cyl)\n",
       "qplot(mpg, wt, data = mtcars, facets = vs ~ am)\n",
       "\n",
       "\n",
       "qplot(1:10, rnorm(10), colour = runif(10))\n",
       "qplot(1:10, letters[1:10])\n",
       "mod &lt;- lm(mpg ~ wt, data = mtcars)\n",
       "qplot(resid(mod), fitted(mod))\n",
       "\n",
       "f &lt;- function() {\n",
       "   a &lt;- 1:10\n",
       "   b &lt;- a ^ 2\n",
       "   qplot(a, b)\n",
       "}\n",
       "f()\n",
       "\n",
       "# To set aesthetics, wrap in I()\n",
       "qplot(mpg, wt, data = mtcars, colour = I(\"red\"))\n",
       "\n",
       "# qplot will attempt to guess what geom you want depending on the input\n",
       "# both x and y supplied = scatterplot\n",
       "qplot(mpg, wt, data = mtcars)\n",
       "# just x supplied = histogram\n",
       "qplot(mpg, data = mtcars)\n",
       "# just y supplied = scatterplot, with x = seq_along(y)\n",
       "qplot(y = mpg, data = mtcars)\n",
       "\n",
       "# Use different geoms\n",
       "qplot(mpg, wt, data = mtcars, geom = \"path\")\n",
       "qplot(factor(cyl), wt, data = mtcars, geom = c(\"boxplot\", \"jitter\"))\n",
       "qplot(mpg, data = mtcars, geom = \"dotplot\")\n",
       "\n",
       "</pre>\n",
       "\n",
       "<hr /><div style=\"text-align: center;\">[Package <em>ggplot2</em> version 3.3.2 ]</div>"
      ],
      "text/latex": [
       "\\inputencoding{utf8}\n",
       "\\HeaderA{qplot}{Quick plot}{qplot}\n",
       "\\aliasA{quickplot}{qplot}{quickplot}\n",
       "%\n",
       "\\begin{Description}\\relax\n",
       "\\code{qplot()} is a shortcut designed to be familiar if you're used to base\n",
       "\\code{\\LinkA{plot()}{plot}}. It's a convenient wrapper for creating a number of\n",
       "different types of plots using a consistent calling scheme. It's great\n",
       "for allowing you to produce plots quickly, but I highly recommend\n",
       "learning \\code{\\LinkA{ggplot()}{ggplot}} as it makes it easier to create\n",
       "complex graphics.\n",
       "\\end{Description}\n",
       "%\n",
       "\\begin{Usage}\n",
       "\\begin{verbatim}\n",
       "qplot(\n",
       "  x,\n",
       "  y,\n",
       "  ...,\n",
       "  data,\n",
       "  facets = NULL,\n",
       "  margins = FALSE,\n",
       "  geom = \"auto\",\n",
       "  xlim = c(NA, NA),\n",
       "  ylim = c(NA, NA),\n",
       "  log = \"\",\n",
       "  main = NULL,\n",
       "  xlab = NULL,\n",
       "  ylab = NULL,\n",
       "  asp = NA,\n",
       "  stat = NULL,\n",
       "  position = NULL\n",
       ")\n",
       "\n",
       "quickplot(\n",
       "  x,\n",
       "  y,\n",
       "  ...,\n",
       "  data,\n",
       "  facets = NULL,\n",
       "  margins = FALSE,\n",
       "  geom = \"auto\",\n",
       "  xlim = c(NA, NA),\n",
       "  ylim = c(NA, NA),\n",
       "  log = \"\",\n",
       "  main = NULL,\n",
       "  xlab = NULL,\n",
       "  ylab = NULL,\n",
       "  asp = NA,\n",
       "  stat = NULL,\n",
       "  position = NULL\n",
       ")\n",
       "\\end{verbatim}\n",
       "\\end{Usage}\n",
       "%\n",
       "\\begin{Arguments}\n",
       "\\begin{ldescription}\n",
       "\\item[\\code{x, y, ...}] Aesthetics passed into each layer\n",
       "\n",
       "\\item[\\code{data}] Data frame to use (optional).  If not specified, will create\n",
       "one, extracting vectors from the current environment.\n",
       "\n",
       "\\item[\\code{facets}] faceting formula to use. Picks \\code{\\LinkA{facet\\_wrap()}{facet.Rul.wrap}} or\n",
       "\\code{\\LinkA{facet\\_grid()}{facet.Rul.grid}} depending on whether the formula is one-\n",
       "or two-sided\n",
       "\n",
       "\\item[\\code{margins}] See \\code{facet\\_grid}: display marginal facets?\n",
       "\n",
       "\\item[\\code{geom}] Character vector specifying geom(s) to draw. Defaults to\n",
       "\"point\" if x and y are specified, and \"histogram\" if only x is specified.\n",
       "\n",
       "\\item[\\code{xlim, ylim}] X and y axis limits\n",
       "\n",
       "\\item[\\code{log}] Which variables to log transform (\"x\", \"y\", or \"xy\")\n",
       "\n",
       "\\item[\\code{main, xlab, ylab}] Character vector (or expression) giving plot title,\n",
       "x axis label, and y axis label respectively.\n",
       "\n",
       "\\item[\\code{asp}] The y/x aspect ratio\n",
       "\n",
       "\\item[\\code{stat, position}] DEPRECATED.\n",
       "\\end{ldescription}\n",
       "\\end{Arguments}\n",
       "%\n",
       "\\begin{Examples}\n",
       "\\begin{ExampleCode}\n",
       "# Use data from data.frame\n",
       "qplot(mpg, wt, data = mtcars)\n",
       "qplot(mpg, wt, data = mtcars, colour = cyl)\n",
       "qplot(mpg, wt, data = mtcars, size = cyl)\n",
       "qplot(mpg, wt, data = mtcars, facets = vs ~ am)\n",
       "\n",
       "\n",
       "qplot(1:10, rnorm(10), colour = runif(10))\n",
       "qplot(1:10, letters[1:10])\n",
       "mod <- lm(mpg ~ wt, data = mtcars)\n",
       "qplot(resid(mod), fitted(mod))\n",
       "\n",
       "f <- function() {\n",
       "   a <- 1:10\n",
       "   b <- a ^ 2\n",
       "   qplot(a, b)\n",
       "}\n",
       "f()\n",
       "\n",
       "# To set aesthetics, wrap in I()\n",
       "qplot(mpg, wt, data = mtcars, colour = I(\"red\"))\n",
       "\n",
       "# qplot will attempt to guess what geom you want depending on the input\n",
       "# both x and y supplied = scatterplot\n",
       "qplot(mpg, wt, data = mtcars)\n",
       "# just x supplied = histogram\n",
       "qplot(mpg, data = mtcars)\n",
       "# just y supplied = scatterplot, with x = seq_along(y)\n",
       "qplot(y = mpg, data = mtcars)\n",
       "\n",
       "# Use different geoms\n",
       "qplot(mpg, wt, data = mtcars, geom = \"path\")\n",
       "qplot(factor(cyl), wt, data = mtcars, geom = c(\"boxplot\", \"jitter\"))\n",
       "qplot(mpg, data = mtcars, geom = \"dotplot\")\n",
       "\n",
       "\\end{ExampleCode}\n",
       "\\end{Examples}"
      ],
      "text/plain": [
       "qplot                 package:ggplot2                  R Documentation\n",
       "\n",
       "_\bQ_\bu_\bi_\bc_\bk _\bp_\bl_\bo_\bt\n",
       "\n",
       "_\bD_\be_\bs_\bc_\br_\bi_\bp_\bt_\bi_\bo_\bn:\n",
       "\n",
       "     'qplot()' is a shortcut designed to be familiar if you're used to\n",
       "     base 'plot()'. It's a convenient wrapper for creating a number of\n",
       "     different types of plots using a consistent calling scheme. It's\n",
       "     great for allowing you to produce plots quickly, but I highly\n",
       "     recommend learning 'ggplot()' as it makes it easier to create\n",
       "     complex graphics.\n",
       "\n",
       "_\bU_\bs_\ba_\bg_\be:\n",
       "\n",
       "     qplot(\n",
       "       x,\n",
       "       y,\n",
       "       ...,\n",
       "       data,\n",
       "       facets = NULL,\n",
       "       margins = FALSE,\n",
       "       geom = \"auto\",\n",
       "       xlim = c(NA, NA),\n",
       "       ylim = c(NA, NA),\n",
       "       log = \"\",\n",
       "       main = NULL,\n",
       "       xlab = NULL,\n",
       "       ylab = NULL,\n",
       "       asp = NA,\n",
       "       stat = NULL,\n",
       "       position = NULL\n",
       "     )\n",
       "     \n",
       "     quickplot(\n",
       "       x,\n",
       "       y,\n",
       "       ...,\n",
       "       data,\n",
       "       facets = NULL,\n",
       "       margins = FALSE,\n",
       "       geom = \"auto\",\n",
       "       xlim = c(NA, NA),\n",
       "       ylim = c(NA, NA),\n",
       "       log = \"\",\n",
       "       main = NULL,\n",
       "       xlab = NULL,\n",
       "       ylab = NULL,\n",
       "       asp = NA,\n",
       "       stat = NULL,\n",
       "       position = NULL\n",
       "     )\n",
       "     \n",
       "_\bA_\br_\bg_\bu_\bm_\be_\bn_\bt_\bs:\n",
       "\n",
       "x, y, ...: Aesthetics passed into each layer\n",
       "\n",
       "    data: Data frame to use (optional).  If not specified, will create\n",
       "          one, extracting vectors from the current environment.\n",
       "\n",
       "  facets: faceting formula to use. Picks 'facet_wrap()' or\n",
       "          'facet_grid()' depending on whether the formula is one- or\n",
       "          two-sided\n",
       "\n",
       " margins: See 'facet_grid': display marginal facets?\n",
       "\n",
       "    geom: Character vector specifying geom(s) to draw. Defaults to\n",
       "          \"point\" if x and y are specified, and \"histogram\" if only x\n",
       "          is specified.\n",
       "\n",
       "xlim, ylim: X and y axis limits\n",
       "\n",
       "     log: Which variables to log transform (\"x\", \"y\", or \"xy\")\n",
       "\n",
       "main, xlab, ylab: Character vector (or expression) giving plot title, x\n",
       "          axis label, and y axis label respectively.\n",
       "\n",
       "     asp: The y/x aspect ratio\n",
       "\n",
       "stat, position: DEPRECATED.\n",
       "\n",
       "_\bE_\bx_\ba_\bm_\bp_\bl_\be_\bs:\n",
       "\n",
       "     # Use data from data.frame\n",
       "     qplot(mpg, wt, data = mtcars)\n",
       "     qplot(mpg, wt, data = mtcars, colour = cyl)\n",
       "     qplot(mpg, wt, data = mtcars, size = cyl)\n",
       "     qplot(mpg, wt, data = mtcars, facets = vs ~ am)\n",
       "     \n",
       "     \n",
       "     qplot(1:10, rnorm(10), colour = runif(10))\n",
       "     qplot(1:10, letters[1:10])\n",
       "     mod <- lm(mpg ~ wt, data = mtcars)\n",
       "     qplot(resid(mod), fitted(mod))\n",
       "     \n",
       "     f <- function() {\n",
       "        a <- 1:10\n",
       "        b <- a ^ 2\n",
       "        qplot(a, b)\n",
       "     }\n",
       "     f()\n",
       "     \n",
       "     # To set aesthetics, wrap in I()\n",
       "     qplot(mpg, wt, data = mtcars, colour = I(\"red\"))\n",
       "     \n",
       "     # qplot will attempt to guess what geom you want depending on the input\n",
       "     # both x and y supplied = scatterplot\n",
       "     qplot(mpg, wt, data = mtcars)\n",
       "     # just x supplied = histogram\n",
       "     qplot(mpg, data = mtcars)\n",
       "     # just y supplied = scatterplot, with x = seq_along(y)\n",
       "     qplot(y = mpg, data = mtcars)\n",
       "     \n",
       "     # Use different geoms\n",
       "     qplot(mpg, wt, data = mtcars, geom = \"path\")\n",
       "     qplot(factor(cyl), wt, data = mtcars, geom = c(\"boxplot\", \"jitter\"))\n",
       "     qplot(mpg, data = mtcars, geom = \"dotplot\")\n",
       "     "
      ]
     },
     "metadata": {},
     "output_type": "display_data"
    }
   ],
   "source": [
    "x = rnorm(100, 175, 2)\n",
    "x\n",
    "hist(x)\n",
    "hist(x, breaks = 5, probability =  T)\n",
    "lines(density(x), col=2, type='h', lwd=0.5)\n",
    "shapiro.test(x)\n",
    "\n",
    "a = 1\n",
    "\n",
    "var1 = c(1,2,5,7,8)\n",
    "\n",
    "var2 = c(1:5)\n",
    "\n",
    "var3 = seq(1, 5)\n",
    "\n",
    "var4 = seq(1, 10, 2)\n",
    "\n",
    "var5 = var1 + var2\n",
    "str = 'a'\n",
    "str1 = 'abcdef'\n",
    "\n",
    "print(str)\n",
    "\n",
    "str5 = c('i', 'am', 'a boy')\n",
    "str5\n",
    "\n",
    "x = c(1,4, 7)\n",
    "mean(x)\n",
    "max(x)\n",
    "min(x)\n",
    "sd(x)\n",
    "\n",
    "paste(str5, collapse = ' ')\n",
    "\n",
    "library(ggplot2)\n",
    "\n",
    "x = c(\"a\", \"a\", \"b\", \"c\")\n",
    "x\n",
    "\n",
    "qplot(x)\n",
    "qplot(data = mpg, x=hwy)\n",
    "qplot(data =mpg, x = cty)\n",
    "qplot(data = mpg, x=drv, y= hwy)\n",
    "qplot(data = mpg, x=drv, y= hwy, geom = 'line')\n",
    "qplot(data = mpg, x=drv, y= hwy, geom = 'line', color= drv)\n",
    "qplot(data = mpg, x=drv, y= hwy, geom = 'boxplot')\n",
    "qplot(data = mpg, x=drv, y= hwy, geom = 'boxplot', color=drv)\n",
    "\n",
    "?qplot\n",
    "\n",
    "score = c(80, 60, 70, 50, 90)\n",
    "mean(score)\n",
    "a_mean = mean(score)\n",
    "a_mean"
   ]
  },
  {
   "cell_type": "code",
   "execution_count": 56,
   "metadata": {},
   "outputs": [
    {
     "data": {
      "text/html": [
       "<table>\n",
       "<thead><tr><th scope=col>english</th><th scope=col>math</th></tr></thead>\n",
       "<tbody>\n",
       "\t<tr><td>90 </td><td> 50</td></tr>\n",
       "\t<tr><td>80 </td><td> 60</td></tr>\n",
       "\t<tr><td>60 </td><td>100</td></tr>\n",
       "\t<tr><td>70 </td><td> 20</td></tr>\n",
       "</tbody>\n",
       "</table>\n"
      ],
      "text/latex": [
       "\\begin{tabular}{r|ll}\n",
       " english & math\\\\\n",
       "\\hline\n",
       "\t 90  &  50\\\\\n",
       "\t 80  &  60\\\\\n",
       "\t 60  & 100\\\\\n",
       "\t 70  &  20\\\\\n",
       "\\end{tabular}\n"
      ],
      "text/markdown": [
       "\n",
       "| english | math |\n",
       "|---|---|\n",
       "| 90  |  50 |\n",
       "| 80  |  60 |\n",
       "| 60  | 100 |\n",
       "| 70  |  20 |\n",
       "\n"
      ],
      "text/plain": [
       "  english math\n",
       "1 90       50 \n",
       "2 80       60 \n",
       "3 60      100 \n",
       "4 70       20 "
      ]
     },
     "metadata": {},
     "output_type": "display_data"
    },
    {
     "data": {
      "text/html": [
       "<table>\n",
       "<thead><tr><th scope=col>english</th><th scope=col>math</th><th scope=col>class</th></tr></thead>\n",
       "<tbody>\n",
       "\t<tr><td>90 </td><td> 50</td><td>1  </td></tr>\n",
       "\t<tr><td>80 </td><td> 60</td><td>1  </td></tr>\n",
       "\t<tr><td>60 </td><td>100</td><td>2  </td></tr>\n",
       "\t<tr><td>70 </td><td> 20</td><td>2  </td></tr>\n",
       "</tbody>\n",
       "</table>\n"
      ],
      "text/latex": [
       "\\begin{tabular}{r|lll}\n",
       " english & math & class\\\\\n",
       "\\hline\n",
       "\t 90  &  50 & 1  \\\\\n",
       "\t 80  &  60 & 1  \\\\\n",
       "\t 60  & 100 & 2  \\\\\n",
       "\t 70  &  20 & 2  \\\\\n",
       "\\end{tabular}\n"
      ],
      "text/markdown": [
       "\n",
       "| english | math | class |\n",
       "|---|---|---|\n",
       "| 90  |  50 | 1   |\n",
       "| 80  |  60 | 1   |\n",
       "| 60  | 100 | 2   |\n",
       "| 70  |  20 | 2   |\n",
       "\n"
      ],
      "text/plain": [
       "  english math class\n",
       "1 90       50  1    \n",
       "2 80       60  1    \n",
       "3 60      100  2    \n",
       "4 70       20  2    "
      ]
     },
     "metadata": {},
     "output_type": "display_data"
    },
    {
     "data": {
      "text/html": [
       "75"
      ],
      "text/latex": [
       "75"
      ],
      "text/markdown": [
       "75"
      ],
      "text/plain": [
       "[1] 75"
      ]
     },
     "metadata": {},
     "output_type": "display_data"
    },
    {
     "data": {
      "text/html": [
       "57.5"
      ],
      "text/latex": [
       "57.5"
      ],
      "text/markdown": [
       "57.5"
      ],
      "text/plain": [
       "[1] 57.5"
      ]
     },
     "metadata": {},
     "output_type": "display_data"
    },
    {
     "data": {
      "text/html": [
       "<table>\n",
       "<thead><tr><th scope=col>english</th><th scope=col>math</th><th scope=col>class</th></tr></thead>\n",
       "<tbody>\n",
       "\t<tr><td>90 </td><td> 50</td><td>1  </td></tr>\n",
       "\t<tr><td>80 </td><td> 60</td><td>1  </td></tr>\n",
       "\t<tr><td>60 </td><td>100</td><td>2  </td></tr>\n",
       "\t<tr><td>70 </td><td> 20</td><td>2  </td></tr>\n",
       "</tbody>\n",
       "</table>\n"
      ],
      "text/latex": [
       "\\begin{tabular}{r|lll}\n",
       " english & math & class\\\\\n",
       "\\hline\n",
       "\t 90  &  50 & 1  \\\\\n",
       "\t 80  &  60 & 1  \\\\\n",
       "\t 60  & 100 & 2  \\\\\n",
       "\t 70  &  20 & 2  \\\\\n",
       "\\end{tabular}\n"
      ],
      "text/markdown": [
       "\n",
       "| english | math | class |\n",
       "|---|---|---|\n",
       "| 90  |  50 | 1   |\n",
       "| 80  |  60 | 1   |\n",
       "| 60  | 100 | 2   |\n",
       "| 70  |  20 | 2   |\n",
       "\n"
      ],
      "text/plain": [
       "  english math class\n",
       "1 90       50  1    \n",
       "2 80       60  1    \n",
       "3 60      100  2    \n",
       "4 70       20  2    "
      ]
     },
     "metadata": {},
     "output_type": "display_data"
    },
    {
     "data": {
      "text/html": [
       "12.9099444873581"
      ],
      "text/latex": [
       "12.9099444873581"
      ],
      "text/markdown": [
       "12.9099444873581"
      ],
      "text/plain": [
       "[1] 12.90994"
      ]
     },
     "metadata": {},
     "output_type": "display_data"
    },
    {
     "data": {
      "text/html": [
       "12.9099444873581"
      ],
      "text/latex": [
       "12.9099444873581"
      ],
      "text/markdown": [
       "12.9099444873581"
      ],
      "text/plain": [
       "[1] 12.90994"
      ]
     },
     "metadata": {},
     "output_type": "display_data"
    },
    {
     "data": {
      "text/html": [
       "166.666666666667"
      ],
      "text/latex": [
       "166.666666666667"
      ],
      "text/markdown": [
       "166.666666666667"
      ],
      "text/plain": [
       "[1] 166.6667"
      ]
     },
     "metadata": {},
     "output_type": "display_data"
    },
    {
     "data": {
      "text/html": [
       "<table>\n",
       "<thead><tr><th scope=col>fruit</th><th scope=col>price</th><th scope=col>volume</th></tr></thead>\n",
       "<tbody>\n",
       "\t<tr><td>사과</td><td>1800</td><td>24  </td></tr>\n",
       "\t<tr><td>딸기</td><td>1500</td><td>38  </td></tr>\n",
       "\t<tr><td>수박</td><td>3000</td><td>13  </td></tr>\n",
       "</tbody>\n",
       "</table>\n"
      ],
      "text/latex": [
       "\\begin{tabular}{r|lll}\n",
       " fruit & price & volume\\\\\n",
       "\\hline\n",
       "\t 사과 & 1800 & 24  \\\\\n",
       "\t 딸기 & 1500 & 38  \\\\\n",
       "\t 수박 & 3000 & 13  \\\\\n",
       "\\end{tabular}\n"
      ],
      "text/markdown": [
       "\n",
       "| fruit | price | volume |\n",
       "|---|---|---|\n",
       "| 사과 | 1800 | 24   |\n",
       "| 딸기 | 1500 | 38   |\n",
       "| 수박 | 3000 | 13   |\n",
       "\n"
      ],
      "text/plain": [
       "  fruit price volume\n",
       "1 사과  1800  24    \n",
       "2 딸기  1500  38    \n",
       "3 수박  3000  13    "
      ]
     },
     "metadata": {},
     "output_type": "display_data"
    },
    {
     "data": {
      "text/html": [
       "2100"
      ],
      "text/latex": [
       "2100"
      ],
      "text/markdown": [
       "2100"
      ],
      "text/plain": [
       "[1] 2100"
      ]
     },
     "metadata": {},
     "output_type": "display_data"
    },
    {
     "data": {
      "text/html": [
       "25"
      ],
      "text/latex": [
       "25"
      ],
      "text/markdown": [
       "25"
      ],
      "text/plain": [
       "[1] 25"
      ]
     },
     "metadata": {},
     "output_type": "display_data"
    },
    {
     "name": "stderr",
     "output_type": "stream",
     "text": [
      "Warning message:\n",
      "\"package 'readxl' was built under R version 3.6.3\""
     ]
    },
    {
     "data": {
      "text/html": [
       "<table>\n",
       "<thead><tr><th scope=col>X</th><th scope=col>english</th><th scope=col>math</th><th scope=col>class</th></tr></thead>\n",
       "<tbody>\n",
       "\t<tr><td>1  </td><td>90 </td><td> 50</td><td>1  </td></tr>\n",
       "\t<tr><td>2  </td><td>80 </td><td> 60</td><td>1  </td></tr>\n",
       "\t<tr><td>3  </td><td>60 </td><td>100</td><td>2  </td></tr>\n",
       "\t<tr><td>4  </td><td>70 </td><td> 20</td><td>2  </td></tr>\n",
       "</tbody>\n",
       "</table>\n"
      ],
      "text/latex": [
       "\\begin{tabular}{r|llll}\n",
       " X & english & math & class\\\\\n",
       "\\hline\n",
       "\t 1   & 90  &  50 & 1  \\\\\n",
       "\t 2   & 80  &  60 & 1  \\\\\n",
       "\t 3   & 60  & 100 & 2  \\\\\n",
       "\t 4   & 70  &  20 & 2  \\\\\n",
       "\\end{tabular}\n"
      ],
      "text/markdown": [
       "\n",
       "| X | english | math | class |\n",
       "|---|---|---|---|\n",
       "| 1   | 90  |  50 | 1   |\n",
       "| 2   | 80  |  60 | 1   |\n",
       "| 3   | 60  | 100 | 2   |\n",
       "| 4   | 70  |  20 | 2   |\n",
       "\n"
      ],
      "text/plain": [
       "  X english math class\n",
       "1 1 90       50  1    \n",
       "2 2 80       60  1    \n",
       "3 3 60      100  2    \n",
       "4 4 70       20  2    "
      ]
     },
     "metadata": {},
     "output_type": "display_data"
    },
    {
     "data": {
      "text/plain": [
       "\n",
       "\tShapiro-Wilk normality test\n",
       "\n",
       "data:  mpg$hwy\n",
       "W = 0.95885, p-value = 2.999e-06\n"
      ]
     },
     "metadata": {},
     "output_type": "display_data"
    },
    {
     "data": {
      "text/html": [
       "<table>\n",
       "<thead><tr><th scope=col>id</th><th scope=col>class</th><th scope=col>math</th><th scope=col>english</th><th scope=col>science</th></tr></thead>\n",
       "<tbody>\n",
       "\t<tr><td> 1</td><td>1 </td><td>50</td><td>98</td><td>50</td></tr>\n",
       "\t<tr><td> 2</td><td>1 </td><td>60</td><td>97</td><td>60</td></tr>\n",
       "\t<tr><td> 3</td><td>1 </td><td>45</td><td>86</td><td>78</td></tr>\n",
       "\t<tr><td> 4</td><td>1 </td><td>30</td><td>98</td><td>58</td></tr>\n",
       "\t<tr><td> 5</td><td>2 </td><td>25</td><td>80</td><td>65</td></tr>\n",
       "\t<tr><td> 6</td><td>2 </td><td>50</td><td>89</td><td>98</td></tr>\n",
       "\t<tr><td> 7</td><td>2 </td><td>80</td><td>90</td><td>45</td></tr>\n",
       "\t<tr><td> 8</td><td>2 </td><td>90</td><td>78</td><td>25</td></tr>\n",
       "\t<tr><td> 9</td><td>3 </td><td>20</td><td>98</td><td>15</td></tr>\n",
       "\t<tr><td>10</td><td>3 </td><td>50</td><td>98</td><td>45</td></tr>\n",
       "\t<tr><td>11</td><td>3 </td><td>65</td><td>65</td><td>65</td></tr>\n",
       "\t<tr><td>12</td><td>3 </td><td>45</td><td>85</td><td>32</td></tr>\n",
       "\t<tr><td>13</td><td>4 </td><td>46</td><td>98</td><td>65</td></tr>\n",
       "\t<tr><td>14</td><td>4 </td><td>48</td><td>87</td><td>12</td></tr>\n",
       "\t<tr><td>15</td><td>4 </td><td>75</td><td>56</td><td>78</td></tr>\n",
       "\t<tr><td>16</td><td>4 </td><td>58</td><td>98</td><td>65</td></tr>\n",
       "\t<tr><td>17</td><td>5 </td><td>65</td><td>68</td><td>98</td></tr>\n",
       "\t<tr><td>18</td><td>5 </td><td>80</td><td>78</td><td>90</td></tr>\n",
       "\t<tr><td>19</td><td>5 </td><td>89</td><td>68</td><td>87</td></tr>\n",
       "\t<tr><td>20</td><td>5 </td><td>78</td><td>83</td><td>58</td></tr>\n",
       "</tbody>\n",
       "</table>\n"
      ],
      "text/latex": [
       "\\begin{tabular}{r|lllll}\n",
       " id & class & math & english & science\\\\\n",
       "\\hline\n",
       "\t  1 & 1  & 50 & 98 & 50\\\\\n",
       "\t  2 & 1  & 60 & 97 & 60\\\\\n",
       "\t  3 & 1  & 45 & 86 & 78\\\\\n",
       "\t  4 & 1  & 30 & 98 & 58\\\\\n",
       "\t  5 & 2  & 25 & 80 & 65\\\\\n",
       "\t  6 & 2  & 50 & 89 & 98\\\\\n",
       "\t  7 & 2  & 80 & 90 & 45\\\\\n",
       "\t  8 & 2  & 90 & 78 & 25\\\\\n",
       "\t  9 & 3  & 20 & 98 & 15\\\\\n",
       "\t 10 & 3  & 50 & 98 & 45\\\\\n",
       "\t 11 & 3  & 65 & 65 & 65\\\\\n",
       "\t 12 & 3  & 45 & 85 & 32\\\\\n",
       "\t 13 & 4  & 46 & 98 & 65\\\\\n",
       "\t 14 & 4  & 48 & 87 & 12\\\\\n",
       "\t 15 & 4  & 75 & 56 & 78\\\\\n",
       "\t 16 & 4  & 58 & 98 & 65\\\\\n",
       "\t 17 & 5  & 65 & 68 & 98\\\\\n",
       "\t 18 & 5  & 80 & 78 & 90\\\\\n",
       "\t 19 & 5  & 89 & 68 & 87\\\\\n",
       "\t 20 & 5  & 78 & 83 & 58\\\\\n",
       "\\end{tabular}\n"
      ],
      "text/markdown": [
       "\n",
       "| id | class | math | english | science |\n",
       "|---|---|---|---|---|\n",
       "|  1 | 1  | 50 | 98 | 50 |\n",
       "|  2 | 1  | 60 | 97 | 60 |\n",
       "|  3 | 1  | 45 | 86 | 78 |\n",
       "|  4 | 1  | 30 | 98 | 58 |\n",
       "|  5 | 2  | 25 | 80 | 65 |\n",
       "|  6 | 2  | 50 | 89 | 98 |\n",
       "|  7 | 2  | 80 | 90 | 45 |\n",
       "|  8 | 2  | 90 | 78 | 25 |\n",
       "|  9 | 3  | 20 | 98 | 15 |\n",
       "| 10 | 3  | 50 | 98 | 45 |\n",
       "| 11 | 3  | 65 | 65 | 65 |\n",
       "| 12 | 3  | 45 | 85 | 32 |\n",
       "| 13 | 4  | 46 | 98 | 65 |\n",
       "| 14 | 4  | 48 | 87 | 12 |\n",
       "| 15 | 4  | 75 | 56 | 78 |\n",
       "| 16 | 4  | 58 | 98 | 65 |\n",
       "| 17 | 5  | 65 | 68 | 98 |\n",
       "| 18 | 5  | 80 | 78 | 90 |\n",
       "| 19 | 5  | 89 | 68 | 87 |\n",
       "| 20 | 5  | 78 | 83 | 58 |\n",
       "\n"
      ],
      "text/plain": [
       "   id class math english science\n",
       "1   1 1     50   98      50     \n",
       "2   2 1     60   97      60     \n",
       "3   3 1     45   86      78     \n",
       "4   4 1     30   98      58     \n",
       "5   5 2     25   80      65     \n",
       "6   6 2     50   89      98     \n",
       "7   7 2     80   90      45     \n",
       "8   8 2     90   78      25     \n",
       "9   9 3     20   98      15     \n",
       "10 10 3     50   98      45     \n",
       "11 11 3     65   65      65     \n",
       "12 12 3     45   85      32     \n",
       "13 13 4     46   98      65     \n",
       "14 14 4     48   87      12     \n",
       "15 15 4     75   56      78     \n",
       "16 16 4     58   98      65     \n",
       "17 17 5     65   68      98     \n",
       "18 18 5     80   78      90     \n",
       "19 19 5     89   68      87     \n",
       "20 20 5     78   83      58     "
      ]
     },
     "metadata": {},
     "output_type": "display_data"
    },
    {
     "data": {
      "image/png": "[encoded data removed]",
      "text/plain": [
       "Plot with title \"Histogram of mpg$hwy\""
      ]
     },
     "metadata": {},
     "output_type": "display_data"
    }
   ],
   "source": [
    "english = c(90, 80, 60, 70)\n",
    "math = c(50, 60, 100, 20)\n",
    "\n",
    "df_midterm = data.frame(english, math)\n",
    "df_midterm\n",
    "class = c(1, 1, 2 ,2)\n",
    "\n",
    "df_midterm = data.frame(english, math, class)\n",
    "df_midterm\n",
    "\n",
    "mean(df_midterm$english)\n",
    "mean(df_midterm$math)\n",
    "\n",
    "df_midterm = data.frame(english = c(90, 80, 60, 70),\n",
    "                        math = c(50, 60, 100, 20),\n",
    "                        class = c(1, 1, 2, 2))\n",
    "\n",
    "df_midterm\n",
    "sd(df_midterm$english)\n",
    "sqrt(var(df_midterm$english))\n",
    "var(df_midterm$english)\n",
    "\n",
    "# 데이터 프레임 만들기\n",
    "sales <- data.frame(fruit = c(\"사과\", \"딸기\", \"수박\"),\n",
    "                    price = c(1800, 1500, 3000),\n",
    "                    volume = c(24, 38, 13))\n",
    "\n",
    "sales\n",
    "\n",
    "mean(sales$price)\n",
    "mean(sales$volume)\n",
    "\n",
    "library(readxl)\n",
    "\n",
    "setwd('D:/Workspace/R/data')\n",
    "write.csv(df_midterm, 'df_midrem.csv')\n",
    "\n",
    "ex = read.csv('df_midrem.csv')\n",
    "\n",
    "ex\n",
    "library(ggplot2)\n",
    "plot.new()\n",
    "\n",
    "hist(mpg$hwy, probability = T)\n",
    "lines(density(mpg$hwy), col=2, type='h', lwd=1)\n",
    "shapiro.test(mpg$hwy)\n",
    "\n",
    "exam = read.csv('csv_exam.csv')\n",
    "exam"
   ]
  },
  {
   "cell_type": "code",
   "execution_count": 3,
   "metadata": {},
   "outputs": [
    {
     "data": {
      "image/png": "[encoded data removed]",
      "text/plain": [
       "Plot with title \"Histogram of x\""
      ]
     },
     "metadata": {},
     "output_type": "display_data"
    }
   ],
   "source": [
    "hist(x, breaks = 5)"
   ]
  },
  {
   "cell_type": "code",
   "execution_count": 4,
   "metadata": {},
   "outputs": [
    {
     "name": "stdout",
     "output_type": "stream",
     "text": [
      "package 'ggplot2' successfully unpacked and MD5 sums checked\n",
      "\n",
      "The downloaded binary packages are in\n",
      "\tC:\\Users\\15\\AppData\\Local\\Temp\\Rtmpk1Ep2F\\downloaded_packages\n"
     ]
    }
   ],
   "source": [
    "install.packages('ggplot2')"
   ]
  },
  {
   "cell_type": "code",
   "execution_count": 5,
   "metadata": {},
   "outputs": [
    {
     "name": "stderr",
     "output_type": "stream",
     "text": [
      "Warning message:\n",
      "\"package 'ggplot2' was built under R version 3.6.3\""
     ]
    },
    {
     "data": {
      "text/html": [
       "<ol class=list-inline>\n",
       "\t<li>'a'</li>\n",
       "\t<li>'a'</li>\n",
       "\t<li>'b'</li>\n",
       "\t<li>'c'</li>\n",
       "</ol>\n"
      ],
      "text/latex": [
       "\\begin{enumerate*}\n",
       "\\item 'a'\n",
       "\\item 'a'\n",
       "\\item 'b'\n",
       "\\item 'c'\n",
       "\\end{enumerate*}\n"
      ],
      "text/markdown": [
       "1. 'a'\n",
       "2. 'a'\n",
       "3. 'b'\n",
       "4. 'c'\n",
       "\n",
       "\n"
      ],
      "text/plain": [
       "[1] \"a\" \"a\" \"b\" \"c\""
      ]
     },
     "metadata": {},
     "output_type": "display_data"
    },
    {
     "name": "stderr",
     "output_type": "stream",
     "text": [
      "`stat_bin()` using `bins = 30`. Pick better value with `binwidth`.\n"
     ]
    },
    {
     "data": {
      "image/png": "[encoded data removed]",
      "text/plain": [
       "plot without title"
      ]
     },
     "metadata": {},
     "output_type": "display_data"
    },
    {
     "name": "stderr",
     "output_type": "stream",
     "text": [
      "`stat_bin()` using `bins = 30`. Pick better value with `binwidth`.\n"
     ]
    },
    {
     "data": {
      "image/png": "[encoded data removed]",
      "text/plain": [
       "plot without title"
      ]
     },
     "metadata": {},
     "output_type": "display_data"
    },
    {
     "data": {
      "image/png": "[encoded data removed]",
      "text/plain": [
       "plot without title"
      ]
     },
     "metadata": {},
     "output_type": "display_data"
    },
    {
     "data": {
      "image/png": "[encoded data removed]",
      "text/plain": [
       "plot without title"
      ]
     },
     "metadata": {},
     "output_type": "display_data"
    },
    {
     "data": {
      "image/png": "[encoded data removed]",
      "text/plain": [
       "plot without title"
      ]
     },
     "metadata": {},
     "output_type": "display_data"
    },
    {
     "data": {
      "image/png": "[encoded data removed]",
      "text/plain": [
       "plot without title"
      ]
     },
     "metadata": {},
     "output_type": "display_data"
    },
    {
     "data": {
      "image/png": "[encoded data removed]",
      "text/plain": [
       "plot without title"
      ]
     },
     "metadata": {},
     "output_type": "display_data"
    },
    {
     "data": {
      "image/png": "[encoded data removed]",
      "text/plain": [
       "plot without title"
      ]
     },
     "metadata": {},
     "output_type": "display_data"
    }
   ],
   "source": [
    "library(ggplot2)\n",
    "\n",
    "x = c(\"a\", \"a\", \"b\", \"c\")\n",
    "x\n",
    "\n",
    "qplot(x)\n",
    "qplot(data = mpg, x=hwy)\n",
    "qplot(data =mpg, x = cty)\n",
    "qplot(data = mpg, x=drv, y= hwy)\n",
    "qplot(data = mpg, x=drv, y= hwy, geom = 'line')\n",
    "qplot(data = mpg, x=drv, y= hwy, geom = 'line', color= drv)\n",
    "qplot(data = mpg, x=drv, y= hwy, geom = 'boxplot')\n",
    "qplot(data = mpg, x=drv, y= hwy, geom = 'boxplot', color=drv)"
   ]
  },
  {
   "cell_type": "code",
   "execution_count": 6,
   "metadata": {},
   "outputs": [
    {
     "name": "stdout",
     "output_type": "stream",
     "text": [
      "package 'readxl' successfully unpacked and MD5 sums checked\n",
      "\n",
      "The downloaded binary packages are in\n",
      "\tC:\\Users\\15\\AppData\\Local\\Temp\\Rtmpk1Ep2F\\downloaded_packages\n"
     ]
    }
   ],
   "source": [
    "install.packages('readxl')"
   ]
  },
  {
   "cell_type": "code",
   "execution_count": 7,
   "metadata": {},
   "outputs": [],
   "source": [
    "setwd('D:/Workspace/R/data')"
   ]
  },
  {
   "cell_type": "code",
   "execution_count": 8,
   "metadata": {},
   "outputs": [],
   "source": [
    "ex = read.csv('df_midrem.csv')"
   ]
  },
  {
   "cell_type": "code",
   "execution_count": 9,
   "metadata": {},
   "outputs": [
    {
     "data": {
      "text/html": [
       "<table>\n",
       "<thead><tr><th scope=col>X</th><th scope=col>english</th><th scope=col>math</th><th scope=col>class</th></tr></thead>\n",
       "<tbody>\n",
       "\t<tr><td>1  </td><td>90 </td><td> 50</td><td>1  </td></tr>\n",
       "\t<tr><td>2  </td><td>80 </td><td> 60</td><td>1  </td></tr>\n",
       "\t<tr><td>3  </td><td>60 </td><td>100</td><td>2  </td></tr>\n",
       "\t<tr><td>4  </td><td>70 </td><td> 20</td><td>2  </td></tr>\n",
       "</tbody>\n",
       "</table>\n"
      ],
      "text/latex": [
       "\\begin{tabular}{r|llll}\n",
       " X & english & math & class\\\\\n",
       "\\hline\n",
       "\t 1   & 90  &  50 & 1  \\\\\n",
       "\t 2   & 80  &  60 & 1  \\\\\n",
       "\t 3   & 60  & 100 & 2  \\\\\n",
       "\t 4   & 70  &  20 & 2  \\\\\n",
       "\\end{tabular}\n"
      ],
      "text/markdown": [
       "\n",
       "| X | english | math | class |\n",
       "|---|---|---|---|\n",
       "| 1   | 90  |  50 | 1   |\n",
       "| 2   | 80  |  60 | 1   |\n",
       "| 3   | 60  | 100 | 2   |\n",
       "| 4   | 70  |  20 | 2   |\n",
       "\n"
      ],
      "text/plain": [
       "  X english math class\n",
       "1 1 90       50  1    \n",
       "2 2 80       60  1    \n",
       "3 3 60      100  2    \n",
       "4 4 70       20  2    "
      ]
     },
     "metadata": {},
     "output_type": "display_data"
    }
   ],
   "source": [
    "ex"
   ]
  },
  {
   "cell_type": "code",
   "execution_count": 14,
   "metadata": {},
   "outputs": [
    {
     "data": {
      "text/plain": [
       "\n",
       "\tShapiro-Wilk normality test\n",
       "\n",
       "data:  mpg$hwy\n",
       "W = 0.95885, p-value = 2.999e-06\n"
      ]
     },
     "metadata": {},
     "output_type": "display_data"
    },
    {
     "data": {
      "image/png": "[encoded data removed]",
      "text/plain": [
       "Plot with title \"Histogram of mpg$hwy\""
      ]
     },
     "metadata": {},
     "output_type": "display_data"
    }
   ],
   "source": [
    "hist(mpg$hwy, probability = T)\n",
    "lines(density(mpg$hwy), col=2, type='h', lwd=1)\n",
    "shapiro.test(mpg$hwy)"
   ]
  },
  {
   "cell_type": "code",
   "execution_count": 15,
   "metadata": {},
   "outputs": [],
   "source": [
    "exam = read.csv('csv_exam.csv')"
   ]
  },
  {
   "cell_type": "code",
   "execution_count": 16,
   "metadata": {},
   "outputs": [
    {
     "data": {
      "text/html": [
       "<table>\n",
       "<thead><tr><th scope=col>id</th><th scope=col>class</th><th scope=col>math</th><th scope=col>english</th><th scope=col>science</th></tr></thead>\n",
       "<tbody>\n",
       "\t<tr><td> 1</td><td>1 </td><td>50</td><td>98</td><td>50</td></tr>\n",
       "\t<tr><td> 2</td><td>1 </td><td>60</td><td>97</td><td>60</td></tr>\n",
       "\t<tr><td> 3</td><td>1 </td><td>45</td><td>86</td><td>78</td></tr>\n",
       "\t<tr><td> 4</td><td>1 </td><td>30</td><td>98</td><td>58</td></tr>\n",
       "\t<tr><td> 5</td><td>2 </td><td>25</td><td>80</td><td>65</td></tr>\n",
       "\t<tr><td> 6</td><td>2 </td><td>50</td><td>89</td><td>98</td></tr>\n",
       "\t<tr><td> 7</td><td>2 </td><td>80</td><td>90</td><td>45</td></tr>\n",
       "\t<tr><td> 8</td><td>2 </td><td>90</td><td>78</td><td>25</td></tr>\n",
       "\t<tr><td> 9</td><td>3 </td><td>20</td><td>98</td><td>15</td></tr>\n",
       "\t<tr><td>10</td><td>3 </td><td>50</td><td>98</td><td>45</td></tr>\n",
       "\t<tr><td>11</td><td>3 </td><td>65</td><td>65</td><td>65</td></tr>\n",
       "\t<tr><td>12</td><td>3 </td><td>45</td><td>85</td><td>32</td></tr>\n",
       "\t<tr><td>13</td><td>4 </td><td>46</td><td>98</td><td>65</td></tr>\n",
       "\t<tr><td>14</td><td>4 </td><td>48</td><td>87</td><td>12</td></tr>\n",
       "\t<tr><td>15</td><td>4 </td><td>75</td><td>56</td><td>78</td></tr>\n",
       "\t<tr><td>16</td><td>4 </td><td>58</td><td>98</td><td>65</td></tr>\n",
       "\t<tr><td>17</td><td>5 </td><td>65</td><td>68</td><td>98</td></tr>\n",
       "\t<tr><td>18</td><td>5 </td><td>80</td><td>78</td><td>90</td></tr>\n",
       "\t<tr><td>19</td><td>5 </td><td>89</td><td>68</td><td>87</td></tr>\n",
       "\t<tr><td>20</td><td>5 </td><td>78</td><td>83</td><td>58</td></tr>\n",
       "</tbody>\n",
       "</table>\n"
      ],
      "text/latex": [
       "\\begin{tabular}{r|lllll}\n",
       " id & class & math & english & science\\\\\n",
       "\\hline\n",
       "\t  1 & 1  & 50 & 98 & 50\\\\\n",
       "\t  2 & 1  & 60 & 97 & 60\\\\\n",
       "\t  3 & 1  & 45 & 86 & 78\\\\\n",
       "\t  4 & 1  & 30 & 98 & 58\\\\\n",
       "\t  5 & 2  & 25 & 80 & 65\\\\\n",
       "\t  6 & 2  & 50 & 89 & 98\\\\\n",
       "\t  7 & 2  & 80 & 90 & 45\\\\\n",
       "\t  8 & 2  & 90 & 78 & 25\\\\\n",
       "\t  9 & 3  & 20 & 98 & 15\\\\\n",
       "\t 10 & 3  & 50 & 98 & 45\\\\\n",
       "\t 11 & 3  & 65 & 65 & 65\\\\\n",
       "\t 12 & 3  & 45 & 85 & 32\\\\\n",
       "\t 13 & 4  & 46 & 98 & 65\\\\\n",
       "\t 14 & 4  & 48 & 87 & 12\\\\\n",
       "\t 15 & 4  & 75 & 56 & 78\\\\\n",
       "\t 16 & 4  & 58 & 98 & 65\\\\\n",
       "\t 17 & 5  & 65 & 68 & 98\\\\\n",
       "\t 18 & 5  & 80 & 78 & 90\\\\\n",
       "\t 19 & 5  & 89 & 68 & 87\\\\\n",
       "\t 20 & 5  & 78 & 83 & 58\\\\\n",
       "\\end{tabular}\n"
      ],
      "text/markdown": [
       "\n",
       "| id | class | math | english | science |\n",
       "|---|---|---|---|---|\n",
       "|  1 | 1  | 50 | 98 | 50 |\n",
       "|  2 | 1  | 60 | 97 | 60 |\n",
       "|  3 | 1  | 45 | 86 | 78 |\n",
       "|  4 | 1  | 30 | 98 | 58 |\n",
       "|  5 | 2  | 25 | 80 | 65 |\n",
       "|  6 | 2  | 50 | 89 | 98 |\n",
       "|  7 | 2  | 80 | 90 | 45 |\n",
       "|  8 | 2  | 90 | 78 | 25 |\n",
       "|  9 | 3  | 20 | 98 | 15 |\n",
       "| 10 | 3  | 50 | 98 | 45 |\n",
       "| 11 | 3  | 65 | 65 | 65 |\n",
       "| 12 | 3  | 45 | 85 | 32 |\n",
       "| 13 | 4  | 46 | 98 | 65 |\n",
       "| 14 | 4  | 48 | 87 | 12 |\n",
       "| 15 | 4  | 75 | 56 | 78 |\n",
       "| 16 | 4  | 58 | 98 | 65 |\n",
       "| 17 | 5  | 65 | 68 | 98 |\n",
       "| 18 | 5  | 80 | 78 | 90 |\n",
       "| 19 | 5  | 89 | 68 | 87 |\n",
       "| 20 | 5  | 78 | 83 | 58 |\n",
       "\n"
      ],
      "text/plain": [
       "   id class math english science\n",
       "1   1 1     50   98      50     \n",
       "2   2 1     60   97      60     \n",
       "3   3 1     45   86      78     \n",
       "4   4 1     30   98      58     \n",
       "5   5 2     25   80      65     \n",
       "6   6 2     50   89      98     \n",
       "7   7 2     80   90      45     \n",
       "8   8 2     90   78      25     \n",
       "9   9 3     20   98      15     \n",
       "10 10 3     50   98      45     \n",
       "11 11 3     65   65      65     \n",
       "12 12 3     45   85      32     \n",
       "13 13 4     46   98      65     \n",
       "14 14 4     48   87      12     \n",
       "15 15 4     75   56      78     \n",
       "16 16 4     58   98      65     \n",
       "17 17 5     65   68      98     \n",
       "18 18 5     80   78      90     \n",
       "19 19 5     89   68      87     \n",
       "20 20 5     78   83      58     "
      ]
     },
     "metadata": {},
     "output_type": "display_data"
    }
   ],
   "source": [
    "exam"
   ]
  },
  {
   "cell_type": "code",
   "execution_count": 17,
   "metadata": {},
   "outputs": [
    {
     "data": {
      "text/html": [
       "<table>\n",
       "<thead><tr><th scope=col>id</th><th scope=col>class</th><th scope=col>math</th><th scope=col>english</th><th scope=col>science</th></tr></thead>\n",
       "<tbody>\n",
       "\t<tr><td>1 </td><td>1 </td><td>50</td><td>98</td><td>50</td></tr>\n",
       "\t<tr><td>2 </td><td>1 </td><td>60</td><td>97</td><td>60</td></tr>\n",
       "\t<tr><td>3 </td><td>1 </td><td>45</td><td>86</td><td>78</td></tr>\n",
       "\t<tr><td>4 </td><td>1 </td><td>30</td><td>98</td><td>58</td></tr>\n",
       "\t<tr><td>5 </td><td>2 </td><td>25</td><td>80</td><td>65</td></tr>\n",
       "\t<tr><td>6 </td><td>2 </td><td>50</td><td>89</td><td>98</td></tr>\n",
       "</tbody>\n",
       "</table>\n"
      ],
      "text/latex": [
       "\\begin{tabular}{r|lllll}\n",
       " id & class & math & english & science\\\\\n",
       "\\hline\n",
       "\t 1  & 1  & 50 & 98 & 50\\\\\n",
       "\t 2  & 1  & 60 & 97 & 60\\\\\n",
       "\t 3  & 1  & 45 & 86 & 78\\\\\n",
       "\t 4  & 1  & 30 & 98 & 58\\\\\n",
       "\t 5  & 2  & 25 & 80 & 65\\\\\n",
       "\t 6  & 2  & 50 & 89 & 98\\\\\n",
       "\\end{tabular}\n"
      ],
      "text/markdown": [
       "\n",
       "| id | class | math | english | science |\n",
       "|---|---|---|---|---|\n",
       "| 1  | 1  | 50 | 98 | 50 |\n",
       "| 2  | 1  | 60 | 97 | 60 |\n",
       "| 3  | 1  | 45 | 86 | 78 |\n",
       "| 4  | 1  | 30 | 98 | 58 |\n",
       "| 5  | 2  | 25 | 80 | 65 |\n",
       "| 6  | 2  | 50 | 89 | 98 |\n",
       "\n"
      ],
      "text/plain": [
       "  id class math english science\n",
       "1 1  1     50   98      50     \n",
       "2 2  1     60   97      60     \n",
       "3 3  1     45   86      78     \n",
       "4 4  1     30   98      58     \n",
       "5 5  2     25   80      65     \n",
       "6 6  2     50   89      98     "
      ]
     },
     "metadata": {},
     "output_type": "display_data"
    }
   ],
   "source": [
    "head(exam)"
   ]
  },
  {
   "cell_type": "code",
   "execution_count": 18,
   "metadata": {},
   "outputs": [
    {
     "data": {
      "text/html": [
       "<table>\n",
       "<thead><tr><th></th><th scope=col>id</th><th scope=col>class</th><th scope=col>math</th><th scope=col>english</th><th scope=col>science</th></tr></thead>\n",
       "<tbody>\n",
       "\t<tr><th scope=row>15</th><td>15</td><td>4 </td><td>75</td><td>56</td><td>78</td></tr>\n",
       "\t<tr><th scope=row>16</th><td>16</td><td>4 </td><td>58</td><td>98</td><td>65</td></tr>\n",
       "\t<tr><th scope=row>17</th><td>17</td><td>5 </td><td>65</td><td>68</td><td>98</td></tr>\n",
       "\t<tr><th scope=row>18</th><td>18</td><td>5 </td><td>80</td><td>78</td><td>90</td></tr>\n",
       "\t<tr><th scope=row>19</th><td>19</td><td>5 </td><td>89</td><td>68</td><td>87</td></tr>\n",
       "\t<tr><th scope=row>20</th><td>20</td><td>5 </td><td>78</td><td>83</td><td>58</td></tr>\n",
       "</tbody>\n",
       "</table>\n"
      ],
      "text/latex": [
       "\\begin{tabular}{r|lllll}\n",
       "  & id & class & math & english & science\\\\\n",
       "\\hline\n",
       "\t15 & 15 & 4  & 75 & 56 & 78\\\\\n",
       "\t16 & 16 & 4  & 58 & 98 & 65\\\\\n",
       "\t17 & 17 & 5  & 65 & 68 & 98\\\\\n",
       "\t18 & 18 & 5  & 80 & 78 & 90\\\\\n",
       "\t19 & 19 & 5  & 89 & 68 & 87\\\\\n",
       "\t20 & 20 & 5  & 78 & 83 & 58\\\\\n",
       "\\end{tabular}\n"
      ],
      "text/markdown": [
       "\n",
       "| <!--/--> | id | class | math | english | science |\n",
       "|---|---|---|---|---|---|\n",
       "| 15 | 15 | 4  | 75 | 56 | 78 |\n",
       "| 16 | 16 | 4  | 58 | 98 | 65 |\n",
       "| 17 | 17 | 5  | 65 | 68 | 98 |\n",
       "| 18 | 18 | 5  | 80 | 78 | 90 |\n",
       "| 19 | 19 | 5  | 89 | 68 | 87 |\n",
       "| 20 | 20 | 5  | 78 | 83 | 58 |\n",
       "\n"
      ],
      "text/plain": [
       "   id class math english science\n",
       "15 15 4     75   56      78     \n",
       "16 16 4     58   98      65     \n",
       "17 17 5     65   68      98     \n",
       "18 18 5     80   78      90     \n",
       "19 19 5     89   68      87     \n",
       "20 20 5     78   83      58     "
      ]
     },
     "metadata": {},
     "output_type": "display_data"
    }
   ],
   "source": [
    "tail(exam)"
   ]
  },
  {
   "cell_type": "code",
   "execution_count": 19,
   "metadata": {},
   "outputs": [
    {
     "ename": "ERROR",
     "evalue": "Error in View(exam): 'View()' not yet supported in the Jupyter R kernel\n",
     "output_type": "error",
     "traceback": [
      "Error in View(exam): 'View()' not yet supported in the Jupyter R kernel\nTraceback:\n",
      "1. View(exam)",
      "2. stop(sQuote(\"View()\"), \" not yet supported in the Jupyter R kernel\")"
     ]
    }
   ],
   "source": [
    "View(exam)"
   ]
  },
  {
   "cell_type": "code",
   "execution_count": 20,
   "metadata": {},
   "outputs": [
    {
     "data": {
      "text/html": [
       "<ol class=list-inline>\n",
       "\t<li>20</li>\n",
       "\t<li>5</li>\n",
       "</ol>\n"
      ],
      "text/latex": [
       "\\begin{enumerate*}\n",
       "\\item 20\n",
       "\\item 5\n",
       "\\end{enumerate*}\n"
      ],
      "text/markdown": [
       "1. 20\n",
       "2. 5\n",
       "\n",
       "\n"
      ],
      "text/plain": [
       "[1] 20  5"
      ]
     },
     "metadata": {},
     "output_type": "display_data"
    }
   ],
   "source": [
    "dim(exam)"
   ]
  },
  {
   "cell_type": "code",
   "execution_count": 21,
   "metadata": {},
   "outputs": [
    {
     "name": "stdout",
     "output_type": "stream",
     "text": [
      "'data.frame':\t20 obs. of  5 variables:\n",
      " $ id     : int  1 2 3 4 5 6 7 8 9 10 ...\n",
      " $ class  : int  1 1 1 1 2 2 2 2 3 3 ...\n",
      " $ math   : int  50 60 45 30 25 50 80 90 20 50 ...\n",
      " $ english: int  98 97 86 98 80 89 90 78 98 98 ...\n",
      " $ science: int  50 60 78 58 65 98 45 25 15 45 ...\n"
     ]
    }
   ],
   "source": [
    "str(exam)"
   ]
  },
  {
   "cell_type": "code",
   "execution_count": 22,
   "metadata": {},
   "outputs": [
    {
     "data": {
      "text/plain": [
       "       id            class        math          english        science     \n",
       " Min.   : 1.00   Min.   :1   Min.   :20.00   Min.   :56.0   Min.   :12.00  \n",
       " 1st Qu.: 5.75   1st Qu.:2   1st Qu.:45.75   1st Qu.:78.0   1st Qu.:45.00  \n",
       " Median :10.50   Median :3   Median :54.00   Median :86.5   Median :62.50  \n",
       " Mean   :10.50   Mean   :3   Mean   :57.45   Mean   :84.9   Mean   :59.45  \n",
       " 3rd Qu.:15.25   3rd Qu.:4   3rd Qu.:75.75   3rd Qu.:98.0   3rd Qu.:78.00  \n",
       " Max.   :20.00   Max.   :5   Max.   :90.00   Max.   :98.0   Max.   :98.00  "
      ]
     },
     "metadata": {},
     "output_type": "display_data"
    }
   ],
   "source": [
    "summary(exam)"
   ]
  },
  {
   "cell_type": "code",
   "execution_count": 23,
   "metadata": {},
   "outputs": [],
   "source": [
    "mpg = as.data.frame(ggplot2::mpg)"
   ]
  },
  {
   "cell_type": "code",
   "execution_count": 24,
   "metadata": {},
   "outputs": [
    {
     "data": {
      "text/html": [
       "<table>\n",
       "<thead><tr><th scope=col>manufacturer</th><th scope=col>model</th><th scope=col>displ</th><th scope=col>year</th><th scope=col>cyl</th><th scope=col>trans</th><th scope=col>drv</th><th scope=col>cty</th><th scope=col>hwy</th><th scope=col>fl</th><th scope=col>class</th></tr></thead>\n",
       "<tbody>\n",
       "\t<tr><td>audi      </td><td>a4        </td><td>1.8       </td><td>1999      </td><td>4         </td><td>auto(l5)  </td><td>f         </td><td>18        </td><td>29        </td><td>p         </td><td>compact   </td></tr>\n",
       "\t<tr><td>audi      </td><td>a4        </td><td>1.8       </td><td>1999      </td><td>4         </td><td>manual(m5)</td><td>f         </td><td>21        </td><td>29        </td><td>p         </td><td>compact   </td></tr>\n",
       "\t<tr><td>audi      </td><td>a4        </td><td>2.0       </td><td>2008      </td><td>4         </td><td>manual(m6)</td><td>f         </td><td>20        </td><td>31        </td><td>p         </td><td>compact   </td></tr>\n",
       "\t<tr><td>audi      </td><td>a4        </td><td>2.0       </td><td>2008      </td><td>4         </td><td>auto(av)  </td><td>f         </td><td>21        </td><td>30        </td><td>p         </td><td>compact   </td></tr>\n",
       "\t<tr><td>audi      </td><td>a4        </td><td>2.8       </td><td>1999      </td><td>6         </td><td>auto(l5)  </td><td>f         </td><td>16        </td><td>26        </td><td>p         </td><td>compact   </td></tr>\n",
       "\t<tr><td>audi      </td><td>a4        </td><td>2.8       </td><td>1999      </td><td>6         </td><td>manual(m5)</td><td>f         </td><td>18        </td><td>26        </td><td>p         </td><td>compact   </td></tr>\n",
       "</tbody>\n",
       "</table>\n"
      ],
      "text/latex": [
       "\\begin{tabular}{r|lllllllllll}\n",
       " manufacturer & model & displ & year & cyl & trans & drv & cty & hwy & fl & class\\\\\n",
       "\\hline\n",
       "\t audi       & a4         & 1.8        & 1999       & 4          & auto(l5)   & f          & 18         & 29         & p          & compact   \\\\\n",
       "\t audi       & a4         & 1.8        & 1999       & 4          & manual(m5) & f          & 21         & 29         & p          & compact   \\\\\n",
       "\t audi       & a4         & 2.0        & 2008       & 4          & manual(m6) & f          & 20         & 31         & p          & compact   \\\\\n",
       "\t audi       & a4         & 2.0        & 2008       & 4          & auto(av)   & f          & 21         & 30         & p          & compact   \\\\\n",
       "\t audi       & a4         & 2.8        & 1999       & 6          & auto(l5)   & f          & 16         & 26         & p          & compact   \\\\\n",
       "\t audi       & a4         & 2.8        & 1999       & 6          & manual(m5) & f          & 18         & 26         & p          & compact   \\\\\n",
       "\\end{tabular}\n"
      ],
      "text/markdown": [
       "\n",
       "| manufacturer | model | displ | year | cyl | trans | drv | cty | hwy | fl | class |\n",
       "|---|---|---|---|---|---|---|---|---|---|---|\n",
       "| audi       | a4         | 1.8        | 1999       | 4          | auto(l5)   | f          | 18         | 29         | p          | compact    |\n",
       "| audi       | a4         | 1.8        | 1999       | 4          | manual(m5) | f          | 21         | 29         | p          | compact    |\n",
       "| audi       | a4         | 2.0        | 2008       | 4          | manual(m6) | f          | 20         | 31         | p          | compact    |\n",
       "| audi       | a4         | 2.0        | 2008       | 4          | auto(av)   | f          | 21         | 30         | p          | compact    |\n",
       "| audi       | a4         | 2.8        | 1999       | 6          | auto(l5)   | f          | 16         | 26         | p          | compact    |\n",
       "| audi       | a4         | 2.8        | 1999       | 6          | manual(m5) | f          | 18         | 26         | p          | compact    |\n",
       "\n"
      ],
      "text/plain": [
       "  manufacturer model displ year cyl trans      drv cty hwy fl class  \n",
       "1 audi         a4    1.8   1999 4   auto(l5)   f   18  29  p  compact\n",
       "2 audi         a4    1.8   1999 4   manual(m5) f   21  29  p  compact\n",
       "3 audi         a4    2.0   2008 4   manual(m6) f   20  31  p  compact\n",
       "4 audi         a4    2.0   2008 4   auto(av)   f   21  30  p  compact\n",
       "5 audi         a4    2.8   1999 6   auto(l5)   f   16  26  p  compact\n",
       "6 audi         a4    2.8   1999 6   manual(m5) f   18  26  p  compact"
      ]
     },
     "metadata": {},
     "output_type": "display_data"
    }
   ],
   "source": [
    "head(mpg)"
   ]
  },
  {
   "cell_type": "code",
   "execution_count": 25,
   "metadata": {},
   "outputs": [
    {
     "data": {
      "image/png": "[encoded data removed]",
      "text/plain": [
       "plot without title"
      ]
     },
     "metadata": {},
     "output_type": "display_data"
    }
   ],
   "source": [
    "boxplot(exam$math)"
   ]
  },
  {
   "cell_type": "code",
   "execution_count": 26,
   "metadata": {},
   "outputs": [
    {
     "data": {
      "image/png": "[encoded data removed]",
      "text/plain": [
       "Plot with title \"Histogram of exam$math\""
      ]
     },
     "metadata": {},
     "output_type": "display_data"
    }
   ],
   "source": [
    "hist(exam$math)"
   ]
  },
  {
   "cell_type": "code",
   "execution_count": 27,
   "metadata": {},
   "outputs": [
    {
     "data": {
      "image/png": "[encoded data removed]",
      "text/plain": [
       "plot without title"
      ]
     },
     "metadata": {},
     "output_type": "display_data"
    }
   ],
   "source": [
    "boxplot(exam$math, horizontal = T, col=2)"
   ]
  },
  {
   "cell_type": "code",
   "execution_count": 28,
   "metadata": {},
   "outputs": [],
   "source": [
    "# 반복적인 값을 가질 수 있음 replace = T\n",
    "x = sample(0:100, 80, replace = T)"
   ]
  },
  {
   "cell_type": "code",
   "execution_count": 36,
   "metadata": {},
   "outputs": [
    {
     "data": {
      "image/png": "[encoded data removed]",
      "text/plain": [
       "plot without title"
      ]
     },
     "metadata": {},
     "output_type": "display_data"
    }
   ],
   "source": [
    "plot(x, pch = ifelse(x >= 60, 7 , 15 ), col=ifelse(x >= 60, 4, 3))\n",
    "abline(h = 60, col=2, lwd=2)"
   ]
  },
  {
   "cell_type": "code",
   "execution_count": 37,
   "metadata": {},
   "outputs": [],
   "source": [
    "mpg = as.data.frame(ggplot2::mpg)"
   ]
  },
  {
   "cell_type": "code",
   "execution_count": 38,
   "metadata": {},
   "outputs": [
    {
     "data": {
      "text/html": [
       "<table>\n",
       "<thead><tr><th scope=col>manufacturer</th><th scope=col>model</th><th scope=col>displ</th><th scope=col>year</th><th scope=col>cyl</th><th scope=col>trans</th><th scope=col>drv</th><th scope=col>cty</th><th scope=col>hwy</th><th scope=col>fl</th><th scope=col>class</th></tr></thead>\n",
       "<tbody>\n",
       "\t<tr><td>audi      </td><td>a4        </td><td>1.8       </td><td>1999      </td><td>4         </td><td>auto(l5)  </td><td>f         </td><td>18        </td><td>29        </td><td>p         </td><td>compact   </td></tr>\n",
       "\t<tr><td>audi      </td><td>a4        </td><td>1.8       </td><td>1999      </td><td>4         </td><td>manual(m5)</td><td>f         </td><td>21        </td><td>29        </td><td>p         </td><td>compact   </td></tr>\n",
       "\t<tr><td>audi      </td><td>a4        </td><td>2.0       </td><td>2008      </td><td>4         </td><td>manual(m6)</td><td>f         </td><td>20        </td><td>31        </td><td>p         </td><td>compact   </td></tr>\n",
       "\t<tr><td>audi      </td><td>a4        </td><td>2.0       </td><td>2008      </td><td>4         </td><td>auto(av)  </td><td>f         </td><td>21        </td><td>30        </td><td>p         </td><td>compact   </td></tr>\n",
       "\t<tr><td>audi      </td><td>a4        </td><td>2.8       </td><td>1999      </td><td>6         </td><td>auto(l5)  </td><td>f         </td><td>16        </td><td>26        </td><td>p         </td><td>compact   </td></tr>\n",
       "\t<tr><td>audi      </td><td>a4        </td><td>2.8       </td><td>1999      </td><td>6         </td><td>manual(m5)</td><td>f         </td><td>18        </td><td>26        </td><td>p         </td><td>compact   </td></tr>\n",
       "</tbody>\n",
       "</table>\n"
      ],
      "text/latex": [
       "\\begin{tabular}{r|lllllllllll}\n",
       " manufacturer & model & displ & year & cyl & trans & drv & cty & hwy & fl & class\\\\\n",
       "\\hline\n",
       "\t audi       & a4         & 1.8        & 1999       & 4          & auto(l5)   & f          & 18         & 29         & p          & compact   \\\\\n",
       "\t audi       & a4         & 1.8        & 1999       & 4          & manual(m5) & f          & 21         & 29         & p          & compact   \\\\\n",
       "\t audi       & a4         & 2.0        & 2008       & 4          & manual(m6) & f          & 20         & 31         & p          & compact   \\\\\n",
       "\t audi       & a4         & 2.0        & 2008       & 4          & auto(av)   & f          & 21         & 30         & p          & compact   \\\\\n",
       "\t audi       & a4         & 2.8        & 1999       & 6          & auto(l5)   & f          & 16         & 26         & p          & compact   \\\\\n",
       "\t audi       & a4         & 2.8        & 1999       & 6          & manual(m5) & f          & 18         & 26         & p          & compact   \\\\\n",
       "\\end{tabular}\n"
      ],
      "text/markdown": [
       "\n",
       "| manufacturer | model | displ | year | cyl | trans | drv | cty | hwy | fl | class |\n",
       "|---|---|---|---|---|---|---|---|---|---|---|\n",
       "| audi       | a4         | 1.8        | 1999       | 4          | auto(l5)   | f          | 18         | 29         | p          | compact    |\n",
       "| audi       | a4         | 1.8        | 1999       | 4          | manual(m5) | f          | 21         | 29         | p          | compact    |\n",
       "| audi       | a4         | 2.0        | 2008       | 4          | manual(m6) | f          | 20         | 31         | p          | compact    |\n",
       "| audi       | a4         | 2.0        | 2008       | 4          | auto(av)   | f          | 21         | 30         | p          | compact    |\n",
       "| audi       | a4         | 2.8        | 1999       | 6          | auto(l5)   | f          | 16         | 26         | p          | compact    |\n",
       "| audi       | a4         | 2.8        | 1999       | 6          | manual(m5) | f          | 18         | 26         | p          | compact    |\n",
       "\n"
      ],
      "text/plain": [
       "  manufacturer model displ year cyl trans      drv cty hwy fl class  \n",
       "1 audi         a4    1.8   1999 4   auto(l5)   f   18  29  p  compact\n",
       "2 audi         a4    1.8   1999 4   manual(m5) f   21  29  p  compact\n",
       "3 audi         a4    2.0   2008 4   manual(m6) f   20  31  p  compact\n",
       "4 audi         a4    2.0   2008 4   auto(av)   f   21  30  p  compact\n",
       "5 audi         a4    2.8   1999 6   auto(l5)   f   16  26  p  compact\n",
       "6 audi         a4    2.8   1999 6   manual(m5) f   18  26  p  compact"
      ]
     },
     "metadata": {},
     "output_type": "display_data"
    }
   ],
   "source": [
    "head(mpg)"
   ]
  },
  {
   "cell_type": "code",
   "execution_count": 43,
   "metadata": {},
   "outputs": [
    {
     "data": {
      "text/plain": [
       " manufacturer          model               displ            year     \n",
       " Length:234         Length:234         Min.   :1.600   Min.   :1999  \n",
       " Class :character   Class :character   1st Qu.:2.400   1st Qu.:1999  \n",
       " Mode  :character   Mode  :character   Median :3.300   Median :2004  \n",
       "                                       Mean   :3.472   Mean   :2004  \n",
       "                                       3rd Qu.:4.600   3rd Qu.:2008  \n",
       "                                       Max.   :7.000   Max.   :2008  \n",
       "      cyl           trans               drv                 cty       \n",
       " Min.   :4.000   Length:234         Length:234         Min.   : 9.00  \n",
       " 1st Qu.:4.000   Class :character   Class :character   1st Qu.:14.00  \n",
       " Median :6.000   Mode  :character   Mode  :character   Median :17.00  \n",
       " Mean   :5.889                                         Mean   :16.86  \n",
       " 3rd Qu.:8.000                                         3rd Qu.:19.00  \n",
       " Max.   :8.000                                         Max.   :35.00  \n",
       "      hwy             fl               class          \n",
       " Min.   :12.00   Length:234         Length:234        \n",
       " 1st Qu.:18.00   Class :character   Class :character  \n",
       " Median :24.00   Mode  :character   Mode  :character  \n",
       " Mean   :23.44                                        \n",
       " 3rd Qu.:27.00                                        \n",
       " Max.   :44.00                                        "
      ]
     },
     "metadata": {},
     "output_type": "display_data"
    }
   ],
   "source": [
    "summary(mpg)"
   ]
  },
  {
   "cell_type": "code",
   "execution_count": 44,
   "metadata": {},
   "outputs": [
    {
     "name": "stderr",
     "output_type": "stream",
     "text": [
      "also installing the dependencies 'ellipsis', 'pillar', 'glue', 'tibble', 'tidyselect', 'vctrs'\n",
      "\n"
     ]
    },
    {
     "name": "stdout",
     "output_type": "stream",
     "text": [
      "package 'ellipsis' successfully unpacked and MD5 sums checked\n",
      "package 'pillar' successfully unpacked and MD5 sums checked\n",
      "package 'glue' successfully unpacked and MD5 sums checked\n"
     ]
    },
    {
     "name": "stderr",
     "output_type": "stream",
     "text": [
      "Warning message:\n",
      "\"cannot remove prior installation of package 'glue'\"Warning message in file.copy(savedcopy, lib, recursive = TRUE):\n",
      "\"C:\\Users\\15\\.conda\\envs\\tf2\\Lib\\R\\library\\00LOCK\\glue\\libs\\x64\\glue.dll를 C:\\Users\\15\\.conda\\envs\\tf2\\Lib\\R\\library\\glue\\libs\\x64\\glue.dll로 복사하는데 문제가 발생했습니다: Permission denied\"Warning message:\n",
      "\"restored 'glue'\""
     ]
    },
    {
     "name": "stdout",
     "output_type": "stream",
     "text": [
      "package 'tibble' successfully unpacked and MD5 sums checked\n"
     ]
    },
    {
     "name": "stderr",
     "output_type": "stream",
     "text": [
      "Warning message:\n",
      "\"cannot remove prior installation of package 'tibble'\"Warning message in file.copy(savedcopy, lib, recursive = TRUE):\n",
      "\"C:\\Users\\15\\.conda\\envs\\tf2\\Lib\\R\\library\\00LOCK\\tibble\\libs\\x64\\tibble.dll를 C:\\Users\\15\\.conda\\envs\\tf2\\Lib\\R\\library\\tibble\\libs\\x64\\tibble.dll로 복사하는데 문제가 발생했습니다: Permission denied\"Warning message:\n",
      "\"restored 'tibble'\""
     ]
    },
    {
     "name": "stdout",
     "output_type": "stream",
     "text": [
      "package 'tidyselect' successfully unpacked and MD5 sums checked\n"
     ]
    },
    {
     "name": "stderr",
     "output_type": "stream",
     "text": [
      "Warning message:\n",
      "\"cannot remove prior installation of package 'tidyselect'\"Warning message in file.copy(savedcopy, lib, recursive = TRUE):\n",
      "\"C:\\Users\\15\\.conda\\envs\\tf2\\Lib\\R\\library\\00LOCK\\tidyselect\\libs\\x64\\tidyselect.dll를 C:\\Users\\15\\.conda\\envs\\tf2\\Lib\\R\\library\\tidyselect\\libs\\x64\\tidyselect.dll로 복사하는데 문제가 발생했습니다: Permission denied\"Warning message:\n",
      "\"restored 'tidyselect'\""
     ]
    },
    {
     "name": "stdout",
     "output_type": "stream",
     "text": [
      "package 'vctrs' successfully unpacked and MD5 sums checked\n",
      "package 'dplyr' successfully unpacked and MD5 sums checked\n"
     ]
    },
    {
     "name": "stderr",
     "output_type": "stream",
     "text": [
      "Warning message:\n",
      "\"cannot remove prior installation of package 'dplyr'\"Warning message in file.copy(savedcopy, lib, recursive = TRUE):\n",
      "\"C:\\Users\\15\\.conda\\envs\\tf2\\Lib\\R\\library\\00LOCK\\dplyr\\libs\\x64\\dplyr.dll를 C:\\Users\\15\\.conda\\envs\\tf2\\Lib\\R\\library\\dplyr\\libs\\x64\\dplyr.dll로 복사하는데 문제가 발생했습니다: Permission denied\"Warning message:\n",
      "\"restored 'dplyr'\""
     ]
    },
    {
     "name": "stdout",
     "output_type": "stream",
     "text": [
      "\n",
      "The downloaded binary packages are in\n",
      "\tC:\\Users\\15\\AppData\\Local\\Temp\\Rtmpk1Ep2F\\downloaded_packages\n"
     ]
    }
   ],
   "source": [
    "install.packages('dplyr')"
   ]
  },
  {
   "cell_type": "code",
   "execution_count": 46,
   "metadata": {},
   "outputs": [],
   "source": [
    "library(dplyr)             "
   ]
  },
  {
   "cell_type": "code",
   "execution_count": 47,
   "metadata": {},
   "outputs": [
    {
     "data": {
      "text/html": [
       "<table>\n",
       "<thead><tr><th scope=col>var1</th><th scope=col>var2</th></tr></thead>\n",
       "<tbody>\n",
       "\t<tr><td>1</td><td>2</td></tr>\n",
       "\t<tr><td>2</td><td>3</td></tr>\n",
       "\t<tr><td>1</td><td>2</td></tr>\n",
       "</tbody>\n",
       "</table>\n"
      ],
      "text/latex": [
       "\\begin{tabular}{r|ll}\n",
       " var1 & var2\\\\\n",
       "\\hline\n",
       "\t 1 & 2\\\\\n",
       "\t 2 & 3\\\\\n",
       "\t 1 & 2\\\\\n",
       "\\end{tabular}\n"
      ],
      "text/markdown": [
       "\n",
       "| var1 | var2 |\n",
       "|---|---|\n",
       "| 1 | 2 |\n",
       "| 2 | 3 |\n",
       "| 1 | 2 |\n",
       "\n"
      ],
      "text/plain": [
       "  var1 var2\n",
       "1 1    2   \n",
       "2 2    3   \n",
       "3 1    2   "
      ]
     },
     "metadata": {},
     "output_type": "display_data"
    }
   ],
   "source": [
    "df_raw <- data.frame(var1 = c(1, 2, 1),\n",
    "                     var2 = c(2, 3, 2))\n",
    "df_raw\n"
   ]
  },
  {
   "cell_type": "code",
   "execution_count": 48,
   "metadata": {},
   "outputs": [],
   "source": [
    "df_new = df_raw"
   ]
  },
  {
   "cell_type": "code",
   "execution_count": 49,
   "metadata": {},
   "outputs": [
    {
     "data": {
      "text/html": [
       "<table>\n",
       "<thead><tr><th scope=col>var1</th><th scope=col>var2</th></tr></thead>\n",
       "<tbody>\n",
       "\t<tr><td>1</td><td>2</td></tr>\n",
       "\t<tr><td>2</td><td>3</td></tr>\n",
       "\t<tr><td>1</td><td>2</td></tr>\n",
       "</tbody>\n",
       "</table>\n"
      ],
      "text/latex": [
       "\\begin{tabular}{r|ll}\n",
       " var1 & var2\\\\\n",
       "\\hline\n",
       "\t 1 & 2\\\\\n",
       "\t 2 & 3\\\\\n",
       "\t 1 & 2\\\\\n",
       "\\end{tabular}\n"
      ],
      "text/markdown": [
       "\n",
       "| var1 | var2 |\n",
       "|---|---|\n",
       "| 1 | 2 |\n",
       "| 2 | 3 |\n",
       "| 1 | 2 |\n",
       "\n"
      ],
      "text/plain": [
       "  var1 var2\n",
       "1 1    2   \n",
       "2 2    3   \n",
       "3 1    2   "
      ]
     },
     "metadata": {},
     "output_type": "display_data"
    }
   ],
   "source": [
    "df_new"
   ]
  },
  {
   "cell_type": "code",
   "execution_count": 50,
   "metadata": {},
   "outputs": [],
   "source": [
    "df_new = rename(df_new, v2 = var2)"
   ]
  },
  {
   "cell_type": "code",
   "execution_count": 51,
   "metadata": {},
   "outputs": [
    {
     "data": {
      "text/html": [
       "<table>\n",
       "<thead><tr><th scope=col>var1</th><th scope=col>v2</th></tr></thead>\n",
       "<tbody>\n",
       "\t<tr><td>1</td><td>2</td></tr>\n",
       "\t<tr><td>2</td><td>3</td></tr>\n",
       "\t<tr><td>1</td><td>2</td></tr>\n",
       "</tbody>\n",
       "</table>\n"
      ],
      "text/latex": [
       "\\begin{tabular}{r|ll}\n",
       " var1 & v2\\\\\n",
       "\\hline\n",
       "\t 1 & 2\\\\\n",
       "\t 2 & 3\\\\\n",
       "\t 1 & 2\\\\\n",
       "\\end{tabular}\n"
      ],
      "text/markdown": [
       "\n",
       "| var1 | v2 |\n",
       "|---|---|\n",
       "| 1 | 2 |\n",
       "| 2 | 3 |\n",
       "| 1 | 2 |\n",
       "\n"
      ],
      "text/plain": [
       "  var1 v2\n",
       "1 1    2 \n",
       "2 2    3 \n",
       "3 1    2 "
      ]
     },
     "metadata": {},
     "output_type": "display_data"
    }
   ],
   "source": [
    "df_new"
   ]
  },
  {
   "cell_type": "code",
   "execution_count": 52,
   "metadata": {},
   "outputs": [],
   "source": [
    "mpg = as.data.frame(ggplot2::mpg)\n",
    "mpg_new = mpg"
   ]
  },
  {
   "cell_type": "code",
   "execution_count": 53,
   "metadata": {},
   "outputs": [],
   "source": [
    "mpg_new = rename(mpg_new, city = cty)\n",
    "mpg_new = rename(mpg_new, highway = hwy)"
   ]
  },
  {
   "cell_type": "code",
   "execution_count": 54,
   "metadata": {},
   "outputs": [
    {
     "data": {
      "text/html": [
       "<table>\n",
       "<thead><tr><th scope=col>manufacturer</th><th scope=col>model</th><th scope=col>displ</th><th scope=col>year</th><th scope=col>cyl</th><th scope=col>trans</th><th scope=col>drv</th><th scope=col>city</th><th scope=col>highway</th><th scope=col>fl</th><th scope=col>class</th></tr></thead>\n",
       "<tbody>\n",
       "\t<tr><td>audi              </td><td>a4                </td><td>1.8               </td><td>1999              </td><td>4                 </td><td>auto(l5)          </td><td>f                 </td><td>18                </td><td>29                </td><td>p                 </td><td>compact           </td></tr>\n",
       "\t<tr><td>audi              </td><td>a4                </td><td>1.8               </td><td>1999              </td><td>4                 </td><td>manual(m5)        </td><td>f                 </td><td>21                </td><td>29                </td><td>p                 </td><td>compact           </td></tr>\n",
       "\t<tr><td>audi              </td><td>a4                </td><td>2.0               </td><td>2008              </td><td>4                 </td><td>manual(m6)        </td><td>f                 </td><td>20                </td><td>31                </td><td>p                 </td><td>compact           </td></tr>\n",
       "\t<tr><td>audi              </td><td>a4                </td><td>2.0               </td><td>2008              </td><td>4                 </td><td>auto(av)          </td><td>f                 </td><td>21                </td><td>30                </td><td>p                 </td><td>compact           </td></tr>\n",
       "\t<tr><td>audi              </td><td>a4                </td><td>2.8               </td><td>1999              </td><td>6                 </td><td>auto(l5)          </td><td>f                 </td><td>16                </td><td>26                </td><td>p                 </td><td>compact           </td></tr>\n",
       "\t<tr><td>audi              </td><td>a4                </td><td>2.8               </td><td>1999              </td><td>6                 </td><td>manual(m5)        </td><td>f                 </td><td>18                </td><td>26                </td><td>p                 </td><td>compact           </td></tr>\n",
       "\t<tr><td>audi              </td><td>a4                </td><td>3.1               </td><td>2008              </td><td>6                 </td><td>auto(av)          </td><td>f                 </td><td>18                </td><td>27                </td><td>p                 </td><td>compact           </td></tr>\n",
       "\t<tr><td>audi              </td><td>a4 quattro        </td><td>1.8               </td><td>1999              </td><td>4                 </td><td>manual(m5)        </td><td>4                 </td><td>18                </td><td>26                </td><td>p                 </td><td>compact           </td></tr>\n",
       "\t<tr><td>audi              </td><td>a4 quattro        </td><td>1.8               </td><td>1999              </td><td>4                 </td><td>auto(l5)          </td><td>4                 </td><td>16                </td><td>25                </td><td>p                 </td><td>compact           </td></tr>\n",
       "\t<tr><td>audi              </td><td>a4 quattro        </td><td>2.0               </td><td>2008              </td><td>4                 </td><td>manual(m6)        </td><td>4                 </td><td>20                </td><td>28                </td><td>p                 </td><td>compact           </td></tr>\n",
       "\t<tr><td>audi              </td><td>a4 quattro        </td><td>2.0               </td><td>2008              </td><td>4                 </td><td>auto(s6)          </td><td>4                 </td><td>19                </td><td>27                </td><td>p                 </td><td>compact           </td></tr>\n",
       "\t<tr><td>audi              </td><td>a4 quattro        </td><td>2.8               </td><td>1999              </td><td>6                 </td><td>auto(l5)          </td><td>4                 </td><td>15                </td><td>25                </td><td>p                 </td><td>compact           </td></tr>\n",
       "\t<tr><td>audi              </td><td>a4 quattro        </td><td>2.8               </td><td>1999              </td><td>6                 </td><td>manual(m5)        </td><td>4                 </td><td>17                </td><td>25                </td><td>p                 </td><td>compact           </td></tr>\n",
       "\t<tr><td>audi              </td><td>a4 quattro        </td><td>3.1               </td><td>2008              </td><td>6                 </td><td>auto(s6)          </td><td>4                 </td><td>17                </td><td>25                </td><td>p                 </td><td>compact           </td></tr>\n",
       "\t<tr><td>audi              </td><td>a4 quattro        </td><td>3.1               </td><td>2008              </td><td>6                 </td><td>manual(m6)        </td><td>4                 </td><td>15                </td><td>25                </td><td>p                 </td><td>compact           </td></tr>\n",
       "\t<tr><td>audi              </td><td>a6 quattro        </td><td>2.8               </td><td>1999              </td><td>6                 </td><td>auto(l5)          </td><td>4                 </td><td>15                </td><td>24                </td><td>p                 </td><td>midsize           </td></tr>\n",
       "\t<tr><td>audi              </td><td>a6 quattro        </td><td>3.1               </td><td>2008              </td><td>6                 </td><td>auto(s6)          </td><td>4                 </td><td>17                </td><td>25                </td><td>p                 </td><td>midsize           </td></tr>\n",
       "\t<tr><td>audi              </td><td>a6 quattro        </td><td>4.2               </td><td>2008              </td><td>8                 </td><td>auto(s6)          </td><td>4                 </td><td>16                </td><td>23                </td><td>p                 </td><td>midsize           </td></tr>\n",
       "\t<tr><td>chevrolet         </td><td>c1500 suburban 2wd</td><td>5.3               </td><td>2008              </td><td>8                 </td><td>auto(l4)          </td><td>r                 </td><td>14                </td><td>20                </td><td>r                 </td><td>suv               </td></tr>\n",
       "\t<tr><td>chevrolet         </td><td>c1500 suburban 2wd</td><td>5.3               </td><td>2008              </td><td>8                 </td><td>auto(l4)          </td><td>r                 </td><td>11                </td><td>15                </td><td>e                 </td><td>suv               </td></tr>\n",
       "\t<tr><td>chevrolet         </td><td>c1500 suburban 2wd</td><td>5.3               </td><td>2008              </td><td>8                 </td><td>auto(l4)          </td><td>r                 </td><td>14                </td><td>20                </td><td>r                 </td><td>suv               </td></tr>\n",
       "\t<tr><td>chevrolet         </td><td>c1500 suburban 2wd</td><td>5.7               </td><td>1999              </td><td>8                 </td><td>auto(l4)          </td><td>r                 </td><td>13                </td><td>17                </td><td>r                 </td><td>suv               </td></tr>\n",
       "\t<tr><td>chevrolet         </td><td>c1500 suburban 2wd</td><td>6.0               </td><td>2008              </td><td>8                 </td><td>auto(l4)          </td><td>r                 </td><td>12                </td><td>17                </td><td>r                 </td><td>suv               </td></tr>\n",
       "\t<tr><td>chevrolet         </td><td>corvette          </td><td>5.7               </td><td>1999              </td><td>8                 </td><td>manual(m6)        </td><td>r                 </td><td>16                </td><td>26                </td><td>p                 </td><td>2seater           </td></tr>\n",
       "\t<tr><td>chevrolet         </td><td>corvette          </td><td>5.7               </td><td>1999              </td><td>8                 </td><td>auto(l4)          </td><td>r                 </td><td>15                </td><td>23                </td><td>p                 </td><td>2seater           </td></tr>\n",
       "\t<tr><td>chevrolet         </td><td>corvette          </td><td>6.2               </td><td>2008              </td><td>8                 </td><td>manual(m6)        </td><td>r                 </td><td>16                </td><td>26                </td><td>p                 </td><td>2seater           </td></tr>\n",
       "\t<tr><td>chevrolet         </td><td>corvette          </td><td>6.2               </td><td>2008              </td><td>8                 </td><td>auto(s6)          </td><td>r                 </td><td>15                </td><td>25                </td><td>p                 </td><td>2seater           </td></tr>\n",
       "\t<tr><td>chevrolet         </td><td>corvette          </td><td>7.0               </td><td>2008              </td><td>8                 </td><td>manual(m6)        </td><td>r                 </td><td>15                </td><td>24                </td><td>p                 </td><td>2seater           </td></tr>\n",
       "\t<tr><td>chevrolet         </td><td>k1500 tahoe 4wd   </td><td>5.3               </td><td>2008              </td><td>8                 </td><td>auto(l4)          </td><td>4                 </td><td>14                </td><td>19                </td><td>r                 </td><td>suv               </td></tr>\n",
       "\t<tr><td>chevrolet         </td><td>k1500 tahoe 4wd   </td><td>5.3               </td><td>2008              </td><td>8                 </td><td>auto(l4)          </td><td>4                 </td><td>11                </td><td>14                </td><td>e                 </td><td>suv               </td></tr>\n",
       "\t<tr><td>...</td><td>...</td><td>...</td><td>...</td><td>...</td><td>...</td><td>...</td><td>...</td><td>...</td><td>...</td><td>...</td></tr>\n",
       "\t<tr><td>toyota           </td><td>toyota tacoma 4wd</td><td>3.4              </td><td>1999             </td><td>6                </td><td>auto(l4)         </td><td>4                </td><td>15               </td><td>19               </td><td>r                </td><td>pickup           </td></tr>\n",
       "\t<tr><td>toyota           </td><td>toyota tacoma 4wd</td><td>4.0              </td><td>2008             </td><td>6                </td><td>manual(m6)       </td><td>4                </td><td>15               </td><td>18               </td><td>r                </td><td>pickup           </td></tr>\n",
       "\t<tr><td>toyota           </td><td>toyota tacoma 4wd</td><td>4.0              </td><td>2008             </td><td>6                </td><td>auto(l5)         </td><td>4                </td><td>16               </td><td>20               </td><td>r                </td><td>pickup           </td></tr>\n",
       "\t<tr><td>volkswagen       </td><td>gti              </td><td>2.0              </td><td>1999             </td><td>4                </td><td>manual(m5)       </td><td>f                </td><td>21               </td><td>29               </td><td>r                </td><td>compact          </td></tr>\n",
       "\t<tr><td>volkswagen       </td><td>gti              </td><td>2.0              </td><td>1999             </td><td>4                </td><td>auto(l4)         </td><td>f                </td><td>19               </td><td>26               </td><td>r                </td><td>compact          </td></tr>\n",
       "\t<tr><td>volkswagen       </td><td>gti              </td><td>2.0              </td><td>2008             </td><td>4                </td><td>manual(m6)       </td><td>f                </td><td>21               </td><td>29               </td><td>p                </td><td>compact          </td></tr>\n",
       "\t<tr><td>volkswagen       </td><td>gti              </td><td>2.0              </td><td>2008             </td><td>4                </td><td>auto(s6)         </td><td>f                </td><td>22               </td><td>29               </td><td>p                </td><td>compact          </td></tr>\n",
       "\t<tr><td>volkswagen       </td><td>gti              </td><td>2.8              </td><td>1999             </td><td>6                </td><td>manual(m5)       </td><td>f                </td><td>17               </td><td>24               </td><td>r                </td><td>compact          </td></tr>\n",
       "\t<tr><td>volkswagen       </td><td>jetta            </td><td>1.9              </td><td>1999             </td><td>4                </td><td>manual(m5)       </td><td>f                </td><td>33               </td><td>44               </td><td>d                </td><td>compact          </td></tr>\n",
       "\t<tr><td>volkswagen       </td><td>jetta            </td><td>2.0              </td><td>1999             </td><td>4                </td><td>manual(m5)       </td><td>f                </td><td>21               </td><td>29               </td><td>r                </td><td>compact          </td></tr>\n",
       "\t<tr><td>volkswagen       </td><td>jetta            </td><td>2.0              </td><td>1999             </td><td>4                </td><td>auto(l4)         </td><td>f                </td><td>19               </td><td>26               </td><td>r                </td><td>compact          </td></tr>\n",
       "\t<tr><td>volkswagen       </td><td>jetta            </td><td>2.0              </td><td>2008             </td><td>4                </td><td>auto(s6)         </td><td>f                </td><td>22               </td><td>29               </td><td>p                </td><td>compact          </td></tr>\n",
       "\t<tr><td>volkswagen       </td><td>jetta            </td><td>2.0              </td><td>2008             </td><td>4                </td><td>manual(m6)       </td><td>f                </td><td>21               </td><td>29               </td><td>p                </td><td>compact          </td></tr>\n",
       "\t<tr><td>volkswagen       </td><td>jetta            </td><td>2.5              </td><td>2008             </td><td>5                </td><td>auto(s6)         </td><td>f                </td><td>21               </td><td>29               </td><td>r                </td><td>compact          </td></tr>\n",
       "\t<tr><td>volkswagen       </td><td>jetta            </td><td>2.5              </td><td>2008             </td><td>5                </td><td>manual(m5)       </td><td>f                </td><td>21               </td><td>29               </td><td>r                </td><td>compact          </td></tr>\n",
       "\t<tr><td>volkswagen       </td><td>jetta            </td><td>2.8              </td><td>1999             </td><td>6                </td><td>auto(l4)         </td><td>f                </td><td>16               </td><td>23               </td><td>r                </td><td>compact          </td></tr>\n",
       "\t<tr><td>volkswagen       </td><td>jetta            </td><td>2.8              </td><td>1999             </td><td>6                </td><td>manual(m5)       </td><td>f                </td><td>17               </td><td>24               </td><td>r                </td><td>compact          </td></tr>\n",
       "\t<tr><td>volkswagen       </td><td>new beetle       </td><td>1.9              </td><td>1999             </td><td>4                </td><td>manual(m5)       </td><td>f                </td><td>35               </td><td>44               </td><td>d                </td><td>subcompact       </td></tr>\n",
       "\t<tr><td>volkswagen       </td><td>new beetle       </td><td>1.9              </td><td>1999             </td><td>4                </td><td>auto(l4)         </td><td>f                </td><td>29               </td><td>41               </td><td>d                </td><td>subcompact       </td></tr>\n",
       "\t<tr><td>volkswagen       </td><td>new beetle       </td><td>2.0              </td><td>1999             </td><td>4                </td><td>manual(m5)       </td><td>f                </td><td>21               </td><td>29               </td><td>r                </td><td>subcompact       </td></tr>\n",
       "\t<tr><td>volkswagen       </td><td>new beetle       </td><td>2.0              </td><td>1999             </td><td>4                </td><td>auto(l4)         </td><td>f                </td><td>19               </td><td>26               </td><td>r                </td><td>subcompact       </td></tr>\n",
       "\t<tr><td>volkswagen       </td><td>new beetle       </td><td>2.5              </td><td>2008             </td><td>5                </td><td>manual(m5)       </td><td>f                </td><td>20               </td><td>28               </td><td>r                </td><td>subcompact       </td></tr>\n",
       "\t<tr><td>volkswagen       </td><td>new beetle       </td><td>2.5              </td><td>2008             </td><td>5                </td><td>auto(s6)         </td><td>f                </td><td>20               </td><td>29               </td><td>r                </td><td>subcompact       </td></tr>\n",
       "\t<tr><td>volkswagen       </td><td>passat           </td><td>1.8              </td><td>1999             </td><td>4                </td><td>manual(m5)       </td><td>f                </td><td>21               </td><td>29               </td><td>p                </td><td>midsize          </td></tr>\n",
       "\t<tr><td>volkswagen       </td><td>passat           </td><td>1.8              </td><td>1999             </td><td>4                </td><td>auto(l5)         </td><td>f                </td><td>18               </td><td>29               </td><td>p                </td><td>midsize          </td></tr>\n",
       "\t<tr><td>volkswagen       </td><td>passat           </td><td>2.0              </td><td>2008             </td><td>4                </td><td>auto(s6)         </td><td>f                </td><td>19               </td><td>28               </td><td>p                </td><td>midsize          </td></tr>\n",
       "\t<tr><td>volkswagen       </td><td>passat           </td><td>2.0              </td><td>2008             </td><td>4                </td><td>manual(m6)       </td><td>f                </td><td>21               </td><td>29               </td><td>p                </td><td>midsize          </td></tr>\n",
       "\t<tr><td>volkswagen       </td><td>passat           </td><td>2.8              </td><td>1999             </td><td>6                </td><td>auto(l5)         </td><td>f                </td><td>16               </td><td>26               </td><td>p                </td><td>midsize          </td></tr>\n",
       "\t<tr><td>volkswagen       </td><td>passat           </td><td>2.8              </td><td>1999             </td><td>6                </td><td>manual(m5)       </td><td>f                </td><td>18               </td><td>26               </td><td>p                </td><td>midsize          </td></tr>\n",
       "\t<tr><td>volkswagen       </td><td>passat           </td><td>3.6              </td><td>2008             </td><td>6                </td><td>auto(s6)         </td><td>f                </td><td>17               </td><td>26               </td><td>p                </td><td>midsize          </td></tr>\n",
       "</tbody>\n",
       "</table>\n"
      ],
      "text/latex": [
       "\\begin{tabular}{r|lllllllllll}\n",
       " manufacturer & model & displ & year & cyl & trans & drv & city & highway & fl & class\\\\\n",
       "\\hline\n",
       "\t audi               & a4                 & 1.8                & 1999               & 4                  & auto(l5)           & f                  & 18                 & 29                 & p                  & compact           \\\\\n",
       "\t audi               & a4                 & 1.8                & 1999               & 4                  & manual(m5)         & f                  & 21                 & 29                 & p                  & compact           \\\\\n",
       "\t audi               & a4                 & 2.0                & 2008               & 4                  & manual(m6)         & f                  & 20                 & 31                 & p                  & compact           \\\\\n",
       "\t audi               & a4                 & 2.0                & 2008               & 4                  & auto(av)           & f                  & 21                 & 30                 & p                  & compact           \\\\\n",
       "\t audi               & a4                 & 2.8                & 1999               & 6                  & auto(l5)           & f                  & 16                 & 26                 & p                  & compact           \\\\\n",
       "\t audi               & a4                 & 2.8                & 1999               & 6                  & manual(m5)         & f                  & 18                 & 26                 & p                  & compact           \\\\\n",
       "\t audi               & a4                 & 3.1                & 2008               & 6                  & auto(av)           & f                  & 18                 & 27                 & p                  & compact           \\\\\n",
       "\t audi               & a4 quattro         & 1.8                & 1999               & 4                  & manual(m5)         & 4                  & 18                 & 26                 & p                  & compact           \\\\\n",
       "\t audi               & a4 quattro         & 1.8                & 1999               & 4                  & auto(l5)           & 4                  & 16                 & 25                 & p                  & compact           \\\\\n",
       "\t audi               & a4 quattro         & 2.0                & 2008               & 4                  & manual(m6)         & 4                  & 20                 & 28                 & p                  & compact           \\\\\n",
       "\t audi               & a4 quattro         & 2.0                & 2008               & 4                  & auto(s6)           & 4                  & 19                 & 27                 & p                  & compact           \\\\\n",
       "\t audi               & a4 quattro         & 2.8                & 1999               & 6                  & auto(l5)           & 4                  & 15                 & 25                 & p                  & compact           \\\\\n",
       "\t audi               & a4 quattro         & 2.8                & 1999               & 6                  & manual(m5)         & 4                  & 17                 & 25                 & p                  & compact           \\\\\n",
       "\t audi               & a4 quattro         & 3.1                & 2008               & 6                  & auto(s6)           & 4                  & 17                 & 25                 & p                  & compact           \\\\\n",
       "\t audi               & a4 quattro         & 3.1                & 2008               & 6                  & manual(m6)         & 4                  & 15                 & 25                 & p                  & compact           \\\\\n",
       "\t audi               & a6 quattro         & 2.8                & 1999               & 6                  & auto(l5)           & 4                  & 15                 & 24                 & p                  & midsize           \\\\\n",
       "\t audi               & a6 quattro         & 3.1                & 2008               & 6                  & auto(s6)           & 4                  & 17                 & 25                 & p                  & midsize           \\\\\n",
       "\t audi               & a6 quattro         & 4.2                & 2008               & 8                  & auto(s6)           & 4                  & 16                 & 23                 & p                  & midsize           \\\\\n",
       "\t chevrolet          & c1500 suburban 2wd & 5.3                & 2008               & 8                  & auto(l4)           & r                  & 14                 & 20                 & r                  & suv               \\\\\n",
       "\t chevrolet          & c1500 suburban 2wd & 5.3                & 2008               & 8                  & auto(l4)           & r                  & 11                 & 15                 & e                  & suv               \\\\\n",
       "\t chevrolet          & c1500 suburban 2wd & 5.3                & 2008               & 8                  & auto(l4)           & r                  & 14                 & 20                 & r                  & suv               \\\\\n",
       "\t chevrolet          & c1500 suburban 2wd & 5.7                & 1999               & 8                  & auto(l4)           & r                  & 13                 & 17                 & r                  & suv               \\\\\n",
       "\t chevrolet          & c1500 suburban 2wd & 6.0                & 2008               & 8                  & auto(l4)           & r                  & 12                 & 17                 & r                  & suv               \\\\\n",
       "\t chevrolet          & corvette           & 5.7                & 1999               & 8                  & manual(m6)         & r                  & 16                 & 26                 & p                  & 2seater           \\\\\n",
       "\t chevrolet          & corvette           & 5.7                & 1999               & 8                  & auto(l4)           & r                  & 15                 & 23                 & p                  & 2seater           \\\\\n",
       "\t chevrolet          & corvette           & 6.2                & 2008               & 8                  & manual(m6)         & r                  & 16                 & 26                 & p                  & 2seater           \\\\\n",
       "\t chevrolet          & corvette           & 6.2                & 2008               & 8                  & auto(s6)           & r                  & 15                 & 25                 & p                  & 2seater           \\\\\n",
       "\t chevrolet          & corvette           & 7.0                & 2008               & 8                  & manual(m6)         & r                  & 15                 & 24                 & p                  & 2seater           \\\\\n",
       "\t chevrolet          & k1500 tahoe 4wd    & 5.3                & 2008               & 8                  & auto(l4)           & 4                  & 14                 & 19                 & r                  & suv               \\\\\n",
       "\t chevrolet          & k1500 tahoe 4wd    & 5.3                & 2008               & 8                  & auto(l4)           & 4                  & 11                 & 14                 & e                  & suv               \\\\\n",
       "\t ... & ... & ... & ... & ... & ... & ... & ... & ... & ... & ...\\\\\n",
       "\t toyota            & toyota tacoma 4wd & 3.4               & 1999              & 6                 & auto(l4)          & 4                 & 15                & 19                & r                 & pickup           \\\\\n",
       "\t toyota            & toyota tacoma 4wd & 4.0               & 2008              & 6                 & manual(m6)        & 4                 & 15                & 18                & r                 & pickup           \\\\\n",
       "\t toyota            & toyota tacoma 4wd & 4.0               & 2008              & 6                 & auto(l5)          & 4                 & 16                & 20                & r                 & pickup           \\\\\n",
       "\t volkswagen        & gti               & 2.0               & 1999              & 4                 & manual(m5)        & f                 & 21                & 29                & r                 & compact          \\\\\n",
       "\t volkswagen        & gti               & 2.0               & 1999              & 4                 & auto(l4)          & f                 & 19                & 26                & r                 & compact          \\\\\n",
       "\t volkswagen        & gti               & 2.0               & 2008              & 4                 & manual(m6)        & f                 & 21                & 29                & p                 & compact          \\\\\n",
       "\t volkswagen        & gti               & 2.0               & 2008              & 4                 & auto(s6)          & f                 & 22                & 29                & p                 & compact          \\\\\n",
       "\t volkswagen        & gti               & 2.8               & 1999              & 6                 & manual(m5)        & f                 & 17                & 24                & r                 & compact          \\\\\n",
       "\t volkswagen        & jetta             & 1.9               & 1999              & 4                 & manual(m5)        & f                 & 33                & 44                & d                 & compact          \\\\\n",
       "\t volkswagen        & jetta             & 2.0               & 1999              & 4                 & manual(m5)        & f                 & 21                & 29                & r                 & compact          \\\\\n",
       "\t volkswagen        & jetta             & 2.0               & 1999              & 4                 & auto(l4)          & f                 & 19                & 26                & r                 & compact          \\\\\n",
       "\t volkswagen        & jetta             & 2.0               & 2008              & 4                 & auto(s6)          & f                 & 22                & 29                & p                 & compact          \\\\\n",
       "\t volkswagen        & jetta             & 2.0               & 2008              & 4                 & manual(m6)        & f                 & 21                & 29                & p                 & compact          \\\\\n",
       "\t volkswagen        & jetta             & 2.5               & 2008              & 5                 & auto(s6)          & f                 & 21                & 29                & r                 & compact          \\\\\n",
       "\t volkswagen        & jetta             & 2.5               & 2008              & 5                 & manual(m5)        & f                 & 21                & 29                & r                 & compact          \\\\\n",
       "\t volkswagen        & jetta             & 2.8               & 1999              & 6                 & auto(l4)          & f                 & 16                & 23                & r                 & compact          \\\\\n",
       "\t volkswagen        & jetta             & 2.8               & 1999              & 6                 & manual(m5)        & f                 & 17                & 24                & r                 & compact          \\\\\n",
       "\t volkswagen        & new beetle        & 1.9               & 1999              & 4                 & manual(m5)        & f                 & 35                & 44                & d                 & subcompact       \\\\\n",
       "\t volkswagen        & new beetle        & 1.9               & 1999              & 4                 & auto(l4)          & f                 & 29                & 41                & d                 & subcompact       \\\\\n",
       "\t volkswagen        & new beetle        & 2.0               & 1999              & 4                 & manual(m5)        & f                 & 21                & 29                & r                 & subcompact       \\\\\n",
       "\t volkswagen        & new beetle        & 2.0               & 1999              & 4                 & auto(l4)          & f                 & 19                & 26                & r                 & subcompact       \\\\\n",
       "\t volkswagen        & new beetle        & 2.5               & 2008              & 5                 & manual(m5)        & f                 & 20                & 28                & r                 & subcompact       \\\\\n",
       "\t volkswagen        & new beetle        & 2.5               & 2008              & 5                 & auto(s6)          & f                 & 20                & 29                & r                 & subcompact       \\\\\n",
       "\t volkswagen        & passat            & 1.8               & 1999              & 4                 & manual(m5)        & f                 & 21                & 29                & p                 & midsize          \\\\\n",
       "\t volkswagen        & passat            & 1.8               & 1999              & 4                 & auto(l5)          & f                 & 18                & 29                & p                 & midsize          \\\\\n",
       "\t volkswagen        & passat            & 2.0               & 2008              & 4                 & auto(s6)          & f                 & 19                & 28                & p                 & midsize          \\\\\n",
       "\t volkswagen        & passat            & 2.0               & 2008              & 4                 & manual(m6)        & f                 & 21                & 29                & p                 & midsize          \\\\\n",
       "\t volkswagen        & passat            & 2.8               & 1999              & 6                 & auto(l5)          & f                 & 16                & 26                & p                 & midsize          \\\\\n",
       "\t volkswagen        & passat            & 2.8               & 1999              & 6                 & manual(m5)        & f                 & 18                & 26                & p                 & midsize          \\\\\n",
       "\t volkswagen        & passat            & 3.6               & 2008              & 6                 & auto(s6)          & f                 & 17                & 26                & p                 & midsize          \\\\\n",
       "\\end{tabular}\n"
      ],
      "text/markdown": [
       "\n",
       "| manufacturer | model | displ | year | cyl | trans | drv | city | highway | fl | class |\n",
       "|---|---|---|---|---|---|---|---|---|---|---|\n",
       "| audi               | a4                 | 1.8                | 1999               | 4                  | auto(l5)           | f                  | 18                 | 29                 | p                  | compact            |\n",
       "| audi               | a4                 | 1.8                | 1999               | 4                  | manual(m5)         | f                  | 21                 | 29                 | p                  | compact            |\n",
       "| audi               | a4                 | 2.0                | 2008               | 4                  | manual(m6)         | f                  | 20                 | 31                 | p                  | compact            |\n",
       "| audi               | a4                 | 2.0                | 2008               | 4                  | auto(av)           | f                  | 21                 | 30                 | p                  | compact            |\n",
       "| audi               | a4                 | 2.8                | 1999               | 6                  | auto(l5)           | f                  | 16                 | 26                 | p                  | compact            |\n",
       "| audi               | a4                 | 2.8                | 1999               | 6                  | manual(m5)         | f                  | 18                 | 26                 | p                  | compact            |\n",
       "| audi               | a4                 | 3.1                | 2008               | 6                  | auto(av)           | f                  | 18                 | 27                 | p                  | compact            |\n",
       "| audi               | a4 quattro         | 1.8                | 1999               | 4                  | manual(m5)         | 4                  | 18                 | 26                 | p                  | compact            |\n",
       "| audi               | a4 quattro         | 1.8                | 1999               | 4                  | auto(l5)           | 4                  | 16                 | 25                 | p                  | compact            |\n",
       "| audi               | a4 quattro         | 2.0                | 2008               | 4                  | manual(m6)         | 4                  | 20                 | 28                 | p                  | compact            |\n",
       "| audi               | a4 quattro         | 2.0                | 2008               | 4                  | auto(s6)           | 4                  | 19                 | 27                 | p                  | compact            |\n",
       "| audi               | a4 quattro         | 2.8                | 1999               | 6                  | auto(l5)           | 4                  | 15                 | 25                 | p                  | compact            |\n",
       "| audi               | a4 quattro         | 2.8                | 1999               | 6                  | manual(m5)         | 4                  | 17                 | 25                 | p                  | compact            |\n",
       "| audi               | a4 quattro         | 3.1                | 2008               | 6                  | auto(s6)           | 4                  | 17                 | 25                 | p                  | compact            |\n",
       "| audi               | a4 quattro         | 3.1                | 2008               | 6                  | manual(m6)         | 4                  | 15                 | 25                 | p                  | compact            |\n",
       "| audi               | a6 quattro         | 2.8                | 1999               | 6                  | auto(l5)           | 4                  | 15                 | 24                 | p                  | midsize            |\n",
       "| audi               | a6 quattro         | 3.1                | 2008               | 6                  | auto(s6)           | 4                  | 17                 | 25                 | p                  | midsize            |\n",
       "| audi               | a6 quattro         | 4.2                | 2008               | 8                  | auto(s6)           | 4                  | 16                 | 23                 | p                  | midsize            |\n",
       "| chevrolet          | c1500 suburban 2wd | 5.3                | 2008               | 8                  | auto(l4)           | r                  | 14                 | 20                 | r                  | suv                |\n",
       "| chevrolet          | c1500 suburban 2wd | 5.3                | 2008               | 8                  | auto(l4)           | r                  | 11                 | 15                 | e                  | suv                |\n",
       "| chevrolet          | c1500 suburban 2wd | 5.3                | 2008               | 8                  | auto(l4)           | r                  | 14                 | 20                 | r                  | suv                |\n",
       "| chevrolet          | c1500 suburban 2wd | 5.7                | 1999               | 8                  | auto(l4)           | r                  | 13                 | 17                 | r                  | suv                |\n",
       "| chevrolet          | c1500 suburban 2wd | 6.0                | 2008               | 8                  | auto(l4)           | r                  | 12                 | 17                 | r                  | suv                |\n",
       "| chevrolet          | corvette           | 5.7                | 1999               | 8                  | manual(m6)         | r                  | 16                 | 26                 | p                  | 2seater            |\n",
       "| chevrolet          | corvette           | 5.7                | 1999               | 8                  | auto(l4)           | r                  | 15                 | 23                 | p                  | 2seater            |\n",
       "| chevrolet          | corvette           | 6.2                | 2008               | 8                  | manual(m6)         | r                  | 16                 | 26                 | p                  | 2seater            |\n",
       "| chevrolet          | corvette           | 6.2                | 2008               | 8                  | auto(s6)           | r                  | 15                 | 25                 | p                  | 2seater            |\n",
       "| chevrolet          | corvette           | 7.0                | 2008               | 8                  | manual(m6)         | r                  | 15                 | 24                 | p                  | 2seater            |\n",
       "| chevrolet          | k1500 tahoe 4wd    | 5.3                | 2008               | 8                  | auto(l4)           | 4                  | 14                 | 19                 | r                  | suv                |\n",
       "| chevrolet          | k1500 tahoe 4wd    | 5.3                | 2008               | 8                  | auto(l4)           | 4                  | 11                 | 14                 | e                  | suv                |\n",
       "| ... | ... | ... | ... | ... | ... | ... | ... | ... | ... | ... |\n",
       "| toyota            | toyota tacoma 4wd | 3.4               | 1999              | 6                 | auto(l4)          | 4                 | 15                | 19                | r                 | pickup            |\n",
       "| toyota            | toyota tacoma 4wd | 4.0               | 2008              | 6                 | manual(m6)        | 4                 | 15                | 18                | r                 | pickup            |\n",
       "| toyota            | toyota tacoma 4wd | 4.0               | 2008              | 6                 | auto(l5)          | 4                 | 16                | 20                | r                 | pickup            |\n",
       "| volkswagen        | gti               | 2.0               | 1999              | 4                 | manual(m5)        | f                 | 21                | 29                | r                 | compact           |\n",
       "| volkswagen        | gti               | 2.0               | 1999              | 4                 | auto(l4)          | f                 | 19                | 26                | r                 | compact           |\n",
       "| volkswagen        | gti               | 2.0               | 2008              | 4                 | manual(m6)        | f                 | 21                | 29                | p                 | compact           |\n",
       "| volkswagen        | gti               | 2.0               | 2008              | 4                 | auto(s6)          | f                 | 22                | 29                | p                 | compact           |\n",
       "| volkswagen        | gti               | 2.8               | 1999              | 6                 | manual(m5)        | f                 | 17                | 24                | r                 | compact           |\n",
       "| volkswagen        | jetta             | 1.9               | 1999              | 4                 | manual(m5)        | f                 | 33                | 44                | d                 | compact           |\n",
       "| volkswagen        | jetta             | 2.0               | 1999              | 4                 | manual(m5)        | f                 | 21                | 29                | r                 | compact           |\n",
       "| volkswagen        | jetta             | 2.0               | 1999              | 4                 | auto(l4)          | f                 | 19                | 26                | r                 | compact           |\n",
       "| volkswagen        | jetta             | 2.0               | 2008              | 4                 | auto(s6)          | f                 | 22                | 29                | p                 | compact           |\n",
       "| volkswagen        | jetta             | 2.0               | 2008              | 4                 | manual(m6)        | f                 | 21                | 29                | p                 | compact           |\n",
       "| volkswagen        | jetta             | 2.5               | 2008              | 5                 | auto(s6)          | f                 | 21                | 29                | r                 | compact           |\n",
       "| volkswagen        | jetta             | 2.5               | 2008              | 5                 | manual(m5)        | f                 | 21                | 29                | r                 | compact           |\n",
       "| volkswagen        | jetta             | 2.8               | 1999              | 6                 | auto(l4)          | f                 | 16                | 23                | r                 | compact           |\n",
       "| volkswagen        | jetta             | 2.8               | 1999              | 6                 | manual(m5)        | f                 | 17                | 24                | r                 | compact           |\n",
       "| volkswagen        | new beetle        | 1.9               | 1999              | 4                 | manual(m5)        | f                 | 35                | 44                | d                 | subcompact        |\n",
       "| volkswagen        | new beetle        | 1.9               | 1999              | 4                 | auto(l4)          | f                 | 29                | 41                | d                 | subcompact        |\n",
       "| volkswagen        | new beetle        | 2.0               | 1999              | 4                 | manual(m5)        | f                 | 21                | 29                | r                 | subcompact        |\n",
       "| volkswagen        | new beetle        | 2.0               | 1999              | 4                 | auto(l4)          | f                 | 19                | 26                | r                 | subcompact        |\n",
       "| volkswagen        | new beetle        | 2.5               | 2008              | 5                 | manual(m5)        | f                 | 20                | 28                | r                 | subcompact        |\n",
       "| volkswagen        | new beetle        | 2.5               | 2008              | 5                 | auto(s6)          | f                 | 20                | 29                | r                 | subcompact        |\n",
       "| volkswagen        | passat            | 1.8               | 1999              | 4                 | manual(m5)        | f                 | 21                | 29                | p                 | midsize           |\n",
       "| volkswagen        | passat            | 1.8               | 1999              | 4                 | auto(l5)          | f                 | 18                | 29                | p                 | midsize           |\n",
       "| volkswagen        | passat            | 2.0               | 2008              | 4                 | auto(s6)          | f                 | 19                | 28                | p                 | midsize           |\n",
       "| volkswagen        | passat            | 2.0               | 2008              | 4                 | manual(m6)        | f                 | 21                | 29                | p                 | midsize           |\n",
       "| volkswagen        | passat            | 2.8               | 1999              | 6                 | auto(l5)          | f                 | 16                | 26                | p                 | midsize           |\n",
       "| volkswagen        | passat            | 2.8               | 1999              | 6                 | manual(m5)        | f                 | 18                | 26                | p                 | midsize           |\n",
       "| volkswagen        | passat            | 3.6               | 2008              | 6                 | auto(s6)          | f                 | 17                | 26                | p                 | midsize           |\n",
       "\n"
      ],
      "text/plain": [
       "    manufacturer model              displ year cyl trans      drv city highway\n",
       "1   audi         a4                 1.8   1999 4   auto(l5)   f   18   29     \n",
       "2   audi         a4                 1.8   1999 4   manual(m5) f   21   29     \n",
       "3   audi         a4                 2.0   2008 4   manual(m6) f   20   31     \n",
       "4   audi         a4                 2.0   2008 4   auto(av)   f   21   30     \n",
       "5   audi         a4                 2.8   1999 6   auto(l5)   f   16   26     \n",
       "6   audi         a4                 2.8   1999 6   manual(m5) f   18   26     \n",
       "7   audi         a4                 3.1   2008 6   auto(av)   f   18   27     \n",
       "8   audi         a4 quattro         1.8   1999 4   manual(m5) 4   18   26     \n",
       "9   audi         a4 quattro         1.8   1999 4   auto(l5)   4   16   25     \n",
       "10  audi         a4 quattro         2.0   2008 4   manual(m6) 4   20   28     \n",
       "11  audi         a4 quattro         2.0   2008 4   auto(s6)   4   19   27     \n",
       "12  audi         a4 quattro         2.8   1999 6   auto(l5)   4   15   25     \n",
       "13  audi         a4 quattro         2.8   1999 6   manual(m5) 4   17   25     \n",
       "14  audi         a4 quattro         3.1   2008 6   auto(s6)   4   17   25     \n",
       "15  audi         a4 quattro         3.1   2008 6   manual(m6) 4   15   25     \n",
       "16  audi         a6 quattro         2.8   1999 6   auto(l5)   4   15   24     \n",
       "17  audi         a6 quattro         3.1   2008 6   auto(s6)   4   17   25     \n",
       "18  audi         a6 quattro         4.2   2008 8   auto(s6)   4   16   23     \n",
       "19  chevrolet    c1500 suburban 2wd 5.3   2008 8   auto(l4)   r   14   20     \n",
       "20  chevrolet    c1500 suburban 2wd 5.3   2008 8   auto(l4)   r   11   15     \n",
       "21  chevrolet    c1500 suburban 2wd 5.3   2008 8   auto(l4)   r   14   20     \n",
       "22  chevrolet    c1500 suburban 2wd 5.7   1999 8   auto(l4)   r   13   17     \n",
       "23  chevrolet    c1500 suburban 2wd 6.0   2008 8   auto(l4)   r   12   17     \n",
       "24  chevrolet    corvette           5.7   1999 8   manual(m6) r   16   26     \n",
       "25  chevrolet    corvette           5.7   1999 8   auto(l4)   r   15   23     \n",
       "26  chevrolet    corvette           6.2   2008 8   manual(m6) r   16   26     \n",
       "27  chevrolet    corvette           6.2   2008 8   auto(s6)   r   15   25     \n",
       "28  chevrolet    corvette           7.0   2008 8   manual(m6) r   15   24     \n",
       "29  chevrolet    k1500 tahoe 4wd    5.3   2008 8   auto(l4)   4   14   19     \n",
       "30  chevrolet    k1500 tahoe 4wd    5.3   2008 8   auto(l4)   4   11   14     \n",
       "... ...          ...                ...   ...  ... ...        ... ...  ...    \n",
       "205 toyota       toyota tacoma 4wd  3.4   1999 6   auto(l4)   4   15   19     \n",
       "206 toyota       toyota tacoma 4wd  4.0   2008 6   manual(m6) 4   15   18     \n",
       "207 toyota       toyota tacoma 4wd  4.0   2008 6   auto(l5)   4   16   20     \n",
       "208 volkswagen   gti                2.0   1999 4   manual(m5) f   21   29     \n",
       "209 volkswagen   gti                2.0   1999 4   auto(l4)   f   19   26     \n",
       "210 volkswagen   gti                2.0   2008 4   manual(m6) f   21   29     \n",
       "211 volkswagen   gti                2.0   2008 4   auto(s6)   f   22   29     \n",
       "212 volkswagen   gti                2.8   1999 6   manual(m5) f   17   24     \n",
       "213 volkswagen   jetta              1.9   1999 4   manual(m5) f   33   44     \n",
       "214 volkswagen   jetta              2.0   1999 4   manual(m5) f   21   29     \n",
       "215 volkswagen   jetta              2.0   1999 4   auto(l4)   f   19   26     \n",
       "216 volkswagen   jetta              2.0   2008 4   auto(s6)   f   22   29     \n",
       "217 volkswagen   jetta              2.0   2008 4   manual(m6) f   21   29     \n",
       "218 volkswagen   jetta              2.5   2008 5   auto(s6)   f   21   29     \n",
       "219 volkswagen   jetta              2.5   2008 5   manual(m5) f   21   29     \n",
       "220 volkswagen   jetta              2.8   1999 6   auto(l4)   f   16   23     \n",
       "221 volkswagen   jetta              2.8   1999 6   manual(m5) f   17   24     \n",
       "222 volkswagen   new beetle         1.9   1999 4   manual(m5) f   35   44     \n",
       "223 volkswagen   new beetle         1.9   1999 4   auto(l4)   f   29   41     \n",
       "224 volkswagen   new beetle         2.0   1999 4   manual(m5) f   21   29     \n",
       "225 volkswagen   new beetle         2.0   1999 4   auto(l4)   f   19   26     \n",
       "226 volkswagen   new beetle         2.5   2008 5   manual(m5) f   20   28     \n",
       "227 volkswagen   new beetle         2.5   2008 5   auto(s6)   f   20   29     \n",
       "228 volkswagen   passat             1.8   1999 4   manual(m5) f   21   29     \n",
       "229 volkswagen   passat             1.8   1999 4   auto(l5)   f   18   29     \n",
       "230 volkswagen   passat             2.0   2008 4   auto(s6)   f   19   28     \n",
       "231 volkswagen   passat             2.0   2008 4   manual(m6) f   21   29     \n",
       "232 volkswagen   passat             2.8   1999 6   auto(l5)   f   16   26     \n",
       "233 volkswagen   passat             2.8   1999 6   manual(m5) f   18   26     \n",
       "234 volkswagen   passat             3.6   2008 6   auto(s6)   f   17   26     \n",
       "    fl  class     \n",
       "1   p   compact   \n",
       "2   p   compact   \n",
       "3   p   compact   \n",
       "4   p   compact   \n",
       "5   p   compact   \n",
       "6   p   compact   \n",
       "7   p   compact   \n",
       "8   p   compact   \n",
       "9   p   compact   \n",
       "10  p   compact   \n",
       "11  p   compact   \n",
       "12  p   compact   \n",
       "13  p   compact   \n",
       "14  p   compact   \n",
       "15  p   compact   \n",
       "16  p   midsize   \n",
       "17  p   midsize   \n",
       "18  p   midsize   \n",
       "19  r   suv       \n",
       "20  e   suv       \n",
       "21  r   suv       \n",
       "22  r   suv       \n",
       "23  r   suv       \n",
       "24  p   2seater   \n",
       "25  p   2seater   \n",
       "26  p   2seater   \n",
       "27  p   2seater   \n",
       "28  p   2seater   \n",
       "29  r   suv       \n",
       "30  e   suv       \n",
       "... ... ...       \n",
       "205 r   pickup    \n",
       "206 r   pickup    \n",
       "207 r   pickup    \n",
       "208 r   compact   \n",
       "209 r   compact   \n",
       "210 p   compact   \n",
       "211 p   compact   \n",
       "212 r   compact   \n",
       "213 d   compact   \n",
       "214 r   compact   \n",
       "215 r   compact   \n",
       "216 p   compact   \n",
       "217 p   compact   \n",
       "218 r   compact   \n",
       "219 r   compact   \n",
       "220 r   compact   \n",
       "221 r   compact   \n",
       "222 d   subcompact\n",
       "223 d   subcompact\n",
       "224 r   subcompact\n",
       "225 r   subcompact\n",
       "226 r   subcompact\n",
       "227 r   subcompact\n",
       "228 p   midsize   \n",
       "229 p   midsize   \n",
       "230 p   midsize   \n",
       "231 p   midsize   \n",
       "232 p   midsize   \n",
       "233 p   midsize   \n",
       "234 p   midsize   "
      ]
     },
     "metadata": {},
     "output_type": "display_data"
    }
   ],
   "source": [
    "mpg_new"
   ]
  },
  {
   "cell_type": "code",
   "execution_count": 57,
   "metadata": {},
   "outputs": [],
   "source": [
    "write.csv(mpg_new, 'mpg.csv')"
   ]
  },
  {
   "cell_type": "code",
   "execution_count": 65,
   "metadata": {},
   "outputs": [],
   "source": [
    "df = data.frame(var1 = c(4, 3, 8),\n",
    "               var2 = c(2, 6, 1))"
   ]
  },
  {
   "cell_type": "code",
   "execution_count": 66,
   "metadata": {},
   "outputs": [
    {
     "data": {
      "text/html": [
       "<table>\n",
       "<thead><tr><th scope=col>var1</th><th scope=col>var2</th></tr></thead>\n",
       "<tbody>\n",
       "\t<tr><td>4</td><td>2</td></tr>\n",
       "\t<tr><td>3</td><td>6</td></tr>\n",
       "\t<tr><td>8</td><td>1</td></tr>\n",
       "</tbody>\n",
       "</table>\n"
      ],
      "text/latex": [
       "\\begin{tabular}{r|ll}\n",
       " var1 & var2\\\\\n",
       "\\hline\n",
       "\t 4 & 2\\\\\n",
       "\t 3 & 6\\\\\n",
       "\t 8 & 1\\\\\n",
       "\\end{tabular}\n"
      ],
      "text/markdown": [
       "\n",
       "| var1 | var2 |\n",
       "|---|---|\n",
       "| 4 | 2 |\n",
       "| 3 | 6 |\n",
       "| 8 | 1 |\n",
       "\n"
      ],
      "text/plain": [
       "  var1 var2\n",
       "1 4    2   \n",
       "2 3    6   \n",
       "3 8    1   "
      ]
     },
     "metadata": {},
     "output_type": "display_data"
    }
   ],
   "source": [
    "df"
   ]
  },
  {
   "cell_type": "code",
   "execution_count": 67,
   "metadata": {},
   "outputs": [],
   "source": [
    "df$var_sum = df$var1 + df$var2"
   ]
  },
  {
   "cell_type": "code",
   "execution_count": 68,
   "metadata": {},
   "outputs": [
    {
     "data": {
      "text/html": [
       "<table>\n",
       "<thead><tr><th scope=col>var1</th><th scope=col>var2</th><th scope=col>var_sum</th></tr></thead>\n",
       "<tbody>\n",
       "\t<tr><td>4</td><td>2</td><td>6</td></tr>\n",
       "\t<tr><td>3</td><td>6</td><td>9</td></tr>\n",
       "\t<tr><td>8</td><td>1</td><td>9</td></tr>\n",
       "</tbody>\n",
       "</table>\n"
      ],
      "text/latex": [
       "\\begin{tabular}{r|lll}\n",
       " var1 & var2 & var\\_sum\\\\\n",
       "\\hline\n",
       "\t 4 & 2 & 6\\\\\n",
       "\t 3 & 6 & 9\\\\\n",
       "\t 8 & 1 & 9\\\\\n",
       "\\end{tabular}\n"
      ],
      "text/markdown": [
       "\n",
       "| var1 | var2 | var_sum |\n",
       "|---|---|---|\n",
       "| 4 | 2 | 6 |\n",
       "| 3 | 6 | 9 |\n",
       "| 8 | 1 | 9 |\n",
       "\n"
      ],
      "text/plain": [
       "  var1 var2 var_sum\n",
       "1 4    2    6      \n",
       "2 3    6    9      \n",
       "3 8    1    9      "
      ]
     },
     "metadata": {},
     "output_type": "display_data"
    }
   ],
   "source": [
    "df"
   ]
  },
  {
   "cell_type": "code",
   "execution_count": 69,
   "metadata": {},
   "outputs": [],
   "source": [
    "df$var_men = (df$var1 + df$var2) / 2"
   ]
  },
  {
   "cell_type": "code",
   "execution_count": 70,
   "metadata": {},
   "outputs": [
    {
     "data": {
      "text/html": [
       "<table>\n",
       "<thead><tr><th scope=col>var1</th><th scope=col>var2</th><th scope=col>var_sum</th><th scope=col>var_men</th></tr></thead>\n",
       "<tbody>\n",
       "\t<tr><td>4  </td><td>2  </td><td>6  </td><td>3.0</td></tr>\n",
       "\t<tr><td>3  </td><td>6  </td><td>9  </td><td>4.5</td></tr>\n",
       "\t<tr><td>8  </td><td>1  </td><td>9  </td><td>4.5</td></tr>\n",
       "</tbody>\n",
       "</table>\n"
      ],
      "text/latex": [
       "\\begin{tabular}{r|llll}\n",
       " var1 & var2 & var\\_sum & var\\_men\\\\\n",
       "\\hline\n",
       "\t 4   & 2   & 6   & 3.0\\\\\n",
       "\t 3   & 6   & 9   & 4.5\\\\\n",
       "\t 8   & 1   & 9   & 4.5\\\\\n",
       "\\end{tabular}\n"
      ],
      "text/markdown": [
       "\n",
       "| var1 | var2 | var_sum | var_men |\n",
       "|---|---|---|---|\n",
       "| 4   | 2   | 6   | 3.0 |\n",
       "| 3   | 6   | 9   | 4.5 |\n",
       "| 8   | 1   | 9   | 4.5 |\n",
       "\n"
      ],
      "text/plain": [
       "  var1 var2 var_sum var_men\n",
       "1 4    2    6       3.0    \n",
       "2 3    6    9       4.5    \n",
       "3 8    1    9       4.5    "
      ]
     },
     "metadata": {},
     "output_type": "display_data"
    }
   ],
   "source": [
    "df"
   ]
  },
  {
   "cell_type": "code",
   "execution_count": 71,
   "metadata": {},
   "outputs": [],
   "source": [
    "mpg$total = (mpg$cty + mpg$hwy) / 2"
   ]
  },
  {
   "cell_type": "code",
   "execution_count": 72,
   "metadata": {},
   "outputs": [
    {
     "data": {
      "text/html": [
       "<table>\n",
       "<thead><tr><th scope=col>manufacturer</th><th scope=col>model</th><th scope=col>displ</th><th scope=col>year</th><th scope=col>cyl</th><th scope=col>trans</th><th scope=col>drv</th><th scope=col>cty</th><th scope=col>hwy</th><th scope=col>fl</th><th scope=col>class</th><th scope=col>total</th></tr></thead>\n",
       "<tbody>\n",
       "\t<tr><td>audi              </td><td>a4                </td><td>1.8               </td><td>1999              </td><td>4                 </td><td>auto(l5)          </td><td>f                 </td><td>18                </td><td>29                </td><td>p                 </td><td>compact           </td><td>23.5              </td></tr>\n",
       "\t<tr><td>audi              </td><td>a4                </td><td>1.8               </td><td>1999              </td><td>4                 </td><td>manual(m5)        </td><td>f                 </td><td>21                </td><td>29                </td><td>p                 </td><td>compact           </td><td>25.0              </td></tr>\n",
       "\t<tr><td>audi              </td><td>a4                </td><td>2.0               </td><td>2008              </td><td>4                 </td><td>manual(m6)        </td><td>f                 </td><td>20                </td><td>31                </td><td>p                 </td><td>compact           </td><td>25.5              </td></tr>\n",
       "\t<tr><td>audi              </td><td>a4                </td><td>2.0               </td><td>2008              </td><td>4                 </td><td>auto(av)          </td><td>f                 </td><td>21                </td><td>30                </td><td>p                 </td><td>compact           </td><td>25.5              </td></tr>\n",
       "\t<tr><td>audi              </td><td>a4                </td><td>2.8               </td><td>1999              </td><td>6                 </td><td>auto(l5)          </td><td>f                 </td><td>16                </td><td>26                </td><td>p                 </td><td>compact           </td><td>21.0              </td></tr>\n",
       "\t<tr><td>audi              </td><td>a4                </td><td>2.8               </td><td>1999              </td><td>6                 </td><td>manual(m5)        </td><td>f                 </td><td>18                </td><td>26                </td><td>p                 </td><td>compact           </td><td>22.0              </td></tr>\n",
       "\t<tr><td>audi              </td><td>a4                </td><td>3.1               </td><td>2008              </td><td>6                 </td><td>auto(av)          </td><td>f                 </td><td>18                </td><td>27                </td><td>p                 </td><td>compact           </td><td>22.5              </td></tr>\n",
       "\t<tr><td>audi              </td><td>a4 quattro        </td><td>1.8               </td><td>1999              </td><td>4                 </td><td>manual(m5)        </td><td>4                 </td><td>18                </td><td>26                </td><td>p                 </td><td>compact           </td><td>22.0              </td></tr>\n",
       "\t<tr><td>audi              </td><td>a4 quattro        </td><td>1.8               </td><td>1999              </td><td>4                 </td><td>auto(l5)          </td><td>4                 </td><td>16                </td><td>25                </td><td>p                 </td><td>compact           </td><td>20.5              </td></tr>\n",
       "\t<tr><td>audi              </td><td>a4 quattro        </td><td>2.0               </td><td>2008              </td><td>4                 </td><td>manual(m6)        </td><td>4                 </td><td>20                </td><td>28                </td><td>p                 </td><td>compact           </td><td>24.0              </td></tr>\n",
       "\t<tr><td>audi              </td><td>a4 quattro        </td><td>2.0               </td><td>2008              </td><td>4                 </td><td>auto(s6)          </td><td>4                 </td><td>19                </td><td>27                </td><td>p                 </td><td>compact           </td><td>23.0              </td></tr>\n",
       "\t<tr><td>audi              </td><td>a4 quattro        </td><td>2.8               </td><td>1999              </td><td>6                 </td><td>auto(l5)          </td><td>4                 </td><td>15                </td><td>25                </td><td>p                 </td><td>compact           </td><td>20.0              </td></tr>\n",
       "\t<tr><td>audi              </td><td>a4 quattro        </td><td>2.8               </td><td>1999              </td><td>6                 </td><td>manual(m5)        </td><td>4                 </td><td>17                </td><td>25                </td><td>p                 </td><td>compact           </td><td>21.0              </td></tr>\n",
       "\t<tr><td>audi              </td><td>a4 quattro        </td><td>3.1               </td><td>2008              </td><td>6                 </td><td>auto(s6)          </td><td>4                 </td><td>17                </td><td>25                </td><td>p                 </td><td>compact           </td><td>21.0              </td></tr>\n",
       "\t<tr><td>audi              </td><td>a4 quattro        </td><td>3.1               </td><td>2008              </td><td>6                 </td><td>manual(m6)        </td><td>4                 </td><td>15                </td><td>25                </td><td>p                 </td><td>compact           </td><td>20.0              </td></tr>\n",
       "\t<tr><td>audi              </td><td>a6 quattro        </td><td>2.8               </td><td>1999              </td><td>6                 </td><td>auto(l5)          </td><td>4                 </td><td>15                </td><td>24                </td><td>p                 </td><td>midsize           </td><td>19.5              </td></tr>\n",
       "\t<tr><td>audi              </td><td>a6 quattro        </td><td>3.1               </td><td>2008              </td><td>6                 </td><td>auto(s6)          </td><td>4                 </td><td>17                </td><td>25                </td><td>p                 </td><td>midsize           </td><td>21.0              </td></tr>\n",
       "\t<tr><td>audi              </td><td>a6 quattro        </td><td>4.2               </td><td>2008              </td><td>8                 </td><td>auto(s6)          </td><td>4                 </td><td>16                </td><td>23                </td><td>p                 </td><td>midsize           </td><td>19.5              </td></tr>\n",
       "\t<tr><td>chevrolet         </td><td>c1500 suburban 2wd</td><td>5.3               </td><td>2008              </td><td>8                 </td><td>auto(l4)          </td><td>r                 </td><td>14                </td><td>20                </td><td>r                 </td><td>suv               </td><td>17.0              </td></tr>\n",
       "\t<tr><td>chevrolet         </td><td>c1500 suburban 2wd</td><td>5.3               </td><td>2008              </td><td>8                 </td><td>auto(l4)          </td><td>r                 </td><td>11                </td><td>15                </td><td>e                 </td><td>suv               </td><td>13.0              </td></tr>\n",
       "\t<tr><td>chevrolet         </td><td>c1500 suburban 2wd</td><td>5.3               </td><td>2008              </td><td>8                 </td><td>auto(l4)          </td><td>r                 </td><td>14                </td><td>20                </td><td>r                 </td><td>suv               </td><td>17.0              </td></tr>\n",
       "\t<tr><td>chevrolet         </td><td>c1500 suburban 2wd</td><td>5.7               </td><td>1999              </td><td>8                 </td><td>auto(l4)          </td><td>r                 </td><td>13                </td><td>17                </td><td>r                 </td><td>suv               </td><td>15.0              </td></tr>\n",
       "\t<tr><td>chevrolet         </td><td>c1500 suburban 2wd</td><td>6.0               </td><td>2008              </td><td>8                 </td><td>auto(l4)          </td><td>r                 </td><td>12                </td><td>17                </td><td>r                 </td><td>suv               </td><td>14.5              </td></tr>\n",
       "\t<tr><td>chevrolet         </td><td>corvette          </td><td>5.7               </td><td>1999              </td><td>8                 </td><td>manual(m6)        </td><td>r                 </td><td>16                </td><td>26                </td><td>p                 </td><td>2seater           </td><td>21.0              </td></tr>\n",
       "\t<tr><td>chevrolet         </td><td>corvette          </td><td>5.7               </td><td>1999              </td><td>8                 </td><td>auto(l4)          </td><td>r                 </td><td>15                </td><td>23                </td><td>p                 </td><td>2seater           </td><td>19.0              </td></tr>\n",
       "\t<tr><td>chevrolet         </td><td>corvette          </td><td>6.2               </td><td>2008              </td><td>8                 </td><td>manual(m6)        </td><td>r                 </td><td>16                </td><td>26                </td><td>p                 </td><td>2seater           </td><td>21.0              </td></tr>\n",
       "\t<tr><td>chevrolet         </td><td>corvette          </td><td>6.2               </td><td>2008              </td><td>8                 </td><td>auto(s6)          </td><td>r                 </td><td>15                </td><td>25                </td><td>p                 </td><td>2seater           </td><td>20.0              </td></tr>\n",
       "\t<tr><td>chevrolet         </td><td>corvette          </td><td>7.0               </td><td>2008              </td><td>8                 </td><td>manual(m6)        </td><td>r                 </td><td>15                </td><td>24                </td><td>p                 </td><td>2seater           </td><td>19.5              </td></tr>\n",
       "\t<tr><td>chevrolet         </td><td>k1500 tahoe 4wd   </td><td>5.3               </td><td>2008              </td><td>8                 </td><td>auto(l4)          </td><td>4                 </td><td>14                </td><td>19                </td><td>r                 </td><td>suv               </td><td>16.5              </td></tr>\n",
       "\t<tr><td>chevrolet         </td><td>k1500 tahoe 4wd   </td><td>5.3               </td><td>2008              </td><td>8                 </td><td>auto(l4)          </td><td>4                 </td><td>11                </td><td>14                </td><td>e                 </td><td>suv               </td><td>12.5              </td></tr>\n",
       "\t<tr><td>...</td><td>...</td><td>...</td><td>...</td><td>...</td><td>...</td><td>...</td><td>...</td><td>...</td><td>...</td><td>...</td><td>...</td></tr>\n",
       "\t<tr><td>toyota           </td><td>toyota tacoma 4wd</td><td>3.4              </td><td>1999             </td><td>6                </td><td>auto(l4)         </td><td>4                </td><td>15               </td><td>19               </td><td>r                </td><td>pickup           </td><td>17.0             </td></tr>\n",
       "\t<tr><td>toyota           </td><td>toyota tacoma 4wd</td><td>4.0              </td><td>2008             </td><td>6                </td><td>manual(m6)       </td><td>4                </td><td>15               </td><td>18               </td><td>r                </td><td>pickup           </td><td>16.5             </td></tr>\n",
       "\t<tr><td>toyota           </td><td>toyota tacoma 4wd</td><td>4.0              </td><td>2008             </td><td>6                </td><td>auto(l5)         </td><td>4                </td><td>16               </td><td>20               </td><td>r                </td><td>pickup           </td><td>18.0             </td></tr>\n",
       "\t<tr><td>volkswagen       </td><td>gti              </td><td>2.0              </td><td>1999             </td><td>4                </td><td>manual(m5)       </td><td>f                </td><td>21               </td><td>29               </td><td>r                </td><td>compact          </td><td>25.0             </td></tr>\n",
       "\t<tr><td>volkswagen       </td><td>gti              </td><td>2.0              </td><td>1999             </td><td>4                </td><td>auto(l4)         </td><td>f                </td><td>19               </td><td>26               </td><td>r                </td><td>compact          </td><td>22.5             </td></tr>\n",
       "\t<tr><td>volkswagen       </td><td>gti              </td><td>2.0              </td><td>2008             </td><td>4                </td><td>manual(m6)       </td><td>f                </td><td>21               </td><td>29               </td><td>p                </td><td>compact          </td><td>25.0             </td></tr>\n",
       "\t<tr><td>volkswagen       </td><td>gti              </td><td>2.0              </td><td>2008             </td><td>4                </td><td>auto(s6)         </td><td>f                </td><td>22               </td><td>29               </td><td>p                </td><td>compact          </td><td>25.5             </td></tr>\n",
       "\t<tr><td>volkswagen       </td><td>gti              </td><td>2.8              </td><td>1999             </td><td>6                </td><td>manual(m5)       </td><td>f                </td><td>17               </td><td>24               </td><td>r                </td><td>compact          </td><td>20.5             </td></tr>\n",
       "\t<tr><td>volkswagen       </td><td>jetta            </td><td>1.9              </td><td>1999             </td><td>4                </td><td>manual(m5)       </td><td>f                </td><td>33               </td><td>44               </td><td>d                </td><td>compact          </td><td>38.5             </td></tr>\n",
       "\t<tr><td>volkswagen       </td><td>jetta            </td><td>2.0              </td><td>1999             </td><td>4                </td><td>manual(m5)       </td><td>f                </td><td>21               </td><td>29               </td><td>r                </td><td>compact          </td><td>25.0             </td></tr>\n",
       "\t<tr><td>volkswagen       </td><td>jetta            </td><td>2.0              </td><td>1999             </td><td>4                </td><td>auto(l4)         </td><td>f                </td><td>19               </td><td>26               </td><td>r                </td><td>compact          </td><td>22.5             </td></tr>\n",
       "\t<tr><td>volkswagen       </td><td>jetta            </td><td>2.0              </td><td>2008             </td><td>4                </td><td>auto(s6)         </td><td>f                </td><td>22               </td><td>29               </td><td>p                </td><td>compact          </td><td>25.5             </td></tr>\n",
       "\t<tr><td>volkswagen       </td><td>jetta            </td><td>2.0              </td><td>2008             </td><td>4                </td><td>manual(m6)       </td><td>f                </td><td>21               </td><td>29               </td><td>p                </td><td>compact          </td><td>25.0             </td></tr>\n",
       "\t<tr><td>volkswagen       </td><td>jetta            </td><td>2.5              </td><td>2008             </td><td>5                </td><td>auto(s6)         </td><td>f                </td><td>21               </td><td>29               </td><td>r                </td><td>compact          </td><td>25.0             </td></tr>\n",
       "\t<tr><td>volkswagen       </td><td>jetta            </td><td>2.5              </td><td>2008             </td><td>5                </td><td>manual(m5)       </td><td>f                </td><td>21               </td><td>29               </td><td>r                </td><td>compact          </td><td>25.0             </td></tr>\n",
       "\t<tr><td>volkswagen       </td><td>jetta            </td><td>2.8              </td><td>1999             </td><td>6                </td><td>auto(l4)         </td><td>f                </td><td>16               </td><td>23               </td><td>r                </td><td>compact          </td><td>19.5             </td></tr>\n",
       "\t<tr><td>volkswagen       </td><td>jetta            </td><td>2.8              </td><td>1999             </td><td>6                </td><td>manual(m5)       </td><td>f                </td><td>17               </td><td>24               </td><td>r                </td><td>compact          </td><td>20.5             </td></tr>\n",
       "\t<tr><td>volkswagen       </td><td>new beetle       </td><td>1.9              </td><td>1999             </td><td>4                </td><td>manual(m5)       </td><td>f                </td><td>35               </td><td>44               </td><td>d                </td><td>subcompact       </td><td>39.5             </td></tr>\n",
       "\t<tr><td>volkswagen       </td><td>new beetle       </td><td>1.9              </td><td>1999             </td><td>4                </td><td>auto(l4)         </td><td>f                </td><td>29               </td><td>41               </td><td>d                </td><td>subcompact       </td><td>35.0             </td></tr>\n",
       "\t<tr><td>volkswagen       </td><td>new beetle       </td><td>2.0              </td><td>1999             </td><td>4                </td><td>manual(m5)       </td><td>f                </td><td>21               </td><td>29               </td><td>r                </td><td>subcompact       </td><td>25.0             </td></tr>\n",
       "\t<tr><td>volkswagen       </td><td>new beetle       </td><td>2.0              </td><td>1999             </td><td>4                </td><td>auto(l4)         </td><td>f                </td><td>19               </td><td>26               </td><td>r                </td><td>subcompact       </td><td>22.5             </td></tr>\n",
       "\t<tr><td>volkswagen       </td><td>new beetle       </td><td>2.5              </td><td>2008             </td><td>5                </td><td>manual(m5)       </td><td>f                </td><td>20               </td><td>28               </td><td>r                </td><td>subcompact       </td><td>24.0             </td></tr>\n",
       "\t<tr><td>volkswagen       </td><td>new beetle       </td><td>2.5              </td><td>2008             </td><td>5                </td><td>auto(s6)         </td><td>f                </td><td>20               </td><td>29               </td><td>r                </td><td>subcompact       </td><td>24.5             </td></tr>\n",
       "\t<tr><td>volkswagen       </td><td>passat           </td><td>1.8              </td><td>1999             </td><td>4                </td><td>manual(m5)       </td><td>f                </td><td>21               </td><td>29               </td><td>p                </td><td>midsize          </td><td>25.0             </td></tr>\n",
       "\t<tr><td>volkswagen       </td><td>passat           </td><td>1.8              </td><td>1999             </td><td>4                </td><td>auto(l5)         </td><td>f                </td><td>18               </td><td>29               </td><td>p                </td><td>midsize          </td><td>23.5             </td></tr>\n",
       "\t<tr><td>volkswagen       </td><td>passat           </td><td>2.0              </td><td>2008             </td><td>4                </td><td>auto(s6)         </td><td>f                </td><td>19               </td><td>28               </td><td>p                </td><td>midsize          </td><td>23.5             </td></tr>\n",
       "\t<tr><td>volkswagen       </td><td>passat           </td><td>2.0              </td><td>2008             </td><td>4                </td><td>manual(m6)       </td><td>f                </td><td>21               </td><td>29               </td><td>p                </td><td>midsize          </td><td>25.0             </td></tr>\n",
       "\t<tr><td>volkswagen       </td><td>passat           </td><td>2.8              </td><td>1999             </td><td>6                </td><td>auto(l5)         </td><td>f                </td><td>16               </td><td>26               </td><td>p                </td><td>midsize          </td><td>21.0             </td></tr>\n",
       "\t<tr><td>volkswagen       </td><td>passat           </td><td>2.8              </td><td>1999             </td><td>6                </td><td>manual(m5)       </td><td>f                </td><td>18               </td><td>26               </td><td>p                </td><td>midsize          </td><td>22.0             </td></tr>\n",
       "\t<tr><td>volkswagen       </td><td>passat           </td><td>3.6              </td><td>2008             </td><td>6                </td><td>auto(s6)         </td><td>f                </td><td>17               </td><td>26               </td><td>p                </td><td>midsize          </td><td>21.5             </td></tr>\n",
       "</tbody>\n",
       "</table>\n"
      ],
      "text/latex": [
       "\\begin{tabular}{r|llllllllllll}\n",
       " manufacturer & model & displ & year & cyl & trans & drv & cty & hwy & fl & class & total\\\\\n",
       "\\hline\n",
       "\t audi               & a4                 & 1.8                & 1999               & 4                  & auto(l5)           & f                  & 18                 & 29                 & p                  & compact            & 23.5              \\\\\n",
       "\t audi               & a4                 & 1.8                & 1999               & 4                  & manual(m5)         & f                  & 21                 & 29                 & p                  & compact            & 25.0              \\\\\n",
       "\t audi               & a4                 & 2.0                & 2008               & 4                  & manual(m6)         & f                  & 20                 & 31                 & p                  & compact            & 25.5              \\\\\n",
       "\t audi               & a4                 & 2.0                & 2008               & 4                  & auto(av)           & f                  & 21                 & 30                 & p                  & compact            & 25.5              \\\\\n",
       "\t audi               & a4                 & 2.8                & 1999               & 6                  & auto(l5)           & f                  & 16                 & 26                 & p                  & compact            & 21.0              \\\\\n",
       "\t audi               & a4                 & 2.8                & 1999               & 6                  & manual(m5)         & f                  & 18                 & 26                 & p                  & compact            & 22.0              \\\\\n",
       "\t audi               & a4                 & 3.1                & 2008               & 6                  & auto(av)           & f                  & 18                 & 27                 & p                  & compact            & 22.5              \\\\\n",
       "\t audi               & a4 quattro         & 1.8                & 1999               & 4                  & manual(m5)         & 4                  & 18                 & 26                 & p                  & compact            & 22.0              \\\\\n",
       "\t audi               & a4 quattro         & 1.8                & 1999               & 4                  & auto(l5)           & 4                  & 16                 & 25                 & p                  & compact            & 20.5              \\\\\n",
       "\t audi               & a4 quattro         & 2.0                & 2008               & 4                  & manual(m6)         & 4                  & 20                 & 28                 & p                  & compact            & 24.0              \\\\\n",
       "\t audi               & a4 quattro         & 2.0                & 2008               & 4                  & auto(s6)           & 4                  & 19                 & 27                 & p                  & compact            & 23.0              \\\\\n",
       "\t audi               & a4 quattro         & 2.8                & 1999               & 6                  & auto(l5)           & 4                  & 15                 & 25                 & p                  & compact            & 20.0              \\\\\n",
       "\t audi               & a4 quattro         & 2.8                & 1999               & 6                  & manual(m5)         & 4                  & 17                 & 25                 & p                  & compact            & 21.0              \\\\\n",
       "\t audi               & a4 quattro         & 3.1                & 2008               & 6                  & auto(s6)           & 4                  & 17                 & 25                 & p                  & compact            & 21.0              \\\\\n",
       "\t audi               & a4 quattro         & 3.1                & 2008               & 6                  & manual(m6)         & 4                  & 15                 & 25                 & p                  & compact            & 20.0              \\\\\n",
       "\t audi               & a6 quattro         & 2.8                & 1999               & 6                  & auto(l5)           & 4                  & 15                 & 24                 & p                  & midsize            & 19.5              \\\\\n",
       "\t audi               & a6 quattro         & 3.1                & 2008               & 6                  & auto(s6)           & 4                  & 17                 & 25                 & p                  & midsize            & 21.0              \\\\\n",
       "\t audi               & a6 quattro         & 4.2                & 2008               & 8                  & auto(s6)           & 4                  & 16                 & 23                 & p                  & midsize            & 19.5              \\\\\n",
       "\t chevrolet          & c1500 suburban 2wd & 5.3                & 2008               & 8                  & auto(l4)           & r                  & 14                 & 20                 & r                  & suv                & 17.0              \\\\\n",
       "\t chevrolet          & c1500 suburban 2wd & 5.3                & 2008               & 8                  & auto(l4)           & r                  & 11                 & 15                 & e                  & suv                & 13.0              \\\\\n",
       "\t chevrolet          & c1500 suburban 2wd & 5.3                & 2008               & 8                  & auto(l4)           & r                  & 14                 & 20                 & r                  & suv                & 17.0              \\\\\n",
       "\t chevrolet          & c1500 suburban 2wd & 5.7                & 1999               & 8                  & auto(l4)           & r                  & 13                 & 17                 & r                  & suv                & 15.0              \\\\\n",
       "\t chevrolet          & c1500 suburban 2wd & 6.0                & 2008               & 8                  & auto(l4)           & r                  & 12                 & 17                 & r                  & suv                & 14.5              \\\\\n",
       "\t chevrolet          & corvette           & 5.7                & 1999               & 8                  & manual(m6)         & r                  & 16                 & 26                 & p                  & 2seater            & 21.0              \\\\\n",
       "\t chevrolet          & corvette           & 5.7                & 1999               & 8                  & auto(l4)           & r                  & 15                 & 23                 & p                  & 2seater            & 19.0              \\\\\n",
       "\t chevrolet          & corvette           & 6.2                & 2008               & 8                  & manual(m6)         & r                  & 16                 & 26                 & p                  & 2seater            & 21.0              \\\\\n",
       "\t chevrolet          & corvette           & 6.2                & 2008               & 8                  & auto(s6)           & r                  & 15                 & 25                 & p                  & 2seater            & 20.0              \\\\\n",
       "\t chevrolet          & corvette           & 7.0                & 2008               & 8                  & manual(m6)         & r                  & 15                 & 24                 & p                  & 2seater            & 19.5              \\\\\n",
       "\t chevrolet          & k1500 tahoe 4wd    & 5.3                & 2008               & 8                  & auto(l4)           & 4                  & 14                 & 19                 & r                  & suv                & 16.5              \\\\\n",
       "\t chevrolet          & k1500 tahoe 4wd    & 5.3                & 2008               & 8                  & auto(l4)           & 4                  & 11                 & 14                 & e                  & suv                & 12.5              \\\\\n",
       "\t ... & ... & ... & ... & ... & ... & ... & ... & ... & ... & ... & ...\\\\\n",
       "\t toyota            & toyota tacoma 4wd & 3.4               & 1999              & 6                 & auto(l4)          & 4                 & 15                & 19                & r                 & pickup            & 17.0             \\\\\n",
       "\t toyota            & toyota tacoma 4wd & 4.0               & 2008              & 6                 & manual(m6)        & 4                 & 15                & 18                & r                 & pickup            & 16.5             \\\\\n",
       "\t toyota            & toyota tacoma 4wd & 4.0               & 2008              & 6                 & auto(l5)          & 4                 & 16                & 20                & r                 & pickup            & 18.0             \\\\\n",
       "\t volkswagen        & gti               & 2.0               & 1999              & 4                 & manual(m5)        & f                 & 21                & 29                & r                 & compact           & 25.0             \\\\\n",
       "\t volkswagen        & gti               & 2.0               & 1999              & 4                 & auto(l4)          & f                 & 19                & 26                & r                 & compact           & 22.5             \\\\\n",
       "\t volkswagen        & gti               & 2.0               & 2008              & 4                 & manual(m6)        & f                 & 21                & 29                & p                 & compact           & 25.0             \\\\\n",
       "\t volkswagen        & gti               & 2.0               & 2008              & 4                 & auto(s6)          & f                 & 22                & 29                & p                 & compact           & 25.5             \\\\\n",
       "\t volkswagen        & gti               & 2.8               & 1999              & 6                 & manual(m5)        & f                 & 17                & 24                & r                 & compact           & 20.5             \\\\\n",
       "\t volkswagen        & jetta             & 1.9               & 1999              & 4                 & manual(m5)        & f                 & 33                & 44                & d                 & compact           & 38.5             \\\\\n",
       "\t volkswagen        & jetta             & 2.0               & 1999              & 4                 & manual(m5)        & f                 & 21                & 29                & r                 & compact           & 25.0             \\\\\n",
       "\t volkswagen        & jetta             & 2.0               & 1999              & 4                 & auto(l4)          & f                 & 19                & 26                & r                 & compact           & 22.5             \\\\\n",
       "\t volkswagen        & jetta             & 2.0               & 2008              & 4                 & auto(s6)          & f                 & 22                & 29                & p                 & compact           & 25.5             \\\\\n",
       "\t volkswagen        & jetta             & 2.0               & 2008              & 4                 & manual(m6)        & f                 & 21                & 29                & p                 & compact           & 25.0             \\\\\n",
       "\t volkswagen        & jetta             & 2.5               & 2008              & 5                 & auto(s6)          & f                 & 21                & 29                & r                 & compact           & 25.0             \\\\\n",
       "\t volkswagen        & jetta             & 2.5               & 2008              & 5                 & manual(m5)        & f                 & 21                & 29                & r                 & compact           & 25.0             \\\\\n",
       "\t volkswagen        & jetta             & 2.8               & 1999              & 6                 & auto(l4)          & f                 & 16                & 23                & r                 & compact           & 19.5             \\\\\n",
       "\t volkswagen        & jetta             & 2.8               & 1999              & 6                 & manual(m5)        & f                 & 17                & 24                & r                 & compact           & 20.5             \\\\\n",
       "\t volkswagen        & new beetle        & 1.9               & 1999              & 4                 & manual(m5)        & f                 & 35                & 44                & d                 & subcompact        & 39.5             \\\\\n",
       "\t volkswagen        & new beetle        & 1.9               & 1999              & 4                 & auto(l4)          & f                 & 29                & 41                & d                 & subcompact        & 35.0             \\\\\n",
       "\t volkswagen        & new beetle        & 2.0               & 1999              & 4                 & manual(m5)        & f                 & 21                & 29                & r                 & subcompact        & 25.0             \\\\\n",
       "\t volkswagen        & new beetle        & 2.0               & 1999              & 4                 & auto(l4)          & f                 & 19                & 26                & r                 & subcompact        & 22.5             \\\\\n",
       "\t volkswagen        & new beetle        & 2.5               & 2008              & 5                 & manual(m5)        & f                 & 20                & 28                & r                 & subcompact        & 24.0             \\\\\n",
       "\t volkswagen        & new beetle        & 2.5               & 2008              & 5                 & auto(s6)          & f                 & 20                & 29                & r                 & subcompact        & 24.5             \\\\\n",
       "\t volkswagen        & passat            & 1.8               & 1999              & 4                 & manual(m5)        & f                 & 21                & 29                & p                 & midsize           & 25.0             \\\\\n",
       "\t volkswagen        & passat            & 1.8               & 1999              & 4                 & auto(l5)          & f                 & 18                & 29                & p                 & midsize           & 23.5             \\\\\n",
       "\t volkswagen        & passat            & 2.0               & 2008              & 4                 & auto(s6)          & f                 & 19                & 28                & p                 & midsize           & 23.5             \\\\\n",
       "\t volkswagen        & passat            & 2.0               & 2008              & 4                 & manual(m6)        & f                 & 21                & 29                & p                 & midsize           & 25.0             \\\\\n",
       "\t volkswagen        & passat            & 2.8               & 1999              & 6                 & auto(l5)          & f                 & 16                & 26                & p                 & midsize           & 21.0             \\\\\n",
       "\t volkswagen        & passat            & 2.8               & 1999              & 6                 & manual(m5)        & f                 & 18                & 26                & p                 & midsize           & 22.0             \\\\\n",
       "\t volkswagen        & passat            & 3.6               & 2008              & 6                 & auto(s6)          & f                 & 17                & 26                & p                 & midsize           & 21.5             \\\\\n",
       "\\end{tabular}\n"
      ],
      "text/markdown": [
       "\n",
       "| manufacturer | model | displ | year | cyl | trans | drv | cty | hwy | fl | class | total |\n",
       "|---|---|---|---|---|---|---|---|---|---|---|---|\n",
       "| audi               | a4                 | 1.8                | 1999               | 4                  | auto(l5)           | f                  | 18                 | 29                 | p                  | compact            | 23.5               |\n",
       "| audi               | a4                 | 1.8                | 1999               | 4                  | manual(m5)         | f                  | 21                 | 29                 | p                  | compact            | 25.0               |\n",
       "| audi               | a4                 | 2.0                | 2008               | 4                  | manual(m6)         | f                  | 20                 | 31                 | p                  | compact            | 25.5               |\n",
       "| audi               | a4                 | 2.0                | 2008               | 4                  | auto(av)           | f                  | 21                 | 30                 | p                  | compact            | 25.5               |\n",
       "| audi               | a4                 | 2.8                | 1999               | 6                  | auto(l5)           | f                  | 16                 | 26                 | p                  | compact            | 21.0               |\n",
       "| audi               | a4                 | 2.8                | 1999               | 6                  | manual(m5)         | f                  | 18                 | 26                 | p                  | compact            | 22.0               |\n",
       "| audi               | a4                 | 3.1                | 2008               | 6                  | auto(av)           | f                  | 18                 | 27                 | p                  | compact            | 22.5               |\n",
       "| audi               | a4 quattro         | 1.8                | 1999               | 4                  | manual(m5)         | 4                  | 18                 | 26                 | p                  | compact            | 22.0               |\n",
       "| audi               | a4 quattro         | 1.8                | 1999               | 4                  | auto(l5)           | 4                  | 16                 | 25                 | p                  | compact            | 20.5               |\n",
       "| audi               | a4 quattro         | 2.0                | 2008               | 4                  | manual(m6)         | 4                  | 20                 | 28                 | p                  | compact            | 24.0               |\n",
       "| audi               | a4 quattro         | 2.0                | 2008               | 4                  | auto(s6)           | 4                  | 19                 | 27                 | p                  | compact            | 23.0               |\n",
       "| audi               | a4 quattro         | 2.8                | 1999               | 6                  | auto(l5)           | 4                  | 15                 | 25                 | p                  | compact            | 20.0               |\n",
       "| audi               | a4 quattro         | 2.8                | 1999               | 6                  | manual(m5)         | 4                  | 17                 | 25                 | p                  | compact            | 21.0               |\n",
       "| audi               | a4 quattro         | 3.1                | 2008               | 6                  | auto(s6)           | 4                  | 17                 | 25                 | p                  | compact            | 21.0               |\n",
       "| audi               | a4 quattro         | 3.1                | 2008               | 6                  | manual(m6)         | 4                  | 15                 | 25                 | p                  | compact            | 20.0               |\n",
       "| audi               | a6 quattro         | 2.8                | 1999               | 6                  | auto(l5)           | 4                  | 15                 | 24                 | p                  | midsize            | 19.5               |\n",
       "| audi               | a6 quattro         | 3.1                | 2008               | 6                  | auto(s6)           | 4                  | 17                 | 25                 | p                  | midsize            | 21.0               |\n",
       "| audi               | a6 quattro         | 4.2                | 2008               | 8                  | auto(s6)           | 4                  | 16                 | 23                 | p                  | midsize            | 19.5               |\n",
       "| chevrolet          | c1500 suburban 2wd | 5.3                | 2008               | 8                  | auto(l4)           | r                  | 14                 | 20                 | r                  | suv                | 17.0               |\n",
       "| chevrolet          | c1500 suburban 2wd | 5.3                | 2008               | 8                  | auto(l4)           | r                  | 11                 | 15                 | e                  | suv                | 13.0               |\n",
       "| chevrolet          | c1500 suburban 2wd | 5.3                | 2008               | 8                  | auto(l4)           | r                  | 14                 | 20                 | r                  | suv                | 17.0               |\n",
       "| chevrolet          | c1500 suburban 2wd | 5.7                | 1999               | 8                  | auto(l4)           | r                  | 13                 | 17                 | r                  | suv                | 15.0               |\n",
       "| chevrolet          | c1500 suburban 2wd | 6.0                | 2008               | 8                  | auto(l4)           | r                  | 12                 | 17                 | r                  | suv                | 14.5               |\n",
       "| chevrolet          | corvette           | 5.7                | 1999               | 8                  | manual(m6)         | r                  | 16                 | 26                 | p                  | 2seater            | 21.0               |\n",
       "| chevrolet          | corvette           | 5.7                | 1999               | 8                  | auto(l4)           | r                  | 15                 | 23                 | p                  | 2seater            | 19.0               |\n",
       "| chevrolet          | corvette           | 6.2                | 2008               | 8                  | manual(m6)         | r                  | 16                 | 26                 | p                  | 2seater            | 21.0               |\n",
       "| chevrolet          | corvette           | 6.2                | 2008               | 8                  | auto(s6)           | r                  | 15                 | 25                 | p                  | 2seater            | 20.0               |\n",
       "| chevrolet          | corvette           | 7.0                | 2008               | 8                  | manual(m6)         | r                  | 15                 | 24                 | p                  | 2seater            | 19.5               |\n",
       "| chevrolet          | k1500 tahoe 4wd    | 5.3                | 2008               | 8                  | auto(l4)           | 4                  | 14                 | 19                 | r                  | suv                | 16.5               |\n",
       "| chevrolet          | k1500 tahoe 4wd    | 5.3                | 2008               | 8                  | auto(l4)           | 4                  | 11                 | 14                 | e                  | suv                | 12.5               |\n",
       "| ... | ... | ... | ... | ... | ... | ... | ... | ... | ... | ... | ... |\n",
       "| toyota            | toyota tacoma 4wd | 3.4               | 1999              | 6                 | auto(l4)          | 4                 | 15                | 19                | r                 | pickup            | 17.0              |\n",
       "| toyota            | toyota tacoma 4wd | 4.0               | 2008              | 6                 | manual(m6)        | 4                 | 15                | 18                | r                 | pickup            | 16.5              |\n",
       "| toyota            | toyota tacoma 4wd | 4.0               | 2008              | 6                 | auto(l5)          | 4                 | 16                | 20                | r                 | pickup            | 18.0              |\n",
       "| volkswagen        | gti               | 2.0               | 1999              | 4                 | manual(m5)        | f                 | 21                | 29                | r                 | compact           | 25.0              |\n",
       "| volkswagen        | gti               | 2.0               | 1999              | 4                 | auto(l4)          | f                 | 19                | 26                | r                 | compact           | 22.5              |\n",
       "| volkswagen        | gti               | 2.0               | 2008              | 4                 | manual(m6)        | f                 | 21                | 29                | p                 | compact           | 25.0              |\n",
       "| volkswagen        | gti               | 2.0               | 2008              | 4                 | auto(s6)          | f                 | 22                | 29                | p                 | compact           | 25.5              |\n",
       "| volkswagen        | gti               | 2.8               | 1999              | 6                 | manual(m5)        | f                 | 17                | 24                | r                 | compact           | 20.5              |\n",
       "| volkswagen        | jetta             | 1.9               | 1999              | 4                 | manual(m5)        | f                 | 33                | 44                | d                 | compact           | 38.5              |\n",
       "| volkswagen        | jetta             | 2.0               | 1999              | 4                 | manual(m5)        | f                 | 21                | 29                | r                 | compact           | 25.0              |\n",
       "| volkswagen        | jetta             | 2.0               | 1999              | 4                 | auto(l4)          | f                 | 19                | 26                | r                 | compact           | 22.5              |\n",
       "| volkswagen        | jetta             | 2.0               | 2008              | 4                 | auto(s6)          | f                 | 22                | 29                | p                 | compact           | 25.5              |\n",
       "| volkswagen        | jetta             | 2.0               | 2008              | 4                 | manual(m6)        | f                 | 21                | 29                | p                 | compact           | 25.0              |\n",
       "| volkswagen        | jetta             | 2.5               | 2008              | 5                 | auto(s6)          | f                 | 21                | 29                | r                 | compact           | 25.0              |\n",
       "| volkswagen        | jetta             | 2.5               | 2008              | 5                 | manual(m5)        | f                 | 21                | 29                | r                 | compact           | 25.0              |\n",
       "| volkswagen        | jetta             | 2.8               | 1999              | 6                 | auto(l4)          | f                 | 16                | 23                | r                 | compact           | 19.5              |\n",
       "| volkswagen        | jetta             | 2.8               | 1999              | 6                 | manual(m5)        | f                 | 17                | 24                | r                 | compact           | 20.5              |\n",
       "| volkswagen        | new beetle        | 1.9               | 1999              | 4                 | manual(m5)        | f                 | 35                | 44                | d                 | subcompact        | 39.5              |\n",
       "| volkswagen        | new beetle        | 1.9               | 1999              | 4                 | auto(l4)          | f                 | 29                | 41                | d                 | subcompact        | 35.0              |\n",
       "| volkswagen        | new beetle        | 2.0               | 1999              | 4                 | manual(m5)        | f                 | 21                | 29                | r                 | subcompact        | 25.0              |\n",
       "| volkswagen        | new beetle        | 2.0               | 1999              | 4                 | auto(l4)          | f                 | 19                | 26                | r                 | subcompact        | 22.5              |\n",
       "| volkswagen        | new beetle        | 2.5               | 2008              | 5                 | manual(m5)        | f                 | 20                | 28                | r                 | subcompact        | 24.0              |\n",
       "| volkswagen        | new beetle        | 2.5               | 2008              | 5                 | auto(s6)          | f                 | 20                | 29                | r                 | subcompact        | 24.5              |\n",
       "| volkswagen        | passat            | 1.8               | 1999              | 4                 | manual(m5)        | f                 | 21                | 29                | p                 | midsize           | 25.0              |\n",
       "| volkswagen        | passat            | 1.8               | 1999              | 4                 | auto(l5)          | f                 | 18                | 29                | p                 | midsize           | 23.5              |\n",
       "| volkswagen        | passat            | 2.0               | 2008              | 4                 | auto(s6)          | f                 | 19                | 28                | p                 | midsize           | 23.5              |\n",
       "| volkswagen        | passat            | 2.0               | 2008              | 4                 | manual(m6)        | f                 | 21                | 29                | p                 | midsize           | 25.0              |\n",
       "| volkswagen        | passat            | 2.8               | 1999              | 6                 | auto(l5)          | f                 | 16                | 26                | p                 | midsize           | 21.0              |\n",
       "| volkswagen        | passat            | 2.8               | 1999              | 6                 | manual(m5)        | f                 | 18                | 26                | p                 | midsize           | 22.0              |\n",
       "| volkswagen        | passat            | 3.6               | 2008              | 6                 | auto(s6)          | f                 | 17                | 26                | p                 | midsize           | 21.5              |\n",
       "\n"
      ],
      "text/plain": [
       "    manufacturer model              displ year cyl trans      drv cty hwy fl \n",
       "1   audi         a4                 1.8   1999 4   auto(l5)   f   18  29  p  \n",
       "2   audi         a4                 1.8   1999 4   manual(m5) f   21  29  p  \n",
       "3   audi         a4                 2.0   2008 4   manual(m6) f   20  31  p  \n",
       "4   audi         a4                 2.0   2008 4   auto(av)   f   21  30  p  \n",
       "5   audi         a4                 2.8   1999 6   auto(l5)   f   16  26  p  \n",
       "6   audi         a4                 2.8   1999 6   manual(m5) f   18  26  p  \n",
       "7   audi         a4                 3.1   2008 6   auto(av)   f   18  27  p  \n",
       "8   audi         a4 quattro         1.8   1999 4   manual(m5) 4   18  26  p  \n",
       "9   audi         a4 quattro         1.8   1999 4   auto(l5)   4   16  25  p  \n",
       "10  audi         a4 quattro         2.0   2008 4   manual(m6) 4   20  28  p  \n",
       "11  audi         a4 quattro         2.0   2008 4   auto(s6)   4   19  27  p  \n",
       "12  audi         a4 quattro         2.8   1999 6   auto(l5)   4   15  25  p  \n",
       "13  audi         a4 quattro         2.8   1999 6   manual(m5) 4   17  25  p  \n",
       "14  audi         a4 quattro         3.1   2008 6   auto(s6)   4   17  25  p  \n",
       "15  audi         a4 quattro         3.1   2008 6   manual(m6) 4   15  25  p  \n",
       "16  audi         a6 quattro         2.8   1999 6   auto(l5)   4   15  24  p  \n",
       "17  audi         a6 quattro         3.1   2008 6   auto(s6)   4   17  25  p  \n",
       "18  audi         a6 quattro         4.2   2008 8   auto(s6)   4   16  23  p  \n",
       "19  chevrolet    c1500 suburban 2wd 5.3   2008 8   auto(l4)   r   14  20  r  \n",
       "20  chevrolet    c1500 suburban 2wd 5.3   2008 8   auto(l4)   r   11  15  e  \n",
       "21  chevrolet    c1500 suburban 2wd 5.3   2008 8   auto(l4)   r   14  20  r  \n",
       "22  chevrolet    c1500 suburban 2wd 5.7   1999 8   auto(l4)   r   13  17  r  \n",
       "23  chevrolet    c1500 suburban 2wd 6.0   2008 8   auto(l4)   r   12  17  r  \n",
       "24  chevrolet    corvette           5.7   1999 8   manual(m6) r   16  26  p  \n",
       "25  chevrolet    corvette           5.7   1999 8   auto(l4)   r   15  23  p  \n",
       "26  chevrolet    corvette           6.2   2008 8   manual(m6) r   16  26  p  \n",
       "27  chevrolet    corvette           6.2   2008 8   auto(s6)   r   15  25  p  \n",
       "28  chevrolet    corvette           7.0   2008 8   manual(m6) r   15  24  p  \n",
       "29  chevrolet    k1500 tahoe 4wd    5.3   2008 8   auto(l4)   4   14  19  r  \n",
       "30  chevrolet    k1500 tahoe 4wd    5.3   2008 8   auto(l4)   4   11  14  e  \n",
       "... ...          ...                ...   ...  ... ...        ... ... ... ...\n",
       "205 toyota       toyota tacoma 4wd  3.4   1999 6   auto(l4)   4   15  19  r  \n",
       "206 toyota       toyota tacoma 4wd  4.0   2008 6   manual(m6) 4   15  18  r  \n",
       "207 toyota       toyota tacoma 4wd  4.0   2008 6   auto(l5)   4   16  20  r  \n",
       "208 volkswagen   gti                2.0   1999 4   manual(m5) f   21  29  r  \n",
       "209 volkswagen   gti                2.0   1999 4   auto(l4)   f   19  26  r  \n",
       "210 volkswagen   gti                2.0   2008 4   manual(m6) f   21  29  p  \n",
       "211 volkswagen   gti                2.0   2008 4   auto(s6)   f   22  29  p  \n",
       "212 volkswagen   gti                2.8   1999 6   manual(m5) f   17  24  r  \n",
       "213 volkswagen   jetta              1.9   1999 4   manual(m5) f   33  44  d  \n",
       "214 volkswagen   jetta              2.0   1999 4   manual(m5) f   21  29  r  \n",
       "215 volkswagen   jetta              2.0   1999 4   auto(l4)   f   19  26  r  \n",
       "216 volkswagen   jetta              2.0   2008 4   auto(s6)   f   22  29  p  \n",
       "217 volkswagen   jetta              2.0   2008 4   manual(m6) f   21  29  p  \n",
       "218 volkswagen   jetta              2.5   2008 5   auto(s6)   f   21  29  r  \n",
       "219 volkswagen   jetta              2.5   2008 5   manual(m5) f   21  29  r  \n",
       "220 volkswagen   jetta              2.8   1999 6   auto(l4)   f   16  23  r  \n",
       "221 volkswagen   jetta              2.8   1999 6   manual(m5) f   17  24  r  \n",
       "222 volkswagen   new beetle         1.9   1999 4   manual(m5) f   35  44  d  \n",
       "223 volkswagen   new beetle         1.9   1999 4   auto(l4)   f   29  41  d  \n",
       "224 volkswagen   new beetle         2.0   1999 4   manual(m5) f   21  29  r  \n",
       "225 volkswagen   new beetle         2.0   1999 4   auto(l4)   f   19  26  r  \n",
       "226 volkswagen   new beetle         2.5   2008 5   manual(m5) f   20  28  r  \n",
       "227 volkswagen   new beetle         2.5   2008 5   auto(s6)   f   20  29  r  \n",
       "228 volkswagen   passat             1.8   1999 4   manual(m5) f   21  29  p  \n",
       "229 volkswagen   passat             1.8   1999 4   auto(l5)   f   18  29  p  \n",
       "230 volkswagen   passat             2.0   2008 4   auto(s6)   f   19  28  p  \n",
       "231 volkswagen   passat             2.0   2008 4   manual(m6) f   21  29  p  \n",
       "232 volkswagen   passat             2.8   1999 6   auto(l5)   f   16  26  p  \n",
       "233 volkswagen   passat             2.8   1999 6   manual(m5) f   18  26  p  \n",
       "234 volkswagen   passat             3.6   2008 6   auto(s6)   f   17  26  p  \n",
       "    class      total\n",
       "1   compact    23.5 \n",
       "2   compact    25.0 \n",
       "3   compact    25.5 \n",
       "4   compact    25.5 \n",
       "5   compact    21.0 \n",
       "6   compact    22.0 \n",
       "7   compact    22.5 \n",
       "8   compact    22.0 \n",
       "9   compact    20.5 \n",
       "10  compact    24.0 \n",
       "11  compact    23.0 \n",
       "12  compact    20.0 \n",
       "13  compact    21.0 \n",
       "14  compact    21.0 \n",
       "15  compact    20.0 \n",
       "16  midsize    19.5 \n",
       "17  midsize    21.0 \n",
       "18  midsize    19.5 \n",
       "19  suv        17.0 \n",
       "20  suv        13.0 \n",
       "21  suv        17.0 \n",
       "22  suv        15.0 \n",
       "23  suv        14.5 \n",
       "24  2seater    21.0 \n",
       "25  2seater    19.0 \n",
       "26  2seater    21.0 \n",
       "27  2seater    20.0 \n",
       "28  2seater    19.5 \n",
       "29  suv        16.5 \n",
       "30  suv        12.5 \n",
       "... ...        ...  \n",
       "205 pickup     17.0 \n",
       "206 pickup     16.5 \n",
       "207 pickup     18.0 \n",
       "208 compact    25.0 \n",
       "209 compact    22.5 \n",
       "210 compact    25.0 \n",
       "211 compact    25.5 \n",
       "212 compact    20.5 \n",
       "213 compact    38.5 \n",
       "214 compact    25.0 \n",
       "215 compact    22.5 \n",
       "216 compact    25.5 \n",
       "217 compact    25.0 \n",
       "218 compact    25.0 \n",
       "219 compact    25.0 \n",
       "220 compact    19.5 \n",
       "221 compact    20.5 \n",
       "222 subcompact 39.5 \n",
       "223 subcompact 35.0 \n",
       "224 subcompact 25.0 \n",
       "225 subcompact 22.5 \n",
       "226 subcompact 24.0 \n",
       "227 subcompact 24.5 \n",
       "228 midsize    25.0 \n",
       "229 midsize    23.5 \n",
       "230 midsize    23.5 \n",
       "231 midsize    25.0 \n",
       "232 midsize    21.0 \n",
       "233 midsize    22.0 \n",
       "234 midsize    21.5 "
      ]
     },
     "metadata": {},
     "output_type": "display_data"
    }
   ],
   "source": [
    "mpg"
   ]
  },
  {
   "cell_type": "code",
   "execution_count": 73,
   "metadata": {},
   "outputs": [
    {
     "data": {
      "text/plain": [
       "   Min. 1st Qu.  Median    Mean 3rd Qu.    Max. \n",
       "  10.50   15.50   20.50   20.15   23.50   39.50 "
      ]
     },
     "metadata": {},
     "output_type": "display_data"
    }
   ],
   "source": [
    "summary(mpg$total)"
   ]
  },
  {
   "cell_type": "code",
   "execution_count": 75,
   "metadata": {},
   "outputs": [
    {
     "data": {
      "image/png": "[encoded data removed]",
      "text/plain": [
       "plot without title"
      ]
     },
     "metadata": {},
     "output_type": "display_data"
    }
   ],
   "source": [
    "boxplot(mpg$total, horizontal = T)"
   ]
  },
  {
   "cell_type": "code",
   "execution_count": 76,
   "metadata": {},
   "outputs": [
    {
     "data": {
      "image/png": "[encoded data removed]",
      "text/plain": [
       "Plot with title \"Histogram of mpg$total\""
      ]
     },
     "metadata": {},
     "output_type": "display_data"
    }
   ],
   "source": [
    "hist(mpg$total)"
   ]
  },
  {
   "cell_type": "code",
   "execution_count": 77,
   "metadata": {},
   "outputs": [],
   "source": [
    "mpg$test = ifelse(mpg$total > 20, 'pass', 'fail')"
   ]
  },
  {
   "cell_type": "code",
   "execution_count": 78,
   "metadata": {},
   "outputs": [
    {
     "data": {
      "text/html": [
       "<table>\n",
       "<thead><tr><th scope=col>manufacturer</th><th scope=col>model</th><th scope=col>displ</th><th scope=col>year</th><th scope=col>cyl</th><th scope=col>trans</th><th scope=col>drv</th><th scope=col>cty</th><th scope=col>hwy</th><th scope=col>fl</th><th scope=col>class</th><th scope=col>total</th><th scope=col>test</th></tr></thead>\n",
       "<tbody>\n",
       "\t<tr><td>audi      </td><td>a4        </td><td>1.8       </td><td>1999      </td><td>4         </td><td>auto(l5)  </td><td>f         </td><td>18        </td><td>29        </td><td>p         </td><td>compact   </td><td>23.5      </td><td>pass      </td></tr>\n",
       "\t<tr><td>audi      </td><td>a4        </td><td>1.8       </td><td>1999      </td><td>4         </td><td>manual(m5)</td><td>f         </td><td>21        </td><td>29        </td><td>p         </td><td>compact   </td><td>25.0      </td><td>pass      </td></tr>\n",
       "\t<tr><td>audi      </td><td>a4        </td><td>2.0       </td><td>2008      </td><td>4         </td><td>manual(m6)</td><td>f         </td><td>20        </td><td>31        </td><td>p         </td><td>compact   </td><td>25.5      </td><td>pass      </td></tr>\n",
       "</tbody>\n",
       "</table>\n"
      ],
      "text/latex": [
       "\\begin{tabular}{r|lllllllllllll}\n",
       " manufacturer & model & displ & year & cyl & trans & drv & cty & hwy & fl & class & total & test\\\\\n",
       "\\hline\n",
       "\t audi       & a4         & 1.8        & 1999       & 4          & auto(l5)   & f          & 18         & 29         & p          & compact    & 23.5       & pass      \\\\\n",
       "\t audi       & a4         & 1.8        & 1999       & 4          & manual(m5) & f          & 21         & 29         & p          & compact    & 25.0       & pass      \\\\\n",
       "\t audi       & a4         & 2.0        & 2008       & 4          & manual(m6) & f          & 20         & 31         & p          & compact    & 25.5       & pass      \\\\\n",
       "\\end{tabular}\n"
      ],
      "text/markdown": [
       "\n",
       "| manufacturer | model | displ | year | cyl | trans | drv | cty | hwy | fl | class | total | test |\n",
       "|---|---|---|---|---|---|---|---|---|---|---|---|---|\n",
       "| audi       | a4         | 1.8        | 1999       | 4          | auto(l5)   | f          | 18         | 29         | p          | compact    | 23.5       | pass       |\n",
       "| audi       | a4         | 1.8        | 1999       | 4          | manual(m5) | f          | 21         | 29         | p          | compact    | 25.0       | pass       |\n",
       "| audi       | a4         | 2.0        | 2008       | 4          | manual(m6) | f          | 20         | 31         | p          | compact    | 25.5       | pass       |\n",
       "\n"
      ],
      "text/plain": [
       "  manufacturer model displ year cyl trans      drv cty hwy fl class   total\n",
       "1 audi         a4    1.8   1999 4   auto(l5)   f   18  29  p  compact 23.5 \n",
       "2 audi         a4    1.8   1999 4   manual(m5) f   21  29  p  compact 25.0 \n",
       "3 audi         a4    2.0   2008 4   manual(m6) f   20  31  p  compact 25.5 \n",
       "  test\n",
       "1 pass\n",
       "2 pass\n",
       "3 pass"
      ]
     },
     "metadata": {},
     "output_type": "display_data"
    }
   ],
   "source": [
    "head(mpg, 3)"
   ]
  },
  {
   "cell_type": "code",
   "execution_count": 79,
   "metadata": {},
   "outputs": [
    {
     "data": {
      "text/plain": [
       "\n",
       "fail pass \n",
       " 111  123 "
      ]
     },
     "metadata": {},
     "output_type": "display_data"
    }
   ],
   "source": [
    "table(mpg$test)"
   ]
  },
  {
   "cell_type": "code",
   "execution_count": 89,
   "metadata": {},
   "outputs": [],
   "source": [
    "midwest = as.data.frame(ggplot2::midwest)"
   ]
  },
  {
   "cell_type": "code",
   "execution_count": 90,
   "metadata": {},
   "outputs": [
    {
     "data": {
      "text/html": [
       "<table>\n",
       "<thead><tr><th scope=col>PID</th><th scope=col>county</th><th scope=col>state</th><th scope=col>area</th><th scope=col>poptotal</th><th scope=col>popdensity</th><th scope=col>popwhite</th><th scope=col>popblack</th><th scope=col>popamerindian</th><th scope=col>popasian</th><th scope=col>...</th><th scope=col>percollege</th><th scope=col>percprof</th><th scope=col>poppovertyknown</th><th scope=col>percpovertyknown</th><th scope=col>percbelowpoverty</th><th scope=col>percchildbelowpovert</th><th scope=col>percadultpoverty</th><th scope=col>percelderlypoverty</th><th scope=col>inmetro</th><th scope=col>category</th></tr></thead>\n",
       "<tbody>\n",
       "\t<tr><td>561      </td><td>ADAMS    </td><td>IL       </td><td>0.052    </td><td>66090    </td><td>1270.9615</td><td>63917    </td><td>1702     </td><td>98       </td><td>249      </td><td>...      </td><td>19.63139 </td><td>4.355859 </td><td>63628    </td><td>96.27478 </td><td>13.151443</td><td>18.01172 </td><td>11.009776</td><td>12.443812</td><td>0        </td><td>AAR      </td></tr>\n",
       "\t<tr><td>562      </td><td>ALEXANDER</td><td>IL       </td><td>0.014    </td><td>10626    </td><td> 759.0000</td><td> 7054    </td><td>3496     </td><td>19       </td><td> 48      </td><td>...      </td><td>11.24331 </td><td>2.870315 </td><td>10529    </td><td>99.08714 </td><td>32.244278</td><td>45.82651 </td><td>27.385647</td><td>25.228976</td><td>0        </td><td>LHR      </td></tr>\n",
       "\t<tr><td>563      </td><td>BOND     </td><td>IL       </td><td>0.022    </td><td>14991    </td><td> 681.4091</td><td>14477    </td><td> 429     </td><td>35       </td><td> 16      </td><td>...      </td><td>17.03382 </td><td>4.488572 </td><td>14235    </td><td>94.95697 </td><td>12.068844</td><td>14.03606 </td><td>10.852090</td><td>12.697410</td><td>0        </td><td>AAR      </td></tr>\n",
       "\t<tr><td>564      </td><td>BOONE    </td><td>IL       </td><td>0.017    </td><td>30806    </td><td>1812.1176</td><td>29344    </td><td> 127     </td><td>46       </td><td>150      </td><td>...      </td><td>17.27895 </td><td>4.197800 </td><td>30337    </td><td>98.47757 </td><td> 7.209019</td><td>11.17954 </td><td> 5.536013</td><td> 6.217047</td><td>1        </td><td>ALU      </td></tr>\n",
       "\t<tr><td>565      </td><td>BROWN    </td><td>IL       </td><td>0.018    </td><td> 5836    </td><td> 324.2222</td><td> 5264    </td><td> 547     </td><td>14       </td><td>  5      </td><td>...      </td><td>14.47600 </td><td>3.367680 </td><td> 4815    </td><td>82.50514 </td><td>13.520249</td><td>13.02289 </td><td>11.143211</td><td>19.200000</td><td>0        </td><td>AAR      </td></tr>\n",
       "\t<tr><td>566      </td><td>BUREAU   </td><td>IL       </td><td>0.050    </td><td>35688    </td><td> 713.7600</td><td>35157    </td><td>  50     </td><td>65       </td><td>195      </td><td>...      </td><td>18.90462 </td><td>3.275891 </td><td>35107    </td><td>98.37200 </td><td>10.399635</td><td>14.15882 </td><td> 8.179287</td><td>11.008586</td><td>0        </td><td>AAR      </td></tr>\n",
       "</tbody>\n",
       "</table>\n"
      ],
      "text/latex": [
       "\\begin{tabular}{r|llllllllllllllllllllllllllll}\n",
       " PID & county & state & area & poptotal & popdensity & popwhite & popblack & popamerindian & popasian & ... & percollege & percprof & poppovertyknown & percpovertyknown & percbelowpoverty & percchildbelowpovert & percadultpoverty & percelderlypoverty & inmetro & category\\\\\n",
       "\\hline\n",
       "\t 561       & ADAMS     & IL        & 0.052     & 66090     & 1270.9615 & 63917     & 1702      & 98        & 249       & ...       & 19.63139  & 4.355859  & 63628     & 96.27478  & 13.151443 & 18.01172  & 11.009776 & 12.443812 & 0         & AAR      \\\\\n",
       "\t 562       & ALEXANDER & IL        & 0.014     & 10626     &  759.0000 &  7054     & 3496      & 19        &  48       & ...       & 11.24331  & 2.870315  & 10529     & 99.08714  & 32.244278 & 45.82651  & 27.385647 & 25.228976 & 0         & LHR      \\\\\n",
       "\t 563       & BOND      & IL        & 0.022     & 14991     &  681.4091 & 14477     &  429      & 35        &  16       & ...       & 17.03382  & 4.488572  & 14235     & 94.95697  & 12.068844 & 14.03606  & 10.852090 & 12.697410 & 0         & AAR      \\\\\n",
       "\t 564       & BOONE     & IL        & 0.017     & 30806     & 1812.1176 & 29344     &  127      & 46        & 150       & ...       & 17.27895  & 4.197800  & 30337     & 98.47757  &  7.209019 & 11.17954  &  5.536013 &  6.217047 & 1         & ALU      \\\\\n",
       "\t 565       & BROWN     & IL        & 0.018     &  5836     &  324.2222 &  5264     &  547      & 14        &   5       & ...       & 14.47600  & 3.367680  &  4815     & 82.50514  & 13.520249 & 13.02289  & 11.143211 & 19.200000 & 0         & AAR      \\\\\n",
       "\t 566       & BUREAU    & IL        & 0.050     & 35688     &  713.7600 & 35157     &   50      & 65        & 195       & ...       & 18.90462  & 3.275891  & 35107     & 98.37200  & 10.399635 & 14.15882  &  8.179287 & 11.008586 & 0         & AAR      \\\\\n",
       "\\end{tabular}\n"
      ],
      "text/markdown": [
       "\n",
       "| PID | county | state | area | poptotal | popdensity | popwhite | popblack | popamerindian | popasian | ... | percollege | percprof | poppovertyknown | percpovertyknown | percbelowpoverty | percchildbelowpovert | percadultpoverty | percelderlypoverty | inmetro | category |\n",
       "|---|---|---|---|---|---|---|---|---|---|---|---|---|---|---|---|---|---|---|---|---|\n",
       "| 561       | ADAMS     | IL        | 0.052     | 66090     | 1270.9615 | 63917     | 1702      | 98        | 249       | ...       | 19.63139  | 4.355859  | 63628     | 96.27478  | 13.151443 | 18.01172  | 11.009776 | 12.443812 | 0         | AAR       |\n",
       "| 562       | ALEXANDER | IL        | 0.014     | 10626     |  759.0000 |  7054     | 3496      | 19        |  48       | ...       | 11.24331  | 2.870315  | 10529     | 99.08714  | 32.244278 | 45.82651  | 27.385647 | 25.228976 | 0         | LHR       |\n",
       "| 563       | BOND      | IL        | 0.022     | 14991     |  681.4091 | 14477     |  429      | 35        |  16       | ...       | 17.03382  | 4.488572  | 14235     | 94.95697  | 12.068844 | 14.03606  | 10.852090 | 12.697410 | 0         | AAR       |\n",
       "| 564       | BOONE     | IL        | 0.017     | 30806     | 1812.1176 | 29344     |  127      | 46        | 150       | ...       | 17.27895  | 4.197800  | 30337     | 98.47757  |  7.209019 | 11.17954  |  5.536013 |  6.217047 | 1         | ALU       |\n",
       "| 565       | BROWN     | IL        | 0.018     |  5836     |  324.2222 |  5264     |  547      | 14        |   5       | ...       | 14.47600  | 3.367680  |  4815     | 82.50514  | 13.520249 | 13.02289  | 11.143211 | 19.200000 | 0         | AAR       |\n",
       "| 566       | BUREAU    | IL        | 0.050     | 35688     |  713.7600 | 35157     |   50      | 65        | 195       | ...       | 18.90462  | 3.275891  | 35107     | 98.37200  | 10.399635 | 14.15882  |  8.179287 | 11.008586 | 0         | AAR       |\n",
       "\n"
      ],
      "text/plain": [
       "  PID county    state area  poptotal popdensity popwhite popblack popamerindian\n",
       "1 561 ADAMS     IL    0.052 66090    1270.9615  63917    1702     98           \n",
       "2 562 ALEXANDER IL    0.014 10626     759.0000   7054    3496     19           \n",
       "3 563 BOND      IL    0.022 14991     681.4091  14477     429     35           \n",
       "4 564 BOONE     IL    0.017 30806    1812.1176  29344     127     46           \n",
       "5 565 BROWN     IL    0.018  5836     324.2222   5264     547     14           \n",
       "6 566 BUREAU    IL    0.050 35688     713.7600  35157      50     65           \n",
       "  popasian ... percollege percprof poppovertyknown percpovertyknown\n",
       "1 249      ... 19.63139   4.355859 63628           96.27478        \n",
       "2  48      ... 11.24331   2.870315 10529           99.08714        \n",
       "3  16      ... 17.03382   4.488572 14235           94.95697        \n",
       "4 150      ... 17.27895   4.197800 30337           98.47757        \n",
       "5   5      ... 14.47600   3.367680  4815           82.50514        \n",
       "6 195      ... 18.90462   3.275891 35107           98.37200        \n",
       "  percbelowpoverty percchildbelowpovert percadultpoverty percelderlypoverty\n",
       "1 13.151443        18.01172             11.009776        12.443812         \n",
       "2 32.244278        45.82651             27.385647        25.228976         \n",
       "3 12.068844        14.03606             10.852090        12.697410         \n",
       "4  7.209019        11.17954              5.536013         6.217047         \n",
       "5 13.520249        13.02289             11.143211        19.200000         \n",
       "6 10.399635        14.15882              8.179287        11.008586         \n",
       "  inmetro category\n",
       "1 0       AAR     \n",
       "2 0       LHR     \n",
       "3 0       AAR     \n",
       "4 1       ALU     \n",
       "5 0       AAR     \n",
       "6 0       AAR     "
      ]
     },
     "metadata": {},
     "output_type": "display_data"
    }
   ],
   "source": [
    "head(midwest)"
   ]
  },
  {
   "cell_type": "code",
   "execution_count": 91,
   "metadata": {},
   "outputs": [
    {
     "data": {
      "text/html": [
       "<table>\n",
       "<thead><tr><th></th><th scope=col>PID</th><th scope=col>county</th><th scope=col>state</th><th scope=col>area</th><th scope=col>poptotal</th><th scope=col>popdensity</th><th scope=col>popwhite</th><th scope=col>popblack</th><th scope=col>popamerindian</th><th scope=col>popasian</th><th scope=col>...</th><th scope=col>percollege</th><th scope=col>percprof</th><th scope=col>poppovertyknown</th><th scope=col>percpovertyknown</th><th scope=col>percbelowpoverty</th><th scope=col>percchildbelowpovert</th><th scope=col>percadultpoverty</th><th scope=col>percelderlypoverty</th><th scope=col>inmetro</th><th scope=col>category</th></tr></thead>\n",
       "<tbody>\n",
       "\t<tr><th scope=row>432</th><td>3047      </td><td>WASHINGTON</td><td>WI        </td><td>0.025     </td><td> 95328    </td><td>3813.1200 </td><td> 94465    </td><td> 125      </td><td>208       </td><td> 337      </td><td>...       </td><td>23.39090  </td><td>4.014568  </td><td> 94143    </td><td>98.75692  </td><td> 3.237628 </td><td> 4.069854 </td><td> 2.584500 </td><td> 4.280889 </td><td>1         </td><td>HLU       </td></tr>\n",
       "\t<tr><th scope=row>433</th><td>3048      </td><td>WAUKESHA  </td><td>WI        </td><td>0.034     </td><td>304715    </td><td>8962.2059 </td><td>298313    </td><td>1096      </td><td>672       </td><td>2699      </td><td>...       </td><td>35.39678  </td><td>7.667090  </td><td>299802    </td><td>98.38767  </td><td> 3.121060 </td><td> 3.785820 </td><td> 2.590061 </td><td> 4.085479 </td><td>1         </td><td>HLU       </td></tr>\n",
       "\t<tr><th scope=row>434</th><td>3049      </td><td>WAUPACA   </td><td>WI        </td><td>0.045     </td><td> 46104    </td><td>1024.5333 </td><td> 45695    </td><td>  22      </td><td>125       </td><td>  92      </td><td>...       </td><td>16.54987  </td><td>3.138596  </td><td> 44412    </td><td>96.33004  </td><td> 8.488697 </td><td>10.071411 </td><td> 6.953799 </td><td>10.338641 </td><td>0         </td><td>AAR       </td></tr>\n",
       "\t<tr><th scope=row>435</th><td>3050      </td><td>WAUSHARA  </td><td>WI        </td><td>0.037     </td><td> 19385    </td><td> 523.9189 </td><td> 19094    </td><td>  29      </td><td> 70       </td><td>  43      </td><td>...       </td><td>15.06458  </td><td>2.620907  </td><td> 19163    </td><td>98.85478  </td><td>13.786985 </td><td>20.050708 </td><td>11.695784 </td><td>11.804558 </td><td>0         </td><td>AAR       </td></tr>\n",
       "\t<tr><th scope=row>436</th><td>3051      </td><td>WINNEBAGO </td><td>WI        </td><td>0.035     </td><td>140320    </td><td>4009.1429 </td><td>136822    </td><td> 697      </td><td>685       </td><td>1728      </td><td>...       </td><td>24.99550  </td><td>5.659847  </td><td>133950    </td><td>95.46038  </td><td> 8.804031 </td><td>10.592031 </td><td> 8.660587 </td><td> 6.661094 </td><td>1         </td><td>HAU       </td></tr>\n",
       "\t<tr><th scope=row>437</th><td>3052      </td><td>WOOD      </td><td>WI        </td><td>0.048     </td><td> 73605    </td><td>1533.4375 </td><td> 72157    </td><td>  90      </td><td>481       </td><td> 722      </td><td>...       </td><td>21.66638  </td><td>4.583725  </td><td> 72685    </td><td>98.75008  </td><td> 8.525831 </td><td>11.162997 </td><td> 7.375656 </td><td> 7.882918 </td><td>0         </td><td>AAR       </td></tr>\n",
       "</tbody>\n",
       "</table>\n"
      ],
      "text/latex": [
       "\\begin{tabular}{r|llllllllllllllllllllllllllll}\n",
       "  & PID & county & state & area & poptotal & popdensity & popwhite & popblack & popamerindian & popasian & ... & percollege & percprof & poppovertyknown & percpovertyknown & percbelowpoverty & percchildbelowpovert & percadultpoverty & percelderlypoverty & inmetro & category\\\\\n",
       "\\hline\n",
       "\t432 & 3047       & WASHINGTON & WI         & 0.025      &  95328     & 3813.1200  &  94465     &  125       & 208        &  337       & ...        & 23.39090   & 4.014568   &  94143     & 98.75692   &  3.237628  &  4.069854  &  2.584500  &  4.280889  & 1          & HLU       \\\\\n",
       "\t433 & 3048       & WAUKESHA   & WI         & 0.034      & 304715     & 8962.2059  & 298313     & 1096       & 672        & 2699       & ...        & 35.39678   & 7.667090   & 299802     & 98.38767   &  3.121060  &  3.785820  &  2.590061  &  4.085479  & 1          & HLU       \\\\\n",
       "\t434 & 3049       & WAUPACA    & WI         & 0.045      &  46104     & 1024.5333  &  45695     &   22       & 125        &   92       & ...        & 16.54987   & 3.138596   &  44412     & 96.33004   &  8.488697  & 10.071411  &  6.953799  & 10.338641  & 0          & AAR       \\\\\n",
       "\t435 & 3050       & WAUSHARA   & WI         & 0.037      &  19385     &  523.9189  &  19094     &   29       &  70        &   43       & ...        & 15.06458   & 2.620907   &  19163     & 98.85478   & 13.786985  & 20.050708  & 11.695784  & 11.804558  & 0          & AAR       \\\\\n",
       "\t436 & 3051       & WINNEBAGO  & WI         & 0.035      & 140320     & 4009.1429  & 136822     &  697       & 685        & 1728       & ...        & 24.99550   & 5.659847   & 133950     & 95.46038   &  8.804031  & 10.592031  &  8.660587  &  6.661094  & 1          & HAU       \\\\\n",
       "\t437 & 3052       & WOOD       & WI         & 0.048      &  73605     & 1533.4375  &  72157     &   90       & 481        &  722       & ...        & 21.66638   & 4.583725   &  72685     & 98.75008   &  8.525831  & 11.162997  &  7.375656  &  7.882918  & 0          & AAR       \\\\\n",
       "\\end{tabular}\n"
      ],
      "text/markdown": [
       "\n",
       "| <!--/--> | PID | county | state | area | poptotal | popdensity | popwhite | popblack | popamerindian | popasian | ... | percollege | percprof | poppovertyknown | percpovertyknown | percbelowpoverty | percchildbelowpovert | percadultpoverty | percelderlypoverty | inmetro | category |\n",
       "|---|---|---|---|---|---|---|---|---|---|---|---|---|---|---|---|---|---|---|---|---|---|\n",
       "| 432 | 3047       | WASHINGTON | WI         | 0.025      |  95328     | 3813.1200  |  94465     |  125       | 208        |  337       | ...        | 23.39090   | 4.014568   |  94143     | 98.75692   |  3.237628  |  4.069854  |  2.584500  |  4.280889  | 1          | HLU        |\n",
       "| 433 | 3048       | WAUKESHA   | WI         | 0.034      | 304715     | 8962.2059  | 298313     | 1096       | 672        | 2699       | ...        | 35.39678   | 7.667090   | 299802     | 98.38767   |  3.121060  |  3.785820  |  2.590061  |  4.085479  | 1          | HLU        |\n",
       "| 434 | 3049       | WAUPACA    | WI         | 0.045      |  46104     | 1024.5333  |  45695     |   22       | 125        |   92       | ...        | 16.54987   | 3.138596   |  44412     | 96.33004   |  8.488697  | 10.071411  |  6.953799  | 10.338641  | 0          | AAR        |\n",
       "| 435 | 3050       | WAUSHARA   | WI         | 0.037      |  19385     |  523.9189  |  19094     |   29       |  70        |   43       | ...        | 15.06458   | 2.620907   |  19163     | 98.85478   | 13.786985  | 20.050708  | 11.695784  | 11.804558  | 0          | AAR        |\n",
       "| 436 | 3051       | WINNEBAGO  | WI         | 0.035      | 140320     | 4009.1429  | 136822     |  697       | 685        | 1728       | ...        | 24.99550   | 5.659847   | 133950     | 95.46038   |  8.804031  | 10.592031  |  8.660587  |  6.661094  | 1          | HAU        |\n",
       "| 437 | 3052       | WOOD       | WI         | 0.048      |  73605     | 1533.4375  |  72157     |   90       | 481        |  722       | ...        | 21.66638   | 4.583725   |  72685     | 98.75008   |  8.525831  | 11.162997  |  7.375656  |  7.882918  | 0          | AAR        |\n",
       "\n"
      ],
      "text/plain": [
       "    PID  county     state area  poptotal popdensity popwhite popblack\n",
       "432 3047 WASHINGTON WI    0.025  95328   3813.1200   94465    125    \n",
       "433 3048 WAUKESHA   WI    0.034 304715   8962.2059  298313   1096    \n",
       "434 3049 WAUPACA    WI    0.045  46104   1024.5333   45695     22    \n",
       "435 3050 WAUSHARA   WI    0.037  19385    523.9189   19094     29    \n",
       "436 3051 WINNEBAGO  WI    0.035 140320   4009.1429  136822    697    \n",
       "437 3052 WOOD       WI    0.048  73605   1533.4375   72157     90    \n",
       "    popamerindian popasian ... percollege percprof poppovertyknown\n",
       "432 208            337     ... 23.39090   4.014568  94143         \n",
       "433 672           2699     ... 35.39678   7.667090 299802         \n",
       "434 125             92     ... 16.54987   3.138596  44412         \n",
       "435  70             43     ... 15.06458   2.620907  19163         \n",
       "436 685           1728     ... 24.99550   5.659847 133950         \n",
       "437 481            722     ... 21.66638   4.583725  72685         \n",
       "    percpovertyknown percbelowpoverty percchildbelowpovert percadultpoverty\n",
       "432 98.75692          3.237628         4.069854             2.584500       \n",
       "433 98.38767          3.121060         3.785820             2.590061       \n",
       "434 96.33004          8.488697        10.071411             6.953799       \n",
       "435 98.85478         13.786985        20.050708            11.695784       \n",
       "436 95.46038          8.804031        10.592031             8.660587       \n",
       "437 98.75008          8.525831        11.162997             7.375656       \n",
       "    percelderlypoverty inmetro category\n",
       "432  4.280889          1       HLU     \n",
       "433  4.085479          1       HLU     \n",
       "434 10.338641          0       AAR     \n",
       "435 11.804558          0       AAR     \n",
       "436  6.661094          1       HAU     \n",
       "437  7.882918          0       AAR     "
      ]
     },
     "metadata": {},
     "output_type": "display_data"
    }
   ],
   "source": [
    "tail(midwest)"
   ]
  },
  {
   "cell_type": "code",
   "execution_count": 92,
   "metadata": {},
   "outputs": [
    {
     "data": {
      "text/html": [
       "<ol class=list-inline>\n",
       "\t<li>437</li>\n",
       "\t<li>28</li>\n",
       "</ol>\n"
      ],
      "text/latex": [
       "\\begin{enumerate*}\n",
       "\\item 437\n",
       "\\item 28\n",
       "\\end{enumerate*}\n"
      ],
      "text/markdown": [
       "1. 437\n",
       "2. 28\n",
       "\n",
       "\n"
      ],
      "text/plain": [
       "[1] 437  28"
      ]
     },
     "metadata": {},
     "output_type": "display_data"
    }
   ],
   "source": [
    "dim(midwest)"
   ]
  },
  {
   "cell_type": "code",
   "execution_count": 93,
   "metadata": {},
   "outputs": [
    {
     "name": "stdout",
     "output_type": "stream",
     "text": [
      "'data.frame':\t437 obs. of  28 variables:\n",
      " $ PID                 : int  561 562 563 564 565 566 567 568 569 570 ...\n",
      " $ county              : chr  \"ADAMS\" \"ALEXANDER\" \"BOND\" \"BOONE\" ...\n",
      " $ state               : chr  \"IL\" \"IL\" \"IL\" \"IL\" ...\n",
      " $ area                : num  0.052 0.014 0.022 0.017 0.018 0.05 0.017 0.027 0.024 0.058 ...\n",
      " $ poptotal            : int  66090 10626 14991 30806 5836 35688 5322 16805 13437 173025 ...\n",
      " $ popdensity          : num  1271 759 681 1812 324 ...\n",
      " $ popwhite            : int  63917 7054 14477 29344 5264 35157 5298 16519 13384 146506 ...\n",
      " $ popblack            : int  1702 3496 429 127 547 50 1 111 16 16559 ...\n",
      " $ popamerindian       : int  98 19 35 46 14 65 8 30 8 331 ...\n",
      " $ popasian            : int  249 48 16 150 5 195 15 61 23 8033 ...\n",
      " $ popother            : int  124 9 34 1139 6 221 0 84 6 1596 ...\n",
      " $ percwhite           : num  96.7 66.4 96.6 95.3 90.2 ...\n",
      " $ percblack           : num  2.575 32.9 2.862 0.412 9.373 ...\n",
      " $ percamerindan       : num  0.148 0.179 0.233 0.149 0.24 ...\n",
      " $ percasian           : num  0.3768 0.4517 0.1067 0.4869 0.0857 ...\n",
      " $ percother           : num  0.1876 0.0847 0.2268 3.6973 0.1028 ...\n",
      " $ popadults           : int  43298 6724 9669 19272 3979 23444 3583 11323 8825 95971 ...\n",
      " $ perchsd             : num  75.1 59.7 69.3 75.5 68.9 ...\n",
      " $ percollege          : num  19.6 11.2 17 17.3 14.5 ...\n",
      " $ percprof            : num  4.36 2.87 4.49 4.2 3.37 ...\n",
      " $ poppovertyknown     : int  63628 10529 14235 30337 4815 35107 5241 16455 13081 154934 ...\n",
      " $ percpovertyknown    : num  96.3 99.1 95 98.5 82.5 ...\n",
      " $ percbelowpoverty    : num  13.15 32.24 12.07 7.21 13.52 ...\n",
      " $ percchildbelowpovert: num  18 45.8 14 11.2 13 ...\n",
      " $ percadultpoverty    : num  11.01 27.39 10.85 5.54 11.14 ...\n",
      " $ percelderlypoverty  : num  12.44 25.23 12.7 6.22 19.2 ...\n",
      " $ inmetro             : int  0 0 0 1 0 0 0 0 0 1 ...\n",
      " $ category            : chr  \"AAR\" \"LHR\" \"AAR\" \"ALU\" ...\n"
     ]
    }
   ],
   "source": [
    "str(midwest)"
   ]
  },
  {
   "cell_type": "code",
   "execution_count": 94,
   "metadata": {},
   "outputs": [
    {
     "data": {
      "text/plain": [
       "      PID          county             state                area        \n",
       " Min.   : 561   Length:437         Length:437         Min.   :0.00500  \n",
       " 1st Qu.: 670   Class :character   Class :character   1st Qu.:0.02400  \n",
       " Median :1221   Mode  :character   Mode  :character   Median :0.03000  \n",
       " Mean   :1437                                         Mean   :0.03317  \n",
       " 3rd Qu.:2059                                         3rd Qu.:0.03800  \n",
       " Max.   :3052                                         Max.   :0.11000  \n",
       "    poptotal         popdensity          popwhite          popblack      \n",
       " Min.   :   1701   Min.   :   85.05   Min.   :    416   Min.   :      0  \n",
       " 1st Qu.:  18840   1st Qu.:  622.41   1st Qu.:  18630   1st Qu.:     29  \n",
       " Median :  35324   Median : 1156.21   Median :  34471   Median :    201  \n",
       " Mean   :  96130   Mean   : 3097.74   Mean   :  81840   Mean   :  11024  \n",
       " 3rd Qu.:  75651   3rd Qu.: 2330.00   3rd Qu.:  72968   3rd Qu.:   1291  \n",
       " Max.   :5105067   Max.   :88018.40   Max.   :3204947   Max.   :1317147  \n",
       " popamerindian        popasian         popother        percwhite    \n",
       " Min.   :    4.0   Min.   :     0   Min.   :     0   Min.   :10.69  \n",
       " 1st Qu.:   44.0   1st Qu.:    35   1st Qu.:    20   1st Qu.:94.89  \n",
       " Median :   94.0   Median :   102   Median :    66   Median :98.03  \n",
       " Mean   :  343.1   Mean   :  1310   Mean   :  1613   Mean   :95.56  \n",
       " 3rd Qu.:  288.0   3rd Qu.:   401   3rd Qu.:   345   3rd Qu.:99.07  \n",
       " Max.   :10289.0   Max.   :188565   Max.   :384119   Max.   :99.82  \n",
       "   percblack       percamerindan        percasian        percother      \n",
       " Min.   : 0.0000   Min.   : 0.05623   Min.   :0.0000   Min.   :0.00000  \n",
       " 1st Qu.: 0.1157   1st Qu.: 0.15793   1st Qu.:0.1737   1st Qu.:0.09102  \n",
       " Median : 0.5390   Median : 0.21502   Median :0.2972   Median :0.17844  \n",
       " Mean   : 2.6763   Mean   : 0.79894   Mean   :0.4872   Mean   :0.47906  \n",
       " 3rd Qu.: 2.6014   3rd Qu.: 0.38362   3rd Qu.:0.5212   3rd Qu.:0.48050  \n",
       " Max.   :40.2100   Max.   :89.17738   Max.   :5.0705   Max.   :7.52427  \n",
       "   popadults          perchsd        percollege        percprof      \n",
       " Min.   :   1287   Min.   :46.91   Min.   : 7.336   Min.   : 0.5203  \n",
       " 1st Qu.:  12271   1st Qu.:71.33   1st Qu.:14.114   1st Qu.: 2.9980  \n",
       " Median :  22188   Median :74.25   Median :16.798   Median : 3.8142  \n",
       " Mean   :  60973   Mean   :73.97   Mean   :18.273   Mean   : 4.4473  \n",
       " 3rd Qu.:  47541   3rd Qu.:77.20   3rd Qu.:20.550   3rd Qu.: 4.9493  \n",
       " Max.   :3291995   Max.   :88.90   Max.   :48.079   Max.   :20.7913  \n",
       " poppovertyknown   percpovertyknown percbelowpoverty percchildbelowpovert\n",
       " Min.   :   1696   Min.   :80.90    Min.   : 2.180   Min.   : 1.919      \n",
       " 1st Qu.:  18364   1st Qu.:96.89    1st Qu.: 9.199   1st Qu.:11.624      \n",
       " Median :  33788   Median :98.17    Median :11.822   Median :15.270      \n",
       " Mean   :  93642   Mean   :97.11    Mean   :12.511   Mean   :16.447      \n",
       " 3rd Qu.:  72840   3rd Qu.:98.60    3rd Qu.:15.133   3rd Qu.:20.352      \n",
       " Max.   :5023523   Max.   :99.86    Max.   :48.691   Max.   :64.308      \n",
       " percadultpoverty percelderlypoverty    inmetro         category        \n",
       " Min.   : 1.938   Min.   : 3.547     Min.   :0.0000   Length:437        \n",
       " 1st Qu.: 7.668   1st Qu.: 8.912     1st Qu.:0.0000   Class :character  \n",
       " Median :10.008   Median :10.869     Median :0.0000   Mode  :character  \n",
       " Mean   :10.919   Mean   :11.389     Mean   :0.3432                     \n",
       " 3rd Qu.:13.182   3rd Qu.:13.412     3rd Qu.:1.0000                     \n",
       " Max.   :43.312   Max.   :31.162     Max.   :1.0000                     "
      ]
     },
     "metadata": {},
     "output_type": "display_data"
    }
   ],
   "source": [
    "summary(midwest)"
   ]
  },
  {
   "cell_type": "code",
   "execution_count": 95,
   "metadata": {},
   "outputs": [],
   "source": [
    "library(dplyr)"
   ]
  },
  {
   "cell_type": "code",
   "execution_count": 96,
   "metadata": {},
   "outputs": [],
   "source": [
    "midwest = rename(midwest, total = poptotal)\n",
    "midwset = rename(midwest, asian = popasian)"
   ]
  },
  {
   "cell_type": "code",
   "execution_count": 97,
   "metadata": {},
   "outputs": [],
   "source": [
    "midwest$ratio = midwset$asian / midwest$total * 100"
   ]
  },
  {
   "cell_type": "code",
   "execution_count": 98,
   "metadata": {},
   "outputs": [
    {
     "data": {
      "image/png": "[encoded data removed]",
      "text/plain": [
       "Plot with title \"Histogram of midwest$ratio\""
      ]
     },
     "metadata": {},
     "output_type": "display_data"
    }
   ],
   "source": [
    "hist(midwest$ratio)"
   ]
  },
  {
   "cell_type": "code",
   "execution_count": 99,
   "metadata": {},
   "outputs": [
    {
     "data": {
      "text/html": [
       "0.487246183435734"
      ],
      "text/latex": [
       "0.487246183435734"
      ],
      "text/markdown": [
       "0.487246183435734"
      ],
      "text/plain": [
       "[1] 0.4872462"
      ]
     },
     "metadata": {},
     "output_type": "display_data"
    }
   ],
   "source": [
    "mean(midwest$ratio)"
   ]
  },
  {
   "cell_type": "code",
   "execution_count": 100,
   "metadata": {},
   "outputs": [],
   "source": [
    "midwest$group = ifelse(midwest$ratio > 0.487262, 'large', 'small')"
   ]
  },
  {
   "cell_type": "code",
   "execution_count": 101,
   "metadata": {},
   "outputs": [
    {
     "data": {
      "text/plain": [
       "\n",
       "large small \n",
       "  119   318 "
      ]
     },
     "metadata": {},
     "output_type": "display_data"
    }
   ],
   "source": [
    "table(midwest$group)"
   ]
  },
  {
   "cell_type": "code",
   "execution_count": 102,
   "metadata": {},
   "outputs": [
    {
     "data": {
      "image/png": "[encoded data removed]",
      "text/plain": [
       "plot without title"
      ]
     },
     "metadata": {},
     "output_type": "display_data"
    }
   ],
   "source": [
    "qplot(midwest$group)"
   ]
  },
  {
   "cell_type": "code",
   "execution_count": 103,
   "metadata": {},
   "outputs": [
    {
     "data": {
      "text/html": [
       "<table>\n",
       "<thead><tr><th scope=col>id</th><th scope=col>class</th><th scope=col>math</th><th scope=col>english</th><th scope=col>science</th></tr></thead>\n",
       "<tbody>\n",
       "\t<tr><td> 1</td><td>1 </td><td>50</td><td>98</td><td>50</td></tr>\n",
       "\t<tr><td> 2</td><td>1 </td><td>60</td><td>97</td><td>60</td></tr>\n",
       "\t<tr><td> 3</td><td>1 </td><td>45</td><td>86</td><td>78</td></tr>\n",
       "\t<tr><td> 4</td><td>1 </td><td>30</td><td>98</td><td>58</td></tr>\n",
       "\t<tr><td> 5</td><td>2 </td><td>25</td><td>80</td><td>65</td></tr>\n",
       "\t<tr><td> 6</td><td>2 </td><td>50</td><td>89</td><td>98</td></tr>\n",
       "\t<tr><td> 7</td><td>2 </td><td>80</td><td>90</td><td>45</td></tr>\n",
       "\t<tr><td> 8</td><td>2 </td><td>90</td><td>78</td><td>25</td></tr>\n",
       "\t<tr><td> 9</td><td>3 </td><td>20</td><td>98</td><td>15</td></tr>\n",
       "\t<tr><td>10</td><td>3 </td><td>50</td><td>98</td><td>45</td></tr>\n",
       "\t<tr><td>11</td><td>3 </td><td>65</td><td>65</td><td>65</td></tr>\n",
       "\t<tr><td>12</td><td>3 </td><td>45</td><td>85</td><td>32</td></tr>\n",
       "\t<tr><td>13</td><td>4 </td><td>46</td><td>98</td><td>65</td></tr>\n",
       "\t<tr><td>14</td><td>4 </td><td>48</td><td>87</td><td>12</td></tr>\n",
       "\t<tr><td>15</td><td>4 </td><td>75</td><td>56</td><td>78</td></tr>\n",
       "\t<tr><td>16</td><td>4 </td><td>58</td><td>98</td><td>65</td></tr>\n",
       "\t<tr><td>17</td><td>5 </td><td>65</td><td>68</td><td>98</td></tr>\n",
       "\t<tr><td>18</td><td>5 </td><td>80</td><td>78</td><td>90</td></tr>\n",
       "\t<tr><td>19</td><td>5 </td><td>89</td><td>68</td><td>87</td></tr>\n",
       "\t<tr><td>20</td><td>5 </td><td>78</td><td>83</td><td>58</td></tr>\n",
       "</tbody>\n",
       "</table>\n"
      ],
      "text/latex": [
       "\\begin{tabular}{r|lllll}\n",
       " id & class & math & english & science\\\\\n",
       "\\hline\n",
       "\t  1 & 1  & 50 & 98 & 50\\\\\n",
       "\t  2 & 1  & 60 & 97 & 60\\\\\n",
       "\t  3 & 1  & 45 & 86 & 78\\\\\n",
       "\t  4 & 1  & 30 & 98 & 58\\\\\n",
       "\t  5 & 2  & 25 & 80 & 65\\\\\n",
       "\t  6 & 2  & 50 & 89 & 98\\\\\n",
       "\t  7 & 2  & 80 & 90 & 45\\\\\n",
       "\t  8 & 2  & 90 & 78 & 25\\\\\n",
       "\t  9 & 3  & 20 & 98 & 15\\\\\n",
       "\t 10 & 3  & 50 & 98 & 45\\\\\n",
       "\t 11 & 3  & 65 & 65 & 65\\\\\n",
       "\t 12 & 3  & 45 & 85 & 32\\\\\n",
       "\t 13 & 4  & 46 & 98 & 65\\\\\n",
       "\t 14 & 4  & 48 & 87 & 12\\\\\n",
       "\t 15 & 4  & 75 & 56 & 78\\\\\n",
       "\t 16 & 4  & 58 & 98 & 65\\\\\n",
       "\t 17 & 5  & 65 & 68 & 98\\\\\n",
       "\t 18 & 5  & 80 & 78 & 90\\\\\n",
       "\t 19 & 5  & 89 & 68 & 87\\\\\n",
       "\t 20 & 5  & 78 & 83 & 58\\\\\n",
       "\\end{tabular}\n"
      ],
      "text/markdown": [
       "\n",
       "| id | class | math | english | science |\n",
       "|---|---|---|---|---|\n",
       "|  1 | 1  | 50 | 98 | 50 |\n",
       "|  2 | 1  | 60 | 97 | 60 |\n",
       "|  3 | 1  | 45 | 86 | 78 |\n",
       "|  4 | 1  | 30 | 98 | 58 |\n",
       "|  5 | 2  | 25 | 80 | 65 |\n",
       "|  6 | 2  | 50 | 89 | 98 |\n",
       "|  7 | 2  | 80 | 90 | 45 |\n",
       "|  8 | 2  | 90 | 78 | 25 |\n",
       "|  9 | 3  | 20 | 98 | 15 |\n",
       "| 10 | 3  | 50 | 98 | 45 |\n",
       "| 11 | 3  | 65 | 65 | 65 |\n",
       "| 12 | 3  | 45 | 85 | 32 |\n",
       "| 13 | 4  | 46 | 98 | 65 |\n",
       "| 14 | 4  | 48 | 87 | 12 |\n",
       "| 15 | 4  | 75 | 56 | 78 |\n",
       "| 16 | 4  | 58 | 98 | 65 |\n",
       "| 17 | 5  | 65 | 68 | 98 |\n",
       "| 18 | 5  | 80 | 78 | 90 |\n",
       "| 19 | 5  | 89 | 68 | 87 |\n",
       "| 20 | 5  | 78 | 83 | 58 |\n",
       "\n"
      ],
      "text/plain": [
       "   id class math english science\n",
       "1   1 1     50   98      50     \n",
       "2   2 1     60   97      60     \n",
       "3   3 1     45   86      78     \n",
       "4   4 1     30   98      58     \n",
       "5   5 2     25   80      65     \n",
       "6   6 2     50   89      98     \n",
       "7   7 2     80   90      45     \n",
       "8   8 2     90   78      25     \n",
       "9   9 3     20   98      15     \n",
       "10 10 3     50   98      45     \n",
       "11 11 3     65   65      65     \n",
       "12 12 3     45   85      32     \n",
       "13 13 4     46   98      65     \n",
       "14 14 4     48   87      12     \n",
       "15 15 4     75   56      78     \n",
       "16 16 4     58   98      65     \n",
       "17 17 5     65   68      98     \n",
       "18 18 5     80   78      90     \n",
       "19 19 5     89   68      87     \n",
       "20 20 5     78   83      58     "
      ]
     },
     "metadata": {},
     "output_type": "display_data"
    }
   ],
   "source": [
    "exam = read.csv('csv_exam.csv')\n",
    "exam"
   ]
  },
  {
   "cell_type": "code",
   "execution_count": 105,
   "metadata": {},
   "outputs": [
    {
     "data": {
      "text/html": [
       "<table>\n",
       "<thead><tr><th scope=col>id</th><th scope=col>class</th><th scope=col>math</th><th scope=col>english</th><th scope=col>science</th></tr></thead>\n",
       "<tbody>\n",
       "\t<tr><td>1 </td><td>1 </td><td>50</td><td>98</td><td>50</td></tr>\n",
       "\t<tr><td>2 </td><td>1 </td><td>60</td><td>97</td><td>60</td></tr>\n",
       "\t<tr><td>3 </td><td>1 </td><td>45</td><td>86</td><td>78</td></tr>\n",
       "\t<tr><td>4 </td><td>1 </td><td>30</td><td>98</td><td>58</td></tr>\n",
       "</tbody>\n",
       "</table>\n"
      ],
      "text/latex": [
       "\\begin{tabular}{r|lllll}\n",
       " id & class & math & english & science\\\\\n",
       "\\hline\n",
       "\t 1  & 1  & 50 & 98 & 50\\\\\n",
       "\t 2  & 1  & 60 & 97 & 60\\\\\n",
       "\t 3  & 1  & 45 & 86 & 78\\\\\n",
       "\t 4  & 1  & 30 & 98 & 58\\\\\n",
       "\\end{tabular}\n"
      ],
      "text/markdown": [
       "\n",
       "| id | class | math | english | science |\n",
       "|---|---|---|---|---|\n",
       "| 1  | 1  | 50 | 98 | 50 |\n",
       "| 2  | 1  | 60 | 97 | 60 |\n",
       "| 3  | 1  | 45 | 86 | 78 |\n",
       "| 4  | 1  | 30 | 98 | 58 |\n",
       "\n"
      ],
      "text/plain": [
       "  id class math english science\n",
       "1 1  1     50   98      50     \n",
       "2 2  1     60   97      60     \n",
       "3 3  1     45   86      78     \n",
       "4 4  1     30   98      58     "
      ]
     },
     "metadata": {},
     "output_type": "display_data"
    }
   ],
   "source": [
    "exam %>% filter(class == 1)"
   ]
  },
  {
   "cell_type": "code",
   "execution_count": 106,
   "metadata": {},
   "outputs": [
    {
     "data": {
      "text/html": [
       "<table>\n",
       "<thead><tr><th scope=col>id</th><th scope=col>class</th><th scope=col>math</th><th scope=col>english</th><th scope=col>science</th></tr></thead>\n",
       "<tbody>\n",
       "\t<tr><td> 1</td><td>1 </td><td>50</td><td>98</td><td>50</td></tr>\n",
       "\t<tr><td> 2</td><td>1 </td><td>60</td><td>97</td><td>60</td></tr>\n",
       "\t<tr><td> 3</td><td>1 </td><td>45</td><td>86</td><td>78</td></tr>\n",
       "\t<tr><td> 4</td><td>1 </td><td>30</td><td>98</td><td>58</td></tr>\n",
       "\t<tr><td> 9</td><td>3 </td><td>20</td><td>98</td><td>15</td></tr>\n",
       "\t<tr><td>10</td><td>3 </td><td>50</td><td>98</td><td>45</td></tr>\n",
       "\t<tr><td>11</td><td>3 </td><td>65</td><td>65</td><td>65</td></tr>\n",
       "\t<tr><td>12</td><td>3 </td><td>45</td><td>85</td><td>32</td></tr>\n",
       "</tbody>\n",
       "</table>\n"
      ],
      "text/latex": [
       "\\begin{tabular}{r|lllll}\n",
       " id & class & math & english & science\\\\\n",
       "\\hline\n",
       "\t  1 & 1  & 50 & 98 & 50\\\\\n",
       "\t  2 & 1  & 60 & 97 & 60\\\\\n",
       "\t  3 & 1  & 45 & 86 & 78\\\\\n",
       "\t  4 & 1  & 30 & 98 & 58\\\\\n",
       "\t  9 & 3  & 20 & 98 & 15\\\\\n",
       "\t 10 & 3  & 50 & 98 & 45\\\\\n",
       "\t 11 & 3  & 65 & 65 & 65\\\\\n",
       "\t 12 & 3  & 45 & 85 & 32\\\\\n",
       "\\end{tabular}\n"
      ],
      "text/markdown": [
       "\n",
       "| id | class | math | english | science |\n",
       "|---|---|---|---|---|\n",
       "|  1 | 1  | 50 | 98 | 50 |\n",
       "|  2 | 1  | 60 | 97 | 60 |\n",
       "|  3 | 1  | 45 | 86 | 78 |\n",
       "|  4 | 1  | 30 | 98 | 58 |\n",
       "|  9 | 3  | 20 | 98 | 15 |\n",
       "| 10 | 3  | 50 | 98 | 45 |\n",
       "| 11 | 3  | 65 | 65 | 65 |\n",
       "| 12 | 3  | 45 | 85 | 32 |\n",
       "\n"
      ],
      "text/plain": [
       "  id class math english science\n",
       "1  1 1     50   98      50     \n",
       "2  2 1     60   97      60     \n",
       "3  3 1     45   86      78     \n",
       "4  4 1     30   98      58     \n",
       "5  9 3     20   98      15     \n",
       "6 10 3     50   98      45     \n",
       "7 11 3     65   65      65     \n",
       "8 12 3     45   85      32     "
      ]
     },
     "metadata": {},
     "output_type": "display_data"
    }
   ],
   "source": [
    "exam %>% filter(class == 1 | class ==3)"
   ]
  },
  {
   "cell_type": "code",
   "execution_count": 107,
   "metadata": {},
   "outputs": [
    {
     "data": {
      "text/html": [
       "<table>\n",
       "<thead><tr><th scope=col>id</th><th scope=col>class</th><th scope=col>math</th><th scope=col>english</th><th scope=col>science</th></tr></thead>\n",
       "<tbody>\n",
       "\t<tr><td> 5</td><td>2 </td><td>25</td><td>80</td><td>65</td></tr>\n",
       "\t<tr><td> 6</td><td>2 </td><td>50</td><td>89</td><td>98</td></tr>\n",
       "\t<tr><td> 7</td><td>2 </td><td>80</td><td>90</td><td>45</td></tr>\n",
       "\t<tr><td> 8</td><td>2 </td><td>90</td><td>78</td><td>25</td></tr>\n",
       "\t<tr><td> 9</td><td>3 </td><td>20</td><td>98</td><td>15</td></tr>\n",
       "\t<tr><td>10</td><td>3 </td><td>50</td><td>98</td><td>45</td></tr>\n",
       "\t<tr><td>11</td><td>3 </td><td>65</td><td>65</td><td>65</td></tr>\n",
       "\t<tr><td>12</td><td>3 </td><td>45</td><td>85</td><td>32</td></tr>\n",
       "\t<tr><td>13</td><td>4 </td><td>46</td><td>98</td><td>65</td></tr>\n",
       "\t<tr><td>14</td><td>4 </td><td>48</td><td>87</td><td>12</td></tr>\n",
       "\t<tr><td>15</td><td>4 </td><td>75</td><td>56</td><td>78</td></tr>\n",
       "\t<tr><td>16</td><td>4 </td><td>58</td><td>98</td><td>65</td></tr>\n",
       "\t<tr><td>17</td><td>5 </td><td>65</td><td>68</td><td>98</td></tr>\n",
       "\t<tr><td>18</td><td>5 </td><td>80</td><td>78</td><td>90</td></tr>\n",
       "\t<tr><td>19</td><td>5 </td><td>89</td><td>68</td><td>87</td></tr>\n",
       "\t<tr><td>20</td><td>5 </td><td>78</td><td>83</td><td>58</td></tr>\n",
       "</tbody>\n",
       "</table>\n"
      ],
      "text/latex": [
       "\\begin{tabular}{r|lllll}\n",
       " id & class & math & english & science\\\\\n",
       "\\hline\n",
       "\t  5 & 2  & 25 & 80 & 65\\\\\n",
       "\t  6 & 2  & 50 & 89 & 98\\\\\n",
       "\t  7 & 2  & 80 & 90 & 45\\\\\n",
       "\t  8 & 2  & 90 & 78 & 25\\\\\n",
       "\t  9 & 3  & 20 & 98 & 15\\\\\n",
       "\t 10 & 3  & 50 & 98 & 45\\\\\n",
       "\t 11 & 3  & 65 & 65 & 65\\\\\n",
       "\t 12 & 3  & 45 & 85 & 32\\\\\n",
       "\t 13 & 4  & 46 & 98 & 65\\\\\n",
       "\t 14 & 4  & 48 & 87 & 12\\\\\n",
       "\t 15 & 4  & 75 & 56 & 78\\\\\n",
       "\t 16 & 4  & 58 & 98 & 65\\\\\n",
       "\t 17 & 5  & 65 & 68 & 98\\\\\n",
       "\t 18 & 5  & 80 & 78 & 90\\\\\n",
       "\t 19 & 5  & 89 & 68 & 87\\\\\n",
       "\t 20 & 5  & 78 & 83 & 58\\\\\n",
       "\\end{tabular}\n"
      ],
      "text/markdown": [
       "\n",
       "| id | class | math | english | science |\n",
       "|---|---|---|---|---|\n",
       "|  5 | 2  | 25 | 80 | 65 |\n",
       "|  6 | 2  | 50 | 89 | 98 |\n",
       "|  7 | 2  | 80 | 90 | 45 |\n",
       "|  8 | 2  | 90 | 78 | 25 |\n",
       "|  9 | 3  | 20 | 98 | 15 |\n",
       "| 10 | 3  | 50 | 98 | 45 |\n",
       "| 11 | 3  | 65 | 65 | 65 |\n",
       "| 12 | 3  | 45 | 85 | 32 |\n",
       "| 13 | 4  | 46 | 98 | 65 |\n",
       "| 14 | 4  | 48 | 87 | 12 |\n",
       "| 15 | 4  | 75 | 56 | 78 |\n",
       "| 16 | 4  | 58 | 98 | 65 |\n",
       "| 17 | 5  | 65 | 68 | 98 |\n",
       "| 18 | 5  | 80 | 78 | 90 |\n",
       "| 19 | 5  | 89 | 68 | 87 |\n",
       "| 20 | 5  | 78 | 83 | 58 |\n",
       "\n"
      ],
      "text/plain": [
       "   id class math english science\n",
       "1   5 2     25   80      65     \n",
       "2   6 2     50   89      98     \n",
       "3   7 2     80   90      45     \n",
       "4   8 2     90   78      25     \n",
       "5   9 3     20   98      15     \n",
       "6  10 3     50   98      45     \n",
       "7  11 3     65   65      65     \n",
       "8  12 3     45   85      32     \n",
       "9  13 4     46   98      65     \n",
       "10 14 4     48   87      12     \n",
       "11 15 4     75   56      78     \n",
       "12 16 4     58   98      65     \n",
       "13 17 5     65   68      98     \n",
       "14 18 5     80   78      90     \n",
       "15 19 5     89   68      87     \n",
       "16 20 5     78   83      58     "
      ]
     },
     "metadata": {},
     "output_type": "display_data"
    }
   ],
   "source": [
    "exam %>% filter(class != 1 )"
   ]
  },
  {
   "cell_type": "code",
   "execution_count": 108,
   "metadata": {},
   "outputs": [
    {
     "data": {
      "text/html": [
       "<table>\n",
       "<thead><tr><th scope=col>id</th><th scope=col>class</th><th scope=col>math</th><th scope=col>english</th><th scope=col>science</th></tr></thead>\n",
       "<tbody>\n",
       "\t<tr><td> 2</td><td>1 </td><td>60</td><td>97</td><td>60</td></tr>\n",
       "\t<tr><td> 7</td><td>2 </td><td>80</td><td>90</td><td>45</td></tr>\n",
       "\t<tr><td> 8</td><td>2 </td><td>90</td><td>78</td><td>25</td></tr>\n",
       "\t<tr><td>11</td><td>3 </td><td>65</td><td>65</td><td>65</td></tr>\n",
       "\t<tr><td>15</td><td>4 </td><td>75</td><td>56</td><td>78</td></tr>\n",
       "\t<tr><td>16</td><td>4 </td><td>58</td><td>98</td><td>65</td></tr>\n",
       "\t<tr><td>17</td><td>5 </td><td>65</td><td>68</td><td>98</td></tr>\n",
       "\t<tr><td>18</td><td>5 </td><td>80</td><td>78</td><td>90</td></tr>\n",
       "\t<tr><td>19</td><td>5 </td><td>89</td><td>68</td><td>87</td></tr>\n",
       "\t<tr><td>20</td><td>5 </td><td>78</td><td>83</td><td>58</td></tr>\n",
       "</tbody>\n",
       "</table>\n"
      ],
      "text/latex": [
       "\\begin{tabular}{r|lllll}\n",
       " id & class & math & english & science\\\\\n",
       "\\hline\n",
       "\t  2 & 1  & 60 & 97 & 60\\\\\n",
       "\t  7 & 2  & 80 & 90 & 45\\\\\n",
       "\t  8 & 2  & 90 & 78 & 25\\\\\n",
       "\t 11 & 3  & 65 & 65 & 65\\\\\n",
       "\t 15 & 4  & 75 & 56 & 78\\\\\n",
       "\t 16 & 4  & 58 & 98 & 65\\\\\n",
       "\t 17 & 5  & 65 & 68 & 98\\\\\n",
       "\t 18 & 5  & 80 & 78 & 90\\\\\n",
       "\t 19 & 5  & 89 & 68 & 87\\\\\n",
       "\t 20 & 5  & 78 & 83 & 58\\\\\n",
       "\\end{tabular}\n"
      ],
      "text/markdown": [
       "\n",
       "| id | class | math | english | science |\n",
       "|---|---|---|---|---|\n",
       "|  2 | 1  | 60 | 97 | 60 |\n",
       "|  7 | 2  | 80 | 90 | 45 |\n",
       "|  8 | 2  | 90 | 78 | 25 |\n",
       "| 11 | 3  | 65 | 65 | 65 |\n",
       "| 15 | 4  | 75 | 56 | 78 |\n",
       "| 16 | 4  | 58 | 98 | 65 |\n",
       "| 17 | 5  | 65 | 68 | 98 |\n",
       "| 18 | 5  | 80 | 78 | 90 |\n",
       "| 19 | 5  | 89 | 68 | 87 |\n",
       "| 20 | 5  | 78 | 83 | 58 |\n",
       "\n"
      ],
      "text/plain": [
       "   id class math english science\n",
       "1   2 1     60   97      60     \n",
       "2   7 2     80   90      45     \n",
       "3   8 2     90   78      25     \n",
       "4  11 3     65   65      65     \n",
       "5  15 4     75   56      78     \n",
       "6  16 4     58   98      65     \n",
       "7  17 5     65   68      98     \n",
       "8  18 5     80   78      90     \n",
       "9  19 5     89   68      87     \n",
       "10 20 5     78   83      58     "
      ]
     },
     "metadata": {},
     "output_type": "display_data"
    }
   ],
   "source": [
    "exam %>% filter(math > 50)"
   ]
  },
  {
   "cell_type": "code",
   "execution_count": 109,
   "metadata": {},
   "outputs": [
    {
     "data": {
      "text/html": [
       "<table>\n",
       "<thead><tr><th scope=col>id</th><th scope=col>class</th><th scope=col>math</th><th scope=col>english</th><th scope=col>science</th></tr></thead>\n",
       "<tbody>\n",
       "\t<tr><td>1 </td><td>1 </td><td>50</td><td>98</td><td>50</td></tr>\n",
       "\t<tr><td>2 </td><td>1 </td><td>60</td><td>97</td><td>60</td></tr>\n",
       "</tbody>\n",
       "</table>\n"
      ],
      "text/latex": [
       "\\begin{tabular}{r|lllll}\n",
       " id & class & math & english & science\\\\\n",
       "\\hline\n",
       "\t 1  & 1  & 50 & 98 & 50\\\\\n",
       "\t 2  & 1  & 60 & 97 & 60\\\\\n",
       "\\end{tabular}\n"
      ],
      "text/markdown": [
       "\n",
       "| id | class | math | english | science |\n",
       "|---|---|---|---|---|\n",
       "| 1  | 1  | 50 | 98 | 50 |\n",
       "| 2  | 1  | 60 | 97 | 60 |\n",
       "\n"
      ],
      "text/plain": [
       "  id class math english science\n",
       "1 1  1     50   98      50     \n",
       "2 2  1     60   97      60     "
      ]
     },
     "metadata": {},
     "output_type": "display_data"
    }
   ],
   "source": [
    "exam %>% filter(class ==1 & math >= 50)"
   ]
  },
  {
   "cell_type": "code",
   "execution_count": 110,
   "metadata": {},
   "outputs": [
    {
     "data": {
      "text/html": [
       "<table>\n",
       "<thead><tr><th scope=col>id</th><th scope=col>class</th><th scope=col>math</th><th scope=col>english</th><th scope=col>science</th></tr></thead>\n",
       "<tbody>\n",
       "\t<tr><td> 1</td><td>1 </td><td>50</td><td>98</td><td>50</td></tr>\n",
       "\t<tr><td> 2</td><td>1 </td><td>60</td><td>97</td><td>60</td></tr>\n",
       "\t<tr><td> 3</td><td>1 </td><td>45</td><td>86</td><td>78</td></tr>\n",
       "\t<tr><td> 4</td><td>1 </td><td>30</td><td>98</td><td>58</td></tr>\n",
       "\t<tr><td> 9</td><td>3 </td><td>20</td><td>98</td><td>15</td></tr>\n",
       "\t<tr><td>10</td><td>3 </td><td>50</td><td>98</td><td>45</td></tr>\n",
       "\t<tr><td>11</td><td>3 </td><td>65</td><td>65</td><td>65</td></tr>\n",
       "\t<tr><td>12</td><td>3 </td><td>45</td><td>85</td><td>32</td></tr>\n",
       "\t<tr><td>17</td><td>5 </td><td>65</td><td>68</td><td>98</td></tr>\n",
       "\t<tr><td>18</td><td>5 </td><td>80</td><td>78</td><td>90</td></tr>\n",
       "\t<tr><td>19</td><td>5 </td><td>89</td><td>68</td><td>87</td></tr>\n",
       "\t<tr><td>20</td><td>5 </td><td>78</td><td>83</td><td>58</td></tr>\n",
       "</tbody>\n",
       "</table>\n"
      ],
      "text/latex": [
       "\\begin{tabular}{r|lllll}\n",
       " id & class & math & english & science\\\\\n",
       "\\hline\n",
       "\t  1 & 1  & 50 & 98 & 50\\\\\n",
       "\t  2 & 1  & 60 & 97 & 60\\\\\n",
       "\t  3 & 1  & 45 & 86 & 78\\\\\n",
       "\t  4 & 1  & 30 & 98 & 58\\\\\n",
       "\t  9 & 3  & 20 & 98 & 15\\\\\n",
       "\t 10 & 3  & 50 & 98 & 45\\\\\n",
       "\t 11 & 3  & 65 & 65 & 65\\\\\n",
       "\t 12 & 3  & 45 & 85 & 32\\\\\n",
       "\t 17 & 5  & 65 & 68 & 98\\\\\n",
       "\t 18 & 5  & 80 & 78 & 90\\\\\n",
       "\t 19 & 5  & 89 & 68 & 87\\\\\n",
       "\t 20 & 5  & 78 & 83 & 58\\\\\n",
       "\\end{tabular}\n"
      ],
      "text/markdown": [
       "\n",
       "| id | class | math | english | science |\n",
       "|---|---|---|---|---|\n",
       "|  1 | 1  | 50 | 98 | 50 |\n",
       "|  2 | 1  | 60 | 97 | 60 |\n",
       "|  3 | 1  | 45 | 86 | 78 |\n",
       "|  4 | 1  | 30 | 98 | 58 |\n",
       "|  9 | 3  | 20 | 98 | 15 |\n",
       "| 10 | 3  | 50 | 98 | 45 |\n",
       "| 11 | 3  | 65 | 65 | 65 |\n",
       "| 12 | 3  | 45 | 85 | 32 |\n",
       "| 17 | 5  | 65 | 68 | 98 |\n",
       "| 18 | 5  | 80 | 78 | 90 |\n",
       "| 19 | 5  | 89 | 68 | 87 |\n",
       "| 20 | 5  | 78 | 83 | 58 |\n",
       "\n"
      ],
      "text/plain": [
       "   id class math english science\n",
       "1   1 1     50   98      50     \n",
       "2   2 1     60   97      60     \n",
       "3   3 1     45   86      78     \n",
       "4   4 1     30   98      58     \n",
       "5   9 3     20   98      15     \n",
       "6  10 3     50   98      45     \n",
       "7  11 3     65   65      65     \n",
       "8  12 3     45   85      32     \n",
       "9  17 5     65   68      98     \n",
       "10 18 5     80   78      90     \n",
       "11 19 5     89   68      87     \n",
       "12 20 5     78   83      58     "
      ]
     },
     "metadata": {},
     "output_type": "display_data"
    }
   ],
   "source": [
    "exam %>% filter(class %in% c(1, 3, 5))"
   ]
  },
  {
   "cell_type": "code",
   "execution_count": 112,
   "metadata": {},
   "outputs": [],
   "source": [
    "mpg = as.data.frame(ggplot2::mpg)"
   ]
  },
  {
   "cell_type": "code",
   "execution_count": 113,
   "metadata": {},
   "outputs": [],
   "source": [
    "mpg_a = mpg %>% filter(displ <= 4)\n",
    "mpg_b = mpg %>% filter(displ >= 5)"
   ]
  },
  {
   "cell_type": "code",
   "execution_count": 114,
   "metadata": {},
   "outputs": [
    {
     "data": {
      "text/html": [
       "25.9631901840491"
      ],
      "text/latex": [
       "25.9631901840491"
      ],
      "text/markdown": [
       "25.9631901840491"
      ],
      "text/plain": [
       "[1] 25.96319"
      ]
     },
     "metadata": {},
     "output_type": "display_data"
    },
    {
     "data": {
      "text/html": [
       "18.0789473684211"
      ],
      "text/latex": [
       "18.0789473684211"
      ],
      "text/markdown": [
       "18.0789473684211"
      ],
      "text/plain": [
       "[1] 18.07895"
      ]
     },
     "metadata": {},
     "output_type": "display_data"
    }
   ],
   "source": [
    "mean(mpg_a$hwy)\n",
    "mean(mpg_b$hwy)"
   ]
  },
  {
   "cell_type": "code",
   "execution_count": 116,
   "metadata": {},
   "outputs": [],
   "source": [
    "mpg_audi = mpg %>% filter(manufacturer == 'audi')"
   ]
  },
  {
   "cell_type": "code",
   "execution_count": 117,
   "metadata": {},
   "outputs": [],
   "source": [
    "mpg_toyota = mpg %>% filter(manufacturer =='toyota')"
   ]
  },
  {
   "cell_type": "code",
   "execution_count": 118,
   "metadata": {},
   "outputs": [
    {
     "data": {
      "text/html": [
       "17.6111111111111"
      ],
      "text/latex": [
       "17.6111111111111"
      ],
      "text/markdown": [
       "17.6111111111111"
      ],
      "text/plain": [
       "[1] 17.61111"
      ]
     },
     "metadata": {},
     "output_type": "display_data"
    }
   ],
   "source": [
    "mean(mpg_audi$cty)"
   ]
  },
  {
   "cell_type": "code",
   "execution_count": 119,
   "metadata": {},
   "outputs": [
    {
     "data": {
      "text/html": [
       "18.5294117647059"
      ],
      "text/latex": [
       "18.5294117647059"
      ],
      "text/markdown": [
       "18.5294117647059"
      ],
      "text/plain": [
       "[1] 18.52941"
      ]
     },
     "metadata": {},
     "output_type": "display_data"
    }
   ],
   "source": [
    "mean(mpg_toyota$cty)"
   ]
  },
  {
   "cell_type": "code",
   "execution_count": 120,
   "metadata": {},
   "outputs": [],
   "source": [
    "mpg_new = mpg %>% filter(manufacturer %in% c('chevrolet', 'ford', 'honda'))"
   ]
  },
  {
   "cell_type": "code",
   "execution_count": 121,
   "metadata": {},
   "outputs": [
    {
     "data": {
      "text/html": [
       "22.5094339622642"
      ],
      "text/latex": [
       "22.5094339622642"
      ],
      "text/markdown": [
       "22.5094339622642"
      ],
      "text/plain": [
       "[1] 22.50943"
      ]
     },
     "metadata": {},
     "output_type": "display_data"
    }
   ],
   "source": [
    "mean(mpg_new$hwy)"
   ]
  },
  {
   "cell_type": "code",
   "execution_count": 122,
   "metadata": {},
   "outputs": [
    {
     "data": {
      "text/html": [
       "<table>\n",
       "<thead><tr><th scope=col>manufacturer</th><th scope=col>model</th><th scope=col>displ</th><th scope=col>year</th><th scope=col>cyl</th><th scope=col>trans</th><th scope=col>drv</th><th scope=col>cty</th><th scope=col>hwy</th><th scope=col>fl</th><th scope=col>class</th></tr></thead>\n",
       "<tbody>\n",
       "\t<tr><td>chevrolet         </td><td>c1500 suburban 2wd</td><td>5.3               </td><td>2008              </td><td>8                 </td><td>auto(l4)          </td><td>r                 </td><td>14                </td><td>20                </td><td>r                 </td><td>suv               </td></tr>\n",
       "\t<tr><td>chevrolet         </td><td>c1500 suburban 2wd</td><td>5.3               </td><td>2008              </td><td>8                 </td><td>auto(l4)          </td><td>r                 </td><td>11                </td><td>15                </td><td>e                 </td><td>suv               </td></tr>\n",
       "\t<tr><td>chevrolet         </td><td>c1500 suburban 2wd</td><td>5.3               </td><td>2008              </td><td>8                 </td><td>auto(l4)          </td><td>r                 </td><td>14                </td><td>20                </td><td>r                 </td><td>suv               </td></tr>\n",
       "\t<tr><td>chevrolet         </td><td>c1500 suburban 2wd</td><td>5.7               </td><td>1999              </td><td>8                 </td><td>auto(l4)          </td><td>r                 </td><td>13                </td><td>17                </td><td>r                 </td><td>suv               </td></tr>\n",
       "\t<tr><td>chevrolet         </td><td>c1500 suburban 2wd</td><td>6.0               </td><td>2008              </td><td>8                 </td><td>auto(l4)          </td><td>r                 </td><td>12                </td><td>17                </td><td>r                 </td><td>suv               </td></tr>\n",
       "\t<tr><td>chevrolet         </td><td>corvette          </td><td>5.7               </td><td>1999              </td><td>8                 </td><td>manual(m6)        </td><td>r                 </td><td>16                </td><td>26                </td><td>p                 </td><td>2seater           </td></tr>\n",
       "\t<tr><td>chevrolet         </td><td>corvette          </td><td>5.7               </td><td>1999              </td><td>8                 </td><td>auto(l4)          </td><td>r                 </td><td>15                </td><td>23                </td><td>p                 </td><td>2seater           </td></tr>\n",
       "\t<tr><td>chevrolet         </td><td>corvette          </td><td>6.2               </td><td>2008              </td><td>8                 </td><td>manual(m6)        </td><td>r                 </td><td>16                </td><td>26                </td><td>p                 </td><td>2seater           </td></tr>\n",
       "\t<tr><td>chevrolet         </td><td>corvette          </td><td>6.2               </td><td>2008              </td><td>8                 </td><td>auto(s6)          </td><td>r                 </td><td>15                </td><td>25                </td><td>p                 </td><td>2seater           </td></tr>\n",
       "\t<tr><td>chevrolet         </td><td>corvette          </td><td>7.0               </td><td>2008              </td><td>8                 </td><td>manual(m6)        </td><td>r                 </td><td>15                </td><td>24                </td><td>p                 </td><td>2seater           </td></tr>\n",
       "\t<tr><td>chevrolet         </td><td>k1500 tahoe 4wd   </td><td>5.3               </td><td>2008              </td><td>8                 </td><td>auto(l4)          </td><td>4                 </td><td>14                </td><td>19                </td><td>r                 </td><td>suv               </td></tr>\n",
       "\t<tr><td>chevrolet         </td><td>k1500 tahoe 4wd   </td><td>5.3               </td><td>2008              </td><td>8                 </td><td>auto(l4)          </td><td>4                 </td><td>11                </td><td>14                </td><td>e                 </td><td>suv               </td></tr>\n",
       "\t<tr><td>chevrolet         </td><td>k1500 tahoe 4wd   </td><td>5.7               </td><td>1999              </td><td>8                 </td><td>auto(l4)          </td><td>4                 </td><td>11                </td><td>15                </td><td>r                 </td><td>suv               </td></tr>\n",
       "\t<tr><td>chevrolet         </td><td>k1500 tahoe 4wd   </td><td>6.5               </td><td>1999              </td><td>8                 </td><td>auto(l4)          </td><td>4                 </td><td>14                </td><td>17                </td><td>d                 </td><td>suv               </td></tr>\n",
       "\t<tr><td>chevrolet         </td><td>malibu            </td><td>2.4               </td><td>1999              </td><td>4                 </td><td>auto(l4)          </td><td>f                 </td><td>19                </td><td>27                </td><td>r                 </td><td>midsize           </td></tr>\n",
       "\t<tr><td>chevrolet         </td><td>malibu            </td><td>2.4               </td><td>2008              </td><td>4                 </td><td>auto(l4)          </td><td>f                 </td><td>22                </td><td>30                </td><td>r                 </td><td>midsize           </td></tr>\n",
       "\t<tr><td>chevrolet         </td><td>malibu            </td><td>3.1               </td><td>1999              </td><td>6                 </td><td>auto(l4)          </td><td>f                 </td><td>18                </td><td>26                </td><td>r                 </td><td>midsize           </td></tr>\n",
       "\t<tr><td>chevrolet         </td><td>malibu            </td><td>3.5               </td><td>2008              </td><td>6                 </td><td>auto(l4)          </td><td>f                 </td><td>18                </td><td>29                </td><td>r                 </td><td>midsize           </td></tr>\n",
       "\t<tr><td>chevrolet         </td><td>malibu            </td><td>3.6               </td><td>2008              </td><td>6                 </td><td>auto(s6)          </td><td>f                 </td><td>17                </td><td>26                </td><td>r                 </td><td>midsize           </td></tr>\n",
       "\t<tr><td>ford              </td><td>expedition 2wd    </td><td>4.6               </td><td>1999              </td><td>8                 </td><td>auto(l4)          </td><td>r                 </td><td>11                </td><td>17                </td><td>r                 </td><td>suv               </td></tr>\n",
       "\t<tr><td>ford              </td><td>expedition 2wd    </td><td>5.4               </td><td>1999              </td><td>8                 </td><td>auto(l4)          </td><td>r                 </td><td>11                </td><td>17                </td><td>r                 </td><td>suv               </td></tr>\n",
       "\t<tr><td>ford              </td><td>expedition 2wd    </td><td>5.4               </td><td>2008              </td><td>8                 </td><td>auto(l6)          </td><td>r                 </td><td>12                </td><td>18                </td><td>r                 </td><td>suv               </td></tr>\n",
       "\t<tr><td>ford              </td><td>explorer 4wd      </td><td>4.0               </td><td>1999              </td><td>6                 </td><td>auto(l5)          </td><td>4                 </td><td>14                </td><td>17                </td><td>r                 </td><td>suv               </td></tr>\n",
       "\t<tr><td>ford              </td><td>explorer 4wd      </td><td>4.0               </td><td>1999              </td><td>6                 </td><td>manual(m5)        </td><td>4                 </td><td>15                </td><td>19                </td><td>r                 </td><td>suv               </td></tr>\n",
       "\t<tr><td>ford              </td><td>explorer 4wd      </td><td>4.0               </td><td>1999              </td><td>6                 </td><td>auto(l5)          </td><td>4                 </td><td>14                </td><td>17                </td><td>r                 </td><td>suv               </td></tr>\n",
       "\t<tr><td>ford              </td><td>explorer 4wd      </td><td>4.0               </td><td>2008              </td><td>6                 </td><td>auto(l5)          </td><td>4                 </td><td>13                </td><td>19                </td><td>r                 </td><td>suv               </td></tr>\n",
       "\t<tr><td>ford              </td><td>explorer 4wd      </td><td>4.6               </td><td>2008              </td><td>8                 </td><td>auto(l6)          </td><td>4                 </td><td>13                </td><td>19                </td><td>r                 </td><td>suv               </td></tr>\n",
       "\t<tr><td>ford              </td><td>explorer 4wd      </td><td>5.0               </td><td>1999              </td><td>8                 </td><td>auto(l4)          </td><td>4                 </td><td>13                </td><td>17                </td><td>r                 </td><td>suv               </td></tr>\n",
       "\t<tr><td>ford              </td><td>f150 pickup 4wd   </td><td>4.2               </td><td>1999              </td><td>6                 </td><td>auto(l4)          </td><td>4                 </td><td>14                </td><td>17                </td><td>r                 </td><td>pickup            </td></tr>\n",
       "\t<tr><td>ford              </td><td>f150 pickup 4wd   </td><td>4.2               </td><td>1999              </td><td>6                 </td><td>manual(m5)        </td><td>4                 </td><td>14                </td><td>17                </td><td>r                 </td><td>pickup            </td></tr>\n",
       "\t<tr><td>ford              </td><td>f150 pickup 4wd   </td><td>4.6               </td><td>1999              </td><td>8                 </td><td>manual(m5)        </td><td>4                 </td><td>13                </td><td>16                </td><td>r                 </td><td>pickup            </td></tr>\n",
       "\t<tr><td>ford              </td><td>f150 pickup 4wd   </td><td>4.6               </td><td>1999              </td><td>8                 </td><td>auto(l4)          </td><td>4                 </td><td>13                </td><td>16                </td><td>r                 </td><td>pickup            </td></tr>\n",
       "\t<tr><td>ford              </td><td>f150 pickup 4wd   </td><td>4.6               </td><td>2008              </td><td>8                 </td><td>auto(l4)          </td><td>4                 </td><td>13                </td><td>17                </td><td>r                 </td><td>pickup            </td></tr>\n",
       "\t<tr><td>ford              </td><td>f150 pickup 4wd   </td><td>5.4               </td><td>1999              </td><td>8                 </td><td>auto(l4)          </td><td>4                 </td><td>11                </td><td>15                </td><td>r                 </td><td>pickup            </td></tr>\n",
       "\t<tr><td>ford              </td><td>f150 pickup 4wd   </td><td>5.4               </td><td>2008              </td><td>8                 </td><td>auto(l4)          </td><td>4                 </td><td>13                </td><td>17                </td><td>r                 </td><td>pickup            </td></tr>\n",
       "\t<tr><td>ford              </td><td>mustang           </td><td>3.8               </td><td>1999              </td><td>6                 </td><td>manual(m5)        </td><td>r                 </td><td>18                </td><td>26                </td><td>r                 </td><td>subcompact        </td></tr>\n",
       "\t<tr><td>ford              </td><td>mustang           </td><td>3.8               </td><td>1999              </td><td>6                 </td><td>auto(l4)          </td><td>r                 </td><td>18                </td><td>25                </td><td>r                 </td><td>subcompact        </td></tr>\n",
       "\t<tr><td>ford              </td><td>mustang           </td><td>4.0               </td><td>2008              </td><td>6                 </td><td>manual(m5)        </td><td>r                 </td><td>17                </td><td>26                </td><td>r                 </td><td>subcompact        </td></tr>\n",
       "\t<tr><td>ford              </td><td>mustang           </td><td>4.0               </td><td>2008              </td><td>6                 </td><td>auto(l5)          </td><td>r                 </td><td>16                </td><td>24                </td><td>r                 </td><td>subcompact        </td></tr>\n",
       "\t<tr><td>ford              </td><td>mustang           </td><td>4.6               </td><td>1999              </td><td>8                 </td><td>auto(l4)          </td><td>r                 </td><td>15                </td><td>21                </td><td>r                 </td><td>subcompact        </td></tr>\n",
       "\t<tr><td>ford              </td><td>mustang           </td><td>4.6               </td><td>1999              </td><td>8                 </td><td>manual(m5)        </td><td>r                 </td><td>15                </td><td>22                </td><td>r                 </td><td>subcompact        </td></tr>\n",
       "\t<tr><td>ford              </td><td>mustang           </td><td>4.6               </td><td>2008              </td><td>8                 </td><td>manual(m5)        </td><td>r                 </td><td>15                </td><td>23                </td><td>r                 </td><td>subcompact        </td></tr>\n",
       "\t<tr><td>ford              </td><td>mustang           </td><td>4.6               </td><td>2008              </td><td>8                 </td><td>auto(l5)          </td><td>r                 </td><td>15                </td><td>22                </td><td>r                 </td><td>subcompact        </td></tr>\n",
       "\t<tr><td>ford              </td><td>mustang           </td><td>5.4               </td><td>2008              </td><td>8                 </td><td>manual(m6)        </td><td>r                 </td><td>14                </td><td>20                </td><td>p                 </td><td>subcompact        </td></tr>\n",
       "\t<tr><td>honda             </td><td>civic             </td><td>1.6               </td><td>1999              </td><td>4                 </td><td>manual(m5)        </td><td>f                 </td><td>28                </td><td>33                </td><td>r                 </td><td>subcompact        </td></tr>\n",
       "\t<tr><td>honda             </td><td>civic             </td><td>1.6               </td><td>1999              </td><td>4                 </td><td>auto(l4)          </td><td>f                 </td><td>24                </td><td>32                </td><td>r                 </td><td>subcompact        </td></tr>\n",
       "\t<tr><td>honda             </td><td>civic             </td><td>1.6               </td><td>1999              </td><td>4                 </td><td>manual(m5)        </td><td>f                 </td><td>25                </td><td>32                </td><td>r                 </td><td>subcompact        </td></tr>\n",
       "\t<tr><td>honda             </td><td>civic             </td><td>1.6               </td><td>1999              </td><td>4                 </td><td>manual(m5)        </td><td>f                 </td><td>23                </td><td>29                </td><td>p                 </td><td>subcompact        </td></tr>\n",
       "\t<tr><td>honda             </td><td>civic             </td><td>1.6               </td><td>1999              </td><td>4                 </td><td>auto(l4)          </td><td>f                 </td><td>24                </td><td>32                </td><td>r                 </td><td>subcompact        </td></tr>\n",
       "\t<tr><td>honda             </td><td>civic             </td><td>1.8               </td><td>2008              </td><td>4                 </td><td>manual(m5)        </td><td>f                 </td><td>26                </td><td>34                </td><td>r                 </td><td>subcompact        </td></tr>\n",
       "\t<tr><td>honda             </td><td>civic             </td><td>1.8               </td><td>2008              </td><td>4                 </td><td>auto(l5)          </td><td>f                 </td><td>25                </td><td>36                </td><td>r                 </td><td>subcompact        </td></tr>\n",
       "\t<tr><td>honda             </td><td>civic             </td><td>1.8               </td><td>2008              </td><td>4                 </td><td>auto(l5)          </td><td>f                 </td><td>24                </td><td>36                </td><td>c                 </td><td>subcompact        </td></tr>\n",
       "\t<tr><td>honda             </td><td>civic             </td><td>2.0               </td><td>2008              </td><td>4                 </td><td>manual(m6)        </td><td>f                 </td><td>21                </td><td>29                </td><td>p                 </td><td>subcompact        </td></tr>\n",
       "</tbody>\n",
       "</table>\n"
      ],
      "text/latex": [
       "\\begin{tabular}{r|lllllllllll}\n",
       " manufacturer & model & displ & year & cyl & trans & drv & cty & hwy & fl & class\\\\\n",
       "\\hline\n",
       "\t chevrolet          & c1500 suburban 2wd & 5.3                & 2008               & 8                  & auto(l4)           & r                  & 14                 & 20                 & r                  & suv               \\\\\n",
       "\t chevrolet          & c1500 suburban 2wd & 5.3                & 2008               & 8                  & auto(l4)           & r                  & 11                 & 15                 & e                  & suv               \\\\\n",
       "\t chevrolet          & c1500 suburban 2wd & 5.3                & 2008               & 8                  & auto(l4)           & r                  & 14                 & 20                 & r                  & suv               \\\\\n",
       "\t chevrolet          & c1500 suburban 2wd & 5.7                & 1999               & 8                  & auto(l4)           & r                  & 13                 & 17                 & r                  & suv               \\\\\n",
       "\t chevrolet          & c1500 suburban 2wd & 6.0                & 2008               & 8                  & auto(l4)           & r                  & 12                 & 17                 & r                  & suv               \\\\\n",
       "\t chevrolet          & corvette           & 5.7                & 1999               & 8                  & manual(m6)         & r                  & 16                 & 26                 & p                  & 2seater           \\\\\n",
       "\t chevrolet          & corvette           & 5.7                & 1999               & 8                  & auto(l4)           & r                  & 15                 & 23                 & p                  & 2seater           \\\\\n",
       "\t chevrolet          & corvette           & 6.2                & 2008               & 8                  & manual(m6)         & r                  & 16                 & 26                 & p                  & 2seater           \\\\\n",
       "\t chevrolet          & corvette           & 6.2                & 2008               & 8                  & auto(s6)           & r                  & 15                 & 25                 & p                  & 2seater           \\\\\n",
       "\t chevrolet          & corvette           & 7.0                & 2008               & 8                  & manual(m6)         & r                  & 15                 & 24                 & p                  & 2seater           \\\\\n",
       "\t chevrolet          & k1500 tahoe 4wd    & 5.3                & 2008               & 8                  & auto(l4)           & 4                  & 14                 & 19                 & r                  & suv               \\\\\n",
       "\t chevrolet          & k1500 tahoe 4wd    & 5.3                & 2008               & 8                  & auto(l4)           & 4                  & 11                 & 14                 & e                  & suv               \\\\\n",
       "\t chevrolet          & k1500 tahoe 4wd    & 5.7                & 1999               & 8                  & auto(l4)           & 4                  & 11                 & 15                 & r                  & suv               \\\\\n",
       "\t chevrolet          & k1500 tahoe 4wd    & 6.5                & 1999               & 8                  & auto(l4)           & 4                  & 14                 & 17                 & d                  & suv               \\\\\n",
       "\t chevrolet          & malibu             & 2.4                & 1999               & 4                  & auto(l4)           & f                  & 19                 & 27                 & r                  & midsize           \\\\\n",
       "\t chevrolet          & malibu             & 2.4                & 2008               & 4                  & auto(l4)           & f                  & 22                 & 30                 & r                  & midsize           \\\\\n",
       "\t chevrolet          & malibu             & 3.1                & 1999               & 6                  & auto(l4)           & f                  & 18                 & 26                 & r                  & midsize           \\\\\n",
       "\t chevrolet          & malibu             & 3.5                & 2008               & 6                  & auto(l4)           & f                  & 18                 & 29                 & r                  & midsize           \\\\\n",
       "\t chevrolet          & malibu             & 3.6                & 2008               & 6                  & auto(s6)           & f                  & 17                 & 26                 & r                  & midsize           \\\\\n",
       "\t ford               & expedition 2wd     & 4.6                & 1999               & 8                  & auto(l4)           & r                  & 11                 & 17                 & r                  & suv               \\\\\n",
       "\t ford               & expedition 2wd     & 5.4                & 1999               & 8                  & auto(l4)           & r                  & 11                 & 17                 & r                  & suv               \\\\\n",
       "\t ford               & expedition 2wd     & 5.4                & 2008               & 8                  & auto(l6)           & r                  & 12                 & 18                 & r                  & suv               \\\\\n",
       "\t ford               & explorer 4wd       & 4.0                & 1999               & 6                  & auto(l5)           & 4                  & 14                 & 17                 & r                  & suv               \\\\\n",
       "\t ford               & explorer 4wd       & 4.0                & 1999               & 6                  & manual(m5)         & 4                  & 15                 & 19                 & r                  & suv               \\\\\n",
       "\t ford               & explorer 4wd       & 4.0                & 1999               & 6                  & auto(l5)           & 4                  & 14                 & 17                 & r                  & suv               \\\\\n",
       "\t ford               & explorer 4wd       & 4.0                & 2008               & 6                  & auto(l5)           & 4                  & 13                 & 19                 & r                  & suv               \\\\\n",
       "\t ford               & explorer 4wd       & 4.6                & 2008               & 8                  & auto(l6)           & 4                  & 13                 & 19                 & r                  & suv               \\\\\n",
       "\t ford               & explorer 4wd       & 5.0                & 1999               & 8                  & auto(l4)           & 4                  & 13                 & 17                 & r                  & suv               \\\\\n",
       "\t ford               & f150 pickup 4wd    & 4.2                & 1999               & 6                  & auto(l4)           & 4                  & 14                 & 17                 & r                  & pickup            \\\\\n",
       "\t ford               & f150 pickup 4wd    & 4.2                & 1999               & 6                  & manual(m5)         & 4                  & 14                 & 17                 & r                  & pickup            \\\\\n",
       "\t ford               & f150 pickup 4wd    & 4.6                & 1999               & 8                  & manual(m5)         & 4                  & 13                 & 16                 & r                  & pickup            \\\\\n",
       "\t ford               & f150 pickup 4wd    & 4.6                & 1999               & 8                  & auto(l4)           & 4                  & 13                 & 16                 & r                  & pickup            \\\\\n",
       "\t ford               & f150 pickup 4wd    & 4.6                & 2008               & 8                  & auto(l4)           & 4                  & 13                 & 17                 & r                  & pickup            \\\\\n",
       "\t ford               & f150 pickup 4wd    & 5.4                & 1999               & 8                  & auto(l4)           & 4                  & 11                 & 15                 & r                  & pickup            \\\\\n",
       "\t ford               & f150 pickup 4wd    & 5.4                & 2008               & 8                  & auto(l4)           & 4                  & 13                 & 17                 & r                  & pickup            \\\\\n",
       "\t ford               & mustang            & 3.8                & 1999               & 6                  & manual(m5)         & r                  & 18                 & 26                 & r                  & subcompact        \\\\\n",
       "\t ford               & mustang            & 3.8                & 1999               & 6                  & auto(l4)           & r                  & 18                 & 25                 & r                  & subcompact        \\\\\n",
       "\t ford               & mustang            & 4.0                & 2008               & 6                  & manual(m5)         & r                  & 17                 & 26                 & r                  & subcompact        \\\\\n",
       "\t ford               & mustang            & 4.0                & 2008               & 6                  & auto(l5)           & r                  & 16                 & 24                 & r                  & subcompact        \\\\\n",
       "\t ford               & mustang            & 4.6                & 1999               & 8                  & auto(l4)           & r                  & 15                 & 21                 & r                  & subcompact        \\\\\n",
       "\t ford               & mustang            & 4.6                & 1999               & 8                  & manual(m5)         & r                  & 15                 & 22                 & r                  & subcompact        \\\\\n",
       "\t ford               & mustang            & 4.6                & 2008               & 8                  & manual(m5)         & r                  & 15                 & 23                 & r                  & subcompact        \\\\\n",
       "\t ford               & mustang            & 4.6                & 2008               & 8                  & auto(l5)           & r                  & 15                 & 22                 & r                  & subcompact        \\\\\n",
       "\t ford               & mustang            & 5.4                & 2008               & 8                  & manual(m6)         & r                  & 14                 & 20                 & p                  & subcompact        \\\\\n",
       "\t honda              & civic              & 1.6                & 1999               & 4                  & manual(m5)         & f                  & 28                 & 33                 & r                  & subcompact        \\\\\n",
       "\t honda              & civic              & 1.6                & 1999               & 4                  & auto(l4)           & f                  & 24                 & 32                 & r                  & subcompact        \\\\\n",
       "\t honda              & civic              & 1.6                & 1999               & 4                  & manual(m5)         & f                  & 25                 & 32                 & r                  & subcompact        \\\\\n",
       "\t honda              & civic              & 1.6                & 1999               & 4                  & manual(m5)         & f                  & 23                 & 29                 & p                  & subcompact        \\\\\n",
       "\t honda              & civic              & 1.6                & 1999               & 4                  & auto(l4)           & f                  & 24                 & 32                 & r                  & subcompact        \\\\\n",
       "\t honda              & civic              & 1.8                & 2008               & 4                  & manual(m5)         & f                  & 26                 & 34                 & r                  & subcompact        \\\\\n",
       "\t honda              & civic              & 1.8                & 2008               & 4                  & auto(l5)           & f                  & 25                 & 36                 & r                  & subcompact        \\\\\n",
       "\t honda              & civic              & 1.8                & 2008               & 4                  & auto(l5)           & f                  & 24                 & 36                 & c                  & subcompact        \\\\\n",
       "\t honda              & civic              & 2.0                & 2008               & 4                  & manual(m6)         & f                  & 21                 & 29                 & p                  & subcompact        \\\\\n",
       "\\end{tabular}\n"
      ],
      "text/markdown": [
       "\n",
       "| manufacturer | model | displ | year | cyl | trans | drv | cty | hwy | fl | class |\n",
       "|---|---|---|---|---|---|---|---|---|---|---|\n",
       "| chevrolet          | c1500 suburban 2wd | 5.3                | 2008               | 8                  | auto(l4)           | r                  | 14                 | 20                 | r                  | suv                |\n",
       "| chevrolet          | c1500 suburban 2wd | 5.3                | 2008               | 8                  | auto(l4)           | r                  | 11                 | 15                 | e                  | suv                |\n",
       "| chevrolet          | c1500 suburban 2wd | 5.3                | 2008               | 8                  | auto(l4)           | r                  | 14                 | 20                 | r                  | suv                |\n",
       "| chevrolet          | c1500 suburban 2wd | 5.7                | 1999               | 8                  | auto(l4)           | r                  | 13                 | 17                 | r                  | suv                |\n",
       "| chevrolet          | c1500 suburban 2wd | 6.0                | 2008               | 8                  | auto(l4)           | r                  | 12                 | 17                 | r                  | suv                |\n",
       "| chevrolet          | corvette           | 5.7                | 1999               | 8                  | manual(m6)         | r                  | 16                 | 26                 | p                  | 2seater            |\n",
       "| chevrolet          | corvette           | 5.7                | 1999               | 8                  | auto(l4)           | r                  | 15                 | 23                 | p                  | 2seater            |\n",
       "| chevrolet          | corvette           | 6.2                | 2008               | 8                  | manual(m6)         | r                  | 16                 | 26                 | p                  | 2seater            |\n",
       "| chevrolet          | corvette           | 6.2                | 2008               | 8                  | auto(s6)           | r                  | 15                 | 25                 | p                  | 2seater            |\n",
       "| chevrolet          | corvette           | 7.0                | 2008               | 8                  | manual(m6)         | r                  | 15                 | 24                 | p                  | 2seater            |\n",
       "| chevrolet          | k1500 tahoe 4wd    | 5.3                | 2008               | 8                  | auto(l4)           | 4                  | 14                 | 19                 | r                  | suv                |\n",
       "| chevrolet          | k1500 tahoe 4wd    | 5.3                | 2008               | 8                  | auto(l4)           | 4                  | 11                 | 14                 | e                  | suv                |\n",
       "| chevrolet          | k1500 tahoe 4wd    | 5.7                | 1999               | 8                  | auto(l4)           | 4                  | 11                 | 15                 | r                  | suv                |\n",
       "| chevrolet          | k1500 tahoe 4wd    | 6.5                | 1999               | 8                  | auto(l4)           | 4                  | 14                 | 17                 | d                  | suv                |\n",
       "| chevrolet          | malibu             | 2.4                | 1999               | 4                  | auto(l4)           | f                  | 19                 | 27                 | r                  | midsize            |\n",
       "| chevrolet          | malibu             | 2.4                | 2008               | 4                  | auto(l4)           | f                  | 22                 | 30                 | r                  | midsize            |\n",
       "| chevrolet          | malibu             | 3.1                | 1999               | 6                  | auto(l4)           | f                  | 18                 | 26                 | r                  | midsize            |\n",
       "| chevrolet          | malibu             | 3.5                | 2008               | 6                  | auto(l4)           | f                  | 18                 | 29                 | r                  | midsize            |\n",
       "| chevrolet          | malibu             | 3.6                | 2008               | 6                  | auto(s6)           | f                  | 17                 | 26                 | r                  | midsize            |\n",
       "| ford               | expedition 2wd     | 4.6                | 1999               | 8                  | auto(l4)           | r                  | 11                 | 17                 | r                  | suv                |\n",
       "| ford               | expedition 2wd     | 5.4                | 1999               | 8                  | auto(l4)           | r                  | 11                 | 17                 | r                  | suv                |\n",
       "| ford               | expedition 2wd     | 5.4                | 2008               | 8                  | auto(l6)           | r                  | 12                 | 18                 | r                  | suv                |\n",
       "| ford               | explorer 4wd       | 4.0                | 1999               | 6                  | auto(l5)           | 4                  | 14                 | 17                 | r                  | suv                |\n",
       "| ford               | explorer 4wd       | 4.0                | 1999               | 6                  | manual(m5)         | 4                  | 15                 | 19                 | r                  | suv                |\n",
       "| ford               | explorer 4wd       | 4.0                | 1999               | 6                  | auto(l5)           | 4                  | 14                 | 17                 | r                  | suv                |\n",
       "| ford               | explorer 4wd       | 4.0                | 2008               | 6                  | auto(l5)           | 4                  | 13                 | 19                 | r                  | suv                |\n",
       "| ford               | explorer 4wd       | 4.6                | 2008               | 8                  | auto(l6)           | 4                  | 13                 | 19                 | r                  | suv                |\n",
       "| ford               | explorer 4wd       | 5.0                | 1999               | 8                  | auto(l4)           | 4                  | 13                 | 17                 | r                  | suv                |\n",
       "| ford               | f150 pickup 4wd    | 4.2                | 1999               | 6                  | auto(l4)           | 4                  | 14                 | 17                 | r                  | pickup             |\n",
       "| ford               | f150 pickup 4wd    | 4.2                | 1999               | 6                  | manual(m5)         | 4                  | 14                 | 17                 | r                  | pickup             |\n",
       "| ford               | f150 pickup 4wd    | 4.6                | 1999               | 8                  | manual(m5)         | 4                  | 13                 | 16                 | r                  | pickup             |\n",
       "| ford               | f150 pickup 4wd    | 4.6                | 1999               | 8                  | auto(l4)           | 4                  | 13                 | 16                 | r                  | pickup             |\n",
       "| ford               | f150 pickup 4wd    | 4.6                | 2008               | 8                  | auto(l4)           | 4                  | 13                 | 17                 | r                  | pickup             |\n",
       "| ford               | f150 pickup 4wd    | 5.4                | 1999               | 8                  | auto(l4)           | 4                  | 11                 | 15                 | r                  | pickup             |\n",
       "| ford               | f150 pickup 4wd    | 5.4                | 2008               | 8                  | auto(l4)           | 4                  | 13                 | 17                 | r                  | pickup             |\n",
       "| ford               | mustang            | 3.8                | 1999               | 6                  | manual(m5)         | r                  | 18                 | 26                 | r                  | subcompact         |\n",
       "| ford               | mustang            | 3.8                | 1999               | 6                  | auto(l4)           | r                  | 18                 | 25                 | r                  | subcompact         |\n",
       "| ford               | mustang            | 4.0                | 2008               | 6                  | manual(m5)         | r                  | 17                 | 26                 | r                  | subcompact         |\n",
       "| ford               | mustang            | 4.0                | 2008               | 6                  | auto(l5)           | r                  | 16                 | 24                 | r                  | subcompact         |\n",
       "| ford               | mustang            | 4.6                | 1999               | 8                  | auto(l4)           | r                  | 15                 | 21                 | r                  | subcompact         |\n",
       "| ford               | mustang            | 4.6                | 1999               | 8                  | manual(m5)         | r                  | 15                 | 22                 | r                  | subcompact         |\n",
       "| ford               | mustang            | 4.6                | 2008               | 8                  | manual(m5)         | r                  | 15                 | 23                 | r                  | subcompact         |\n",
       "| ford               | mustang            | 4.6                | 2008               | 8                  | auto(l5)           | r                  | 15                 | 22                 | r                  | subcompact         |\n",
       "| ford               | mustang            | 5.4                | 2008               | 8                  | manual(m6)         | r                  | 14                 | 20                 | p                  | subcompact         |\n",
       "| honda              | civic              | 1.6                | 1999               | 4                  | manual(m5)         | f                  | 28                 | 33                 | r                  | subcompact         |\n",
       "| honda              | civic              | 1.6                | 1999               | 4                  | auto(l4)           | f                  | 24                 | 32                 | r                  | subcompact         |\n",
       "| honda              | civic              | 1.6                | 1999               | 4                  | manual(m5)         | f                  | 25                 | 32                 | r                  | subcompact         |\n",
       "| honda              | civic              | 1.6                | 1999               | 4                  | manual(m5)         | f                  | 23                 | 29                 | p                  | subcompact         |\n",
       "| honda              | civic              | 1.6                | 1999               | 4                  | auto(l4)           | f                  | 24                 | 32                 | r                  | subcompact         |\n",
       "| honda              | civic              | 1.8                | 2008               | 4                  | manual(m5)         | f                  | 26                 | 34                 | r                  | subcompact         |\n",
       "| honda              | civic              | 1.8                | 2008               | 4                  | auto(l5)           | f                  | 25                 | 36                 | r                  | subcompact         |\n",
       "| honda              | civic              | 1.8                | 2008               | 4                  | auto(l5)           | f                  | 24                 | 36                 | c                  | subcompact         |\n",
       "| honda              | civic              | 2.0                | 2008               | 4                  | manual(m6)         | f                  | 21                 | 29                 | p                  | subcompact         |\n",
       "\n"
      ],
      "text/plain": [
       "   manufacturer model              displ year cyl trans      drv cty hwy fl\n",
       "1  chevrolet    c1500 suburban 2wd 5.3   2008 8   auto(l4)   r   14  20  r \n",
       "2  chevrolet    c1500 suburban 2wd 5.3   2008 8   auto(l4)   r   11  15  e \n",
       "3  chevrolet    c1500 suburban 2wd 5.3   2008 8   auto(l4)   r   14  20  r \n",
       "4  chevrolet    c1500 suburban 2wd 5.7   1999 8   auto(l4)   r   13  17  r \n",
       "5  chevrolet    c1500 suburban 2wd 6.0   2008 8   auto(l4)   r   12  17  r \n",
       "6  chevrolet    corvette           5.7   1999 8   manual(m6) r   16  26  p \n",
       "7  chevrolet    corvette           5.7   1999 8   auto(l4)   r   15  23  p \n",
       "8  chevrolet    corvette           6.2   2008 8   manual(m6) r   16  26  p \n",
       "9  chevrolet    corvette           6.2   2008 8   auto(s6)   r   15  25  p \n",
       "10 chevrolet    corvette           7.0   2008 8   manual(m6) r   15  24  p \n",
       "11 chevrolet    k1500 tahoe 4wd    5.3   2008 8   auto(l4)   4   14  19  r \n",
       "12 chevrolet    k1500 tahoe 4wd    5.3   2008 8   auto(l4)   4   11  14  e \n",
       "13 chevrolet    k1500 tahoe 4wd    5.7   1999 8   auto(l4)   4   11  15  r \n",
       "14 chevrolet    k1500 tahoe 4wd    6.5   1999 8   auto(l4)   4   14  17  d \n",
       "15 chevrolet    malibu             2.4   1999 4   auto(l4)   f   19  27  r \n",
       "16 chevrolet    malibu             2.4   2008 4   auto(l4)   f   22  30  r \n",
       "17 chevrolet    malibu             3.1   1999 6   auto(l4)   f   18  26  r \n",
       "18 chevrolet    malibu             3.5   2008 6   auto(l4)   f   18  29  r \n",
       "19 chevrolet    malibu             3.6   2008 6   auto(s6)   f   17  26  r \n",
       "20 ford         expedition 2wd     4.6   1999 8   auto(l4)   r   11  17  r \n",
       "21 ford         expedition 2wd     5.4   1999 8   auto(l4)   r   11  17  r \n",
       "22 ford         expedition 2wd     5.4   2008 8   auto(l6)   r   12  18  r \n",
       "23 ford         explorer 4wd       4.0   1999 6   auto(l5)   4   14  17  r \n",
       "24 ford         explorer 4wd       4.0   1999 6   manual(m5) 4   15  19  r \n",
       "25 ford         explorer 4wd       4.0   1999 6   auto(l5)   4   14  17  r \n",
       "26 ford         explorer 4wd       4.0   2008 6   auto(l5)   4   13  19  r \n",
       "27 ford         explorer 4wd       4.6   2008 8   auto(l6)   4   13  19  r \n",
       "28 ford         explorer 4wd       5.0   1999 8   auto(l4)   4   13  17  r \n",
       "29 ford         f150 pickup 4wd    4.2   1999 6   auto(l4)   4   14  17  r \n",
       "30 ford         f150 pickup 4wd    4.2   1999 6   manual(m5) 4   14  17  r \n",
       "31 ford         f150 pickup 4wd    4.6   1999 8   manual(m5) 4   13  16  r \n",
       "32 ford         f150 pickup 4wd    4.6   1999 8   auto(l4)   4   13  16  r \n",
       "33 ford         f150 pickup 4wd    4.6   2008 8   auto(l4)   4   13  17  r \n",
       "34 ford         f150 pickup 4wd    5.4   1999 8   auto(l4)   4   11  15  r \n",
       "35 ford         f150 pickup 4wd    5.4   2008 8   auto(l4)   4   13  17  r \n",
       "36 ford         mustang            3.8   1999 6   manual(m5) r   18  26  r \n",
       "37 ford         mustang            3.8   1999 6   auto(l4)   r   18  25  r \n",
       "38 ford         mustang            4.0   2008 6   manual(m5) r   17  26  r \n",
       "39 ford         mustang            4.0   2008 6   auto(l5)   r   16  24  r \n",
       "40 ford         mustang            4.6   1999 8   auto(l4)   r   15  21  r \n",
       "41 ford         mustang            4.6   1999 8   manual(m5) r   15  22  r \n",
       "42 ford         mustang            4.6   2008 8   manual(m5) r   15  23  r \n",
       "43 ford         mustang            4.6   2008 8   auto(l5)   r   15  22  r \n",
       "44 ford         mustang            5.4   2008 8   manual(m6) r   14  20  p \n",
       "45 honda        civic              1.6   1999 4   manual(m5) f   28  33  r \n",
       "46 honda        civic              1.6   1999 4   auto(l4)   f   24  32  r \n",
       "47 honda        civic              1.6   1999 4   manual(m5) f   25  32  r \n",
       "48 honda        civic              1.6   1999 4   manual(m5) f   23  29  p \n",
       "49 honda        civic              1.6   1999 4   auto(l4)   f   24  32  r \n",
       "50 honda        civic              1.8   2008 4   manual(m5) f   26  34  r \n",
       "51 honda        civic              1.8   2008 4   auto(l5)   f   25  36  r \n",
       "52 honda        civic              1.8   2008 4   auto(l5)   f   24  36  c \n",
       "53 honda        civic              2.0   2008 4   manual(m6) f   21  29  p \n",
       "   class     \n",
       "1  suv       \n",
       "2  suv       \n",
       "3  suv       \n",
       "4  suv       \n",
       "5  suv       \n",
       "6  2seater   \n",
       "7  2seater   \n",
       "8  2seater   \n",
       "9  2seater   \n",
       "10 2seater   \n",
       "11 suv       \n",
       "12 suv       \n",
       "13 suv       \n",
       "14 suv       \n",
       "15 midsize   \n",
       "16 midsize   \n",
       "17 midsize   \n",
       "18 midsize   \n",
       "19 midsize   \n",
       "20 suv       \n",
       "21 suv       \n",
       "22 suv       \n",
       "23 suv       \n",
       "24 suv       \n",
       "25 suv       \n",
       "26 suv       \n",
       "27 suv       \n",
       "28 suv       \n",
       "29 pickup    \n",
       "30 pickup    \n",
       "31 pickup    \n",
       "32 pickup    \n",
       "33 pickup    \n",
       "34 pickup    \n",
       "35 pickup    \n",
       "36 subcompact\n",
       "37 subcompact\n",
       "38 subcompact\n",
       "39 subcompact\n",
       "40 subcompact\n",
       "41 subcompact\n",
       "42 subcompact\n",
       "43 subcompact\n",
       "44 subcompact\n",
       "45 subcompact\n",
       "46 subcompact\n",
       "47 subcompact\n",
       "48 subcompact\n",
       "49 subcompact\n",
       "50 subcompact\n",
       "51 subcompact\n",
       "52 subcompact\n",
       "53 subcompact"
      ]
     },
     "metadata": {},
     "output_type": "display_data"
    }
   ],
   "source": [
    "mpg_new"
   ]
  },
  {
   "cell_type": "code",
   "execution_count": 123,
   "metadata": {},
   "outputs": [
    {
     "data": {
      "text/html": [
       "<table>\n",
       "<thead><tr><th scope=col>math</th></tr></thead>\n",
       "<tbody>\n",
       "\t<tr><td>50</td></tr>\n",
       "\t<tr><td>60</td></tr>\n",
       "\t<tr><td>45</td></tr>\n",
       "\t<tr><td>30</td></tr>\n",
       "\t<tr><td>25</td></tr>\n",
       "\t<tr><td>50</td></tr>\n",
       "\t<tr><td>80</td></tr>\n",
       "\t<tr><td>90</td></tr>\n",
       "\t<tr><td>20</td></tr>\n",
       "\t<tr><td>50</td></tr>\n",
       "\t<tr><td>65</td></tr>\n",
       "\t<tr><td>45</td></tr>\n",
       "\t<tr><td>46</td></tr>\n",
       "\t<tr><td>48</td></tr>\n",
       "\t<tr><td>75</td></tr>\n",
       "\t<tr><td>58</td></tr>\n",
       "\t<tr><td>65</td></tr>\n",
       "\t<tr><td>80</td></tr>\n",
       "\t<tr><td>89</td></tr>\n",
       "\t<tr><td>78</td></tr>\n",
       "</tbody>\n",
       "</table>\n"
      ],
      "text/latex": [
       "\\begin{tabular}{r|l}\n",
       " math\\\\\n",
       "\\hline\n",
       "\t 50\\\\\n",
       "\t 60\\\\\n",
       "\t 45\\\\\n",
       "\t 30\\\\\n",
       "\t 25\\\\\n",
       "\t 50\\\\\n",
       "\t 80\\\\\n",
       "\t 90\\\\\n",
       "\t 20\\\\\n",
       "\t 50\\\\\n",
       "\t 65\\\\\n",
       "\t 45\\\\\n",
       "\t 46\\\\\n",
       "\t 48\\\\\n",
       "\t 75\\\\\n",
       "\t 58\\\\\n",
       "\t 65\\\\\n",
       "\t 80\\\\\n",
       "\t 89\\\\\n",
       "\t 78\\\\\n",
       "\\end{tabular}\n"
      ],
      "text/markdown": [
       "\n",
       "| math |\n",
       "|---|\n",
       "| 50 |\n",
       "| 60 |\n",
       "| 45 |\n",
       "| 30 |\n",
       "| 25 |\n",
       "| 50 |\n",
       "| 80 |\n",
       "| 90 |\n",
       "| 20 |\n",
       "| 50 |\n",
       "| 65 |\n",
       "| 45 |\n",
       "| 46 |\n",
       "| 48 |\n",
       "| 75 |\n",
       "| 58 |\n",
       "| 65 |\n",
       "| 80 |\n",
       "| 89 |\n",
       "| 78 |\n",
       "\n"
      ],
      "text/plain": [
       "   math\n",
       "1  50  \n",
       "2  60  \n",
       "3  45  \n",
       "4  30  \n",
       "5  25  \n",
       "6  50  \n",
       "7  80  \n",
       "8  90  \n",
       "9  20  \n",
       "10 50  \n",
       "11 65  \n",
       "12 45  \n",
       "13 46  \n",
       "14 48  \n",
       "15 75  \n",
       "16 58  \n",
       "17 65  \n",
       "18 80  \n",
       "19 89  \n",
       "20 78  "
      ]
     },
     "metadata": {},
     "output_type": "display_data"
    }
   ],
   "source": [
    "exam %>% select(math)"
   ]
  },
  {
   "cell_type": "code",
   "execution_count": 125,
   "metadata": {},
   "outputs": [
    {
     "data": {
      "text/html": [
       "<table>\n",
       "<thead><tr><th scope=col>english</th></tr></thead>\n",
       "<tbody>\n",
       "\t<tr><td>98</td></tr>\n",
       "\t<tr><td>97</td></tr>\n",
       "\t<tr><td>86</td></tr>\n",
       "\t<tr><td>98</td></tr>\n",
       "\t<tr><td>80</td></tr>\n",
       "\t<tr><td>89</td></tr>\n",
       "\t<tr><td>90</td></tr>\n",
       "\t<tr><td>78</td></tr>\n",
       "\t<tr><td>98</td></tr>\n",
       "\t<tr><td>98</td></tr>\n",
       "\t<tr><td>65</td></tr>\n",
       "\t<tr><td>85</td></tr>\n",
       "\t<tr><td>98</td></tr>\n",
       "\t<tr><td>87</td></tr>\n",
       "\t<tr><td>56</td></tr>\n",
       "\t<tr><td>98</td></tr>\n",
       "\t<tr><td>68</td></tr>\n",
       "\t<tr><td>78</td></tr>\n",
       "\t<tr><td>68</td></tr>\n",
       "\t<tr><td>83</td></tr>\n",
       "</tbody>\n",
       "</table>\n"
      ],
      "text/latex": [
       "\\begin{tabular}{r|l}\n",
       " english\\\\\n",
       "\\hline\n",
       "\t 98\\\\\n",
       "\t 97\\\\\n",
       "\t 86\\\\\n",
       "\t 98\\\\\n",
       "\t 80\\\\\n",
       "\t 89\\\\\n",
       "\t 90\\\\\n",
       "\t 78\\\\\n",
       "\t 98\\\\\n",
       "\t 98\\\\\n",
       "\t 65\\\\\n",
       "\t 85\\\\\n",
       "\t 98\\\\\n",
       "\t 87\\\\\n",
       "\t 56\\\\\n",
       "\t 98\\\\\n",
       "\t 68\\\\\n",
       "\t 78\\\\\n",
       "\t 68\\\\\n",
       "\t 83\\\\\n",
       "\\end{tabular}\n"
      ],
      "text/markdown": [
       "\n",
       "| english |\n",
       "|---|\n",
       "| 98 |\n",
       "| 97 |\n",
       "| 86 |\n",
       "| 98 |\n",
       "| 80 |\n",
       "| 89 |\n",
       "| 90 |\n",
       "| 78 |\n",
       "| 98 |\n",
       "| 98 |\n",
       "| 65 |\n",
       "| 85 |\n",
       "| 98 |\n",
       "| 87 |\n",
       "| 56 |\n",
       "| 98 |\n",
       "| 68 |\n",
       "| 78 |\n",
       "| 68 |\n",
       "| 83 |\n",
       "\n"
      ],
      "text/plain": [
       "   english\n",
       "1  98     \n",
       "2  97     \n",
       "3  86     \n",
       "4  98     \n",
       "5  80     \n",
       "6  89     \n",
       "7  90     \n",
       "8  78     \n",
       "9  98     \n",
       "10 98     \n",
       "11 65     \n",
       "12 85     \n",
       "13 98     \n",
       "14 87     \n",
       "15 56     \n",
       "16 98     \n",
       "17 68     \n",
       "18 78     \n",
       "19 68     \n",
       "20 83     "
      ]
     },
     "metadata": {},
     "output_type": "display_data"
    }
   ],
   "source": [
    "exam %>% select(english)"
   ]
  },
  {
   "cell_type": "code",
   "execution_count": 130,
   "metadata": {},
   "outputs": [
    {
     "data": {
      "text/html": [
       "<table>\n",
       "<thead><tr><th scope=col>class</th><th scope=col>math</th><th scope=col>english</th></tr></thead>\n",
       "<tbody>\n",
       "\t<tr><td>1 </td><td>50</td><td>98</td></tr>\n",
       "\t<tr><td>1 </td><td>60</td><td>97</td></tr>\n",
       "\t<tr><td>1 </td><td>45</td><td>86</td></tr>\n",
       "\t<tr><td>1 </td><td>30</td><td>98</td></tr>\n",
       "\t<tr><td>2 </td><td>25</td><td>80</td></tr>\n",
       "</tbody>\n",
       "</table>\n"
      ],
      "text/latex": [
       "\\begin{tabular}{r|lll}\n",
       " class & math & english\\\\\n",
       "\\hline\n",
       "\t 1  & 50 & 98\\\\\n",
       "\t 1  & 60 & 97\\\\\n",
       "\t 1  & 45 & 86\\\\\n",
       "\t 1  & 30 & 98\\\\\n",
       "\t 2  & 25 & 80\\\\\n",
       "\\end{tabular}\n"
      ],
      "text/markdown": [
       "\n",
       "| class | math | english |\n",
       "|---|---|---|\n",
       "| 1  | 50 | 98 |\n",
       "| 1  | 60 | 97 |\n",
       "| 1  | 45 | 86 |\n",
       "| 1  | 30 | 98 |\n",
       "| 2  | 25 | 80 |\n",
       "\n"
      ],
      "text/plain": [
       "  class math english\n",
       "1 1     50   98     \n",
       "2 1     60   97     \n",
       "3 1     45   86     \n",
       "4 1     30   98     \n",
       "5 2     25   80     "
      ]
     },
     "metadata": {},
     "output_type": "display_data"
    }
   ],
   "source": [
    "exam %>% \n",
    "    select(class, math, english) %>%\n",
    "    head(5)"
   ]
  },
  {
   "cell_type": "code",
   "execution_count": 131,
   "metadata": {},
   "outputs": [
    {
     "data": {
      "text/html": [
       "<table>\n",
       "<thead><tr><th scope=col>id</th><th scope=col>class</th><th scope=col>english</th><th scope=col>science</th></tr></thead>\n",
       "<tbody>\n",
       "\t<tr><td>1 </td><td>1 </td><td>98</td><td>50</td></tr>\n",
       "\t<tr><td>2 </td><td>1 </td><td>97</td><td>60</td></tr>\n",
       "\t<tr><td>3 </td><td>1 </td><td>86</td><td>78</td></tr>\n",
       "\t<tr><td>4 </td><td>1 </td><td>98</td><td>58</td></tr>\n",
       "\t<tr><td>5 </td><td>2 </td><td>80</td><td>65</td></tr>\n",
       "\t<tr><td>6 </td><td>2 </td><td>89</td><td>98</td></tr>\n",
       "</tbody>\n",
       "</table>\n"
      ],
      "text/latex": [
       "\\begin{tabular}{r|llll}\n",
       " id & class & english & science\\\\\n",
       "\\hline\n",
       "\t 1  & 1  & 98 & 50\\\\\n",
       "\t 2  & 1  & 97 & 60\\\\\n",
       "\t 3  & 1  & 86 & 78\\\\\n",
       "\t 4  & 1  & 98 & 58\\\\\n",
       "\t 5  & 2  & 80 & 65\\\\\n",
       "\t 6  & 2  & 89 & 98\\\\\n",
       "\\end{tabular}\n"
      ],
      "text/markdown": [
       "\n",
       "| id | class | english | science |\n",
       "|---|---|---|---|\n",
       "| 1  | 1  | 98 | 50 |\n",
       "| 2  | 1  | 97 | 60 |\n",
       "| 3  | 1  | 86 | 78 |\n",
       "| 4  | 1  | 98 | 58 |\n",
       "| 5  | 2  | 80 | 65 |\n",
       "| 6  | 2  | 89 | 98 |\n",
       "\n"
      ],
      "text/plain": [
       "  id class english science\n",
       "1 1  1     98      50     \n",
       "2 2  1     97      60     \n",
       "3 3  1     86      78     \n",
       "4 4  1     98      58     \n",
       "5 5  2     80      65     \n",
       "6 6  2     89      98     "
      ]
     },
     "metadata": {},
     "output_type": "display_data"
    }
   ],
   "source": [
    "exam %>%\n",
    "    select(-math) %>%\n",
    "    head"
   ]
  },
  {
   "cell_type": "code",
   "execution_count": 132,
   "metadata": {},
   "outputs": [
    {
     "data": {
      "text/html": [
       "<table>\n",
       "<thead><tr><th scope=col>english</th><th scope=col>science</th></tr></thead>\n",
       "<tbody>\n",
       "\t<tr><td>98</td><td>15</td></tr>\n",
       "\t<tr><td>98</td><td>45</td></tr>\n",
       "\t<tr><td>65</td><td>65</td></tr>\n",
       "</tbody>\n",
       "</table>\n"
      ],
      "text/latex": [
       "\\begin{tabular}{r|ll}\n",
       " english & science\\\\\n",
       "\\hline\n",
       "\t 98 & 15\\\\\n",
       "\t 98 & 45\\\\\n",
       "\t 65 & 65\\\\\n",
       "\\end{tabular}\n"
      ],
      "text/markdown": [
       "\n",
       "| english | science |\n",
       "|---|---|\n",
       "| 98 | 15 |\n",
       "| 98 | 45 |\n",
       "| 65 | 65 |\n",
       "\n"
      ],
      "text/plain": [
       "  english science\n",
       "1 98      15     \n",
       "2 98      45     \n",
       "3 65      65     "
      ]
     },
     "metadata": {},
     "output_type": "display_data"
    }
   ],
   "source": [
    "exam %>%\n",
    "    filter(class==3) %>%\n",
    "    select(english, science) %>%\n",
    "    head(3)"
   ]
  },
  {
   "cell_type": "code",
   "execution_count": 134,
   "metadata": {},
   "outputs": [
    {
     "data": {
      "text/html": [
       "<table>\n",
       "<thead><tr><th scope=col>id</th><th scope=col>class</th><th scope=col>math</th><th scope=col>english</th><th scope=col>science</th></tr></thead>\n",
       "<tbody>\n",
       "\t<tr><td> 9</td><td>3 </td><td>20</td><td>98</td><td>15</td></tr>\n",
       "\t<tr><td> 5</td><td>2 </td><td>25</td><td>80</td><td>65</td></tr>\n",
       "\t<tr><td> 4</td><td>1 </td><td>30</td><td>98</td><td>58</td></tr>\n",
       "\t<tr><td> 3</td><td>1 </td><td>45</td><td>86</td><td>78</td></tr>\n",
       "\t<tr><td>12</td><td>3 </td><td>45</td><td>85</td><td>32</td></tr>\n",
       "\t<tr><td>13</td><td>4 </td><td>46</td><td>98</td><td>65</td></tr>\n",
       "\t<tr><td>14</td><td>4 </td><td>48</td><td>87</td><td>12</td></tr>\n",
       "\t<tr><td> 1</td><td>1 </td><td>50</td><td>98</td><td>50</td></tr>\n",
       "\t<tr><td> 6</td><td>2 </td><td>50</td><td>89</td><td>98</td></tr>\n",
       "\t<tr><td>10</td><td>3 </td><td>50</td><td>98</td><td>45</td></tr>\n",
       "\t<tr><td>16</td><td>4 </td><td>58</td><td>98</td><td>65</td></tr>\n",
       "\t<tr><td> 2</td><td>1 </td><td>60</td><td>97</td><td>60</td></tr>\n",
       "\t<tr><td>11</td><td>3 </td><td>65</td><td>65</td><td>65</td></tr>\n",
       "\t<tr><td>17</td><td>5 </td><td>65</td><td>68</td><td>98</td></tr>\n",
       "\t<tr><td>15</td><td>4 </td><td>75</td><td>56</td><td>78</td></tr>\n",
       "\t<tr><td>20</td><td>5 </td><td>78</td><td>83</td><td>58</td></tr>\n",
       "\t<tr><td> 7</td><td>2 </td><td>80</td><td>90</td><td>45</td></tr>\n",
       "\t<tr><td>18</td><td>5 </td><td>80</td><td>78</td><td>90</td></tr>\n",
       "\t<tr><td>19</td><td>5 </td><td>89</td><td>68</td><td>87</td></tr>\n",
       "\t<tr><td> 8</td><td>2 </td><td>90</td><td>78</td><td>25</td></tr>\n",
       "</tbody>\n",
       "</table>\n"
      ],
      "text/latex": [
       "\\begin{tabular}{r|lllll}\n",
       " id & class & math & english & science\\\\\n",
       "\\hline\n",
       "\t  9 & 3  & 20 & 98 & 15\\\\\n",
       "\t  5 & 2  & 25 & 80 & 65\\\\\n",
       "\t  4 & 1  & 30 & 98 & 58\\\\\n",
       "\t  3 & 1  & 45 & 86 & 78\\\\\n",
       "\t 12 & 3  & 45 & 85 & 32\\\\\n",
       "\t 13 & 4  & 46 & 98 & 65\\\\\n",
       "\t 14 & 4  & 48 & 87 & 12\\\\\n",
       "\t  1 & 1  & 50 & 98 & 50\\\\\n",
       "\t  6 & 2  & 50 & 89 & 98\\\\\n",
       "\t 10 & 3  & 50 & 98 & 45\\\\\n",
       "\t 16 & 4  & 58 & 98 & 65\\\\\n",
       "\t  2 & 1  & 60 & 97 & 60\\\\\n",
       "\t 11 & 3  & 65 & 65 & 65\\\\\n",
       "\t 17 & 5  & 65 & 68 & 98\\\\\n",
       "\t 15 & 4  & 75 & 56 & 78\\\\\n",
       "\t 20 & 5  & 78 & 83 & 58\\\\\n",
       "\t  7 & 2  & 80 & 90 & 45\\\\\n",
       "\t 18 & 5  & 80 & 78 & 90\\\\\n",
       "\t 19 & 5  & 89 & 68 & 87\\\\\n",
       "\t  8 & 2  & 90 & 78 & 25\\\\\n",
       "\\end{tabular}\n"
      ],
      "text/markdown": [
       "\n",
       "| id | class | math | english | science |\n",
       "|---|---|---|---|---|\n",
       "|  9 | 3  | 20 | 98 | 15 |\n",
       "|  5 | 2  | 25 | 80 | 65 |\n",
       "|  4 | 1  | 30 | 98 | 58 |\n",
       "|  3 | 1  | 45 | 86 | 78 |\n",
       "| 12 | 3  | 45 | 85 | 32 |\n",
       "| 13 | 4  | 46 | 98 | 65 |\n",
       "| 14 | 4  | 48 | 87 | 12 |\n",
       "|  1 | 1  | 50 | 98 | 50 |\n",
       "|  6 | 2  | 50 | 89 | 98 |\n",
       "| 10 | 3  | 50 | 98 | 45 |\n",
       "| 16 | 4  | 58 | 98 | 65 |\n",
       "|  2 | 1  | 60 | 97 | 60 |\n",
       "| 11 | 3  | 65 | 65 | 65 |\n",
       "| 17 | 5  | 65 | 68 | 98 |\n",
       "| 15 | 4  | 75 | 56 | 78 |\n",
       "| 20 | 5  | 78 | 83 | 58 |\n",
       "|  7 | 2  | 80 | 90 | 45 |\n",
       "| 18 | 5  | 80 | 78 | 90 |\n",
       "| 19 | 5  | 89 | 68 | 87 |\n",
       "|  8 | 2  | 90 | 78 | 25 |\n",
       "\n"
      ],
      "text/plain": [
       "   id class math english science\n",
       "1   9 3     20   98      15     \n",
       "2   5 2     25   80      65     \n",
       "3   4 1     30   98      58     \n",
       "4   3 1     45   86      78     \n",
       "5  12 3     45   85      32     \n",
       "6  13 4     46   98      65     \n",
       "7  14 4     48   87      12     \n",
       "8   1 1     50   98      50     \n",
       "9   6 2     50   89      98     \n",
       "10 10 3     50   98      45     \n",
       "11 16 4     58   98      65     \n",
       "12  2 1     60   97      60     \n",
       "13 11 3     65   65      65     \n",
       "14 17 5     65   68      98     \n",
       "15 15 4     75   56      78     \n",
       "16 20 5     78   83      58     \n",
       "17  7 2     80   90      45     \n",
       "18 18 5     80   78      90     \n",
       "19 19 5     89   68      87     \n",
       "20  8 2     90   78      25     "
      ]
     },
     "metadata": {},
     "output_type": "display_data"
    }
   ],
   "source": [
    "exam %>% arrange(math)"
   ]
  },
  {
   "cell_type": "code",
   "execution_count": 135,
   "metadata": {},
   "outputs": [
    {
     "data": {
      "text/html": [
       "<table>\n",
       "<thead><tr><th scope=col>id</th><th scope=col>class</th><th scope=col>math</th><th scope=col>english</th><th scope=col>science</th></tr></thead>\n",
       "<tbody>\n",
       "\t<tr><td> 8</td><td>2 </td><td>90</td><td>78</td><td>25</td></tr>\n",
       "\t<tr><td>19</td><td>5 </td><td>89</td><td>68</td><td>87</td></tr>\n",
       "\t<tr><td> 7</td><td>2 </td><td>80</td><td>90</td><td>45</td></tr>\n",
       "\t<tr><td>18</td><td>5 </td><td>80</td><td>78</td><td>90</td></tr>\n",
       "\t<tr><td>20</td><td>5 </td><td>78</td><td>83</td><td>58</td></tr>\n",
       "\t<tr><td>15</td><td>4 </td><td>75</td><td>56</td><td>78</td></tr>\n",
       "\t<tr><td>11</td><td>3 </td><td>65</td><td>65</td><td>65</td></tr>\n",
       "\t<tr><td>17</td><td>5 </td><td>65</td><td>68</td><td>98</td></tr>\n",
       "\t<tr><td> 2</td><td>1 </td><td>60</td><td>97</td><td>60</td></tr>\n",
       "\t<tr><td>16</td><td>4 </td><td>58</td><td>98</td><td>65</td></tr>\n",
       "\t<tr><td> 1</td><td>1 </td><td>50</td><td>98</td><td>50</td></tr>\n",
       "\t<tr><td> 6</td><td>2 </td><td>50</td><td>89</td><td>98</td></tr>\n",
       "\t<tr><td>10</td><td>3 </td><td>50</td><td>98</td><td>45</td></tr>\n",
       "\t<tr><td>14</td><td>4 </td><td>48</td><td>87</td><td>12</td></tr>\n",
       "\t<tr><td>13</td><td>4 </td><td>46</td><td>98</td><td>65</td></tr>\n",
       "\t<tr><td> 3</td><td>1 </td><td>45</td><td>86</td><td>78</td></tr>\n",
       "\t<tr><td>12</td><td>3 </td><td>45</td><td>85</td><td>32</td></tr>\n",
       "\t<tr><td> 4</td><td>1 </td><td>30</td><td>98</td><td>58</td></tr>\n",
       "\t<tr><td> 5</td><td>2 </td><td>25</td><td>80</td><td>65</td></tr>\n",
       "\t<tr><td> 9</td><td>3 </td><td>20</td><td>98</td><td>15</td></tr>\n",
       "</tbody>\n",
       "</table>\n"
      ],
      "text/latex": [
       "\\begin{tabular}{r|lllll}\n",
       " id & class & math & english & science\\\\\n",
       "\\hline\n",
       "\t  8 & 2  & 90 & 78 & 25\\\\\n",
       "\t 19 & 5  & 89 & 68 & 87\\\\\n",
       "\t  7 & 2  & 80 & 90 & 45\\\\\n",
       "\t 18 & 5  & 80 & 78 & 90\\\\\n",
       "\t 20 & 5  & 78 & 83 & 58\\\\\n",
       "\t 15 & 4  & 75 & 56 & 78\\\\\n",
       "\t 11 & 3  & 65 & 65 & 65\\\\\n",
       "\t 17 & 5  & 65 & 68 & 98\\\\\n",
       "\t  2 & 1  & 60 & 97 & 60\\\\\n",
       "\t 16 & 4  & 58 & 98 & 65\\\\\n",
       "\t  1 & 1  & 50 & 98 & 50\\\\\n",
       "\t  6 & 2  & 50 & 89 & 98\\\\\n",
       "\t 10 & 3  & 50 & 98 & 45\\\\\n",
       "\t 14 & 4  & 48 & 87 & 12\\\\\n",
       "\t 13 & 4  & 46 & 98 & 65\\\\\n",
       "\t  3 & 1  & 45 & 86 & 78\\\\\n",
       "\t 12 & 3  & 45 & 85 & 32\\\\\n",
       "\t  4 & 1  & 30 & 98 & 58\\\\\n",
       "\t  5 & 2  & 25 & 80 & 65\\\\\n",
       "\t  9 & 3  & 20 & 98 & 15\\\\\n",
       "\\end{tabular}\n"
      ],
      "text/markdown": [
       "\n",
       "| id | class | math | english | science |\n",
       "|---|---|---|---|---|\n",
       "|  8 | 2  | 90 | 78 | 25 |\n",
       "| 19 | 5  | 89 | 68 | 87 |\n",
       "|  7 | 2  | 80 | 90 | 45 |\n",
       "| 18 | 5  | 80 | 78 | 90 |\n",
       "| 20 | 5  | 78 | 83 | 58 |\n",
       "| 15 | 4  | 75 | 56 | 78 |\n",
       "| 11 | 3  | 65 | 65 | 65 |\n",
       "| 17 | 5  | 65 | 68 | 98 |\n",
       "|  2 | 1  | 60 | 97 | 60 |\n",
       "| 16 | 4  | 58 | 98 | 65 |\n",
       "|  1 | 1  | 50 | 98 | 50 |\n",
       "|  6 | 2  | 50 | 89 | 98 |\n",
       "| 10 | 3  | 50 | 98 | 45 |\n",
       "| 14 | 4  | 48 | 87 | 12 |\n",
       "| 13 | 4  | 46 | 98 | 65 |\n",
       "|  3 | 1  | 45 | 86 | 78 |\n",
       "| 12 | 3  | 45 | 85 | 32 |\n",
       "|  4 | 1  | 30 | 98 | 58 |\n",
       "|  5 | 2  | 25 | 80 | 65 |\n",
       "|  9 | 3  | 20 | 98 | 15 |\n",
       "\n"
      ],
      "text/plain": [
       "   id class math english science\n",
       "1   8 2     90   78      25     \n",
       "2  19 5     89   68      87     \n",
       "3   7 2     80   90      45     \n",
       "4  18 5     80   78      90     \n",
       "5  20 5     78   83      58     \n",
       "6  15 4     75   56      78     \n",
       "7  11 3     65   65      65     \n",
       "8  17 5     65   68      98     \n",
       "9   2 1     60   97      60     \n",
       "10 16 4     58   98      65     \n",
       "11  1 1     50   98      50     \n",
       "12  6 2     50   89      98     \n",
       "13 10 3     50   98      45     \n",
       "14 14 4     48   87      12     \n",
       "15 13 4     46   98      65     \n",
       "16  3 1     45   86      78     \n",
       "17 12 3     45   85      32     \n",
       "18  4 1     30   98      58     \n",
       "19  5 2     25   80      65     \n",
       "20  9 3     20   98      15     "
      ]
     },
     "metadata": {},
     "output_type": "display_data"
    }
   ],
   "source": [
    "exam %>% arrange(desc(math))"
   ]
  },
  {
   "cell_type": "code",
   "execution_count": 136,
   "metadata": {},
   "outputs": [
    {
     "data": {
      "text/html": [
       "<table>\n",
       "<thead><tr><th scope=col>math</th><th scope=col>english</th><th scope=col>science</th></tr></thead>\n",
       "<tbody>\n",
       "\t<tr><td>90</td><td>78</td><td>25</td></tr>\n",
       "\t<tr><td>89</td><td>68</td><td>87</td></tr>\n",
       "\t<tr><td>80</td><td>90</td><td>45</td></tr>\n",
       "\t<tr><td>80</td><td>78</td><td>90</td></tr>\n",
       "\t<tr><td>78</td><td>83</td><td>58</td></tr>\n",
       "\t<tr><td>75</td><td>56</td><td>78</td></tr>\n",
       "\t<tr><td>65</td><td>65</td><td>65</td></tr>\n",
       "\t<tr><td>65</td><td>68</td><td>98</td></tr>\n",
       "\t<tr><td>60</td><td>97</td><td>60</td></tr>\n",
       "\t<tr><td>58</td><td>98</td><td>65</td></tr>\n",
       "\t<tr><td>50</td><td>98</td><td>50</td></tr>\n",
       "\t<tr><td>50</td><td>89</td><td>98</td></tr>\n",
       "\t<tr><td>50</td><td>98</td><td>45</td></tr>\n",
       "\t<tr><td>48</td><td>87</td><td>12</td></tr>\n",
       "\t<tr><td>46</td><td>98</td><td>65</td></tr>\n",
       "\t<tr><td>45</td><td>86</td><td>78</td></tr>\n",
       "\t<tr><td>45</td><td>85</td><td>32</td></tr>\n",
       "\t<tr><td>30</td><td>98</td><td>58</td></tr>\n",
       "\t<tr><td>25</td><td>80</td><td>65</td></tr>\n",
       "\t<tr><td>20</td><td>98</td><td>15</td></tr>\n",
       "</tbody>\n",
       "</table>\n"
      ],
      "text/latex": [
       "\\begin{tabular}{r|lll}\n",
       " math & english & science\\\\\n",
       "\\hline\n",
       "\t 90 & 78 & 25\\\\\n",
       "\t 89 & 68 & 87\\\\\n",
       "\t 80 & 90 & 45\\\\\n",
       "\t 80 & 78 & 90\\\\\n",
       "\t 78 & 83 & 58\\\\\n",
       "\t 75 & 56 & 78\\\\\n",
       "\t 65 & 65 & 65\\\\\n",
       "\t 65 & 68 & 98\\\\\n",
       "\t 60 & 97 & 60\\\\\n",
       "\t 58 & 98 & 65\\\\\n",
       "\t 50 & 98 & 50\\\\\n",
       "\t 50 & 89 & 98\\\\\n",
       "\t 50 & 98 & 45\\\\\n",
       "\t 48 & 87 & 12\\\\\n",
       "\t 46 & 98 & 65\\\\\n",
       "\t 45 & 86 & 78\\\\\n",
       "\t 45 & 85 & 32\\\\\n",
       "\t 30 & 98 & 58\\\\\n",
       "\t 25 & 80 & 65\\\\\n",
       "\t 20 & 98 & 15\\\\\n",
       "\\end{tabular}\n"
      ],
      "text/markdown": [
       "\n",
       "| math | english | science |\n",
       "|---|---|---|\n",
       "| 90 | 78 | 25 |\n",
       "| 89 | 68 | 87 |\n",
       "| 80 | 90 | 45 |\n",
       "| 80 | 78 | 90 |\n",
       "| 78 | 83 | 58 |\n",
       "| 75 | 56 | 78 |\n",
       "| 65 | 65 | 65 |\n",
       "| 65 | 68 | 98 |\n",
       "| 60 | 97 | 60 |\n",
       "| 58 | 98 | 65 |\n",
       "| 50 | 98 | 50 |\n",
       "| 50 | 89 | 98 |\n",
       "| 50 | 98 | 45 |\n",
       "| 48 | 87 | 12 |\n",
       "| 46 | 98 | 65 |\n",
       "| 45 | 86 | 78 |\n",
       "| 45 | 85 | 32 |\n",
       "| 30 | 98 | 58 |\n",
       "| 25 | 80 | 65 |\n",
       "| 20 | 98 | 15 |\n",
       "\n"
      ],
      "text/plain": [
       "   math english science\n",
       "1  90   78      25     \n",
       "2  89   68      87     \n",
       "3  80   90      45     \n",
       "4  80   78      90     \n",
       "5  78   83      58     \n",
       "6  75   56      78     \n",
       "7  65   65      65     \n",
       "8  65   68      98     \n",
       "9  60   97      60     \n",
       "10 58   98      65     \n",
       "11 50   98      50     \n",
       "12 50   89      98     \n",
       "13 50   98      45     \n",
       "14 48   87      12     \n",
       "15 46   98      65     \n",
       "16 45   86      78     \n",
       "17 45   85      32     \n",
       "18 30   98      58     \n",
       "19 25   80      65     \n",
       "20 20   98      15     "
      ]
     },
     "metadata": {},
     "output_type": "display_data"
    }
   ],
   "source": [
    "exam %>% select(math, english, science) %>%\n",
    "    arrange(desc(math))"
   ]
  },
  {
   "cell_type": "code",
   "execution_count": 138,
   "metadata": {},
   "outputs": [
    {
     "data": {
      "text/html": [
       "<table>\n",
       "<thead><tr><th scope=col>class</th><th scope=col>math</th><th scope=col>english</th><th scope=col>science</th></tr></thead>\n",
       "<tbody>\n",
       "\t<tr><td>1 </td><td>60</td><td>97</td><td>60</td></tr>\n",
       "\t<tr><td>1 </td><td>50</td><td>98</td><td>50</td></tr>\n",
       "\t<tr><td>1 </td><td>45</td><td>86</td><td>78</td></tr>\n",
       "\t<tr><td>1 </td><td>30</td><td>98</td><td>58</td></tr>\n",
       "\t<tr><td>2 </td><td>90</td><td>78</td><td>25</td></tr>\n",
       "\t<tr><td>2 </td><td>80</td><td>90</td><td>45</td></tr>\n",
       "\t<tr><td>2 </td><td>50</td><td>89</td><td>98</td></tr>\n",
       "\t<tr><td>2 </td><td>25</td><td>80</td><td>65</td></tr>\n",
       "\t<tr><td>3 </td><td>65</td><td>65</td><td>65</td></tr>\n",
       "\t<tr><td>3 </td><td>50</td><td>98</td><td>45</td></tr>\n",
       "\t<tr><td>3 </td><td>45</td><td>85</td><td>32</td></tr>\n",
       "\t<tr><td>3 </td><td>20</td><td>98</td><td>15</td></tr>\n",
       "\t<tr><td>4 </td><td>75</td><td>56</td><td>78</td></tr>\n",
       "\t<tr><td>4 </td><td>58</td><td>98</td><td>65</td></tr>\n",
       "\t<tr><td>4 </td><td>48</td><td>87</td><td>12</td></tr>\n",
       "\t<tr><td>4 </td><td>46</td><td>98</td><td>65</td></tr>\n",
       "\t<tr><td>5 </td><td>89</td><td>68</td><td>87</td></tr>\n",
       "\t<tr><td>5 </td><td>80</td><td>78</td><td>90</td></tr>\n",
       "\t<tr><td>5 </td><td>78</td><td>83</td><td>58</td></tr>\n",
       "\t<tr><td>5 </td><td>65</td><td>68</td><td>98</td></tr>\n",
       "</tbody>\n",
       "</table>\n"
      ],
      "text/latex": [
       "\\begin{tabular}{r|llll}\n",
       " class & math & english & science\\\\\n",
       "\\hline\n",
       "\t 1  & 60 & 97 & 60\\\\\n",
       "\t 1  & 50 & 98 & 50\\\\\n",
       "\t 1  & 45 & 86 & 78\\\\\n",
       "\t 1  & 30 & 98 & 58\\\\\n",
       "\t 2  & 90 & 78 & 25\\\\\n",
       "\t 2  & 80 & 90 & 45\\\\\n",
       "\t 2  & 50 & 89 & 98\\\\\n",
       "\t 2  & 25 & 80 & 65\\\\\n",
       "\t 3  & 65 & 65 & 65\\\\\n",
       "\t 3  & 50 & 98 & 45\\\\\n",
       "\t 3  & 45 & 85 & 32\\\\\n",
       "\t 3  & 20 & 98 & 15\\\\\n",
       "\t 4  & 75 & 56 & 78\\\\\n",
       "\t 4  & 58 & 98 & 65\\\\\n",
       "\t 4  & 48 & 87 & 12\\\\\n",
       "\t 4  & 46 & 98 & 65\\\\\n",
       "\t 5  & 89 & 68 & 87\\\\\n",
       "\t 5  & 80 & 78 & 90\\\\\n",
       "\t 5  & 78 & 83 & 58\\\\\n",
       "\t 5  & 65 & 68 & 98\\\\\n",
       "\\end{tabular}\n"
      ],
      "text/markdown": [
       "\n",
       "| class | math | english | science |\n",
       "|---|---|---|---|\n",
       "| 1  | 60 | 97 | 60 |\n",
       "| 1  | 50 | 98 | 50 |\n",
       "| 1  | 45 | 86 | 78 |\n",
       "| 1  | 30 | 98 | 58 |\n",
       "| 2  | 90 | 78 | 25 |\n",
       "| 2  | 80 | 90 | 45 |\n",
       "| 2  | 50 | 89 | 98 |\n",
       "| 2  | 25 | 80 | 65 |\n",
       "| 3  | 65 | 65 | 65 |\n",
       "| 3  | 50 | 98 | 45 |\n",
       "| 3  | 45 | 85 | 32 |\n",
       "| 3  | 20 | 98 | 15 |\n",
       "| 4  | 75 | 56 | 78 |\n",
       "| 4  | 58 | 98 | 65 |\n",
       "| 4  | 48 | 87 | 12 |\n",
       "| 4  | 46 | 98 | 65 |\n",
       "| 5  | 89 | 68 | 87 |\n",
       "| 5  | 80 | 78 | 90 |\n",
       "| 5  | 78 | 83 | 58 |\n",
       "| 5  | 65 | 68 | 98 |\n",
       "\n"
      ],
      "text/plain": [
       "   class math english science\n",
       "1  1     60   97      60     \n",
       "2  1     50   98      50     \n",
       "3  1     45   86      78     \n",
       "4  1     30   98      58     \n",
       "5  2     90   78      25     \n",
       "6  2     80   90      45     \n",
       "7  2     50   89      98     \n",
       "8  2     25   80      65     \n",
       "9  3     65   65      65     \n",
       "10 3     50   98      45     \n",
       "11 3     45   85      32     \n",
       "12 3     20   98      15     \n",
       "13 4     75   56      78     \n",
       "14 4     58   98      65     \n",
       "15 4     48   87      12     \n",
       "16 4     46   98      65     \n",
       "17 5     89   68      87     \n",
       "18 5     80   78      90     \n",
       "19 5     78   83      58     \n",
       "20 5     65   68      98     "
      ]
     },
     "metadata": {},
     "output_type": "display_data"
    }
   ],
   "source": [
    "exam %>% select(class, math, english, science) %>%\n",
    "    arrange(class, desc(math))"
   ]
  },
  {
   "cell_type": "code",
   "execution_count": 140,
   "metadata": {},
   "outputs": [
    {
     "data": {
      "text/html": [
       "<table>\n",
       "<thead><tr><th scope=col>id</th><th scope=col>class</th><th scope=col>math</th><th scope=col>english</th><th scope=col>science</th><th scope=col>total</th></tr></thead>\n",
       "<tbody>\n",
       "\t<tr><td>1  </td><td>1  </td><td>50 </td><td>98 </td><td>50 </td><td>198</td></tr>\n",
       "\t<tr><td>2  </td><td>1  </td><td>60 </td><td>97 </td><td>60 </td><td>217</td></tr>\n",
       "\t<tr><td>3  </td><td>1  </td><td>45 </td><td>86 </td><td>78 </td><td>209</td></tr>\n",
       "\t<tr><td>4  </td><td>1  </td><td>30 </td><td>98 </td><td>58 </td><td>186</td></tr>\n",
       "\t<tr><td>5  </td><td>2  </td><td>25 </td><td>80 </td><td>65 </td><td>170</td></tr>\n",
       "\t<tr><td>6  </td><td>2  </td><td>50 </td><td>89 </td><td>98 </td><td>237</td></tr>\n",
       "</tbody>\n",
       "</table>\n"
      ],
      "text/latex": [
       "\\begin{tabular}{r|llllll}\n",
       " id & class & math & english & science & total\\\\\n",
       "\\hline\n",
       "\t 1   & 1   & 50  & 98  & 50  & 198\\\\\n",
       "\t 2   & 1   & 60  & 97  & 60  & 217\\\\\n",
       "\t 3   & 1   & 45  & 86  & 78  & 209\\\\\n",
       "\t 4   & 1   & 30  & 98  & 58  & 186\\\\\n",
       "\t 5   & 2   & 25  & 80  & 65  & 170\\\\\n",
       "\t 6   & 2   & 50  & 89  & 98  & 237\\\\\n",
       "\\end{tabular}\n"
      ],
      "text/markdown": [
       "\n",
       "| id | class | math | english | science | total |\n",
       "|---|---|---|---|---|---|\n",
       "| 1   | 1   | 50  | 98  | 50  | 198 |\n",
       "| 2   | 1   | 60  | 97  | 60  | 217 |\n",
       "| 3   | 1   | 45  | 86  | 78  | 209 |\n",
       "| 4   | 1   | 30  | 98  | 58  | 186 |\n",
       "| 5   | 2   | 25  | 80  | 65  | 170 |\n",
       "| 6   | 2   | 50  | 89  | 98  | 237 |\n",
       "\n"
      ],
      "text/plain": [
       "  id class math english science total\n",
       "1 1  1     50   98      50      198  \n",
       "2 2  1     60   97      60      217  \n",
       "3 3  1     45   86      78      209  \n",
       "4 4  1     30   98      58      186  \n",
       "5 5  2     25   80      65      170  \n",
       "6 6  2     50   89      98      237  "
      ]
     },
     "metadata": {},
     "output_type": "display_data"
    }
   ],
   "source": [
    "exam %>%\n",
    "    mutate(total = math + english + science) %>%\n",
    "    head"
   ]
  },
  {
   "cell_type": "code",
   "execution_count": 143,
   "metadata": {},
   "outputs": [
    {
     "data": {
      "text/html": [
       "<table>\n",
       "<thead><tr><th scope=col>id</th><th scope=col>class</th><th scope=col>math</th><th scope=col>english</th><th scope=col>science</th><th scope=col>total</th><th scope=col>mean</th></tr></thead>\n",
       "<tbody>\n",
       "\t<tr><td>1       </td><td>1       </td><td>50      </td><td>98      </td><td>50      </td><td>198     </td><td>66.00000</td></tr>\n",
       "\t<tr><td>2       </td><td>1       </td><td>60      </td><td>97      </td><td>60      </td><td>217     </td><td>72.33333</td></tr>\n",
       "\t<tr><td>3       </td><td>1       </td><td>45      </td><td>86      </td><td>78      </td><td>209     </td><td>69.66667</td></tr>\n",
       "\t<tr><td>4       </td><td>1       </td><td>30      </td><td>98      </td><td>58      </td><td>186     </td><td>62.00000</td></tr>\n",
       "\t<tr><td>5       </td><td>2       </td><td>25      </td><td>80      </td><td>65      </td><td>170     </td><td>56.66667</td></tr>\n",
       "\t<tr><td>6       </td><td>2       </td><td>50      </td><td>89      </td><td>98      </td><td>237     </td><td>79.00000</td></tr>\n",
       "</tbody>\n",
       "</table>\n"
      ],
      "text/latex": [
       "\\begin{tabular}{r|lllllll}\n",
       " id & class & math & english & science & total & mean\\\\\n",
       "\\hline\n",
       "\t 1        & 1        & 50       & 98       & 50       & 198      & 66.00000\\\\\n",
       "\t 2        & 1        & 60       & 97       & 60       & 217      & 72.33333\\\\\n",
       "\t 3        & 1        & 45       & 86       & 78       & 209      & 69.66667\\\\\n",
       "\t 4        & 1        & 30       & 98       & 58       & 186      & 62.00000\\\\\n",
       "\t 5        & 2        & 25       & 80       & 65       & 170      & 56.66667\\\\\n",
       "\t 6        & 2        & 50       & 89       & 98       & 237      & 79.00000\\\\\n",
       "\\end{tabular}\n"
      ],
      "text/markdown": [
       "\n",
       "| id | class | math | english | science | total | mean |\n",
       "|---|---|---|---|---|---|---|\n",
       "| 1        | 1        | 50       | 98       | 50       | 198      | 66.00000 |\n",
       "| 2        | 1        | 60       | 97       | 60       | 217      | 72.33333 |\n",
       "| 3        | 1        | 45       | 86       | 78       | 209      | 69.66667 |\n",
       "| 4        | 1        | 30       | 98       | 58       | 186      | 62.00000 |\n",
       "| 5        | 2        | 25       | 80       | 65       | 170      | 56.66667 |\n",
       "| 6        | 2        | 50       | 89       | 98       | 237      | 79.00000 |\n",
       "\n"
      ],
      "text/plain": [
       "  id class math english science total mean    \n",
       "1 1  1     50   98      50      198   66.00000\n",
       "2 2  1     60   97      60      217   72.33333\n",
       "3 3  1     45   86      78      209   69.66667\n",
       "4 4  1     30   98      58      186   62.00000\n",
       "5 5  2     25   80      65      170   56.66667\n",
       "6 6  2     50   89      98      237   79.00000"
      ]
     },
     "metadata": {},
     "output_type": "display_data"
    }
   ],
   "source": [
    "exam %>%\n",
    "    mutate(total = math + english + science,\n",
    "           mean = total / 3) %>%\n",
    "    head()"
   ]
  },
  {
   "cell_type": "code",
   "execution_count": 144,
   "metadata": {},
   "outputs": [
    {
     "data": {
      "text/html": [
       "<table>\n",
       "<thead><tr><th scope=col>id</th><th scope=col>class</th><th scope=col>math</th><th scope=col>english</th><th scope=col>science</th><th scope=col>test</th></tr></thead>\n",
       "<tbody>\n",
       "\t<tr><td>1   </td><td>1   </td><td>50  </td><td>98  </td><td>50  </td><td>fail</td></tr>\n",
       "\t<tr><td>2   </td><td>1   </td><td>60  </td><td>97  </td><td>60  </td><td>pass</td></tr>\n",
       "\t<tr><td>3   </td><td>1   </td><td>45  </td><td>86  </td><td>78  </td><td>pass</td></tr>\n",
       "\t<tr><td>4   </td><td>1   </td><td>30  </td><td>98  </td><td>58  </td><td>fail</td></tr>\n",
       "\t<tr><td>5   </td><td>2   </td><td>25  </td><td>80  </td><td>65  </td><td>pass</td></tr>\n",
       "\t<tr><td>6   </td><td>2   </td><td>50  </td><td>89  </td><td>98  </td><td>pass</td></tr>\n",
       "</tbody>\n",
       "</table>\n"
      ],
      "text/latex": [
       "\\begin{tabular}{r|llllll}\n",
       " id & class & math & english & science & test\\\\\n",
       "\\hline\n",
       "\t 1    & 1    & 50   & 98   & 50   & fail\\\\\n",
       "\t 2    & 1    & 60   & 97   & 60   & pass\\\\\n",
       "\t 3    & 1    & 45   & 86   & 78   & pass\\\\\n",
       "\t 4    & 1    & 30   & 98   & 58   & fail\\\\\n",
       "\t 5    & 2    & 25   & 80   & 65   & pass\\\\\n",
       "\t 6    & 2    & 50   & 89   & 98   & pass\\\\\n",
       "\\end{tabular}\n"
      ],
      "text/markdown": [
       "\n",
       "| id | class | math | english | science | test |\n",
       "|---|---|---|---|---|---|\n",
       "| 1    | 1    | 50   | 98   | 50   | fail |\n",
       "| 2    | 1    | 60   | 97   | 60   | pass |\n",
       "| 3    | 1    | 45   | 86   | 78   | pass |\n",
       "| 4    | 1    | 30   | 98   | 58   | fail |\n",
       "| 5    | 2    | 25   | 80   | 65   | pass |\n",
       "| 6    | 2    | 50   | 89   | 98   | pass |\n",
       "\n"
      ],
      "text/plain": [
       "  id class math english science test\n",
       "1 1  1     50   98      50      fail\n",
       "2 2  1     60   97      60      pass\n",
       "3 3  1     45   86      78      pass\n",
       "4 4  1     30   98      58      fail\n",
       "5 5  2     25   80      65      pass\n",
       "6 6  2     50   89      98      pass"
      ]
     },
     "metadata": {},
     "output_type": "display_data"
    }
   ],
   "source": [
    "exam %>%\n",
    "    mutate(test = ifelse(science >= 60, 'pass', 'fail')) %>%\n",
    "    head"
   ]
  },
  {
   "cell_type": "code",
   "execution_count": 146,
   "metadata": {},
   "outputs": [
    {
     "data": {
      "text/html": [
       "<table>\n",
       "<thead><tr><th scope=col>id</th><th scope=col>class</th><th scope=col>math</th><th scope=col>english</th><th scope=col>science</th><th scope=col>total</th></tr></thead>\n",
       "<tbody>\n",
       "\t<tr><td> 9 </td><td>3  </td><td>20 </td><td>98 </td><td>15 </td><td>133</td></tr>\n",
       "\t<tr><td>14 </td><td>4  </td><td>48 </td><td>87 </td><td>12 </td><td>147</td></tr>\n",
       "\t<tr><td>12 </td><td>3  </td><td>45 </td><td>85 </td><td>32 </td><td>162</td></tr>\n",
       "\t<tr><td> 5 </td><td>2  </td><td>25 </td><td>80 </td><td>65 </td><td>170</td></tr>\n",
       "\t<tr><td> 4 </td><td>1  </td><td>30 </td><td>98 </td><td>58 </td><td>186</td></tr>\n",
       "\t<tr><td> 8 </td><td>2  </td><td>90 </td><td>78 </td><td>25 </td><td>193</td></tr>\n",
       "</tbody>\n",
       "</table>\n"
      ],
      "text/latex": [
       "\\begin{tabular}{r|llllll}\n",
       " id & class & math & english & science & total\\\\\n",
       "\\hline\n",
       "\t  9  & 3   & 20  & 98  & 15  & 133\\\\\n",
       "\t 14  & 4   & 48  & 87  & 12  & 147\\\\\n",
       "\t 12  & 3   & 45  & 85  & 32  & 162\\\\\n",
       "\t  5  & 2   & 25  & 80  & 65  & 170\\\\\n",
       "\t  4  & 1   & 30  & 98  & 58  & 186\\\\\n",
       "\t  8  & 2   & 90  & 78  & 25  & 193\\\\\n",
       "\\end{tabular}\n"
      ],
      "text/markdown": [
       "\n",
       "| id | class | math | english | science | total |\n",
       "|---|---|---|---|---|---|\n",
       "|  9  | 3   | 20  | 98  | 15  | 133 |\n",
       "| 14  | 4   | 48  | 87  | 12  | 147 |\n",
       "| 12  | 3   | 45  | 85  | 32  | 162 |\n",
       "|  5  | 2   | 25  | 80  | 65  | 170 |\n",
       "|  4  | 1   | 30  | 98  | 58  | 186 |\n",
       "|  8  | 2   | 90  | 78  | 25  | 193 |\n",
       "\n"
      ],
      "text/plain": [
       "  id class math english science total\n",
       "1  9 3     20   98      15      133  \n",
       "2 14 4     48   87      12      147  \n",
       "3 12 3     45   85      32      162  \n",
       "4  5 2     25   80      65      170  \n",
       "5  4 1     30   98      58      186  \n",
       "6  8 2     90   78      25      193  "
      ]
     },
     "metadata": {},
     "output_type": "display_data"
    }
   ],
   "source": [
    "exam %>%\n",
    "    mutate(total = math + english + science) %>%\n",
    "    arrange(total) %>%\n",
    "    head"
   ]
  },
  {
   "cell_type": "code",
   "execution_count": 147,
   "metadata": {},
   "outputs": [
    {
     "data": {
      "text/html": [
       "<table>\n",
       "<thead><tr><th scope=col>class</th><th scope=col>mean_math</th></tr></thead>\n",
       "<tbody>\n",
       "\t<tr><td>1    </td><td>46.25</td></tr>\n",
       "\t<tr><td>2    </td><td>61.25</td></tr>\n",
       "\t<tr><td>3    </td><td>45.00</td></tr>\n",
       "\t<tr><td>4    </td><td>56.75</td></tr>\n",
       "\t<tr><td>5    </td><td>78.00</td></tr>\n",
       "</tbody>\n",
       "</table>\n"
      ],
      "text/latex": [
       "\\begin{tabular}{r|ll}\n",
       " class & mean\\_math\\\\\n",
       "\\hline\n",
       "\t 1     & 46.25\\\\\n",
       "\t 2     & 61.25\\\\\n",
       "\t 3     & 45.00\\\\\n",
       "\t 4     & 56.75\\\\\n",
       "\t 5     & 78.00\\\\\n",
       "\\end{tabular}\n"
      ],
      "text/markdown": [
       "\n",
       "| class | mean_math |\n",
       "|---|---|\n",
       "| 1     | 46.25 |\n",
       "| 2     | 61.25 |\n",
       "| 3     | 45.00 |\n",
       "| 4     | 56.75 |\n",
       "| 5     | 78.00 |\n",
       "\n"
      ],
      "text/plain": [
       "  class mean_math\n",
       "1 1     46.25    \n",
       "2 2     61.25    \n",
       "3 3     45.00    \n",
       "4 4     56.75    \n",
       "5 5     78.00    "
      ]
     },
     "metadata": {},
     "output_type": "display_data"
    }
   ],
   "source": [
    "exam %>%\n",
    "    group_by(class) %>%\n",
    "    summarise(mean_math = mean(math))"
   ]
  },
  {
   "cell_type": "code",
   "execution_count": 148,
   "metadata": {},
   "outputs": [
    {
     "data": {
      "text/html": [
       "<table>\n",
       "<thead><tr><th scope=col>class</th><th scope=col>mean_math</th><th scope=col>sum_math</th><th scope=col>median_math</th><th scope=col>n</th></tr></thead>\n",
       "<tbody>\n",
       "\t<tr><td>1    </td><td>46.25</td><td>185  </td><td>47.5 </td><td>4    </td></tr>\n",
       "\t<tr><td>2    </td><td>61.25</td><td>245  </td><td>65.0 </td><td>4    </td></tr>\n",
       "\t<tr><td>3    </td><td>45.00</td><td>180  </td><td>47.5 </td><td>4    </td></tr>\n",
       "\t<tr><td>4    </td><td>56.75</td><td>227  </td><td>53.0 </td><td>4    </td></tr>\n",
       "\t<tr><td>5    </td><td>78.00</td><td>312  </td><td>79.0 </td><td>4    </td></tr>\n",
       "</tbody>\n",
       "</table>\n"
      ],
      "text/latex": [
       "\\begin{tabular}{r|lllll}\n",
       " class & mean\\_math & sum\\_math & median\\_math & n\\\\\n",
       "\\hline\n",
       "\t 1     & 46.25 & 185   & 47.5  & 4    \\\\\n",
       "\t 2     & 61.25 & 245   & 65.0  & 4    \\\\\n",
       "\t 3     & 45.00 & 180   & 47.5  & 4    \\\\\n",
       "\t 4     & 56.75 & 227   & 53.0  & 4    \\\\\n",
       "\t 5     & 78.00 & 312   & 79.0  & 4    \\\\\n",
       "\\end{tabular}\n"
      ],
      "text/markdown": [
       "\n",
       "| class | mean_math | sum_math | median_math | n |\n",
       "|---|---|---|---|---|\n",
       "| 1     | 46.25 | 185   | 47.5  | 4     |\n",
       "| 2     | 61.25 | 245   | 65.0  | 4     |\n",
       "| 3     | 45.00 | 180   | 47.5  | 4     |\n",
       "| 4     | 56.75 | 227   | 53.0  | 4     |\n",
       "| 5     | 78.00 | 312   | 79.0  | 4     |\n",
       "\n"
      ],
      "text/plain": [
       "  class mean_math sum_math median_math n\n",
       "1 1     46.25     185      47.5        4\n",
       "2 2     61.25     245      65.0        4\n",
       "3 3     45.00     180      47.5        4\n",
       "4 4     56.75     227      53.0        4\n",
       "5 5     78.00     312      79.0        4"
      ]
     },
     "metadata": {},
     "output_type": "display_data"
    }
   ],
   "source": [
    "exam %>%\n",
    "    group_by(class) %>%\n",
    "    summarise(mean_math = mean(math),\n",
    "             sum_math = sum(math),\n",
    "             median_math = median(math),\n",
    "             n = n())"
   ]
  },
  {
   "cell_type": "code",
   "execution_count": 149,
   "metadata": {},
   "outputs": [
    {
     "data": {
      "text/html": [
       "<table>\n",
       "<thead><tr><th scope=col>class</th><th scope=col>mean_english</th><th scope=col>sum_english</th><th scope=col>median_english</th><th scope=col>studen_num</th></tr></thead>\n",
       "<tbody>\n",
       "\t<tr><td>1    </td><td>94.75</td><td>379  </td><td>97.5 </td><td>4    </td></tr>\n",
       "\t<tr><td>2    </td><td>84.25</td><td>337  </td><td>84.5 </td><td>4    </td></tr>\n",
       "\t<tr><td>3    </td><td>86.50</td><td>346  </td><td>91.5 </td><td>4    </td></tr>\n",
       "\t<tr><td>4    </td><td>84.75</td><td>339  </td><td>92.5 </td><td>4    </td></tr>\n",
       "\t<tr><td>5    </td><td>74.25</td><td>297  </td><td>73.0 </td><td>4    </td></tr>\n",
       "</tbody>\n",
       "</table>\n"
      ],
      "text/latex": [
       "\\begin{tabular}{r|lllll}\n",
       " class & mean\\_english & sum\\_english & median\\_english & studen\\_num\\\\\n",
       "\\hline\n",
       "\t 1     & 94.75 & 379   & 97.5  & 4    \\\\\n",
       "\t 2     & 84.25 & 337   & 84.5  & 4    \\\\\n",
       "\t 3     & 86.50 & 346   & 91.5  & 4    \\\\\n",
       "\t 4     & 84.75 & 339   & 92.5  & 4    \\\\\n",
       "\t 5     & 74.25 & 297   & 73.0  & 4    \\\\\n",
       "\\end{tabular}\n"
      ],
      "text/markdown": [
       "\n",
       "| class | mean_english | sum_english | median_english | studen_num |\n",
       "|---|---|---|---|---|\n",
       "| 1     | 94.75 | 379   | 97.5  | 4     |\n",
       "| 2     | 84.25 | 337   | 84.5  | 4     |\n",
       "| 3     | 86.50 | 346   | 91.5  | 4     |\n",
       "| 4     | 84.75 | 339   | 92.5  | 4     |\n",
       "| 5     | 74.25 | 297   | 73.0  | 4     |\n",
       "\n"
      ],
      "text/plain": [
       "  class mean_english sum_english median_english studen_num\n",
       "1 1     94.75        379         97.5           4         \n",
       "2 2     84.25        337         84.5           4         \n",
       "3 3     86.50        346         91.5           4         \n",
       "4 4     84.75        339         92.5           4         \n",
       "5 5     74.25        297         73.0           4         "
      ]
     },
     "metadata": {},
     "output_type": "display_data"
    }
   ],
   "source": [
    "exam %>%\n",
    "    group_by(class) %>%\n",
    "    summarise(mean_english = mean(english),\n",
    "             sum_english = sum(english),\n",
    "             median_english = median(english),\n",
    "             studen_num = n())"
   ]
  },
  {
   "cell_type": "code",
   "execution_count": 152,
   "metadata": {},
   "outputs": [
    {
     "data": {
      "text/html": [
       "<table>\n",
       "<thead><tr><th scope=col>manufacturer</th><th scope=col>drv</th><th scope=col>mean_cty</th></tr></thead>\n",
       "<tbody>\n",
       "\t<tr><td>audi     </td><td>4        </td><td>16.81818 </td></tr>\n",
       "\t<tr><td>audi     </td><td>f        </td><td>18.85714 </td></tr>\n",
       "\t<tr><td>chevrolet</td><td>4        </td><td>12.50000 </td></tr>\n",
       "\t<tr><td>chevrolet</td><td>f        </td><td>18.80000 </td></tr>\n",
       "\t<tr><td>chevrolet</td><td>r        </td><td>14.10000 </td></tr>\n",
       "\t<tr><td>dodge    </td><td>4        </td><td>12.00000 </td></tr>\n",
       "\t<tr><td>dodge    </td><td>f        </td><td>15.81818 </td></tr>\n",
       "\t<tr><td>ford     </td><td>4        </td><td>13.30769 </td></tr>\n",
       "\t<tr><td>ford     </td><td>r        </td><td>14.75000 </td></tr>\n",
       "\t<tr><td>honda    </td><td>f        </td><td>24.44444 </td></tr>\n",
       "</tbody>\n",
       "</table>\n"
      ],
      "text/latex": [
       "\\begin{tabular}{r|lll}\n",
       " manufacturer & drv & mean\\_cty\\\\\n",
       "\\hline\n",
       "\t audi      & 4         & 16.81818 \\\\\n",
       "\t audi      & f         & 18.85714 \\\\\n",
       "\t chevrolet & 4         & 12.50000 \\\\\n",
       "\t chevrolet & f         & 18.80000 \\\\\n",
       "\t chevrolet & r         & 14.10000 \\\\\n",
       "\t dodge     & 4         & 12.00000 \\\\\n",
       "\t dodge     & f         & 15.81818 \\\\\n",
       "\t ford      & 4         & 13.30769 \\\\\n",
       "\t ford      & r         & 14.75000 \\\\\n",
       "\t honda     & f         & 24.44444 \\\\\n",
       "\\end{tabular}\n"
      ],
      "text/markdown": [
       "\n",
       "| manufacturer | drv | mean_cty |\n",
       "|---|---|---|\n",
       "| audi      | 4         | 16.81818  |\n",
       "| audi      | f         | 18.85714  |\n",
       "| chevrolet | 4         | 12.50000  |\n",
       "| chevrolet | f         | 18.80000  |\n",
       "| chevrolet | r         | 14.10000  |\n",
       "| dodge     | 4         | 12.00000  |\n",
       "| dodge     | f         | 15.81818  |\n",
       "| ford      | 4         | 13.30769  |\n",
       "| ford      | r         | 14.75000  |\n",
       "| honda     | f         | 24.44444  |\n",
       "\n"
      ],
      "text/plain": [
       "   manufacturer drv mean_cty\n",
       "1  audi         4   16.81818\n",
       "2  audi         f   18.85714\n",
       "3  chevrolet    4   12.50000\n",
       "4  chevrolet    f   18.80000\n",
       "5  chevrolet    r   14.10000\n",
       "6  dodge        4   12.00000\n",
       "7  dodge        f   15.81818\n",
       "8  ford         4   13.30769\n",
       "9  ford         r   14.75000\n",
       "10 honda        f   24.44444"
      ]
     },
     "metadata": {},
     "output_type": "display_data"
    }
   ],
   "source": [
    "mpg %>%\n",
    "    group_by(manufacturer, drv) %>%\n",
    "    summarise(mean_cty = mean(cty)) %>%\n",
    "    head(10)"
   ]
  },
  {
   "cell_type": "code",
   "execution_count": 150,
   "metadata": {},
   "outputs": [
    {
     "data": {
      "text/html": [
       "<table>\n",
       "<thead><tr><th scope=col>manufacturer</th><th scope=col>mean_tot</th></tr></thead>\n",
       "<tbody>\n",
       "\t<tr><td>subaru  </td><td>21.91667</td></tr>\n",
       "\t<tr><td>toyota  </td><td>16.31250</td></tr>\n",
       "\t<tr><td>nissan  </td><td>15.87500</td></tr>\n",
       "\t<tr><td>mercury </td><td>15.62500</td></tr>\n",
       "\t<tr><td>jeep    </td><td>15.56250</td></tr>\n",
       "</tbody>\n",
       "</table>\n"
      ],
      "text/latex": [
       "\\begin{tabular}{r|ll}\n",
       " manufacturer & mean\\_tot\\\\\n",
       "\\hline\n",
       "\t subaru   & 21.91667\\\\\n",
       "\t toyota   & 16.31250\\\\\n",
       "\t nissan   & 15.87500\\\\\n",
       "\t mercury  & 15.62500\\\\\n",
       "\t jeep     & 15.56250\\\\\n",
       "\\end{tabular}\n"
      ],
      "text/markdown": [
       "\n",
       "| manufacturer | mean_tot |\n",
       "|---|---|\n",
       "| subaru   | 21.91667 |\n",
       "| toyota   | 16.31250 |\n",
       "| nissan   | 15.87500 |\n",
       "| mercury  | 15.62500 |\n",
       "| jeep     | 15.56250 |\n",
       "\n"
      ],
      "text/plain": [
       "  manufacturer mean_tot\n",
       "1 subaru       21.91667\n",
       "2 toyota       16.31250\n",
       "3 nissan       15.87500\n",
       "4 mercury      15.62500\n",
       "5 jeep         15.56250"
      ]
     },
     "metadata": {},
     "output_type": "display_data"
    }
   ],
   "source": [
    "mpg %>%\n",
    "    group_by(manufacturer) %>%\n",
    "    filter(class == 'suv') %>%\n",
    "    mutate(tot = (cty+hwy)/2) %>%\n",
    "    summarise(mean_tot = mean(tot)) %>%\n",
    "    arrange(desc(mean_tot)) %>%\n",
    "    head(5)"
   ]
  },
  {
   "cell_type": "code",
   "execution_count": 153,
   "metadata": {},
   "outputs": [
    {
     "data": {
      "text/html": [
       "<table>\n",
       "<thead><tr><th scope=col>manufacturer</th><th scope=col>drv</th><th scope=col>mean_cty</th></tr></thead>\n",
       "<tbody>\n",
       "\t<tr><td>honda     </td><td>f         </td><td>24.44444  </td></tr>\n",
       "\t<tr><td>toyota    </td><td>f         </td><td>21.36842  </td></tr>\n",
       "\t<tr><td>volkswagen</td><td>f         </td><td>20.92593  </td></tr>\n",
       "\t<tr><td>nissan    </td><td>f         </td><td>20.00000  </td></tr>\n",
       "\t<tr><td>subaru    </td><td>4         </td><td>19.28571  </td></tr>\n",
       "\t<tr><td>audi      </td><td>f         </td><td>18.85714  </td></tr>\n",
       "\t<tr><td>chevrolet </td><td>f         </td><td>18.80000  </td></tr>\n",
       "\t<tr><td>hyundai   </td><td>f         </td><td>18.64286  </td></tr>\n",
       "\t<tr><td>pontiac   </td><td>f         </td><td>17.00000  </td></tr>\n",
       "\t<tr><td>audi      </td><td>4         </td><td>16.81818  </td></tr>\n",
       "\t<tr><td>dodge     </td><td>f         </td><td>15.81818  </td></tr>\n",
       "\t<tr><td>toyota    </td><td>4         </td><td>14.93333  </td></tr>\n",
       "\t<tr><td>ford      </td><td>r         </td><td>14.75000  </td></tr>\n",
       "\t<tr><td>chevrolet </td><td>r         </td><td>14.10000  </td></tr>\n",
       "\t<tr><td>nissan    </td><td>4         </td><td>13.75000  </td></tr>\n",
       "\t<tr><td>jeep      </td><td>4         </td><td>13.50000  </td></tr>\n",
       "\t<tr><td>ford      </td><td>4         </td><td>13.30769  </td></tr>\n",
       "\t<tr><td>mercury   </td><td>4         </td><td>13.25000  </td></tr>\n",
       "\t<tr><td>chevrolet </td><td>4         </td><td>12.50000  </td></tr>\n",
       "\t<tr><td>dodge     </td><td>4         </td><td>12.00000  </td></tr>\n",
       "\t<tr><td>land rover</td><td>4         </td><td>11.50000  </td></tr>\n",
       "\t<tr><td>lincoln   </td><td>r         </td><td>11.33333  </td></tr>\n",
       "</tbody>\n",
       "</table>\n"
      ],
      "text/latex": [
       "\\begin{tabular}{r|lll}\n",
       " manufacturer & drv & mean\\_cty\\\\\n",
       "\\hline\n",
       "\t honda      & f          & 24.44444  \\\\\n",
       "\t toyota     & f          & 21.36842  \\\\\n",
       "\t volkswagen & f          & 20.92593  \\\\\n",
       "\t nissan     & f          & 20.00000  \\\\\n",
       "\t subaru     & 4          & 19.28571  \\\\\n",
       "\t audi       & f          & 18.85714  \\\\\n",
       "\t chevrolet  & f          & 18.80000  \\\\\n",
       "\t hyundai    & f          & 18.64286  \\\\\n",
       "\t pontiac    & f          & 17.00000  \\\\\n",
       "\t audi       & 4          & 16.81818  \\\\\n",
       "\t dodge      & f          & 15.81818  \\\\\n",
       "\t toyota     & 4          & 14.93333  \\\\\n",
       "\t ford       & r          & 14.75000  \\\\\n",
       "\t chevrolet  & r          & 14.10000  \\\\\n",
       "\t nissan     & 4          & 13.75000  \\\\\n",
       "\t jeep       & 4          & 13.50000  \\\\\n",
       "\t ford       & 4          & 13.30769  \\\\\n",
       "\t mercury    & 4          & 13.25000  \\\\\n",
       "\t chevrolet  & 4          & 12.50000  \\\\\n",
       "\t dodge      & 4          & 12.00000  \\\\\n",
       "\t land rover & 4          & 11.50000  \\\\\n",
       "\t lincoln    & r          & 11.33333  \\\\\n",
       "\\end{tabular}\n"
      ],
      "text/markdown": [
       "\n",
       "| manufacturer | drv | mean_cty |\n",
       "|---|---|---|\n",
       "| honda      | f          | 24.44444   |\n",
       "| toyota     | f          | 21.36842   |\n",
       "| volkswagen | f          | 20.92593   |\n",
       "| nissan     | f          | 20.00000   |\n",
       "| subaru     | 4          | 19.28571   |\n",
       "| audi       | f          | 18.85714   |\n",
       "| chevrolet  | f          | 18.80000   |\n",
       "| hyundai    | f          | 18.64286   |\n",
       "| pontiac    | f          | 17.00000   |\n",
       "| audi       | 4          | 16.81818   |\n",
       "| dodge      | f          | 15.81818   |\n",
       "| toyota     | 4          | 14.93333   |\n",
       "| ford       | r          | 14.75000   |\n",
       "| chevrolet  | r          | 14.10000   |\n",
       "| nissan     | 4          | 13.75000   |\n",
       "| jeep       | 4          | 13.50000   |\n",
       "| ford       | 4          | 13.30769   |\n",
       "| mercury    | 4          | 13.25000   |\n",
       "| chevrolet  | 4          | 12.50000   |\n",
       "| dodge      | 4          | 12.00000   |\n",
       "| land rover | 4          | 11.50000   |\n",
       "| lincoln    | r          | 11.33333   |\n",
       "\n"
      ],
      "text/plain": [
       "   manufacturer drv mean_cty\n",
       "1  honda        f   24.44444\n",
       "2  toyota       f   21.36842\n",
       "3  volkswagen   f   20.92593\n",
       "4  nissan       f   20.00000\n",
       "5  subaru       4   19.28571\n",
       "6  audi         f   18.85714\n",
       "7  chevrolet    f   18.80000\n",
       "8  hyundai      f   18.64286\n",
       "9  pontiac      f   17.00000\n",
       "10 audi         4   16.81818\n",
       "11 dodge        f   15.81818\n",
       "12 toyota       4   14.93333\n",
       "13 ford         r   14.75000\n",
       "14 chevrolet    r   14.10000\n",
       "15 nissan       4   13.75000\n",
       "16 jeep         4   13.50000\n",
       "17 ford         4   13.30769\n",
       "18 mercury      4   13.25000\n",
       "19 chevrolet    4   12.50000\n",
       "20 dodge        4   12.00000\n",
       "21 land rover   4   11.50000\n",
       "22 lincoln      r   11.33333"
      ]
     },
     "metadata": {},
     "output_type": "display_data"
    },
    {
     "data": {
      "text/html": [
       "10"
      ],
      "text/latex": [
       "10"
      ],
      "text/markdown": [
       "10"
      ],
      "text/plain": [
       "[1] 10"
      ]
     },
     "metadata": {},
     "output_type": "display_data"
    }
   ],
   "source": [
    "mpg %>%\n",
    "    group_by(manufacturer, drv) %>%\n",
    "    summarise(mean_cty = mean(cty)) %>%\n",
    "    arrange(desc(mean_cty))\n",
    "    head(10)"
   ]
  },
  {
   "cell_type": "code",
   "execution_count": 154,
   "metadata": {},
   "outputs": [],
   "source": [
    "test1 <- data.frame(id = c(1, 2, 3, 4, 5),\n",
    "                    midterm = c(60, 80, 70, 90, 85))\n",
    "\n",
    "test2 <- data.frame(id = c(1, 2, 3, 4, 5),\n",
    "                    final = c(70, 83, 65, 95, 80))\n"
   ]
  },
  {
   "cell_type": "code",
   "execution_count": 155,
   "metadata": {},
   "outputs": [],
   "source": [
    "total = left_join(test1, test2, by='id')"
   ]
  },
  {
   "cell_type": "code",
   "execution_count": 156,
   "metadata": {},
   "outputs": [
    {
     "data": {
      "text/html": [
       "<table>\n",
       "<thead><tr><th scope=col>id</th><th scope=col>midterm</th><th scope=col>final</th></tr></thead>\n",
       "<tbody>\n",
       "\t<tr><td>1 </td><td>60</td><td>70</td></tr>\n",
       "\t<tr><td>2 </td><td>80</td><td>83</td></tr>\n",
       "\t<tr><td>3 </td><td>70</td><td>65</td></tr>\n",
       "\t<tr><td>4 </td><td>90</td><td>95</td></tr>\n",
       "\t<tr><td>5 </td><td>85</td><td>80</td></tr>\n",
       "</tbody>\n",
       "</table>\n"
      ],
      "text/latex": [
       "\\begin{tabular}{r|lll}\n",
       " id & midterm & final\\\\\n",
       "\\hline\n",
       "\t 1  & 60 & 70\\\\\n",
       "\t 2  & 80 & 83\\\\\n",
       "\t 3  & 70 & 65\\\\\n",
       "\t 4  & 90 & 95\\\\\n",
       "\t 5  & 85 & 80\\\\\n",
       "\\end{tabular}\n"
      ],
      "text/markdown": [
       "\n",
       "| id | midterm | final |\n",
       "|---|---|---|\n",
       "| 1  | 60 | 70 |\n",
       "| 2  | 80 | 83 |\n",
       "| 3  | 70 | 65 |\n",
       "| 4  | 90 | 95 |\n",
       "| 5  | 85 | 80 |\n",
       "\n"
      ],
      "text/plain": [
       "  id midterm final\n",
       "1 1  60      70   \n",
       "2 2  80      83   \n",
       "3 3  70      65   \n",
       "4 4  90      95   \n",
       "5 5  85      80   "
      ]
     },
     "metadata": {},
     "output_type": "display_data"
    }
   ],
   "source": [
    "total"
   ]
  },
  {
   "cell_type": "code",
   "execution_count": 157,
   "metadata": {},
   "outputs": [],
   "source": [
    "name <- data.frame(class = c(1, 2, 3, 4, 5),\n",
    "                           teacher = c(\"kim\", \"lee\", \"park\", \"choi\", \"jung\"))\n"
   ]
  },
  {
   "cell_type": "code",
   "execution_count": 158,
   "metadata": {},
   "outputs": [],
   "source": [
    "exam_new = left_join(exam, name, by='class')"
   ]
  },
  {
   "cell_type": "code",
   "execution_count": 159,
   "metadata": {},
   "outputs": [
    {
     "data": {
      "text/html": [
       "<table>\n",
       "<thead><tr><th scope=col>id</th><th scope=col>class</th><th scope=col>math</th><th scope=col>english</th><th scope=col>science</th><th scope=col>teacher</th></tr></thead>\n",
       "<tbody>\n",
       "\t<tr><td> 1  </td><td>1   </td><td>50  </td><td>98  </td><td>50  </td><td>kim </td></tr>\n",
       "\t<tr><td> 2  </td><td>1   </td><td>60  </td><td>97  </td><td>60  </td><td>kim </td></tr>\n",
       "\t<tr><td> 3  </td><td>1   </td><td>45  </td><td>86  </td><td>78  </td><td>kim </td></tr>\n",
       "\t<tr><td> 4  </td><td>1   </td><td>30  </td><td>98  </td><td>58  </td><td>kim </td></tr>\n",
       "\t<tr><td> 5  </td><td>2   </td><td>25  </td><td>80  </td><td>65  </td><td>lee </td></tr>\n",
       "\t<tr><td> 6  </td><td>2   </td><td>50  </td><td>89  </td><td>98  </td><td>lee </td></tr>\n",
       "\t<tr><td> 7  </td><td>2   </td><td>80  </td><td>90  </td><td>45  </td><td>lee </td></tr>\n",
       "\t<tr><td> 8  </td><td>2   </td><td>90  </td><td>78  </td><td>25  </td><td>lee </td></tr>\n",
       "\t<tr><td> 9  </td><td>3   </td><td>20  </td><td>98  </td><td>15  </td><td>park</td></tr>\n",
       "\t<tr><td>10  </td><td>3   </td><td>50  </td><td>98  </td><td>45  </td><td>park</td></tr>\n",
       "\t<tr><td>11  </td><td>3   </td><td>65  </td><td>65  </td><td>65  </td><td>park</td></tr>\n",
       "\t<tr><td>12  </td><td>3   </td><td>45  </td><td>85  </td><td>32  </td><td>park</td></tr>\n",
       "\t<tr><td>13  </td><td>4   </td><td>46  </td><td>98  </td><td>65  </td><td>choi</td></tr>\n",
       "\t<tr><td>14  </td><td>4   </td><td>48  </td><td>87  </td><td>12  </td><td>choi</td></tr>\n",
       "\t<tr><td>15  </td><td>4   </td><td>75  </td><td>56  </td><td>78  </td><td>choi</td></tr>\n",
       "\t<tr><td>16  </td><td>4   </td><td>58  </td><td>98  </td><td>65  </td><td>choi</td></tr>\n",
       "\t<tr><td>17  </td><td>5   </td><td>65  </td><td>68  </td><td>98  </td><td>jung</td></tr>\n",
       "\t<tr><td>18  </td><td>5   </td><td>80  </td><td>78  </td><td>90  </td><td>jung</td></tr>\n",
       "\t<tr><td>19  </td><td>5   </td><td>89  </td><td>68  </td><td>87  </td><td>jung</td></tr>\n",
       "\t<tr><td>20  </td><td>5   </td><td>78  </td><td>83  </td><td>58  </td><td>jung</td></tr>\n",
       "</tbody>\n",
       "</table>\n"
      ],
      "text/latex": [
       "\\begin{tabular}{r|llllll}\n",
       " id & class & math & english & science & teacher\\\\\n",
       "\\hline\n",
       "\t  1   & 1    & 50   & 98   & 50   & kim \\\\\n",
       "\t  2   & 1    & 60   & 97   & 60   & kim \\\\\n",
       "\t  3   & 1    & 45   & 86   & 78   & kim \\\\\n",
       "\t  4   & 1    & 30   & 98   & 58   & kim \\\\\n",
       "\t  5   & 2    & 25   & 80   & 65   & lee \\\\\n",
       "\t  6   & 2    & 50   & 89   & 98   & lee \\\\\n",
       "\t  7   & 2    & 80   & 90   & 45   & lee \\\\\n",
       "\t  8   & 2    & 90   & 78   & 25   & lee \\\\\n",
       "\t  9   & 3    & 20   & 98   & 15   & park\\\\\n",
       "\t 10   & 3    & 50   & 98   & 45   & park\\\\\n",
       "\t 11   & 3    & 65   & 65   & 65   & park\\\\\n",
       "\t 12   & 3    & 45   & 85   & 32   & park\\\\\n",
       "\t 13   & 4    & 46   & 98   & 65   & choi\\\\\n",
       "\t 14   & 4    & 48   & 87   & 12   & choi\\\\\n",
       "\t 15   & 4    & 75   & 56   & 78   & choi\\\\\n",
       "\t 16   & 4    & 58   & 98   & 65   & choi\\\\\n",
       "\t 17   & 5    & 65   & 68   & 98   & jung\\\\\n",
       "\t 18   & 5    & 80   & 78   & 90   & jung\\\\\n",
       "\t 19   & 5    & 89   & 68   & 87   & jung\\\\\n",
       "\t 20   & 5    & 78   & 83   & 58   & jung\\\\\n",
       "\\end{tabular}\n"
      ],
      "text/markdown": [
       "\n",
       "| id | class | math | english | science | teacher |\n",
       "|---|---|---|---|---|---|\n",
       "|  1   | 1    | 50   | 98   | 50   | kim  |\n",
       "|  2   | 1    | 60   | 97   | 60   | kim  |\n",
       "|  3   | 1    | 45   | 86   | 78   | kim  |\n",
       "|  4   | 1    | 30   | 98   | 58   | kim  |\n",
       "|  5   | 2    | 25   | 80   | 65   | lee  |\n",
       "|  6   | 2    | 50   | 89   | 98   | lee  |\n",
       "|  7   | 2    | 80   | 90   | 45   | lee  |\n",
       "|  8   | 2    | 90   | 78   | 25   | lee  |\n",
       "|  9   | 3    | 20   | 98   | 15   | park |\n",
       "| 10   | 3    | 50   | 98   | 45   | park |\n",
       "| 11   | 3    | 65   | 65   | 65   | park |\n",
       "| 12   | 3    | 45   | 85   | 32   | park |\n",
       "| 13   | 4    | 46   | 98   | 65   | choi |\n",
       "| 14   | 4    | 48   | 87   | 12   | choi |\n",
       "| 15   | 4    | 75   | 56   | 78   | choi |\n",
       "| 16   | 4    | 58   | 98   | 65   | choi |\n",
       "| 17   | 5    | 65   | 68   | 98   | jung |\n",
       "| 18   | 5    | 80   | 78   | 90   | jung |\n",
       "| 19   | 5    | 89   | 68   | 87   | jung |\n",
       "| 20   | 5    | 78   | 83   | 58   | jung |\n",
       "\n"
      ],
      "text/plain": [
       "   id class math english science teacher\n",
       "1   1 1     50   98      50      kim    \n",
       "2   2 1     60   97      60      kim    \n",
       "3   3 1     45   86      78      kim    \n",
       "4   4 1     30   98      58      kim    \n",
       "5   5 2     25   80      65      lee    \n",
       "6   6 2     50   89      98      lee    \n",
       "7   7 2     80   90      45      lee    \n",
       "8   8 2     90   78      25      lee    \n",
       "9   9 3     20   98      15      park   \n",
       "10 10 3     50   98      45      park   \n",
       "11 11 3     65   65      65      park   \n",
       "12 12 3     45   85      32      park   \n",
       "13 13 4     46   98      65      choi   \n",
       "14 14 4     48   87      12      choi   \n",
       "15 15 4     75   56      78      choi   \n",
       "16 16 4     58   98      65      choi   \n",
       "17 17 5     65   68      98      jung   \n",
       "18 18 5     80   78      90      jung   \n",
       "19 19 5     89   68      87      jung   \n",
       "20 20 5     78   83      58      jung   "
      ]
     },
     "metadata": {},
     "output_type": "display_data"
    }
   ],
   "source": [
    "exam_new"
   ]
  },
  {
   "cell_type": "code",
   "execution_count": 160,
   "metadata": {},
   "outputs": [],
   "source": [
    "group_a <- data.frame(id = c(1, 2, 3, 4, 5),\n",
    "                      test = c(60, 80, 70, 90, 85))\n",
    "group_b <- data.frame(id = c(6, 7, 8, 9, 10),\n",
    "                      test = c(70, 83, 65, 95, 80))\n"
   ]
  },
  {
   "cell_type": "code",
   "execution_count": 161,
   "metadata": {},
   "outputs": [],
   "source": [
    "group_all = bind_rows(group_a, group_b)"
   ]
  },
  {
   "cell_type": "code",
   "execution_count": 162,
   "metadata": {},
   "outputs": [
    {
     "data": {
      "text/html": [
       "<table>\n",
       "<thead><tr><th scope=col>id</th><th scope=col>test</th></tr></thead>\n",
       "<tbody>\n",
       "\t<tr><td> 1</td><td>60</td></tr>\n",
       "\t<tr><td> 2</td><td>80</td></tr>\n",
       "\t<tr><td> 3</td><td>70</td></tr>\n",
       "\t<tr><td> 4</td><td>90</td></tr>\n",
       "\t<tr><td> 5</td><td>85</td></tr>\n",
       "\t<tr><td> 6</td><td>70</td></tr>\n",
       "\t<tr><td> 7</td><td>83</td></tr>\n",
       "\t<tr><td> 8</td><td>65</td></tr>\n",
       "\t<tr><td> 9</td><td>95</td></tr>\n",
       "\t<tr><td>10</td><td>80</td></tr>\n",
       "</tbody>\n",
       "</table>\n"
      ],
      "text/latex": [
       "\\begin{tabular}{r|ll}\n",
       " id & test\\\\\n",
       "\\hline\n",
       "\t  1 & 60\\\\\n",
       "\t  2 & 80\\\\\n",
       "\t  3 & 70\\\\\n",
       "\t  4 & 90\\\\\n",
       "\t  5 & 85\\\\\n",
       "\t  6 & 70\\\\\n",
       "\t  7 & 83\\\\\n",
       "\t  8 & 65\\\\\n",
       "\t  9 & 95\\\\\n",
       "\t 10 & 80\\\\\n",
       "\\end{tabular}\n"
      ],
      "text/markdown": [
       "\n",
       "| id | test |\n",
       "|---|---|\n",
       "|  1 | 60 |\n",
       "|  2 | 80 |\n",
       "|  3 | 70 |\n",
       "|  4 | 90 |\n",
       "|  5 | 85 |\n",
       "|  6 | 70 |\n",
       "|  7 | 83 |\n",
       "|  8 | 65 |\n",
       "|  9 | 95 |\n",
       "| 10 | 80 |\n",
       "\n"
      ],
      "text/plain": [
       "   id test\n",
       "1   1 60  \n",
       "2   2 80  \n",
       "3   3 70  \n",
       "4   4 90  \n",
       "5   5 85  \n",
       "6   6 70  \n",
       "7   7 83  \n",
       "8   8 65  \n",
       "9   9 95  \n",
       "10 10 80  "
      ]
     },
     "metadata": {},
     "output_type": "display_data"
    }
   ],
   "source": [
    "group_all"
   ]
  },
  {
   "cell_type": "code",
   "execution_count": null,
   "metadata": {},
   "outputs": [],
   "source": []
  }
 ],
 "metadata": {
  "kernelspec": {
   "display_name": "R [conda env:.conda-tf2] *",
   "language": "R",
   "name": "conda-env-.conda-tf2-r"
  },
  "language_info": {
   "codemirror_mode": "r",
   "file_extension": ".r",
   "mimetype": "text/x-r-source",
   "name": "R",
   "pygments_lexer": "r",
   "version": "3.6.1"
  }
 },
 "nbformat": 4,
 "nbformat_minor": 4
}
