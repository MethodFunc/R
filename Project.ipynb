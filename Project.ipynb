{
 "cells": [
  {
   "cell_type": "code",
   "execution_count": 1,
   "metadata": {},
   "outputs": [],
   "source": [
    "setwd('D:/Workspace/R/data')"
   ]
  },
  {
   "cell_type": "code",
   "execution_count": 2,
   "metadata": {},
   "outputs": [
    {
     "name": "stderr",
     "output_type": "stream",
     "text": [
      "Warning message:\n",
      "\"package 'dplyr' was built under R version 3.6.3\"\n",
      "Attaching package: 'dplyr'\n",
      "\n",
      "The following objects are masked from 'package:stats':\n",
      "\n",
      "    filter, lag\n",
      "\n",
      "The following objects are masked from 'package:base':\n",
      "\n",
      "    intersect, setdiff, setequal, union\n",
      "\n",
      "Warning message:\n",
      "\"package 'ggplot2' was built under R version 3.6.3\""
     ]
    }
   ],
   "source": [
    "library(dplyr)\n",
    "library(ggplot2)"
   ]
  },
  {
   "cell_type": "code",
   "execution_count": 3,
   "metadata": {},
   "outputs": [],
   "source": [
    "df = read.csv('sale_data.csv')"
   ]
  },
  {
   "cell_type": "code",
   "execution_count": 4,
   "metadata": {},
   "outputs": [
    {
     "data": {
      "text/html": [
       "<table>\n",
       "<thead><tr><th scope=col>X</th><th scope=col>YM</th><th scope=col>CATEGORY</th><th scope=col>ITEM_CNT</th><th scope=col>QTY</th><th scope=col>PRICE</th><th scope=col>MAXTEMP</th><th scope=col>SALEDAY</th><th scope=col>RAIN_DAY</th><th scope=col>HOLIDAY</th></tr></thead>\n",
       "<tbody>\n",
       "\t<tr><td>1       </td><td>200901  </td><td>과즙음료</td><td>45      </td><td> 990    </td><td>2611    </td><td> 4      </td><td>126753  </td><td> 151    </td><td>12      </td></tr>\n",
       "\t<tr><td>2       </td><td>200902  </td><td>과즙음료</td><td>45      </td><td>1199    </td><td>2689    </td><td> 9      </td><td>113399  </td><td>3014    </td><td> 8      </td></tr>\n",
       "\t<tr><td>3       </td><td>200903  </td><td>과즙음료</td><td>43      </td><td>1102    </td><td>2735    </td><td>12      </td><td>129162  </td><td>1383    </td><td> 9      </td></tr>\n",
       "\t<tr><td>4       </td><td>200904  </td><td>과즙음료</td><td>42      </td><td>1326    </td><td>2807    </td><td>19      </td><td>126277  </td><td>3564    </td><td> 8      </td></tr>\n",
       "\t<tr><td>5       </td><td>200905  </td><td>과즙음료</td><td>46      </td><td>1672    </td><td>2674    </td><td>25      </td><td>129584  </td><td>9288    </td><td>12      </td></tr>\n",
       "\t<tr><td>6       </td><td>200906  </td><td>과즙음료</td><td>48      </td><td>1875    </td><td>2777    </td><td>27      </td><td>123218  </td><td>9998    </td><td> 8      </td></tr>\n",
       "</tbody>\n",
       "</table>\n"
      ],
      "text/latex": [
       "\\begin{tabular}{r|llllllllll}\n",
       " X & YM & CATEGORY & ITEM\\_CNT & QTY & PRICE & MAXTEMP & SALEDAY & RAIN\\_DAY & HOLIDAY\\\\\n",
       "\\hline\n",
       "\t 1        & 200901   & 과즙음료 & 45       &  990     & 2611     &  4       & 126753   &  151     & 12      \\\\\n",
       "\t 2        & 200902   & 과즙음료 & 45       & 1199     & 2689     &  9       & 113399   & 3014     &  8      \\\\\n",
       "\t 3        & 200903   & 과즙음료 & 43       & 1102     & 2735     & 12       & 129162   & 1383     &  9      \\\\\n",
       "\t 4        & 200904   & 과즙음료 & 42       & 1326     & 2807     & 19       & 126277   & 3564     &  8      \\\\\n",
       "\t 5        & 200905   & 과즙음료 & 46       & 1672     & 2674     & 25       & 129584   & 9288     & 12      \\\\\n",
       "\t 6        & 200906   & 과즙음료 & 48       & 1875     & 2777     & 27       & 123218   & 9998     &  8      \\\\\n",
       "\\end{tabular}\n"
      ],
      "text/markdown": [
       "\n",
       "| X | YM | CATEGORY | ITEM_CNT | QTY | PRICE | MAXTEMP | SALEDAY | RAIN_DAY | HOLIDAY |\n",
       "|---|---|---|---|---|---|---|---|---|---|\n",
       "| 1        | 200901   | 과즙음료 | 45       |  990     | 2611     |  4       | 126753   |  151     | 12       |\n",
       "| 2        | 200902   | 과즙음료 | 45       | 1199     | 2689     |  9       | 113399   | 3014     |  8       |\n",
       "| 3        | 200903   | 과즙음료 | 43       | 1102     | 2735     | 12       | 129162   | 1383     |  9       |\n",
       "| 4        | 200904   | 과즙음료 | 42       | 1326     | 2807     | 19       | 126277   | 3564     |  8       |\n",
       "| 5        | 200905   | 과즙음료 | 46       | 1672     | 2674     | 25       | 129584   | 9288     | 12       |\n",
       "| 6        | 200906   | 과즙음료 | 48       | 1875     | 2777     | 27       | 123218   | 9998     |  8       |\n",
       "\n"
      ],
      "text/plain": [
       "  X YM     CATEGORY ITEM_CNT QTY  PRICE MAXTEMP SALEDAY RAIN_DAY HOLIDAY\n",
       "1 1 200901 과즙음료 45        990 2611   4      126753   151     12     \n",
       "2 2 200902 과즙음료 45       1199 2689   9      113399  3014      8     \n",
       "3 3 200903 과즙음료 43       1102 2735  12      129162  1383      9     \n",
       "4 4 200904 과즙음료 42       1326 2807  19      126277  3564      8     \n",
       "5 5 200905 과즙음료 46       1672 2674  25      129584  9288     12     \n",
       "6 6 200906 과즙음료 48       1875 2777  27      123218  9998      8     "
      ]
     },
     "metadata": {},
     "output_type": "display_data"
    }
   ],
   "source": [
    "head(df)"
   ]
  },
  {
   "cell_type": "code",
   "execution_count": 5,
   "metadata": {},
   "outputs": [
    {
     "data": {
      "text/plain": [
       "       X                YM               CATEGORY     ITEM_CNT    \n",
       " Min.   :  1.00   Min.   :200901   과즙음료  :60   Min.   : 1.00  \n",
       " 1st Qu.: 45.75   1st Qu.:201004   비타민음료:60   1st Qu.:14.00  \n",
       " Median : 90.50   Median :201107   차음료    :60   Median :43.00  \n",
       " Mean   : 90.50   Mean   :201107                   Mean   :39.57  \n",
       " 3rd Qu.:135.25   3rd Qu.:201209                   3rd Qu.:57.00  \n",
       " Max.   :180.00   Max.   :201312                   Max.   :83.00  \n",
       "      QTY             PRICE         MAXTEMP         SALEDAY      \n",
       " Min.   :  27.0   Min.   :1229   Min.   :-1.00   Min.   :113399  \n",
       " 1st Qu.: 814.5   1st Qu.:1424   1st Qu.: 9.75   1st Qu.:143047  \n",
       " Median :1734.0   Median :1762   Median :19.50   Median :179564  \n",
       " Mean   :1685.7   Mean   :1915   Mean   :17.55   Mean   :181596  \n",
       " 3rd Qu.:2387.2   3rd Qu.:2347   3rd Qu.:27.00   3rd Qu.:224721  \n",
       " Max.   :3992.0   Max.   :3251   Max.   :31.00   Max.   :245068  \n",
       "    RAIN_DAY        HOLIDAY    \n",
       " Min.   :    0   Min.   : 8.0  \n",
       " 1st Qu.: 2750   1st Qu.: 9.0  \n",
       " Median : 5780   Median : 9.0  \n",
       " Mean   : 9306   Mean   : 9.5  \n",
       " 3rd Qu.:11758   3rd Qu.:10.0  \n",
       " Max.   :43058   Max.   :12.0  "
      ]
     },
     "metadata": {},
     "output_type": "display_data"
    }
   ],
   "source": [
    "summary(df)"
   ]
  },
  {
   "cell_type": "code",
   "execution_count": 6,
   "metadata": {},
   "outputs": [],
   "source": [
    "product1 = df %>% filter(df$CATEGORY == '과즙음료')\n",
    "product2 = df %>% filter(df$CATEGORY == '비타민음료')\n",
    "product3 = df %>% filter(df$CATEGORY == '차음료')\n",
    "\n",
    "idx=sample(1:nrow(product1), size=nrow(product1)*0.7, replace = F)\n",
    "product1_train = product1[idx, ]\n",
    "product1_test = product1[-idx, ]\n",
    "\n",
    "product2_train = product2[idx, ]\n",
    "product2_test = product2[-idx, ]\n",
    "\n",
    "product3_train = product3[idx, ]\n",
    "product3_test = product3[-idx, ]"
   ]
  },
  {
   "cell_type": "code",
   "execution_count": 7,
   "metadata": {},
   "outputs": [
    {
     "data": {
      "text/html": [
       "<table>\n",
       "<thead><tr><th scope=col>X</th><th scope=col>YM</th><th scope=col>CATEGORY</th><th scope=col>ITEM_CNT</th><th scope=col>QTY</th><th scope=col>PRICE</th><th scope=col>MAXTEMP</th><th scope=col>SALEDAY</th><th scope=col>RAIN_DAY</th><th scope=col>HOLIDAY</th></tr></thead>\n",
       "<tbody>\n",
       "\t<tr><td>1       </td><td>200901  </td><td>과즙음료</td><td>45      </td><td> 990    </td><td>2611    </td><td> 4      </td><td>126753  </td><td> 151    </td><td>12      </td></tr>\n",
       "\t<tr><td>2       </td><td>200902  </td><td>과즙음료</td><td>45      </td><td>1199    </td><td>2689    </td><td> 9      </td><td>113399  </td><td>3014    </td><td> 8      </td></tr>\n",
       "\t<tr><td>3       </td><td>200903  </td><td>과즙음료</td><td>43      </td><td>1102    </td><td>2735    </td><td>12      </td><td>129162  </td><td>1383    </td><td> 9      </td></tr>\n",
       "\t<tr><td>4       </td><td>200904  </td><td>과즙음료</td><td>42      </td><td>1326    </td><td>2807    </td><td>19      </td><td>126277  </td><td>3564    </td><td> 8      </td></tr>\n",
       "\t<tr><td>5       </td><td>200905  </td><td>과즙음료</td><td>46      </td><td>1672    </td><td>2674    </td><td>25      </td><td>129584  </td><td>9288    </td><td>12      </td></tr>\n",
       "\t<tr><td>6       </td><td>200906  </td><td>과즙음료</td><td>48      </td><td>1875    </td><td>2777    </td><td>27      </td><td>123218  </td><td>9998    </td><td> 8      </td></tr>\n",
       "</tbody>\n",
       "</table>\n"
      ],
      "text/latex": [
       "\\begin{tabular}{r|llllllllll}\n",
       " X & YM & CATEGORY & ITEM\\_CNT & QTY & PRICE & MAXTEMP & SALEDAY & RAIN\\_DAY & HOLIDAY\\\\\n",
       "\\hline\n",
       "\t 1        & 200901   & 과즙음료 & 45       &  990     & 2611     &  4       & 126753   &  151     & 12      \\\\\n",
       "\t 2        & 200902   & 과즙음료 & 45       & 1199     & 2689     &  9       & 113399   & 3014     &  8      \\\\\n",
       "\t 3        & 200903   & 과즙음료 & 43       & 1102     & 2735     & 12       & 129162   & 1383     &  9      \\\\\n",
       "\t 4        & 200904   & 과즙음료 & 42       & 1326     & 2807     & 19       & 126277   & 3564     &  8      \\\\\n",
       "\t 5        & 200905   & 과즙음료 & 46       & 1672     & 2674     & 25       & 129584   & 9288     & 12      \\\\\n",
       "\t 6        & 200906   & 과즙음료 & 48       & 1875     & 2777     & 27       & 123218   & 9998     &  8      \\\\\n",
       "\\end{tabular}\n"
      ],
      "text/markdown": [
       "\n",
       "| X | YM | CATEGORY | ITEM_CNT | QTY | PRICE | MAXTEMP | SALEDAY | RAIN_DAY | HOLIDAY |\n",
       "|---|---|---|---|---|---|---|---|---|---|\n",
       "| 1        | 200901   | 과즙음료 | 45       |  990     | 2611     |  4       | 126753   |  151     | 12       |\n",
       "| 2        | 200902   | 과즙음료 | 45       | 1199     | 2689     |  9       | 113399   | 3014     |  8       |\n",
       "| 3        | 200903   | 과즙음료 | 43       | 1102     | 2735     | 12       | 129162   | 1383     |  9       |\n",
       "| 4        | 200904   | 과즙음료 | 42       | 1326     | 2807     | 19       | 126277   | 3564     |  8       |\n",
       "| 5        | 200905   | 과즙음료 | 46       | 1672     | 2674     | 25       | 129584   | 9288     | 12       |\n",
       "| 6        | 200906   | 과즙음료 | 48       | 1875     | 2777     | 27       | 123218   | 9998     |  8       |\n",
       "\n"
      ],
      "text/plain": [
       "  X YM     CATEGORY ITEM_CNT QTY  PRICE MAXTEMP SALEDAY RAIN_DAY HOLIDAY\n",
       "1 1 200901 과즙음료 45        990 2611   4      126753   151     12     \n",
       "2 2 200902 과즙음료 45       1199 2689   9      113399  3014      8     \n",
       "3 3 200903 과즙음료 43       1102 2735  12      129162  1383      9     \n",
       "4 4 200904 과즙음료 42       1326 2807  19      126277  3564      8     \n",
       "5 5 200905 과즙음료 46       1672 2674  25      129584  9288     12     \n",
       "6 6 200906 과즙음료 48       1875 2777  27      123218  9998      8     "
      ]
     },
     "metadata": {},
     "output_type": "display_data"
    }
   ],
   "source": [
    "head(product1)"
   ]
  },
  {
   "cell_type": "code",
   "execution_count": 8,
   "metadata": {},
   "outputs": [
    {
     "data": {
      "text/plain": [
       "\n",
       "Call:\n",
       "lm(formula = QTY ~ PRICE + MAXTEMP + SALEDAY + RAIN_DAY + HOLIDAY, \n",
       "    data = product1_train)\n",
       "\n",
       "Residuals:\n",
       "    Min      1Q  Median      3Q     Max \n",
       "-368.18 -191.52   12.71  138.43  506.73 \n",
       "\n",
       "Coefficients:\n",
       "              Estimate Std. Error t value Pr(>|t|)    \n",
       "(Intercept) -2.555e+03  6.375e+02  -4.007 0.000295 ***\n",
       "PRICE        6.338e-01  1.446e-01   4.382 9.74e-05 ***\n",
       "MAXTEMP      5.367e+01  5.003e+00  10.728 9.20e-13 ***\n",
       "SALEDAY      1.092e-02  1.229e-03   8.883 1.33e-10 ***\n",
       "RAIN_DAY    -5.587e-03  4.841e-03  -1.154 0.256114    \n",
       "HOLIDAY      7.521e+00  3.059e+01   0.246 0.807174    \n",
       "---\n",
       "Signif. codes:  0 '***' 0.001 '**' 0.01 '*' 0.05 '.' 0.1 ' ' 1\n",
       "\n",
       "Residual standard error: 234.5 on 36 degrees of freedom\n",
       "Multiple R-squared:  0.8635,\tAdjusted R-squared:  0.8446 \n",
       "F-statistic: 45.56 on 5 and 36 DF,  p-value: 1.389e-14\n"
      ]
     },
     "metadata": {},
     "output_type": "display_data"
    }
   ],
   "source": [
    "pd1 = lm(QTY~PRICE+MAXTEMP+SALEDAY+RAIN_DAY+HOLIDAY, data=product1_train)\n",
    "summary(pd1)"
   ]
  },
  {
   "cell_type": "code",
   "execution_count": 9,
   "metadata": {},
   "outputs": [
    {
     "data": {
      "text/plain": [
       "\n",
       "Call:\n",
       "lm(formula = QTY ~ PRICE + MAXTEMP + SALEDAY + RAIN_DAY, data = product1_train)\n",
       "\n",
       "Residuals:\n",
       "    Min      1Q  Median      3Q     Max \n",
       "-357.89 -192.63    6.67  140.82  508.29 \n",
       "\n",
       "Coefficients:\n",
       "              Estimate Std. Error t value Pr(>|t|)    \n",
       "(Intercept) -2.488e+03  5.690e+02  -4.372 9.62e-05 ***\n",
       "PRICE        6.336e-01  1.428e-01   4.438 7.89e-05 ***\n",
       "MAXTEMP      5.371e+01  4.936e+00  10.883 4.35e-13 ***\n",
       "SALEDAY      1.095e-02  1.208e-03   9.063 6.24e-11 ***\n",
       "RAIN_DAY    -5.605e-03  4.779e-03  -1.173    0.248    \n",
       "---\n",
       "Signif. codes:  0 '***' 0.001 '**' 0.01 '*' 0.05 '.' 0.1 ' ' 1\n",
       "\n",
       "Residual standard error: 231.5 on 37 degrees of freedom\n",
       "Multiple R-squared:  0.8633,\tAdjusted R-squared:  0.8485 \n",
       "F-statistic: 58.42 on 4 and 37 DF,  p-value: 1.74e-15\n"
      ]
     },
     "metadata": {},
     "output_type": "display_data"
    }
   ],
   "source": [
    "pd1 = lm(QTY~PRICE+MAXTEMP+SALEDAY+RAIN_DAY, data=product1_train)\n",
    "summary(pd1)"
   ]
  },
  {
   "cell_type": "code",
   "execution_count": 10,
   "metadata": {},
   "outputs": [
    {
     "data": {
      "image/png": "[encoded data removed]",
      "text/plain": [
       "Plot with title \"\""
      ]
     },
     "metadata": {},
     "output_type": "display_data"
    },
    {
     "data": {
      "image/png": "[encoded data removed]",
      "text/plain": [
       "Plot with title \"\""
      ]
     },
     "metadata": {},
     "output_type": "display_data"
    },
    {
     "data": {
      "image/png": "[encoded data removed]",
      "text/plain": [
       "Plot with title \"\""
      ]
     },
     "metadata": {},
     "output_type": "display_data"
    },
    {
     "data": {
      "image/png": "[encoded data removed]",
      "text/plain": [
       "Plot with title \"\""
      ]
     },
     "metadata": {},
     "output_type": "display_data"
    }
   ],
   "source": [
    "plot(pd1)"
   ]
  },
  {
   "cell_type": "code",
   "execution_count": 11,
   "metadata": {},
   "outputs": [
    {
     "data": {
      "text/plain": [
       "\n",
       "Call:\n",
       "lm(formula = QTY ~ SALEDAY + RAIN_DAY, data = product2_train)\n",
       "\n",
       "Residuals:\n",
       "   Min     1Q Median     3Q    Max \n",
       "-360.3 -157.5  -69.8  130.1  465.4 \n",
       "\n",
       "Coefficients:\n",
       "              Estimate Std. Error t value Pr(>|t|)    \n",
       "(Intercept) -5.740e+02  1.440e+02  -3.987 0.000285 ***\n",
       "SALEDAY      5.523e-03  7.689e-04   7.182 1.21e-08 ***\n",
       "RAIN_DAY     1.524e-02  3.231e-03   4.719 3.03e-05 ***\n",
       "---\n",
       "Signif. codes:  0 '***' 0.001 '**' 0.01 '*' 0.05 '.' 0.1 ' ' 1\n",
       "\n",
       "Residual standard error: 207.8 on 39 degrees of freedom\n",
       "Multiple R-squared:  0.6696,\tAdjusted R-squared:  0.6527 \n",
       "F-statistic: 39.52 on 2 and 39 DF,  p-value: 4.182e-10\n"
      ]
     },
     "metadata": {},
     "output_type": "display_data"
    }
   ],
   "source": [
    "pd2 = lm(QTY~SALEDAY+RAIN_DAY, data=product2_train)\n",
    "summary(pd2)"
   ]
  },
  {
   "cell_type": "code",
   "execution_count": 12,
   "metadata": {},
   "outputs": [
    {
     "data": {
      "image/png": "[encoded data removed]",
      "text/plain": [
       "Plot with title \"\""
      ]
     },
     "metadata": {},
     "output_type": "display_data"
    },
    {
     "data": {
      "image/png": "[encoded data removed]",
      "text/plain": [
       "Plot with title \"\""
      ]
     },
     "metadata": {},
     "output_type": "display_data"
    },
    {
     "data": {
      "image/png": "[encoded data removed]",
      "text/plain": [
       "Plot with title \"\""
      ]
     },
     "metadata": {},
     "output_type": "display_data"
    },
    {
     "data": {
      "image/png": "[encoded data removed]",
      "text/plain": [
       "Plot with title \"\""
      ]
     },
     "metadata": {},
     "output_type": "display_data"
    }
   ],
   "source": [
    "plot(pd2)"
   ]
  },
  {
   "cell_type": "code",
   "execution_count": 13,
   "metadata": {},
   "outputs": [
    {
     "data": {
      "text/plain": [
       "\n",
       "Call:\n",
       "lm(formula = QTY ~ MAXTEMP + SALEDAY, data = product3_train)\n",
       "\n",
       "Residuals:\n",
       "    Min      1Q  Median      3Q     Max \n",
       "-421.75 -157.64   -7.46  103.60  962.04 \n",
       "\n",
       "Coefficients:\n",
       "              Estimate Std. Error t value Pr(>|t|)    \n",
       "(Intercept) -1.800e+02  1.941e+02  -0.928    0.359    \n",
       "MAXTEMP      4.477e+01  3.987e+00  11.228 8.72e-14 ***\n",
       "SALEDAY      9.902e-03  9.362e-04  10.576 5.12e-13 ***\n",
       "---\n",
       "Signif. codes:  0 '***' 0.001 '**' 0.01 '*' 0.05 '.' 0.1 ' ' 1\n",
       "\n",
       "Residual standard error: 252.3 on 39 degrees of freedom\n",
       "Multiple R-squared:  0.847,\tAdjusted R-squared:  0.8392 \n",
       "F-statistic:   108 on 2 and 39 DF,  p-value: < 2.2e-16\n"
      ]
     },
     "metadata": {},
     "output_type": "display_data"
    }
   ],
   "source": [
    "pd3 = lm(QTY~MAXTEMP+SALEDAY, data=product3_train)\n",
    "summary(pd3)"
   ]
  },
  {
   "cell_type": "code",
   "execution_count": 14,
   "metadata": {},
   "outputs": [
    {
     "data": {
      "image/png": "[encoded data removed]",
      "text/plain": [
       "Plot with title \"\""
      ]
     },
     "metadata": {},
     "output_type": "display_data"
    },
    {
     "data": {
      "image/png": "[encoded data removed]",
      "text/plain": [
       "Plot with title \"\""
      ]
     },
     "metadata": {},
     "output_type": "display_data"
    },
    {
     "data": {
      "image/png": "[encoded data removed]",
      "text/plain": [
       "Plot with title \"\""
      ]
     },
     "metadata": {},
     "output_type": "display_data"
    },
    {
     "data": {
      "image/png": "[encoded data removed]",
      "text/plain": [
       "Plot with title \"\""
      ]
     },
     "metadata": {},
     "output_type": "display_data"
    }
   ],
   "source": [
    "plot(pd3)"
   ]
  },
  {
   "cell_type": "code",
   "execution_count": 22,
   "metadata": {},
   "outputs": [],
   "source": [
    "pd1.pred = predict(pd1, newdata=product1_test, interval = 'predict')"
   ]
  },
  {
   "cell_type": "code",
   "execution_count": 25,
   "metadata": {},
   "outputs": [],
   "source": [
    "pd1.pred = as.data.frame(pd1.pred)"
   ]
  },
  {
   "cell_type": "code",
   "execution_count": 26,
   "metadata": {},
   "outputs": [],
   "source": [
    "pd1.pred = cbind(pd1.pred, product1_test$QTY)"
   ]
  },
  {
   "cell_type": "code",
   "execution_count": 27,
   "metadata": {},
   "outputs": [
    {
     "data": {
      "text/html": [
       "<table>\n",
       "<thead><tr><th></th><th scope=col>fit</th><th scope=col>lwr</th><th scope=col>upr</th><th scope=col>product1_test$QTY</th></tr></thead>\n",
       "<tbody>\n",
       "\t<tr><th scope=row>1</th><td> 768.7359</td><td> 259.1352</td><td>1278.337 </td><td> 990     </td></tr>\n",
       "\t<tr><th scope=row>2</th><td> 924.4582</td><td> 418.0260</td><td>1430.890 </td><td>1199     </td></tr>\n",
       "\t<tr><th scope=row>4</th><td>1674.2778</td><td>1187.2239</td><td>2161.332 </td><td>1326     </td></tr>\n",
       "\t<tr><th scope=row>7</th><td>2165.0453</td><td>1676.9078</td><td>2653.183 </td><td>1663     </td></tr>\n",
       "\t<tr><th scope=row>15</th><td>1403.3714</td><td> 920.4668</td><td>1886.276 </td><td>1432     </td></tr>\n",
       "\t<tr><th scope=row>22</th><td>2067.9294</td><td>1583.6927</td><td>2552.166 </td><td>2321     </td></tr>\n",
       "</tbody>\n",
       "</table>\n"
      ],
      "text/latex": [
       "\\begin{tabular}{r|llll}\n",
       "  & fit & lwr & upr & product1\\_test\\$QTY\\\\\n",
       "\\hline\n",
       "\t1 &  768.7359 &  259.1352 & 1278.337  &  990     \\\\\n",
       "\t2 &  924.4582 &  418.0260 & 1430.890  & 1199     \\\\\n",
       "\t4 & 1674.2778 & 1187.2239 & 2161.332  & 1326     \\\\\n",
       "\t7 & 2165.0453 & 1676.9078 & 2653.183  & 1663     \\\\\n",
       "\t15 & 1403.3714 &  920.4668 & 1886.276  & 1432     \\\\\n",
       "\t22 & 2067.9294 & 1583.6927 & 2552.166  & 2321     \\\\\n",
       "\\end{tabular}\n"
      ],
      "text/markdown": [
       "\n",
       "| <!--/--> | fit | lwr | upr | product1_test$QTY |\n",
       "|---|---|---|---|---|\n",
       "| 1 |  768.7359 |  259.1352 | 1278.337  |  990      |\n",
       "| 2 |  924.4582 |  418.0260 | 1430.890  | 1199      |\n",
       "| 4 | 1674.2778 | 1187.2239 | 2161.332  | 1326      |\n",
       "| 7 | 2165.0453 | 1676.9078 | 2653.183  | 1663      |\n",
       "| 15 | 1403.3714 |  920.4668 | 1886.276  | 1432      |\n",
       "| 22 | 2067.9294 | 1583.6927 | 2552.166  | 2321      |\n",
       "\n"
      ],
      "text/plain": [
       "   fit       lwr       upr      product1_test$QTY\n",
       "1   768.7359  259.1352 1278.337  990             \n",
       "2   924.4582  418.0260 1430.890 1199             \n",
       "4  1674.2778 1187.2239 2161.332 1326             \n",
       "7  2165.0453 1676.9078 2653.183 1663             \n",
       "15 1403.3714  920.4668 1886.276 1432             \n",
       "22 2067.9294 1583.6927 2552.166 2321             "
      ]
     },
     "metadata": {},
     "output_type": "display_data"
    }
   ],
   "source": [
    "head(pd1.pred)"
   ]
  },
  {
   "cell_type": "code",
   "execution_count": 29,
   "metadata": {},
   "outputs": [],
   "source": [
    "pd1.pred$tf[pd1.pred$'product1_test$QTY'>= pd1.pred$lwr & pd1.pred$'product1_test$QTY' <= pd1.pred$upr] = T"
   ]
  },
  {
   "cell_type": "code",
   "execution_count": 45,
   "metadata": {},
   "outputs": [],
   "source": [
    "pd1.pred$tf= ifelse(pd1.pred$'product1_test$QTY'>= pd1.pred$lwr & pd1.pred$'product1_test$QTY' <= pd1.pred$upr, T, F)"
   ]
  },
  {
   "cell_type": "code",
   "execution_count": 46,
   "metadata": {},
   "outputs": [
    {
     "data": {
      "text/html": [
       "<table>\n",
       "<thead><tr><th></th><th scope=col>fit</th><th scope=col>lwr</th><th scope=col>upr</th><th scope=col>product1_test$QTY</th><th scope=col>tf</th></tr></thead>\n",
       "<tbody>\n",
       "\t<tr><th scope=row>1</th><td> 768.7359</td><td> 259.1352</td><td>1278.337 </td><td> 990     </td><td> TRUE    </td></tr>\n",
       "\t<tr><th scope=row>2</th><td> 924.4582</td><td> 418.0260</td><td>1430.890 </td><td>1199     </td><td> TRUE    </td></tr>\n",
       "\t<tr><th scope=row>4</th><td>1674.2778</td><td>1187.2239</td><td>2161.332 </td><td>1326     </td><td> TRUE    </td></tr>\n",
       "\t<tr><th scope=row>7</th><td>2165.0453</td><td>1676.9078</td><td>2653.183 </td><td>1663     </td><td>FALSE    </td></tr>\n",
       "\t<tr><th scope=row>15</th><td>1403.3714</td><td> 920.4668</td><td>1886.276 </td><td>1432     </td><td> TRUE    </td></tr>\n",
       "\t<tr><th scope=row>22</th><td>2067.9294</td><td>1583.6927</td><td>2552.166 </td><td>2321     </td><td> TRUE    </td></tr>\n",
       "\t<tr><th scope=row>24</th><td>1416.3813</td><td> 928.5751</td><td>1904.188 </td><td>1306     </td><td> TRUE    </td></tr>\n",
       "\t<tr><th scope=row>28</th><td>2104.9803</td><td>1622.8337</td><td>2587.127 </td><td>2200     </td><td> TRUE    </td></tr>\n",
       "\t<tr><th scope=row>29</th><td>2499.6899</td><td>2011.4780</td><td>2987.902 </td><td>3247     </td><td>FALSE    </td></tr>\n",
       "\t<tr><th scope=row>32</th><td>2769.8962</td><td>2280.8644</td><td>3258.928 </td><td>2765     </td><td> TRUE    </td></tr>\n",
       "\t<tr><th scope=row>38</th><td>1667.0897</td><td>1177.7672</td><td>2156.412 </td><td>1859     </td><td> TRUE    </td></tr>\n",
       "\t<tr><th scope=row>39</th><td>2261.6677</td><td>1763.1257</td><td>2760.210 </td><td>2566     </td><td> TRUE    </td></tr>\n",
       "\t<tr><th scope=row>40</th><td>2459.3979</td><td>1967.7245</td><td>2951.071 </td><td>2475     </td><td> TRUE    </td></tr>\n",
       "\t<tr><th scope=row>42</th><td>3386.5199</td><td>2829.7282</td><td>3943.312 </td><td>3474     </td><td> TRUE    </td></tr>\n",
       "\t<tr><th scope=row>53</th><td>2867.4233</td><td>2373.9363</td><td>3360.910 </td><td>2606     </td><td> TRUE    </td></tr>\n",
       "\t<tr><th scope=row>55</th><td>2711.3869</td><td>2160.8069</td><td>3261.967 </td><td>2336     </td><td> TRUE    </td></tr>\n",
       "\t<tr><th scope=row>56</th><td>2922.0426</td><td>2418.0421</td><td>3426.043 </td><td>2755     </td><td> TRUE    </td></tr>\n",
       "\t<tr><th scope=row>60</th><td>1641.3459</td><td>1135.2247</td><td>2147.467 </td><td>1770     </td><td> TRUE    </td></tr>\n",
       "</tbody>\n",
       "</table>\n"
      ],
      "text/latex": [
       "\\begin{tabular}{r|lllll}\n",
       "  & fit & lwr & upr & product1\\_test\\$QTY & tf\\\\\n",
       "\\hline\n",
       "\t1 &  768.7359 &  259.1352 & 1278.337  &  990      &  TRUE    \\\\\n",
       "\t2 &  924.4582 &  418.0260 & 1430.890  & 1199      &  TRUE    \\\\\n",
       "\t4 & 1674.2778 & 1187.2239 & 2161.332  & 1326      &  TRUE    \\\\\n",
       "\t7 & 2165.0453 & 1676.9078 & 2653.183  & 1663      & FALSE    \\\\\n",
       "\t15 & 1403.3714 &  920.4668 & 1886.276  & 1432      &  TRUE    \\\\\n",
       "\t22 & 2067.9294 & 1583.6927 & 2552.166  & 2321      &  TRUE    \\\\\n",
       "\t24 & 1416.3813 &  928.5751 & 1904.188  & 1306      &  TRUE    \\\\\n",
       "\t28 & 2104.9803 & 1622.8337 & 2587.127  & 2200      &  TRUE    \\\\\n",
       "\t29 & 2499.6899 & 2011.4780 & 2987.902  & 3247      & FALSE    \\\\\n",
       "\t32 & 2769.8962 & 2280.8644 & 3258.928  & 2765      &  TRUE    \\\\\n",
       "\t38 & 1667.0897 & 1177.7672 & 2156.412  & 1859      &  TRUE    \\\\\n",
       "\t39 & 2261.6677 & 1763.1257 & 2760.210  & 2566      &  TRUE    \\\\\n",
       "\t40 & 2459.3979 & 1967.7245 & 2951.071  & 2475      &  TRUE    \\\\\n",
       "\t42 & 3386.5199 & 2829.7282 & 3943.312  & 3474      &  TRUE    \\\\\n",
       "\t53 & 2867.4233 & 2373.9363 & 3360.910  & 2606      &  TRUE    \\\\\n",
       "\t55 & 2711.3869 & 2160.8069 & 3261.967  & 2336      &  TRUE    \\\\\n",
       "\t56 & 2922.0426 & 2418.0421 & 3426.043  & 2755      &  TRUE    \\\\\n",
       "\t60 & 1641.3459 & 1135.2247 & 2147.467  & 1770      &  TRUE    \\\\\n",
       "\\end{tabular}\n"
      ],
      "text/markdown": [
       "\n",
       "| <!--/--> | fit | lwr | upr | product1_test$QTY | tf |\n",
       "|---|---|---|---|---|---|\n",
       "| 1 |  768.7359 |  259.1352 | 1278.337  |  990      |  TRUE     |\n",
       "| 2 |  924.4582 |  418.0260 | 1430.890  | 1199      |  TRUE     |\n",
       "| 4 | 1674.2778 | 1187.2239 | 2161.332  | 1326      |  TRUE     |\n",
       "| 7 | 2165.0453 | 1676.9078 | 2653.183  | 1663      | FALSE     |\n",
       "| 15 | 1403.3714 |  920.4668 | 1886.276  | 1432      |  TRUE     |\n",
       "| 22 | 2067.9294 | 1583.6927 | 2552.166  | 2321      |  TRUE     |\n",
       "| 24 | 1416.3813 |  928.5751 | 1904.188  | 1306      |  TRUE     |\n",
       "| 28 | 2104.9803 | 1622.8337 | 2587.127  | 2200      |  TRUE     |\n",
       "| 29 | 2499.6899 | 2011.4780 | 2987.902  | 3247      | FALSE     |\n",
       "| 32 | 2769.8962 | 2280.8644 | 3258.928  | 2765      |  TRUE     |\n",
       "| 38 | 1667.0897 | 1177.7672 | 2156.412  | 1859      |  TRUE     |\n",
       "| 39 | 2261.6677 | 1763.1257 | 2760.210  | 2566      |  TRUE     |\n",
       "| 40 | 2459.3979 | 1967.7245 | 2951.071  | 2475      |  TRUE     |\n",
       "| 42 | 3386.5199 | 2829.7282 | 3943.312  | 3474      |  TRUE     |\n",
       "| 53 | 2867.4233 | 2373.9363 | 3360.910  | 2606      |  TRUE     |\n",
       "| 55 | 2711.3869 | 2160.8069 | 3261.967  | 2336      |  TRUE     |\n",
       "| 56 | 2922.0426 | 2418.0421 | 3426.043  | 2755      |  TRUE     |\n",
       "| 60 | 1641.3459 | 1135.2247 | 2147.467  | 1770      |  TRUE     |\n",
       "\n"
      ],
      "text/plain": [
       "   fit       lwr       upr      product1_test$QTY tf   \n",
       "1   768.7359  259.1352 1278.337  990               TRUE\n",
       "2   924.4582  418.0260 1430.890 1199               TRUE\n",
       "4  1674.2778 1187.2239 2161.332 1326               TRUE\n",
       "7  2165.0453 1676.9078 2653.183 1663              FALSE\n",
       "15 1403.3714  920.4668 1886.276 1432               TRUE\n",
       "22 2067.9294 1583.6927 2552.166 2321               TRUE\n",
       "24 1416.3813  928.5751 1904.188 1306               TRUE\n",
       "28 2104.9803 1622.8337 2587.127 2200               TRUE\n",
       "29 2499.6899 2011.4780 2987.902 3247              FALSE\n",
       "32 2769.8962 2280.8644 3258.928 2765               TRUE\n",
       "38 1667.0897 1177.7672 2156.412 1859               TRUE\n",
       "39 2261.6677 1763.1257 2760.210 2566               TRUE\n",
       "40 2459.3979 1967.7245 2951.071 2475               TRUE\n",
       "42 3386.5199 2829.7282 3943.312 3474               TRUE\n",
       "53 2867.4233 2373.9363 3360.910 2606               TRUE\n",
       "55 2711.3869 2160.8069 3261.967 2336               TRUE\n",
       "56 2922.0426 2418.0421 3426.043 2755               TRUE\n",
       "60 1641.3459 1135.2247 2147.467 1770               TRUE"
      ]
     },
     "metadata": {},
     "output_type": "display_data"
    }
   ],
   "source": [
    "pd1.pred"
   ]
  },
  {
   "cell_type": "code",
   "execution_count": 31,
   "metadata": {},
   "outputs": [
    {
     "data": {
      "text/html": [
       "<table>\n",
       "<thead><tr><th></th><th scope=col>fit</th><th scope=col>lwr</th><th scope=col>upr</th><th scope=col>product1_test$QTY</th><th scope=col>tf</th></tr></thead>\n",
       "<tbody>\n",
       "\t<tr><th scope=row>1</th><td> 768.7359</td><td> 259.1352</td><td>1278.337 </td><td> 990     </td><td>TRUE     </td></tr>\n",
       "\t<tr><th scope=row>2</th><td> 924.4582</td><td> 418.0260</td><td>1430.890 </td><td>1199     </td><td>TRUE     </td></tr>\n",
       "\t<tr><th scope=row>4</th><td>1674.2778</td><td>1187.2239</td><td>2161.332 </td><td>1326     </td><td>TRUE     </td></tr>\n",
       "\t<tr><th scope=row>7</th><td>2165.0453</td><td>1676.9078</td><td>2653.183 </td><td>1663     </td><td>  NA     </td></tr>\n",
       "\t<tr><th scope=row>15</th><td>1403.3714</td><td> 920.4668</td><td>1886.276 </td><td>1432     </td><td>TRUE     </td></tr>\n",
       "\t<tr><th scope=row>22</th><td>2067.9294</td><td>1583.6927</td><td>2552.166 </td><td>2321     </td><td>TRUE     </td></tr>\n",
       "</tbody>\n",
       "</table>\n"
      ],
      "text/latex": [
       "\\begin{tabular}{r|lllll}\n",
       "  & fit & lwr & upr & product1\\_test\\$QTY & tf\\\\\n",
       "\\hline\n",
       "\t1 &  768.7359 &  259.1352 & 1278.337  &  990      & TRUE     \\\\\n",
       "\t2 &  924.4582 &  418.0260 & 1430.890  & 1199      & TRUE     \\\\\n",
       "\t4 & 1674.2778 & 1187.2239 & 2161.332  & 1326      & TRUE     \\\\\n",
       "\t7 & 2165.0453 & 1676.9078 & 2653.183  & 1663      &   NA     \\\\\n",
       "\t15 & 1403.3714 &  920.4668 & 1886.276  & 1432      & TRUE     \\\\\n",
       "\t22 & 2067.9294 & 1583.6927 & 2552.166  & 2321      & TRUE     \\\\\n",
       "\\end{tabular}\n"
      ],
      "text/markdown": [
       "\n",
       "| <!--/--> | fit | lwr | upr | product1_test$QTY | tf |\n",
       "|---|---|---|---|---|---|\n",
       "| 1 |  768.7359 |  259.1352 | 1278.337  |  990      | TRUE      |\n",
       "| 2 |  924.4582 |  418.0260 | 1430.890  | 1199      | TRUE      |\n",
       "| 4 | 1674.2778 | 1187.2239 | 2161.332  | 1326      | TRUE      |\n",
       "| 7 | 2165.0453 | 1676.9078 | 2653.183  | 1663      |   NA      |\n",
       "| 15 | 1403.3714 |  920.4668 | 1886.276  | 1432      | TRUE      |\n",
       "| 22 | 2067.9294 | 1583.6927 | 2552.166  | 2321      | TRUE      |\n",
       "\n"
      ],
      "text/plain": [
       "   fit       lwr       upr      product1_test$QTY tf  \n",
       "1   768.7359  259.1352 1278.337  990              TRUE\n",
       "2   924.4582  418.0260 1430.890 1199              TRUE\n",
       "4  1674.2778 1187.2239 2161.332 1326              TRUE\n",
       "7  2165.0453 1676.9078 2653.183 1663                NA\n",
       "15 1403.3714  920.4668 1886.276 1432              TRUE\n",
       "22 2067.9294 1583.6927 2552.166 2321              TRUE"
      ]
     },
     "metadata": {},
     "output_type": "display_data"
    }
   ],
   "source": [
    "head(pd1.pred)"
   ]
  },
  {
   "cell_type": "code",
   "execution_count": 33,
   "metadata": {},
   "outputs": [],
   "source": [
    "pd1.pred$tf[is.na(pd1.pred$tf)] = F"
   ]
  },
  {
   "cell_type": "code",
   "execution_count": 37,
   "metadata": {},
   "outputs": [
    {
     "data": {
      "text/html": [
       "0.888888888888889"
      ],
      "text/latex": [
       "0.888888888888889"
      ],
      "text/markdown": [
       "0.888888888888889"
      ],
      "text/plain": [
       "[1] 0.8888889"
      ]
     },
     "metadata": {},
     "output_type": "display_data"
    }
   ],
   "source": [
    "sum(pd1.pred$tf == 'TRUE') / dim(pd1.pred)[1]"
   ]
  },
  {
   "cell_type": "code",
   "execution_count": 38,
   "metadata": {},
   "outputs": [],
   "source": [
    "pd2.pred = predict(pd2, newdata=product1_test, interval = 'predict')\n",
    "pd2.pred = as.data.frame(pd2.pred)\n",
    "pd2.pred = cbind(pd2.pred, product2_test$QTY)\n",
    "pd2.pred$tf[pd2.pred$'product2_test$QTY'>= pd2.pred$lwr & pd2.pred$'product2_test$QTY' <= pd2.pred$upr] = T\n",
    "pd2.pred$tf[is.na(pd2.pred$tf)] = F"
   ]
  },
  {
   "cell_type": "code",
   "execution_count": 39,
   "metadata": {},
   "outputs": [
    {
     "data": {
      "text/html": [
       "0.888888888888889"
      ],
      "text/latex": [
       "0.888888888888889"
      ],
      "text/markdown": [
       "0.888888888888889"
      ],
      "text/plain": [
       "[1] 0.8888889"
      ]
     },
     "metadata": {},
     "output_type": "display_data"
    }
   ],
   "source": [
    "sum(pd2.pred$tf == 'TRUE') / dim(pd2.pred)[1]"
   ]
  },
  {
   "cell_type": "code",
   "execution_count": 41,
   "metadata": {},
   "outputs": [],
   "source": [
    "pd3.pred = predict(pd3, newdata=product1_test, interval = 'predict')\n",
    "pd3.pred = as.data.frame(pd3.pred)\n",
    "pd3.pred = cbind(pd3.pred, product3_test$QTY)\n",
    "pd3.pred$tf[pd3.pred$'product3_test$QTY'>= pd3.pred$lwr & pd3.pred$'product3_test$QTY' <= pd3.pred$upr] = T\n",
    "pd3.pred$tf[is.na(pd3.pred$tf)] = F"
   ]
  },
  {
   "cell_type": "code",
   "execution_count": 43,
   "metadata": {},
   "outputs": [
    {
     "data": {
      "text/html": [
       "<table>\n",
       "<thead><tr><th></th><th scope=col>fit</th><th scope=col>lwr</th><th scope=col>upr</th><th scope=col>product3_test$QTY</th><th scope=col>tf</th></tr></thead>\n",
       "<tbody>\n",
       "\t<tr><th scope=row>1</th><td>1254.137 </td><td> 714.1221</td><td>1794.152 </td><td>1346     </td><td>TRUE     </td></tr>\n",
       "\t<tr><th scope=row>2</th><td>1345.750 </td><td> 807.4497</td><td>1884.050 </td><td>1260     </td><td>TRUE     </td></tr>\n",
       "\t<tr><th scope=row>4</th><td>1920.946 </td><td>1394.2967</td><td>2447.595 </td><td>2125     </td><td>TRUE     </td></tr>\n",
       "\t<tr><th scope=row>7</th><td>2371.447 </td><td>1841.2826</td><td>2901.612 </td><td>2153     </td><td>TRUE     </td></tr>\n",
       "\t<tr><th scope=row>15</th><td>1711.057 </td><td>1185.9473</td><td>2236.167 </td><td>1645     </td><td>TRUE     </td></tr>\n",
       "\t<tr><th scope=row>22</th><td>2259.548 </td><td>1740.7845</td><td>2778.312 </td><td>2276     </td><td>TRUE     </td></tr>\n",
       "\t<tr><th scope=row>24</th><td>1640.901 </td><td>1112.5411</td><td>2169.262 </td><td>1898     </td><td>TRUE     </td></tr>\n",
       "\t<tr><th scope=row>28</th><td>2240.352 </td><td>1723.2897</td><td>2757.414 </td><td>2473     </td><td>TRUE     </td></tr>\n",
       "\t<tr><th scope=row>29</th><td>2596.839 </td><td>2078.6339</td><td>3115.043 </td><td>2626     </td><td>TRUE     </td></tr>\n",
       "\t<tr><th scope=row>32</th><td>2968.406 </td><td>2443.6144</td><td>3493.197 </td><td>2674     </td><td>TRUE     </td></tr>\n",
       "\t<tr><th scope=row>38</th><td>1894.267 </td><td>1368.1062</td><td>2420.428 </td><td>1804     </td><td>TRUE     </td></tr>\n",
       "\t<tr><th scope=row>39</th><td>2420.965 </td><td>1899.0314</td><td>2942.899 </td><td>2297     </td><td>TRUE     </td></tr>\n",
       "\t<tr><th scope=row>40</th><td>2696.775 </td><td>2177.6679</td><td>3215.882 </td><td>3001     </td><td>TRUE     </td></tr>\n",
       "\t<tr><th scope=row>42</th><td>3207.570 </td><td>2679.3651</td><td>3735.775 </td><td>3243     </td><td>TRUE     </td></tr>\n",
       "\t<tr><th scope=row>53</th><td>3276.256 </td><td>2743.1380</td><td>3809.375 </td><td>3209     </td><td>TRUE     </td></tr>\n",
       "\t<tr><th scope=row>55</th><td>3511.388 </td><td>2972.5536</td><td>4050.222 </td><td>3395     </td><td>TRUE     </td></tr>\n",
       "\t<tr><th scope=row>56</th><td>3585.626 </td><td>3044.1273</td><td>4127.124 </td><td>3894     </td><td>TRUE     </td></tr>\n",
       "\t<tr><th scope=row>60</th><td>2424.783 </td><td>1888.8717</td><td>2960.694 </td><td>2443     </td><td>TRUE     </td></tr>\n",
       "</tbody>\n",
       "</table>\n"
      ],
      "text/latex": [
       "\\begin{tabular}{r|lllll}\n",
       "  & fit & lwr & upr & product3\\_test\\$QTY & tf\\\\\n",
       "\\hline\n",
       "\t1 & 1254.137  &  714.1221 & 1794.152  & 1346      & TRUE     \\\\\n",
       "\t2 & 1345.750  &  807.4497 & 1884.050  & 1260      & TRUE     \\\\\n",
       "\t4 & 1920.946  & 1394.2967 & 2447.595  & 2125      & TRUE     \\\\\n",
       "\t7 & 2371.447  & 1841.2826 & 2901.612  & 2153      & TRUE     \\\\\n",
       "\t15 & 1711.057  & 1185.9473 & 2236.167  & 1645      & TRUE     \\\\\n",
       "\t22 & 2259.548  & 1740.7845 & 2778.312  & 2276      & TRUE     \\\\\n",
       "\t24 & 1640.901  & 1112.5411 & 2169.262  & 1898      & TRUE     \\\\\n",
       "\t28 & 2240.352  & 1723.2897 & 2757.414  & 2473      & TRUE     \\\\\n",
       "\t29 & 2596.839  & 2078.6339 & 3115.043  & 2626      & TRUE     \\\\\n",
       "\t32 & 2968.406  & 2443.6144 & 3493.197  & 2674      & TRUE     \\\\\n",
       "\t38 & 1894.267  & 1368.1062 & 2420.428  & 1804      & TRUE     \\\\\n",
       "\t39 & 2420.965  & 1899.0314 & 2942.899  & 2297      & TRUE     \\\\\n",
       "\t40 & 2696.775  & 2177.6679 & 3215.882  & 3001      & TRUE     \\\\\n",
       "\t42 & 3207.570  & 2679.3651 & 3735.775  & 3243      & TRUE     \\\\\n",
       "\t53 & 3276.256  & 2743.1380 & 3809.375  & 3209      & TRUE     \\\\\n",
       "\t55 & 3511.388  & 2972.5536 & 4050.222  & 3395      & TRUE     \\\\\n",
       "\t56 & 3585.626  & 3044.1273 & 4127.124  & 3894      & TRUE     \\\\\n",
       "\t60 & 2424.783  & 1888.8717 & 2960.694  & 2443      & TRUE     \\\\\n",
       "\\end{tabular}\n"
      ],
      "text/markdown": [
       "\n",
       "| <!--/--> | fit | lwr | upr | product3_test$QTY | tf |\n",
       "|---|---|---|---|---|---|\n",
       "| 1 | 1254.137  |  714.1221 | 1794.152  | 1346      | TRUE      |\n",
       "| 2 | 1345.750  |  807.4497 | 1884.050  | 1260      | TRUE      |\n",
       "| 4 | 1920.946  | 1394.2967 | 2447.595  | 2125      | TRUE      |\n",
       "| 7 | 2371.447  | 1841.2826 | 2901.612  | 2153      | TRUE      |\n",
       "| 15 | 1711.057  | 1185.9473 | 2236.167  | 1645      | TRUE      |\n",
       "| 22 | 2259.548  | 1740.7845 | 2778.312  | 2276      | TRUE      |\n",
       "| 24 | 1640.901  | 1112.5411 | 2169.262  | 1898      | TRUE      |\n",
       "| 28 | 2240.352  | 1723.2897 | 2757.414  | 2473      | TRUE      |\n",
       "| 29 | 2596.839  | 2078.6339 | 3115.043  | 2626      | TRUE      |\n",
       "| 32 | 2968.406  | 2443.6144 | 3493.197  | 2674      | TRUE      |\n",
       "| 38 | 1894.267  | 1368.1062 | 2420.428  | 1804      | TRUE      |\n",
       "| 39 | 2420.965  | 1899.0314 | 2942.899  | 2297      | TRUE      |\n",
       "| 40 | 2696.775  | 2177.6679 | 3215.882  | 3001      | TRUE      |\n",
       "| 42 | 3207.570  | 2679.3651 | 3735.775  | 3243      | TRUE      |\n",
       "| 53 | 3276.256  | 2743.1380 | 3809.375  | 3209      | TRUE      |\n",
       "| 55 | 3511.388  | 2972.5536 | 4050.222  | 3395      | TRUE      |\n",
       "| 56 | 3585.626  | 3044.1273 | 4127.124  | 3894      | TRUE      |\n",
       "| 60 | 2424.783  | 1888.8717 | 2960.694  | 2443      | TRUE      |\n",
       "\n"
      ],
      "text/plain": [
       "   fit      lwr       upr      product3_test$QTY tf  \n",
       "1  1254.137  714.1221 1794.152 1346              TRUE\n",
       "2  1345.750  807.4497 1884.050 1260              TRUE\n",
       "4  1920.946 1394.2967 2447.595 2125              TRUE\n",
       "7  2371.447 1841.2826 2901.612 2153              TRUE\n",
       "15 1711.057 1185.9473 2236.167 1645              TRUE\n",
       "22 2259.548 1740.7845 2778.312 2276              TRUE\n",
       "24 1640.901 1112.5411 2169.262 1898              TRUE\n",
       "28 2240.352 1723.2897 2757.414 2473              TRUE\n",
       "29 2596.839 2078.6339 3115.043 2626              TRUE\n",
       "32 2968.406 2443.6144 3493.197 2674              TRUE\n",
       "38 1894.267 1368.1062 2420.428 1804              TRUE\n",
       "39 2420.965 1899.0314 2942.899 2297              TRUE\n",
       "40 2696.775 2177.6679 3215.882 3001              TRUE\n",
       "42 3207.570 2679.3651 3735.775 3243              TRUE\n",
       "53 3276.256 2743.1380 3809.375 3209              TRUE\n",
       "55 3511.388 2972.5536 4050.222 3395              TRUE\n",
       "56 3585.626 3044.1273 4127.124 3894              TRUE\n",
       "60 2424.783 1888.8717 2960.694 2443              TRUE"
      ]
     },
     "metadata": {},
     "output_type": "display_data"
    }
   ],
   "source": [
    "pd3.pred"
   ]
  },
  {
   "cell_type": "code",
   "execution_count": 42,
   "metadata": {},
   "outputs": [
    {
     "data": {
      "text/html": [
       "1"
      ],
      "text/latex": [
       "1"
      ],
      "text/markdown": [
       "1"
      ],
      "text/plain": [
       "[1] 1"
      ]
     },
     "metadata": {},
     "output_type": "display_data"
    }
   ],
   "source": [
    "sum(pd3.pred$tf == 'TRUE') / dim(pd3.pred)[1]"
   ]
  },
  {
   "cell_type": "code",
   "execution_count": null,
   "metadata": {},
   "outputs": [],
   "source": [
    "pd1.pred"
   ]
  },
  {
   "cell_type": "code",
   "execution_count": null,
   "metadata": {},
   "outputs": [],
   "source": [
    "product1_test"
   ]
  },
  {
   "cell_type": "code",
   "execution_count": null,
   "metadata": {},
   "outputs": [],
   "source": [
    "both1 = step(out1, direction = 'both', trace = FALSE)\n",
    "both2 = step(out2, direction = 'both', trace = FALSE)\n",
    "both3 = step(out3, direction = 'both', trace = FALSE)"
   ]
  },
  {
   "cell_type": "code",
   "execution_count": null,
   "metadata": {},
   "outputs": [],
   "source": [
    "summary(out1)"
   ]
  },
  {
   "cell_type": "code",
   "execution_count": null,
   "metadata": {},
   "outputs": [],
   "source": [
    "summary(out2)"
   ]
  },
  {
   "cell_type": "code",
   "execution_count": null,
   "metadata": {},
   "outputs": [],
   "source": [
    "summary(out3)"
   ]
  },
  {
   "cell_type": "code",
   "execution_count": null,
   "metadata": {},
   "outputs": [],
   "source": [
    "anova(both1)"
   ]
  },
  {
   "cell_type": "code",
   "execution_count": null,
   "metadata": {},
   "outputs": [],
   "source": [
    "anova(both2)"
   ]
  },
  {
   "cell_type": "code",
   "execution_count": null,
   "metadata": {},
   "outputs": [],
   "source": [
    "anova(both3)"
   ]
  },
  {
   "cell_type": "code",
   "execution_count": null,
   "metadata": {},
   "outputs": [],
   "source": [
    "par(mfrow = c(2,2))\n",
    "plot(both1)"
   ]
  },
  {
   "cell_type": "code",
   "execution_count": null,
   "metadata": {},
   "outputs": [],
   "source": [
    "par(mfrow = c(2,2))\n",
    "plot(both2)"
   ]
  },
  {
   "cell_type": "code",
   "execution_count": null,
   "metadata": {},
   "outputs": [],
   "source": [
    "par(mfrow = c(2,2))\n",
    "plot(both3)"
   ]
  },
  {
   "cell_type": "code",
   "execution_count": null,
   "metadata": {},
   "outputs": [],
   "source": [
    "# pred1 = product1 %>%\n",
    "#   mutate(pred_QTY = -1854 + X * 18.47 + 16.46 * ITEM_CNT + 0.4013 * PRICE + 52.37 * MAXTEMP - 0.01127 * RAIN_DAY + 46.87 * HOLIDAY )"
   ]
  },
  {
   "cell_type": "code",
   "execution_count": null,
   "metadata": {},
   "outputs": [],
   "source": [
    "a1 = predict(both1, product1, interval = 'predict')\n",
    "a2 = cbind(a1, product1$QTY)\n",
    "head(a2)\n",
    "a2$pre[a2$'product1$QTY' > a2$lwr & a2$'product1$QTY' < a2$upr] = T\n",
    "# a2$pre[is.na(a2$pre)] = F\n",
    "# [a1$lwr < a2 && a2 < a1$upr]"
   ]
  },
  {
   "cell_type": "code",
   "execution_count": null,
   "metadata": {},
   "outputs": [],
   "source": [
    "kk = as.data.frame(predict(both2, product2, interval = 'predict'))\n",
    "cc = product2$QTY\n",
    "kk = cbind(kk, cc)\n",
    "kk$acc[kk$'cc' >= kk$lwr & kk$'cc' <= kk$upr] = T\n",
    "kk$acc[is.na(kk$acc)] = F\n",
    "head(kk)"
   ]
  },
  {
   "cell_type": "code",
   "execution_count": null,
   "metadata": {},
   "outputs": [],
   "source": [
    "round(sum(kk$acc) / dim(kk)[1], 2)"
   ]
  },
  {
   "cell_type": "code",
   "execution_count": null,
   "metadata": {},
   "outputs": [],
   "source": [
    "predict(both2, product2, interval = 'predict')"
   ]
  },
  {
   "cell_type": "code",
   "execution_count": null,
   "metadata": {},
   "outputs": [],
   "source": [
    "library(forecast)"
   ]
  },
  {
   "cell_type": "code",
   "execution_count": null,
   "metadata": {},
   "outputs": [],
   "source": []
  },
  {
   "cell_type": "code",
   "execution_count": null,
   "metadata": {},
   "outputs": [],
   "source": [
    "a =meanf(product1$QTY, 30)"
   ]
  },
  {
   "cell_type": "code",
   "execution_count": null,
   "metadata": {},
   "outputs": [],
   "source": [
    "summary(a)"
   ]
  },
  {
   "cell_type": "code",
   "execution_count": null,
   "metadata": {},
   "outputs": [],
   "source": [
    "library(autoplot)"
   ]
  },
  {
   "cell_type": "code",
   "execution_count": null,
   "metadata": {},
   "outputs": [],
   "source": [
    "autoplot(product1$QTY, product1$X)"
   ]
  },
  {
   "cell_type": "code",
   "execution_count": null,
   "metadata": {},
   "outputs": [],
   "source": []
  }
 ],
 "metadata": {
  "kernelspec": {
   "display_name": "R",
   "language": "R",
   "name": "ir"
  },
  "language_info": {
   "codemirror_mode": "r",
   "file_extension": ".r",
   "mimetype": "text/x-r-source",
   "name": "R",
   "pygments_lexer": "r",
   "version": "3.6.1"
  }
 },
 "nbformat": 4,
 "nbformat_minor": 4
}
