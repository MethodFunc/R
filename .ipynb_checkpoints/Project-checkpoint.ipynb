{
 "cells": [
  {
   "cell_type": "code",
   "execution_count": 1,
   "metadata": {},
   "outputs": [],
   "source": [
    "setwd('D:/Workspace/R/data')"
   ]
  },
  {
   "cell_type": "code",
   "execution_count": 2,
   "metadata": {},
   "outputs": [
    {
     "name": "stderr",
     "output_type": "stream",
     "text": [
      "\n",
      "Attaching package: 'dplyr'\n",
      "\n",
      "The following objects are masked from 'package:stats':\n",
      "\n",
      "    filter, lag\n",
      "\n",
      "The following objects are masked from 'package:base':\n",
      "\n",
      "    intersect, setdiff, setequal, union\n",
      "\n",
      "Warning message:\n",
      "\"package 'ggplot2' was built under R version 3.6.3\""
     ]
    }
   ],
   "source": [
    "library(dplyr)\n",
    "library(ggplot2)"
   ]
  },
  {
   "cell_type": "code",
   "execution_count": 3,
   "metadata": {},
   "outputs": [],
   "source": [
    "df = read.csv('sale_data.csv')"
   ]
  },
  {
   "cell_type": "code",
   "execution_count": 4,
   "metadata": {},
   "outputs": [
    {
     "data": {
      "text/html": [
       "<table>\n",
       "<thead><tr><th scope=col>X</th><th scope=col>YM</th><th scope=col>CATEGORY</th><th scope=col>ITEM_CNT</th><th scope=col>QTY</th><th scope=col>PRICE</th><th scope=col>MAXTEMP</th><th scope=col>SALEDAY</th><th scope=col>RAIN_DAY</th><th scope=col>HOLIDAY</th></tr></thead>\n",
       "<tbody>\n",
       "\t<tr><td>1       </td><td>200901  </td><td>과즙음료</td><td>45      </td><td> 990    </td><td>2611    </td><td> 4      </td><td>126753  </td><td> 151    </td><td>12      </td></tr>\n",
       "\t<tr><td>2       </td><td>200902  </td><td>과즙음료</td><td>45      </td><td>1199    </td><td>2689    </td><td> 9      </td><td>113399  </td><td>3014    </td><td> 8      </td></tr>\n",
       "\t<tr><td>3       </td><td>200903  </td><td>과즙음료</td><td>43      </td><td>1102    </td><td>2735    </td><td>12      </td><td>129162  </td><td>1383    </td><td> 9      </td></tr>\n",
       "\t<tr><td>4       </td><td>200904  </td><td>과즙음료</td><td>42      </td><td>1326    </td><td>2807    </td><td>19      </td><td>126277  </td><td>3564    </td><td> 8      </td></tr>\n",
       "\t<tr><td>5       </td><td>200905  </td><td>과즙음료</td><td>46      </td><td>1672    </td><td>2674    </td><td>25      </td><td>129584  </td><td>9288    </td><td>12      </td></tr>\n",
       "\t<tr><td>6       </td><td>200906  </td><td>과즙음료</td><td>48      </td><td>1875    </td><td>2777    </td><td>27      </td><td>123218  </td><td>9998    </td><td> 8      </td></tr>\n",
       "</tbody>\n",
       "</table>\n"
      ],
      "text/latex": [
       "\\begin{tabular}{r|llllllllll}\n",
       " X & YM & CATEGORY & ITEM\\_CNT & QTY & PRICE & MAXTEMP & SALEDAY & RAIN\\_DAY & HOLIDAY\\\\\n",
       "\\hline\n",
       "\t 1        & 200901   & 과즙음료 & 45       &  990     & 2611     &  4       & 126753   &  151     & 12      \\\\\n",
       "\t 2        & 200902   & 과즙음료 & 45       & 1199     & 2689     &  9       & 113399   & 3014     &  8      \\\\\n",
       "\t 3        & 200903   & 과즙음료 & 43       & 1102     & 2735     & 12       & 129162   & 1383     &  9      \\\\\n",
       "\t 4        & 200904   & 과즙음료 & 42       & 1326     & 2807     & 19       & 126277   & 3564     &  8      \\\\\n",
       "\t 5        & 200905   & 과즙음료 & 46       & 1672     & 2674     & 25       & 129584   & 9288     & 12      \\\\\n",
       "\t 6        & 200906   & 과즙음료 & 48       & 1875     & 2777     & 27       & 123218   & 9998     &  8      \\\\\n",
       "\\end{tabular}\n"
      ],
      "text/markdown": [
       "\n",
       "| X | YM | CATEGORY | ITEM_CNT | QTY | PRICE | MAXTEMP | SALEDAY | RAIN_DAY | HOLIDAY |\n",
       "|---|---|---|---|---|---|---|---|---|---|\n",
       "| 1        | 200901   | 과즙음료 | 45       |  990     | 2611     |  4       | 126753   |  151     | 12       |\n",
       "| 2        | 200902   | 과즙음료 | 45       | 1199     | 2689     |  9       | 113399   | 3014     |  8       |\n",
       "| 3        | 200903   | 과즙음료 | 43       | 1102     | 2735     | 12       | 129162   | 1383     |  9       |\n",
       "| 4        | 200904   | 과즙음료 | 42       | 1326     | 2807     | 19       | 126277   | 3564     |  8       |\n",
       "| 5        | 200905   | 과즙음료 | 46       | 1672     | 2674     | 25       | 129584   | 9288     | 12       |\n",
       "| 6        | 200906   | 과즙음료 | 48       | 1875     | 2777     | 27       | 123218   | 9998     |  8       |\n",
       "\n"
      ],
      "text/plain": [
       "  X YM     CATEGORY ITEM_CNT QTY  PRICE MAXTEMP SALEDAY RAIN_DAY HOLIDAY\n",
       "1 1 200901 과즙음료 45        990 2611   4      126753   151     12     \n",
       "2 2 200902 과즙음료 45       1199 2689   9      113399  3014      8     \n",
       "3 3 200903 과즙음료 43       1102 2735  12      129162  1383      9     \n",
       "4 4 200904 과즙음료 42       1326 2807  19      126277  3564      8     \n",
       "5 5 200905 과즙음료 46       1672 2674  25      129584  9288     12     \n",
       "6 6 200906 과즙음료 48       1875 2777  27      123218  9998      8     "
      ]
     },
     "metadata": {},
     "output_type": "display_data"
    }
   ],
   "source": [
    "head(df)"
   ]
  },
  {
   "cell_type": "code",
   "execution_count": 5,
   "metadata": {},
   "outputs": [
    {
     "data": {
      "text/plain": [
       "       X                YM               CATEGORY     ITEM_CNT    \n",
       " Min.   :  1.00   Min.   :200901   과즙음료  :60   Min.   : 1.00  \n",
       " 1st Qu.: 45.75   1st Qu.:201004   비타민음료:60   1st Qu.:14.00  \n",
       " Median : 90.50   Median :201107   차음료    :60   Median :43.00  \n",
       " Mean   : 90.50   Mean   :201107                   Mean   :39.57  \n",
       " 3rd Qu.:135.25   3rd Qu.:201209                   3rd Qu.:57.00  \n",
       " Max.   :180.00   Max.   :201312                   Max.   :83.00  \n",
       "      QTY             PRICE         MAXTEMP         SALEDAY      \n",
       " Min.   :  27.0   Min.   :1229   Min.   :-1.00   Min.   :113399  \n",
       " 1st Qu.: 814.5   1st Qu.:1424   1st Qu.: 9.75   1st Qu.:143047  \n",
       " Median :1734.0   Median :1762   Median :19.50   Median :179564  \n",
       " Mean   :1685.7   Mean   :1915   Mean   :17.55   Mean   :181596  \n",
       " 3rd Qu.:2387.2   3rd Qu.:2347   3rd Qu.:27.00   3rd Qu.:224721  \n",
       " Max.   :3992.0   Max.   :3251   Max.   :31.00   Max.   :245068  \n",
       "    RAIN_DAY        HOLIDAY    \n",
       " Min.   :    0   Min.   : 8.0  \n",
       " 1st Qu.: 2750   1st Qu.: 9.0  \n",
       " Median : 5780   Median : 9.0  \n",
       " Mean   : 9306   Mean   : 9.5  \n",
       " 3rd Qu.:11758   3rd Qu.:10.0  \n",
       " Max.   :43058   Max.   :12.0  "
      ]
     },
     "metadata": {},
     "output_type": "display_data"
    }
   ],
   "source": [
    "summary(df)"
   ]
  },
  {
   "cell_type": "code",
   "execution_count": 6,
   "metadata": {},
   "outputs": [],
   "source": [
    "product1 = df %>% filter(df$CATEGORY == '과즙음료')\n",
    "product2 = df %>% filter(df$CATEGORY == '비타민음료')\n",
    "product3 = df %>% filter(df$CATEGORY == '차음료')\n",
    "\n",
    "product1 = product1[-c(3,4)]\n",
    "product2 = product2[-c(3,4)]\n",
    "product3 = product3[-c(3,4)]"
   ]
  },
  {
   "cell_type": "code",
   "execution_count": 7,
   "metadata": {},
   "outputs": [
    {
     "data": {
      "text/html": [
       "<table>\n",
       "<thead><tr><th scope=col>X</th><th scope=col>YM</th><th scope=col>QTY</th><th scope=col>PRICE</th><th scope=col>MAXTEMP</th><th scope=col>SALEDAY</th><th scope=col>RAIN_DAY</th><th scope=col>HOLIDAY</th></tr></thead>\n",
       "<tbody>\n",
       "\t<tr><td>1     </td><td>200901</td><td> 990  </td><td>2611  </td><td> 4    </td><td>126753</td><td> 151  </td><td>12    </td></tr>\n",
       "\t<tr><td>2     </td><td>200902</td><td>1199  </td><td>2689  </td><td> 9    </td><td>113399</td><td>3014  </td><td> 8    </td></tr>\n",
       "\t<tr><td>3     </td><td>200903</td><td>1102  </td><td>2735  </td><td>12    </td><td>129162</td><td>1383  </td><td> 9    </td></tr>\n",
       "\t<tr><td>4     </td><td>200904</td><td>1326  </td><td>2807  </td><td>19    </td><td>126277</td><td>3564  </td><td> 8    </td></tr>\n",
       "\t<tr><td>5     </td><td>200905</td><td>1672  </td><td>2674  </td><td>25    </td><td>129584</td><td>9288  </td><td>12    </td></tr>\n",
       "\t<tr><td>6     </td><td>200906</td><td>1875  </td><td>2777  </td><td>27    </td><td>123218</td><td>9998  </td><td> 8    </td></tr>\n",
       "</tbody>\n",
       "</table>\n"
      ],
      "text/latex": [
       "\\begin{tabular}{r|llllllll}\n",
       " X & YM & QTY & PRICE & MAXTEMP & SALEDAY & RAIN\\_DAY & HOLIDAY\\\\\n",
       "\\hline\n",
       "\t 1      & 200901 &  990   & 2611   &  4     & 126753 &  151   & 12    \\\\\n",
       "\t 2      & 200902 & 1199   & 2689   &  9     & 113399 & 3014   &  8    \\\\\n",
       "\t 3      & 200903 & 1102   & 2735   & 12     & 129162 & 1383   &  9    \\\\\n",
       "\t 4      & 200904 & 1326   & 2807   & 19     & 126277 & 3564   &  8    \\\\\n",
       "\t 5      & 200905 & 1672   & 2674   & 25     & 129584 & 9288   & 12    \\\\\n",
       "\t 6      & 200906 & 1875   & 2777   & 27     & 123218 & 9998   &  8    \\\\\n",
       "\\end{tabular}\n"
      ],
      "text/markdown": [
       "\n",
       "| X | YM | QTY | PRICE | MAXTEMP | SALEDAY | RAIN_DAY | HOLIDAY |\n",
       "|---|---|---|---|---|---|---|---|\n",
       "| 1      | 200901 |  990   | 2611   |  4     | 126753 |  151   | 12     |\n",
       "| 2      | 200902 | 1199   | 2689   |  9     | 113399 | 3014   |  8     |\n",
       "| 3      | 200903 | 1102   | 2735   | 12     | 129162 | 1383   |  9     |\n",
       "| 4      | 200904 | 1326   | 2807   | 19     | 126277 | 3564   |  8     |\n",
       "| 5      | 200905 | 1672   | 2674   | 25     | 129584 | 9288   | 12     |\n",
       "| 6      | 200906 | 1875   | 2777   | 27     | 123218 | 9998   |  8     |\n",
       "\n"
      ],
      "text/plain": [
       "  X YM     QTY  PRICE MAXTEMP SALEDAY RAIN_DAY HOLIDAY\n",
       "1 1 200901  990 2611   4      126753   151     12     \n",
       "2 2 200902 1199 2689   9      113399  3014      8     \n",
       "3 3 200903 1102 2735  12      129162  1383      9     \n",
       "4 4 200904 1326 2807  19      126277  3564      8     \n",
       "5 5 200905 1672 2674  25      129584  9288     12     \n",
       "6 6 200906 1875 2777  27      123218  9998      8     "
      ]
     },
     "metadata": {},
     "output_type": "display_data"
    }
   ],
   "source": [
    "head(product1)"
   ]
  },
  {
   "cell_type": "code",
   "execution_count": 8,
   "metadata": {},
   "outputs": [
    {
     "data": {
      "text/plain": [
       "\n",
       "\tShapiro-Wilk normality test\n",
       "\n",
       "data:  product1$QTY\n",
       "W = 0.97503, p-value = 0.255\n"
      ]
     },
     "metadata": {},
     "output_type": "display_data"
    },
    {
     "data": {
      "text/plain": [
       "\n",
       "\tShapiro-Wilk normality test\n",
       "\n",
       "data:  product2$QTY\n",
       "W = 0.95973, p-value = 0.04565\n"
      ]
     },
     "metadata": {},
     "output_type": "display_data"
    },
    {
     "data": {
      "text/plain": [
       "\n",
       "\tShapiro-Wilk normality test\n",
       "\n",
       "data:  product3$QTY\n",
       "W = 0.96497, p-value = 0.0825\n"
      ]
     },
     "metadata": {},
     "output_type": "display_data"
    }
   ],
   "source": [
    "shapiro.test(product1$QTY)\n",
    "shapiro.test(product2$QTY)\n",
    "shapiro.test(product3$QTY)"
   ]
  },
  {
   "cell_type": "code",
   "execution_count": 9,
   "metadata": {},
   "outputs": [
    {
     "data": {
      "image/png": "[encoded data removed]",
      "text/plain": [
       "Plot with title \"Histogram of product1$QTY\""
      ]
     },
     "metadata": {},
     "output_type": "display_data"
    },
    {
     "data": {
      "image/png": "[encoded data removed]",
      "text/plain": [
       "Plot with title \"Histogram of product2$QTY\""
      ]
     },
     "metadata": {},
     "output_type": "display_data"
    },
    {
     "data": {
      "image/png": "[encoded data removed]",
      "text/plain": [
       "Plot with title \"Histogram of product3$QTY\""
      ]
     },
     "metadata": {},
     "output_type": "display_data"
    }
   ],
   "source": [
    "hist(product1$QTY)\n",
    "hist(product2$QTY)\n",
    "hist(product3$QTY)"
   ]
  },
  {
   "cell_type": "code",
   "execution_count": 10,
   "metadata": {},
   "outputs": [
    {
     "data": {
      "text/html": [
       "<table>\n",
       "<thead><tr><th></th><th scope=col>X</th><th scope=col>YM</th><th scope=col>QTY</th><th scope=col>PRICE</th><th scope=col>MAXTEMP</th><th scope=col>SALEDAY</th><th scope=col>RAIN_DAY</th><th scope=col>HOLIDAY</th></tr></thead>\n",
       "<tbody>\n",
       "\t<tr><th scope=row>X</th><td> 1.00000000  </td><td> 0.98450439  </td><td> 0.50726752  </td><td>-0.62765144  </td><td> 0.0268349535</td><td> 0.97761662  </td><td> 0.21307159  </td><td> 0.1268284622</td></tr>\n",
       "\t<tr><th scope=row>YM</th><td> 0.98450439  </td><td> 1.00000000  </td><td> 0.48166634  </td><td>-0.59583153  </td><td>-0.0213870757</td><td> 0.96415953  </td><td> 0.19579703  </td><td> 0.1477518768</td></tr>\n",
       "\t<tr><th scope=row>QTY</th><td> 0.50726752  </td><td> 0.48166634  </td><td> 1.00000000  </td><td>-0.09838038  </td><td> 0.7071806840</td><td> 0.50189095  </td><td> 0.47567660  </td><td> 0.1367153610</td></tr>\n",
       "\t<tr><th scope=row>PRICE</th><td>-0.62765144  </td><td>-0.59583153  </td><td>-0.09838038  </td><td> 1.00000000  </td><td>-0.0843639944</td><td>-0.61948901  </td><td>-0.21129511  </td><td>-0.1157278564</td></tr>\n",
       "\t<tr><th scope=row>MAXTEMP</th><td> 0.02683495  </td><td>-0.02138708  </td><td> 0.70718068  </td><td>-0.08436399  </td><td> 1.0000000000</td><td> 0.02615313  </td><td> 0.67485293  </td><td>-0.0007330759</td></tr>\n",
       "\t<tr><th scope=row>SALEDAY</th><td> 0.97761662  </td><td> 0.96415953  </td><td> 0.50189095  </td><td>-0.61948901  </td><td> 0.0261531274</td><td> 1.00000000  </td><td> 0.21351983  </td><td> 0.1509168646</td></tr>\n",
       "\t<tr><th scope=row>RAIN_DAY</th><td> 0.21307159  </td><td> 0.19579703  </td><td> 0.47567660  </td><td>-0.21129511  </td><td> 0.6748529252</td><td> 0.21351983  </td><td> 1.00000000  </td><td>-0.0513513553</td></tr>\n",
       "\t<tr><th scope=row>HOLIDAY</th><td> 0.12682846  </td><td> 0.14775188  </td><td> 0.13671536  </td><td>-0.11572786  </td><td>-0.0007330759</td><td> 0.15091686  </td><td>-0.05135136  </td><td> 1.0000000000</td></tr>\n",
       "</tbody>\n",
       "</table>\n"
      ],
      "text/latex": [
       "\\begin{tabular}{r|llllllll}\n",
       "  & X & YM & QTY & PRICE & MAXTEMP & SALEDAY & RAIN\\_DAY & HOLIDAY\\\\\n",
       "\\hline\n",
       "\tX &  1.00000000   &  0.98450439   &  0.50726752   & -0.62765144   &  0.0268349535 &  0.97761662   &  0.21307159   &  0.1268284622\\\\\n",
       "\tYM &  0.98450439   &  1.00000000   &  0.48166634   & -0.59583153   & -0.0213870757 &  0.96415953   &  0.19579703   &  0.1477518768\\\\\n",
       "\tQTY &  0.50726752   &  0.48166634   &  1.00000000   & -0.09838038   &  0.7071806840 &  0.50189095   &  0.47567660   &  0.1367153610\\\\\n",
       "\tPRICE & -0.62765144   & -0.59583153   & -0.09838038   &  1.00000000   & -0.0843639944 & -0.61948901   & -0.21129511   & -0.1157278564\\\\\n",
       "\tMAXTEMP &  0.02683495   & -0.02138708   &  0.70718068   & -0.08436399   &  1.0000000000 &  0.02615313   &  0.67485293   & -0.0007330759\\\\\n",
       "\tSALEDAY &  0.97761662   &  0.96415953   &  0.50189095   & -0.61948901   &  0.0261531274 &  1.00000000   &  0.21351983   &  0.1509168646\\\\\n",
       "\tRAIN\\_DAY &  0.21307159   &  0.19579703   &  0.47567660   & -0.21129511   &  0.6748529252 &  0.21351983   &  1.00000000   & -0.0513513553\\\\\n",
       "\tHOLIDAY &  0.12682846   &  0.14775188   &  0.13671536   & -0.11572786   & -0.0007330759 &  0.15091686   & -0.05135136   &  1.0000000000\\\\\n",
       "\\end{tabular}\n"
      ],
      "text/markdown": [
       "\n",
       "| <!--/--> | X | YM | QTY | PRICE | MAXTEMP | SALEDAY | RAIN_DAY | HOLIDAY |\n",
       "|---|---|---|---|---|---|---|---|---|\n",
       "| X |  1.00000000   |  0.98450439   |  0.50726752   | -0.62765144   |  0.0268349535 |  0.97761662   |  0.21307159   |  0.1268284622 |\n",
       "| YM |  0.98450439   |  1.00000000   |  0.48166634   | -0.59583153   | -0.0213870757 |  0.96415953   |  0.19579703   |  0.1477518768 |\n",
       "| QTY |  0.50726752   |  0.48166634   |  1.00000000   | -0.09838038   |  0.7071806840 |  0.50189095   |  0.47567660   |  0.1367153610 |\n",
       "| PRICE | -0.62765144   | -0.59583153   | -0.09838038   |  1.00000000   | -0.0843639944 | -0.61948901   | -0.21129511   | -0.1157278564 |\n",
       "| MAXTEMP |  0.02683495   | -0.02138708   |  0.70718068   | -0.08436399   |  1.0000000000 |  0.02615313   |  0.67485293   | -0.0007330759 |\n",
       "| SALEDAY |  0.97761662   |  0.96415953   |  0.50189095   | -0.61948901   |  0.0261531274 |  1.00000000   |  0.21351983   |  0.1509168646 |\n",
       "| RAIN_DAY |  0.21307159   |  0.19579703   |  0.47567660   | -0.21129511   |  0.6748529252 |  0.21351983   |  1.00000000   | -0.0513513553 |\n",
       "| HOLIDAY |  0.12682846   |  0.14775188   |  0.13671536   | -0.11572786   | -0.0007330759 |  0.15091686   | -0.05135136   |  1.0000000000 |\n",
       "\n"
      ],
      "text/plain": [
       "         X           YM          QTY         PRICE       MAXTEMP      \n",
       "X         1.00000000  0.98450439  0.50726752 -0.62765144  0.0268349535\n",
       "YM        0.98450439  1.00000000  0.48166634 -0.59583153 -0.0213870757\n",
       "QTY       0.50726752  0.48166634  1.00000000 -0.09838038  0.7071806840\n",
       "PRICE    -0.62765144 -0.59583153 -0.09838038  1.00000000 -0.0843639944\n",
       "MAXTEMP   0.02683495 -0.02138708  0.70718068 -0.08436399  1.0000000000\n",
       "SALEDAY   0.97761662  0.96415953  0.50189095 -0.61948901  0.0261531274\n",
       "RAIN_DAY  0.21307159  0.19579703  0.47567660 -0.21129511  0.6748529252\n",
       "HOLIDAY   0.12682846  0.14775188  0.13671536 -0.11572786 -0.0007330759\n",
       "         SALEDAY     RAIN_DAY    HOLIDAY      \n",
       "X         0.97761662  0.21307159  0.1268284622\n",
       "YM        0.96415953  0.19579703  0.1477518768\n",
       "QTY       0.50189095  0.47567660  0.1367153610\n",
       "PRICE    -0.61948901 -0.21129511 -0.1157278564\n",
       "MAXTEMP   0.02615313  0.67485293 -0.0007330759\n",
       "SALEDAY   1.00000000  0.21351983  0.1509168646\n",
       "RAIN_DAY  0.21351983  1.00000000 -0.0513513553\n",
       "HOLIDAY   0.15091686 -0.05135136  1.0000000000"
      ]
     },
     "metadata": {},
     "output_type": "display_data"
    },
    {
     "data": {
      "text/html": [
       "<table>\n",
       "<thead><tr><th></th><th scope=col>X</th><th scope=col>YM</th><th scope=col>QTY</th><th scope=col>PRICE</th><th scope=col>MAXTEMP</th><th scope=col>SALEDAY</th><th scope=col>RAIN_DAY</th><th scope=col>HOLIDAY</th></tr></thead>\n",
       "<tbody>\n",
       "\t<tr><th scope=row>X</th><td>1.00000000   </td><td> 0.98450439  </td><td>0.7178111    </td><td> 0.87476568  </td><td> 0.0268349535</td><td>0.97761662   </td><td> 0.21307159  </td><td> 0.1268284622</td></tr>\n",
       "\t<tr><th scope=row>YM</th><td>0.98450439   </td><td> 1.00000000  </td><td>0.6973076    </td><td> 0.86444562  </td><td>-0.0213870757</td><td>0.96415953   </td><td> 0.19579703  </td><td> 0.1477518768</td></tr>\n",
       "\t<tr><th scope=row>QTY</th><td>0.71781114   </td><td> 0.69730757  </td><td>1.0000000    </td><td> 0.72105041  </td><td> 0.3615501216</td><td>0.71192476   </td><td> 0.51181463  </td><td> 0.1201901927</td></tr>\n",
       "\t<tr><th scope=row>PRICE</th><td>0.87476568   </td><td> 0.86444562  </td><td>0.7210504    </td><td> 1.00000000  </td><td>-0.0447921578</td><td>0.82446317   </td><td> 0.20432138  </td><td> 0.1188034038</td></tr>\n",
       "\t<tr><th scope=row>MAXTEMP</th><td>0.02683495   </td><td>-0.02138708  </td><td>0.3615501    </td><td>-0.04479216  </td><td> 1.0000000000</td><td>0.02615313   </td><td> 0.67485293  </td><td>-0.0007330759</td></tr>\n",
       "\t<tr><th scope=row>SALEDAY</th><td>0.97761662   </td><td> 0.96415953  </td><td>0.7119248    </td><td> 0.82446317  </td><td> 0.0261531274</td><td>1.00000000   </td><td> 0.21351983  </td><td> 0.1509168646</td></tr>\n",
       "\t<tr><th scope=row>RAIN_DAY</th><td>0.21307159   </td><td> 0.19579703  </td><td>0.5118146    </td><td> 0.20432138  </td><td> 0.6748529252</td><td>0.21351983   </td><td> 1.00000000  </td><td>-0.0513513553</td></tr>\n",
       "\t<tr><th scope=row>HOLIDAY</th><td>0.12682846   </td><td> 0.14775188  </td><td>0.1201902    </td><td> 0.11880340  </td><td>-0.0007330759</td><td>0.15091686   </td><td>-0.05135136  </td><td> 1.0000000000</td></tr>\n",
       "</tbody>\n",
       "</table>\n"
      ],
      "text/latex": [
       "\\begin{tabular}{r|llllllll}\n",
       "  & X & YM & QTY & PRICE & MAXTEMP & SALEDAY & RAIN\\_DAY & HOLIDAY\\\\\n",
       "\\hline\n",
       "\tX & 1.00000000    &  0.98450439   & 0.7178111     &  0.87476568   &  0.0268349535 & 0.97761662    &  0.21307159   &  0.1268284622\\\\\n",
       "\tYM & 0.98450439    &  1.00000000   & 0.6973076     &  0.86444562   & -0.0213870757 & 0.96415953    &  0.19579703   &  0.1477518768\\\\\n",
       "\tQTY & 0.71781114    &  0.69730757   & 1.0000000     &  0.72105041   &  0.3615501216 & 0.71192476    &  0.51181463   &  0.1201901927\\\\\n",
       "\tPRICE & 0.87476568    &  0.86444562   & 0.7210504     &  1.00000000   & -0.0447921578 & 0.82446317    &  0.20432138   &  0.1188034038\\\\\n",
       "\tMAXTEMP & 0.02683495    & -0.02138708   & 0.3615501     & -0.04479216   &  1.0000000000 & 0.02615313    &  0.67485293   & -0.0007330759\\\\\n",
       "\tSALEDAY & 0.97761662    &  0.96415953   & 0.7119248     &  0.82446317   &  0.0261531274 & 1.00000000    &  0.21351983   &  0.1509168646\\\\\n",
       "\tRAIN\\_DAY & 0.21307159    &  0.19579703   & 0.5118146     &  0.20432138   &  0.6748529252 & 0.21351983    &  1.00000000   & -0.0513513553\\\\\n",
       "\tHOLIDAY & 0.12682846    &  0.14775188   & 0.1201902     &  0.11880340   & -0.0007330759 & 0.15091686    & -0.05135136   &  1.0000000000\\\\\n",
       "\\end{tabular}\n"
      ],
      "text/markdown": [
       "\n",
       "| <!--/--> | X | YM | QTY | PRICE | MAXTEMP | SALEDAY | RAIN_DAY | HOLIDAY |\n",
       "|---|---|---|---|---|---|---|---|---|\n",
       "| X | 1.00000000    |  0.98450439   | 0.7178111     |  0.87476568   |  0.0268349535 | 0.97761662    |  0.21307159   |  0.1268284622 |\n",
       "| YM | 0.98450439    |  1.00000000   | 0.6973076     |  0.86444562   | -0.0213870757 | 0.96415953    |  0.19579703   |  0.1477518768 |\n",
       "| QTY | 0.71781114    |  0.69730757   | 1.0000000     |  0.72105041   |  0.3615501216 | 0.71192476    |  0.51181463   |  0.1201901927 |\n",
       "| PRICE | 0.87476568    |  0.86444562   | 0.7210504     |  1.00000000   | -0.0447921578 | 0.82446317    |  0.20432138   |  0.1188034038 |\n",
       "| MAXTEMP | 0.02683495    | -0.02138708   | 0.3615501     | -0.04479216   |  1.0000000000 | 0.02615313    |  0.67485293   | -0.0007330759 |\n",
       "| SALEDAY | 0.97761662    |  0.96415953   | 0.7119248     |  0.82446317   |  0.0261531274 | 1.00000000    |  0.21351983   |  0.1509168646 |\n",
       "| RAIN_DAY | 0.21307159    |  0.19579703   | 0.5118146     |  0.20432138   |  0.6748529252 | 0.21351983    |  1.00000000   | -0.0513513553 |\n",
       "| HOLIDAY | 0.12682846    |  0.14775188   | 0.1201902     |  0.11880340   | -0.0007330759 | 0.15091686    | -0.05135136   |  1.0000000000 |\n",
       "\n"
      ],
      "text/plain": [
       "         X          YM          QTY       PRICE       MAXTEMP       SALEDAY   \n",
       "X        1.00000000  0.98450439 0.7178111  0.87476568  0.0268349535 0.97761662\n",
       "YM       0.98450439  1.00000000 0.6973076  0.86444562 -0.0213870757 0.96415953\n",
       "QTY      0.71781114  0.69730757 1.0000000  0.72105041  0.3615501216 0.71192476\n",
       "PRICE    0.87476568  0.86444562 0.7210504  1.00000000 -0.0447921578 0.82446317\n",
       "MAXTEMP  0.02683495 -0.02138708 0.3615501 -0.04479216  1.0000000000 0.02615313\n",
       "SALEDAY  0.97761662  0.96415953 0.7119248  0.82446317  0.0261531274 1.00000000\n",
       "RAIN_DAY 0.21307159  0.19579703 0.5118146  0.20432138  0.6748529252 0.21351983\n",
       "HOLIDAY  0.12682846  0.14775188 0.1201902  0.11880340 -0.0007330759 0.15091686\n",
       "         RAIN_DAY    HOLIDAY      \n",
       "X         0.21307159  0.1268284622\n",
       "YM        0.19579703  0.1477518768\n",
       "QTY       0.51181463  0.1201901927\n",
       "PRICE     0.20432138  0.1188034038\n",
       "MAXTEMP   0.67485293 -0.0007330759\n",
       "SALEDAY   0.21351983  0.1509168646\n",
       "RAIN_DAY  1.00000000 -0.0513513553\n",
       "HOLIDAY  -0.05135136  1.0000000000"
      ]
     },
     "metadata": {},
     "output_type": "display_data"
    },
    {
     "data": {
      "text/html": [
       "<table>\n",
       "<thead><tr><th></th><th scope=col>X</th><th scope=col>YM</th><th scope=col>QTY</th><th scope=col>PRICE</th><th scope=col>MAXTEMP</th><th scope=col>SALEDAY</th><th scope=col>RAIN_DAY</th><th scope=col>HOLIDAY</th></tr></thead>\n",
       "<tbody>\n",
       "\t<tr><th scope=row>X</th><td>1.00000000   </td><td> 0.98450439  </td><td>0.6545894    </td><td> 0.74748955  </td><td> 0.0268349535</td><td>0.97761662   </td><td> 0.21307159  </td><td> 0.1268284622</td></tr>\n",
       "\t<tr><th scope=row>YM</th><td>0.98450439   </td><td> 1.00000000  </td><td>0.6126286    </td><td> 0.75571298  </td><td>-0.0213870757</td><td>0.96415953   </td><td> 0.19579703  </td><td> 0.1477518768</td></tr>\n",
       "\t<tr><th scope=row>QTY</th><td>0.65458939   </td><td> 0.61262860  </td><td>1.0000000    </td><td> 0.51443998  </td><td> 0.6762249882</td><td>0.66706580   </td><td> 0.53253647  </td><td> 0.1490117845</td></tr>\n",
       "\t<tr><th scope=row>PRICE</th><td>0.74748955   </td><td> 0.75571298  </td><td>0.5144400    </td><td> 1.00000000  </td><td>-0.0209906744</td><td>0.79781578   </td><td> 0.11965126  </td><td> 0.1516141402</td></tr>\n",
       "\t<tr><th scope=row>MAXTEMP</th><td>0.02683495   </td><td>-0.02138708  </td><td>0.6762250    </td><td>-0.02099067  </td><td> 1.0000000000</td><td>0.02615313   </td><td> 0.67485293  </td><td>-0.0007330759</td></tr>\n",
       "\t<tr><th scope=row>SALEDAY</th><td>0.97761662   </td><td> 0.96415953  </td><td>0.6670658    </td><td> 0.79781578  </td><td> 0.0261531274</td><td>1.00000000   </td><td> 0.21351983  </td><td> 0.1509168646</td></tr>\n",
       "\t<tr><th scope=row>RAIN_DAY</th><td>0.21307159   </td><td> 0.19579703  </td><td>0.5325365    </td><td> 0.11965126  </td><td> 0.6748529252</td><td>0.21351983   </td><td> 1.00000000  </td><td>-0.0513513553</td></tr>\n",
       "\t<tr><th scope=row>HOLIDAY</th><td>0.12682846   </td><td> 0.14775188  </td><td>0.1490118    </td><td> 0.15161414  </td><td>-0.0007330759</td><td>0.15091686   </td><td>-0.05135136  </td><td> 1.0000000000</td></tr>\n",
       "</tbody>\n",
       "</table>\n"
      ],
      "text/latex": [
       "\\begin{tabular}{r|llllllll}\n",
       "  & X & YM & QTY & PRICE & MAXTEMP & SALEDAY & RAIN\\_DAY & HOLIDAY\\\\\n",
       "\\hline\n",
       "\tX & 1.00000000    &  0.98450439   & 0.6545894     &  0.74748955   &  0.0268349535 & 0.97761662    &  0.21307159   &  0.1268284622\\\\\n",
       "\tYM & 0.98450439    &  1.00000000   & 0.6126286     &  0.75571298   & -0.0213870757 & 0.96415953    &  0.19579703   &  0.1477518768\\\\\n",
       "\tQTY & 0.65458939    &  0.61262860   & 1.0000000     &  0.51443998   &  0.6762249882 & 0.66706580    &  0.53253647   &  0.1490117845\\\\\n",
       "\tPRICE & 0.74748955    &  0.75571298   & 0.5144400     &  1.00000000   & -0.0209906744 & 0.79781578    &  0.11965126   &  0.1516141402\\\\\n",
       "\tMAXTEMP & 0.02683495    & -0.02138708   & 0.6762250     & -0.02099067   &  1.0000000000 & 0.02615313    &  0.67485293   & -0.0007330759\\\\\n",
       "\tSALEDAY & 0.97761662    &  0.96415953   & 0.6670658     &  0.79781578   &  0.0261531274 & 1.00000000    &  0.21351983   &  0.1509168646\\\\\n",
       "\tRAIN\\_DAY & 0.21307159    &  0.19579703   & 0.5325365     &  0.11965126   &  0.6748529252 & 0.21351983    &  1.00000000   & -0.0513513553\\\\\n",
       "\tHOLIDAY & 0.12682846    &  0.14775188   & 0.1490118     &  0.15161414   & -0.0007330759 & 0.15091686    & -0.05135136   &  1.0000000000\\\\\n",
       "\\end{tabular}\n"
      ],
      "text/markdown": [
       "\n",
       "| <!--/--> | X | YM | QTY | PRICE | MAXTEMP | SALEDAY | RAIN_DAY | HOLIDAY |\n",
       "|---|---|---|---|---|---|---|---|---|\n",
       "| X | 1.00000000    |  0.98450439   | 0.6545894     |  0.74748955   |  0.0268349535 | 0.97761662    |  0.21307159   |  0.1268284622 |\n",
       "| YM | 0.98450439    |  1.00000000   | 0.6126286     |  0.75571298   | -0.0213870757 | 0.96415953    |  0.19579703   |  0.1477518768 |\n",
       "| QTY | 0.65458939    |  0.61262860   | 1.0000000     |  0.51443998   |  0.6762249882 | 0.66706580    |  0.53253647   |  0.1490117845 |\n",
       "| PRICE | 0.74748955    |  0.75571298   | 0.5144400     |  1.00000000   | -0.0209906744 | 0.79781578    |  0.11965126   |  0.1516141402 |\n",
       "| MAXTEMP | 0.02683495    | -0.02138708   | 0.6762250     | -0.02099067   |  1.0000000000 | 0.02615313    |  0.67485293   | -0.0007330759 |\n",
       "| SALEDAY | 0.97761662    |  0.96415953   | 0.6670658     |  0.79781578   |  0.0261531274 | 1.00000000    |  0.21351983   |  0.1509168646 |\n",
       "| RAIN_DAY | 0.21307159    |  0.19579703   | 0.5325365     |  0.11965126   |  0.6748529252 | 0.21351983    |  1.00000000   | -0.0513513553 |\n",
       "| HOLIDAY | 0.12682846    |  0.14775188   | 0.1490118     |  0.15161414   | -0.0007330759 | 0.15091686    | -0.05135136   |  1.0000000000 |\n",
       "\n"
      ],
      "text/plain": [
       "         X          YM          QTY       PRICE       MAXTEMP       SALEDAY   \n",
       "X        1.00000000  0.98450439 0.6545894  0.74748955  0.0268349535 0.97761662\n",
       "YM       0.98450439  1.00000000 0.6126286  0.75571298 -0.0213870757 0.96415953\n",
       "QTY      0.65458939  0.61262860 1.0000000  0.51443998  0.6762249882 0.66706580\n",
       "PRICE    0.74748955  0.75571298 0.5144400  1.00000000 -0.0209906744 0.79781578\n",
       "MAXTEMP  0.02683495 -0.02138708 0.6762250 -0.02099067  1.0000000000 0.02615313\n",
       "SALEDAY  0.97761662  0.96415953 0.6670658  0.79781578  0.0261531274 1.00000000\n",
       "RAIN_DAY 0.21307159  0.19579703 0.5325365  0.11965126  0.6748529252 0.21351983\n",
       "HOLIDAY  0.12682846  0.14775188 0.1490118  0.15161414 -0.0007330759 0.15091686\n",
       "         RAIN_DAY    HOLIDAY      \n",
       "X         0.21307159  0.1268284622\n",
       "YM        0.19579703  0.1477518768\n",
       "QTY       0.53253647  0.1490117845\n",
       "PRICE     0.11965126  0.1516141402\n",
       "MAXTEMP   0.67485293 -0.0007330759\n",
       "SALEDAY   0.21351983  0.1509168646\n",
       "RAIN_DAY  1.00000000 -0.0513513553\n",
       "HOLIDAY  -0.05135136  1.0000000000"
      ]
     },
     "metadata": {},
     "output_type": "display_data"
    }
   ],
   "source": [
    "cor(product1)\n",
    "cor(product2)\n",
    "cor(product3)"
   ]
  },
  {
   "cell_type": "code",
   "execution_count": 11,
   "metadata": {},
   "outputs": [],
   "source": [
    "out1 = lm(QTY~., data=product1)\n",
    "out2 = lm(QTY~., data=product2)\n",
    "out3 = lm(QTY~., data=product3)"
   ]
  },
  {
   "cell_type": "code",
   "execution_count": 85,
   "metadata": {},
   "outputs": [],
   "source": [
    "both1 = step(out1, direction = 'both', trace = FALSE)\n",
    "both2 = step(out2, direction = 'both', trace = FALSE)\n",
    "both3 = step(out3, direction = 'both', trace = FALSE)"
   ]
  },
  {
   "cell_type": "code",
   "execution_count": 22,
   "metadata": {},
   "outputs": [
    {
     "data": {
      "text/plain": [
       "\n",
       "Call:\n",
       "lm(formula = QTY ~ ., data = product1)\n",
       "\n",
       "Residuals:\n",
       "    Min      1Q  Median      3Q     Max \n",
       "-500.50 -140.10    0.43  168.77  643.73 \n",
       "\n",
       "Coefficients:\n",
       "              Estimate Std. Error t value Pr(>|t|)    \n",
       "(Intercept) -2.664e+05  2.618e+05  -1.018   0.3135    \n",
       "X            1.198e+01  1.332e+01   0.899   0.3728    \n",
       "YM           1.315e+00  1.304e+00   1.009   0.3178    \n",
       "PRICE        7.558e-01  1.103e-01   6.855 8.44e-09 ***\n",
       "MAXTEMP      5.489e+01  4.494e+00  12.213  < 2e-16 ***\n",
       "SALEDAY      2.378e-03  3.412e-03   0.697   0.4889    \n",
       "RAIN_DAY    -1.021e-02  4.254e-03  -2.399   0.0201 *  \n",
       "HOLIDAY      3.638e+01  2.644e+01   1.376   0.1747    \n",
       "---\n",
       "Signif. codes:  0 '***' 0.001 '**' 0.01 '*' 0.05 '.' 0.1 ' ' 1\n",
       "\n",
       "Residual standard error: 232.1 on 52 degrees of freedom\n",
       "Multiple R-squared:  0.8805,\tAdjusted R-squared:  0.8644 \n",
       "F-statistic: 54.75 on 7 and 52 DF,  p-value: < 2.2e-16\n"
      ]
     },
     "metadata": {},
     "output_type": "display_data"
    }
   ],
   "source": [
    "summary(out1)"
   ]
  },
  {
   "cell_type": "code",
   "execution_count": 23,
   "metadata": {},
   "outputs": [
    {
     "data": {
      "text/plain": [
       "\n",
       "Call:\n",
       "lm(formula = QTY ~ ., data = product2)\n",
       "\n",
       "Residuals:\n",
       "    Min      1Q  Median      3Q     Max \n",
       "-320.60 -140.02  -28.69   68.02  637.59 \n",
       "\n",
       "Coefficients:\n",
       "              Estimate Std. Error t value Pr(>|t|)   \n",
       "(Intercept) -4.200e+04  2.318e+05  -0.181  0.85696   \n",
       "X           -8.902e+00  1.303e+01  -0.683  0.49766   \n",
       "YM           2.018e-01  1.157e+00   0.174  0.86222   \n",
       "PRICE        9.297e-01  2.870e-01   3.239  0.00209 **\n",
       "MAXTEMP      9.930e+00  4.174e+00   2.379  0.02107 * \n",
       "SALEDAY      4.907e-03  3.243e-03   1.513  0.13634   \n",
       "RAIN_DAY     6.743e-03  3.905e-03   1.727  0.09016 . \n",
       "HOLIDAY      7.603e+00  2.381e+01   0.319  0.75076   \n",
       "---\n",
       "Signif. codes:  0 '***' 0.001 '**' 0.01 '*' 0.05 '.' 0.1 ' ' 1\n",
       "\n",
       "Residual standard error: 208.8 on 52 degrees of freedom\n",
       "Multiple R-squared:  0.725,\tAdjusted R-squared:  0.688 \n",
       "F-statistic: 19.59 on 7 and 52 DF,  p-value: 1.49e-12\n"
      ]
     },
     "metadata": {},
     "output_type": "display_data"
    }
   ],
   "source": [
    "summary(out2)"
   ]
  },
  {
   "cell_type": "code",
   "execution_count": 24,
   "metadata": {},
   "outputs": [
    {
     "data": {
      "text/plain": [
       "\n",
       "Call:\n",
       "lm(formula = QTY ~ ., data = product3)\n",
       "\n",
       "Residuals:\n",
       "    Min      1Q  Median      3Q     Max \n",
       "-470.29 -127.12  -32.39  113.07  886.57 \n",
       "\n",
       "Coefficients:\n",
       "              Estimate Std. Error t value Pr(>|t|)    \n",
       "(Intercept)  3.573e+04  2.620e+05   0.136   0.8920    \n",
       "X            4.603e+00  1.366e+01   0.337   0.7375    \n",
       "YM          -1.831e-01  1.311e+00  -0.140   0.8895    \n",
       "PRICE        1.518e-01  4.617e-01   0.329   0.7437    \n",
       "MAXTEMP      4.812e+01  4.522e+00  10.642 1.16e-14 ***\n",
       "SALEDAY      8.540e-03  3.910e-03   2.184   0.0335 *  \n",
       "RAIN_DAY    -5.825e-03  4.275e-03  -1.363   0.1789    \n",
       "HOLIDAY      2.579e+01  2.653e+01   0.972   0.3354    \n",
       "---\n",
       "Signif. codes:  0 '***' 0.001 '**' 0.01 '*' 0.05 '.' 0.1 ' ' 1\n",
       "\n",
       "Residual standard error: 233.5 on 52 degrees of freedom\n",
       "Multiple R-squared:  0.8868,\tAdjusted R-squared:  0.8716 \n",
       "F-statistic:  58.2 on 7 and 52 DF,  p-value: < 2.2e-16\n"
      ]
     },
     "metadata": {},
     "output_type": "display_data"
    }
   ],
   "source": [
    "summary(out3)"
   ]
  },
  {
   "cell_type": "code",
   "execution_count": 16,
   "metadata": {},
   "outputs": [
    {
     "data": {
      "text/html": [
       "<table>\n",
       "<thead><tr><th></th><th scope=col>Df</th><th scope=col>Sum Sq</th><th scope=col>Mean Sq</th><th scope=col>F value</th><th scope=col>Pr(&gt;F)</th></tr></thead>\n",
       "<tbody>\n",
       "\t<tr><th scope=row>X</th><td> 1          </td><td> 6032093.1  </td><td> 6032093.1  </td><td>112.949753  </td><td>7.581650e-15</td></tr>\n",
       "\t<tr><th scope=row>PRICE</th><td> 1          </td><td> 1872212.3  </td><td> 1872212.3  </td><td> 35.056805  </td><td>2.283267e-07</td></tr>\n",
       "\t<tr><th scope=row>MAXTEMP</th><td> 1          </td><td>12188026.3  </td><td>12188026.3  </td><td>228.218387  </td><td>4.862521e-21</td></tr>\n",
       "\t<tr><th scope=row>RAIN_DAY</th><td> 1          </td><td>  315927.1  </td><td>  315927.1  </td><td>  5.915672  </td><td>1.835197e-02</td></tr>\n",
       "\t<tr><th scope=row>HOLIDAY</th><td> 1          </td><td>  149825.9  </td><td>  149825.9  </td><td>  2.805460  </td><td>9.972630e-02</td></tr>\n",
       "\t<tr><th scope=row>Residuals</th><td>54          </td><td> 2883875.5  </td><td>   53405.1  </td><td>        NA  </td><td>          NA</td></tr>\n",
       "</tbody>\n",
       "</table>\n"
      ],
      "text/latex": [
       "\\begin{tabular}{r|lllll}\n",
       "  & Df & Sum Sq & Mean Sq & F value & Pr(>F)\\\\\n",
       "\\hline\n",
       "\tX &  1           &  6032093.1   &  6032093.1   & 112.949753   & 7.581650e-15\\\\\n",
       "\tPRICE &  1           &  1872212.3   &  1872212.3   &  35.056805   & 2.283267e-07\\\\\n",
       "\tMAXTEMP &  1           & 12188026.3   & 12188026.3   & 228.218387   & 4.862521e-21\\\\\n",
       "\tRAIN\\_DAY &  1           &   315927.1   &   315927.1   &   5.915672   & 1.835197e-02\\\\\n",
       "\tHOLIDAY &  1           &   149825.9   &   149825.9   &   2.805460   & 9.972630e-02\\\\\n",
       "\tResiduals & 54           &  2883875.5   &    53405.1   &         NA   &           NA\\\\\n",
       "\\end{tabular}\n"
      ],
      "text/markdown": [
       "\n",
       "| <!--/--> | Df | Sum Sq | Mean Sq | F value | Pr(>F) |\n",
       "|---|---|---|---|---|---|\n",
       "| X |  1           |  6032093.1   |  6032093.1   | 112.949753   | 7.581650e-15 |\n",
       "| PRICE |  1           |  1872212.3   |  1872212.3   |  35.056805   | 2.283267e-07 |\n",
       "| MAXTEMP |  1           | 12188026.3   | 12188026.3   | 228.218387   | 4.862521e-21 |\n",
       "| RAIN_DAY |  1           |   315927.1   |   315927.1   |   5.915672   | 1.835197e-02 |\n",
       "| HOLIDAY |  1           |   149825.9   |   149825.9   |   2.805460   | 9.972630e-02 |\n",
       "| Residuals | 54           |  2883875.5   |    53405.1   |         NA   |           NA |\n",
       "\n"
      ],
      "text/plain": [
       "          Df Sum Sq     Mean Sq    F value    Pr(>F)      \n",
       "X          1  6032093.1  6032093.1 112.949753 7.581650e-15\n",
       "PRICE      1  1872212.3  1872212.3  35.056805 2.283267e-07\n",
       "MAXTEMP    1 12188026.3 12188026.3 228.218387 4.862521e-21\n",
       "RAIN_DAY   1   315927.1   315927.1   5.915672 1.835197e-02\n",
       "HOLIDAY    1   149825.9   149825.9   2.805460 9.972630e-02\n",
       "Residuals 54  2883875.5    53405.1         NA           NA"
      ]
     },
     "metadata": {},
     "output_type": "display_data"
    }
   ],
   "source": [
    "anova(both1)"
   ]
  },
  {
   "cell_type": "code",
   "execution_count": 17,
   "metadata": {},
   "outputs": [
    {
     "data": {
      "text/html": [
       "<table>\n",
       "<thead><tr><th></th><th scope=col>Df</th><th scope=col>Sum Sq</th><th scope=col>Mean Sq</th><th scope=col>F value</th><th scope=col>Pr(&gt;F)</th></tr></thead>\n",
       "<tbody>\n",
       "\t<tr><th scope=row>PRICE</th><td> 1          </td><td>4286276.4   </td><td>4286276.39  </td><td>102.302949  </td><td>3.706056e-14</td></tr>\n",
       "\t<tr><th scope=row>MAXTEMP</th><td> 1          </td><td>1281378.3   </td><td>1281378.34  </td><td> 30.583371  </td><td>9.114061e-07</td></tr>\n",
       "\t<tr><th scope=row>SALEDAY</th><td> 1          </td><td> 223276.5   </td><td> 223276.53  </td><td>  5.329065  </td><td>2.475744e-02</td></tr>\n",
       "\t<tr><th scope=row>RAIN_DAY</th><td> 1          </td><td> 148893.1   </td><td> 148893.08  </td><td>  3.553714  </td><td>6.469945e-02</td></tr>\n",
       "\t<tr><th scope=row>Residuals</th><td>55          </td><td>2304383.3   </td><td>  41897.88  </td><td>        NA  </td><td>          NA</td></tr>\n",
       "</tbody>\n",
       "</table>\n"
      ],
      "text/latex": [
       "\\begin{tabular}{r|lllll}\n",
       "  & Df & Sum Sq & Mean Sq & F value & Pr(>F)\\\\\n",
       "\\hline\n",
       "\tPRICE &  1           & 4286276.4    & 4286276.39   & 102.302949   & 3.706056e-14\\\\\n",
       "\tMAXTEMP &  1           & 1281378.3    & 1281378.34   &  30.583371   & 9.114061e-07\\\\\n",
       "\tSALEDAY &  1           &  223276.5    &  223276.53   &   5.329065   & 2.475744e-02\\\\\n",
       "\tRAIN\\_DAY &  1           &  148893.1    &  148893.08   &   3.553714   & 6.469945e-02\\\\\n",
       "\tResiduals & 55           & 2304383.3    &   41897.88   &         NA   &           NA\\\\\n",
       "\\end{tabular}\n"
      ],
      "text/markdown": [
       "\n",
       "| <!--/--> | Df | Sum Sq | Mean Sq | F value | Pr(>F) |\n",
       "|---|---|---|---|---|---|\n",
       "| PRICE |  1           | 4286276.4    | 4286276.39   | 102.302949   | 3.706056e-14 |\n",
       "| MAXTEMP |  1           | 1281378.3    | 1281378.34   |  30.583371   | 9.114061e-07 |\n",
       "| SALEDAY |  1           |  223276.5    |  223276.53   |   5.329065   | 2.475744e-02 |\n",
       "| RAIN_DAY |  1           |  148893.1    |  148893.08   |   3.553714   | 6.469945e-02 |\n",
       "| Residuals | 55           | 2304383.3    |   41897.88   |         NA   |           NA |\n",
       "\n"
      ],
      "text/plain": [
       "          Df Sum Sq    Mean Sq    F value    Pr(>F)      \n",
       "PRICE      1 4286276.4 4286276.39 102.302949 3.706056e-14\n",
       "MAXTEMP    1 1281378.3 1281378.34  30.583371 9.114061e-07\n",
       "SALEDAY    1  223276.5  223276.53   5.329065 2.475744e-02\n",
       "RAIN_DAY   1  148893.1  148893.08   3.553714 6.469945e-02\n",
       "Residuals 55 2304383.3   41897.88         NA           NA"
      ]
     },
     "metadata": {},
     "output_type": "display_data"
    }
   ],
   "source": [
    "anova(both2)"
   ]
  },
  {
   "cell_type": "code",
   "execution_count": 18,
   "metadata": {},
   "outputs": [
    {
     "data": {
      "text/html": [
       "<table>\n",
       "<thead><tr><th></th><th scope=col>Df</th><th scope=col>Sum Sq</th><th scope=col>Mean Sq</th><th scope=col>F value</th><th scope=col>Pr(&gt;F)</th></tr></thead>\n",
       "<tbody>\n",
       "\t<tr><th scope=row>MAXTEMP</th><td> 1          </td><td>11456238.0  </td><td>11456238.03 </td><td>221.561761  </td><td>4.056595e-21</td></tr>\n",
       "\t<tr><th scope=row>SALEDAY</th><td> 1          </td><td>10571950.1  </td><td>10571950.15 </td><td>204.459778  </td><td>2.426452e-20</td></tr>\n",
       "\t<tr><th scope=row>RAIN_DAY</th><td> 1          </td><td>  129225.9  </td><td>  129225.89 </td><td>  2.499208  </td><td>1.195359e-01</td></tr>\n",
       "\t<tr><th scope=row>Residuals</th><td>56          </td><td> 2895577.9  </td><td>   51706.75 </td><td>        NA  </td><td>          NA</td></tr>\n",
       "</tbody>\n",
       "</table>\n"
      ],
      "text/latex": [
       "\\begin{tabular}{r|lllll}\n",
       "  & Df & Sum Sq & Mean Sq & F value & Pr(>F)\\\\\n",
       "\\hline\n",
       "\tMAXTEMP &  1           & 11456238.0   & 11456238.03  & 221.561761   & 4.056595e-21\\\\\n",
       "\tSALEDAY &  1           & 10571950.1   & 10571950.15  & 204.459778   & 2.426452e-20\\\\\n",
       "\tRAIN\\_DAY &  1           &   129225.9   &   129225.89  &   2.499208   & 1.195359e-01\\\\\n",
       "\tResiduals & 56           &  2895577.9   &    51706.75  &         NA   &           NA\\\\\n",
       "\\end{tabular}\n"
      ],
      "text/markdown": [
       "\n",
       "| <!--/--> | Df | Sum Sq | Mean Sq | F value | Pr(>F) |\n",
       "|---|---|---|---|---|---|\n",
       "| MAXTEMP |  1           | 11456238.0   | 11456238.03  | 221.561761   | 4.056595e-21 |\n",
       "| SALEDAY |  1           | 10571950.1   | 10571950.15  | 204.459778   | 2.426452e-20 |\n",
       "| RAIN_DAY |  1           |   129225.9   |   129225.89  |   2.499208   | 1.195359e-01 |\n",
       "| Residuals | 56           |  2895577.9   |    51706.75  |         NA   |           NA |\n",
       "\n"
      ],
      "text/plain": [
       "          Df Sum Sq     Mean Sq     F value    Pr(>F)      \n",
       "MAXTEMP    1 11456238.0 11456238.03 221.561761 4.056595e-21\n",
       "SALEDAY    1 10571950.1 10571950.15 204.459778 2.426452e-20\n",
       "RAIN_DAY   1   129225.9   129225.89   2.499208 1.195359e-01\n",
       "Residuals 56  2895577.9    51706.75         NA           NA"
      ]
     },
     "metadata": {},
     "output_type": "display_data"
    }
   ],
   "source": [
    "anova(both3)"
   ]
  },
  {
   "cell_type": "code",
   "execution_count": 19,
   "metadata": {},
   "outputs": [
    {
     "data": {
      "image/png": "[encoded data removed]",
      "text/plain": [
       "Plot with title \"\""
      ]
     },
     "metadata": {},
     "output_type": "display_data"
    }
   ],
   "source": [
    "par(mfrow = c(2,2))\n",
    "plot(both1)"
   ]
  },
  {
   "cell_type": "code",
   "execution_count": 20,
   "metadata": {},
   "outputs": [
    {
     "data": {
      "image/png": "[encoded data removed]",
      "text/plain": [
       "Plot with title \"\""
      ]
     },
     "metadata": {},
     "output_type": "display_data"
    }
   ],
   "source": [
    "par(mfrow = c(2,2))\n",
    "plot(both2)"
   ]
  },
  {
   "cell_type": "code",
   "execution_count": 21,
   "metadata": {},
   "outputs": [
    {
     "data": {
      "image/png": "[encoded data removed]",
      "text/plain": [
       "Plot with title \"\""
      ]
     },
     "metadata": {},
     "output_type": "display_data"
    }
   ],
   "source": [
    "par(mfrow = c(2,2))\n",
    "plot(both3)"
   ]
  },
  {
   "cell_type": "code",
   "execution_count": 71,
   "metadata": {},
   "outputs": [
    {
     "data": {
      "text/html": [
       "<table>\n",
       "<thead><tr><th scope=col>X</th><th scope=col>ITEM_CNT</th><th scope=col>QTY</th><th scope=col>PRICE</th><th scope=col>MAXTEMP</th><th scope=col>SALEDAY</th><th scope=col>RAIN_DAY</th><th scope=col>HOLIDAY</th><th scope=col>pred_QTY</th></tr></thead>\n",
       "<tbody>\n",
       "\t<tr><td> 1       </td><td>45       </td><td> 990     </td><td>2611     </td><td> 4       </td><td>126753   </td><td>  151    </td><td>12       </td><td> 723.1825</td></tr>\n",
       "\t<tr><td> 2       </td><td>45       </td><td>1199     </td><td>2689     </td><td> 9       </td><td>113399   </td><td> 3014    </td><td> 8       </td><td> 815.0579</td></tr>\n",
       "\t<tr><td> 3       </td><td>43       </td><td>1102     </td><td>2735     </td><td>12       </td><td>129162   </td><td> 1383    </td><td> 9       </td><td>1041.4291</td></tr>\n",
       "\t<tr><td> 4       </td><td>42       </td><td>1326     </td><td>2807     </td><td>19       </td><td>126277   </td><td> 3564    </td><td> 8       </td><td>1367.4728</td></tr>\n",
       "\t<tr><td> 5       </td><td>46       </td><td>1672     </td><td>2674     </td><td>25       </td><td>129584   </td><td> 9288    </td><td>12       </td><td>1835.6004</td></tr>\n",
       "\t<tr><td> 6       </td><td>48       </td><td>1875     </td><td>2777     </td><td>27       </td><td>123218   </td><td> 9998    </td><td> 8       </td><td>1837.5826</td></tr>\n",
       "\t<tr><td> 7       </td><td>53       </td><td>1663     </td><td>2858     </td><td>28       </td><td>131083   </td><td>17405    </td><td> 8       </td><td>1939.7510</td></tr>\n",
       "\t<tr><td> 8       </td><td>52       </td><td>1957     </td><td>2886     </td><td>29       </td><td>130040   </td><td> 7704    </td><td>10       </td><td>2208.4377</td></tr>\n",
       "\t<tr><td> 9       </td><td>54       </td><td>2021     </td><td>2838     </td><td>27       </td><td>131989   </td><td> 4096    </td><td> 8       </td><td>2082.7475</td></tr>\n",
       "\t<tr><td>10       </td><td>56       </td><td>1718     </td><td>2879     </td><td>22       </td><td>136095   </td><td> 2824    </td><td>10       </td><td>1996.8162</td></tr>\n",
       "\t<tr><td>11       </td><td>58       </td><td>1204     </td><td>2853     </td><td>12       </td><td>136152   </td><td> 3684    </td><td> 9       </td><td>1457.5102</td></tr>\n",
       "\t<tr><td>12       </td><td>57       </td><td>1147     </td><td>2694     </td><td> 5       </td><td>137391   </td><td>  216    </td><td> 9       </td><td>1068.2079</td></tr>\n",
       "\t<tr><td>13       </td><td>55       </td><td>1106     </td><td>2746     </td><td> 2       </td><td>141145   </td><td>  792    </td><td>11       </td><td>1004.7640</td></tr>\n",
       "\t<tr><td>14       </td><td>55       </td><td>1361     </td><td>2752     </td><td> 7       </td><td>128528   </td><td> 4384    </td><td> 9       </td><td>1153.2699</td></tr>\n",
       "\t<tr><td>15       </td><td>55       </td><td>1432     </td><td>2800     </td><td>10       </td><td>145771   </td><td> 2940    </td><td> 9       </td><td>1364.3862</td></tr>\n",
       "\t<tr><td>16       </td><td>57       </td><td>1750     </td><td>2768     </td><td>15       </td><td>130412   </td><td> 5973    </td><td> 8       </td><td>1583.7327</td></tr>\n",
       "\t<tr><td>17       </td><td>57       </td><td>2204     </td><td>2768     </td><td>23       </td><td>143681   </td><td> 8656    </td><td>12       </td><td>2178.4053</td></tr>\n",
       "\t<tr><td>18       </td><td>63       </td><td>2366     </td><td>2637     </td><td>28       </td><td>145035   </td><td> 6325    </td><td> 8       </td><td>2343.7053</td></tr>\n",
       "\t<tr><td>19       </td><td>63       </td><td>2681     </td><td>2637     </td><td>29       </td><td>148561   </td><td>14930    </td><td> 9       </td><td>2364.4370</td></tr>\n",
       "\t<tr><td>20       </td><td>62       </td><td>2321     </td><td>2660     </td><td>31       </td><td>153056   </td><td>30531    </td><td> 9       </td><td>2304.5936</td></tr>\n",
       "\t<tr><td>21       </td><td>64       </td><td>1963     </td><td>2786     </td><td>27       </td><td>147804   </td><td>23150    </td><td>11       </td><td>2373.9913</td></tr>\n",
       "\t<tr><td>22       </td><td>63       </td><td>2321     </td><td>2811     </td><td>20       </td><td>155952   </td><td> 1337    </td><td>10       </td><td>2218.4063</td></tr>\n",
       "\t<tr><td>23       </td><td>65       </td><td>1548     </td><td>2932     </td><td>13       </td><td>154482   </td><td>    0    </td><td> 8       </td><td>1873.0916</td></tr>\n",
       "\t<tr><td>24       </td><td>66       </td><td>1306     </td><td>2958     </td><td> 5       </td><td>161292   </td><td>  886    </td><td> 8       </td><td>1489.5102</td></tr>\n",
       "\t<tr><td>25       </td><td>68       </td><td>1268     </td><td>2960     </td><td>-1       </td><td>163610   </td><td>   82    </td><td>10       </td><td>1330.2839</td></tr>\n",
       "\t<tr><td>26       </td><td>65       </td><td>1528     </td><td>3042     </td><td> 7       </td><td>149737   </td><td> 5587    </td><td>11       </td><td>1736.0691</td></tr>\n",
       "\t<tr><td>27       </td><td>63       </td><td>1874     </td><td>3112     </td><td>10       </td><td>169838   </td><td>  919    </td><td> 9       </td><td>1865.6885</td></tr>\n",
       "\t<tr><td>28       </td><td>74       </td><td>2200     </td><td>2984     </td><td>17       </td><td>167577   </td><td> 8244    </td><td> 9       </td><td>2297.8893</td></tr>\n",
       "\t<tr><td>29       </td><td>72       </td><td>3247     </td><td>2937     </td><td>23       </td><td>176452   </td><td> 7345    </td><td>10       </td><td>2635.8000</td></tr>\n",
       "\t<tr><td>30       </td><td>73       </td><td>2783     </td><td>2913     </td><td>27       </td><td>173664   </td><td>25001    </td><td> 9       </td><td>2624.7256</td></tr>\n",
       "\t<tr><td>31       </td><td>74       </td><td>2593     </td><td>3039     </td><td>29       </td><td>182676   </td><td>43058    </td><td>10       </td><td>2658.3270</td></tr>\n",
       "\t<tr><td>32       </td><td>79       </td><td>2765     </td><td>2792     </td><td>29       </td><td>186850   </td><td>20554    </td><td> 9       </td><td>2866.7260</td></tr>\n",
       "\t<tr><td>33       </td><td>77       </td><td>2971     </td><td>2817     </td><td>26       </td><td>184270   </td><td> 5373    </td><td>10       </td><td>2923.1584</td></tr>\n",
       "\t<tr><td>34       </td><td>76       </td><td>2459     </td><td>2838     </td><td>20       </td><td>194286   </td><td> 4146    </td><td>11       </td><td>2680.0740</td></tr>\n",
       "\t<tr><td>35       </td><td>75       </td><td>2299     </td><td>2876     </td><td>16       </td><td>191703   </td><td>10027    </td><td> 8       </td><td>2280.9645</td></tr>\n",
       "\t<tr><td>36       </td><td>75       </td><td>1823     </td><td>2876     </td><td> 5       </td><td>201541   </td><td>  489    </td><td> 9       </td><td>1877.7278</td></tr>\n",
       "\t<tr><td>37       </td><td>71       </td><td>1402     </td><td>2942     </td><td> 3       </td><td>203133   </td><td>  362    </td><td>11       </td><td>1847.2749</td></tr>\n",
       "\t<tr><td>38       </td><td>72       </td><td>1859     </td><td>2907     </td><td> 5       </td><td>186880   </td><td>  377    </td><td> 8       </td><td>1832.1203</td></tr>\n",
       "\t<tr><td>39       </td><td>70       </td><td>2566     </td><td>2941     </td><td>11       </td><td>212945   </td><td> 6556    </td><td>10       </td><td>2169.6372</td></tr>\n",
       "\t<tr><td>40       </td><td>77       </td><td>2475     </td><td>2818     </td><td>18       </td><td>209151   </td><td>17042    </td><td> 9       </td><td>2455.5101</td></tr>\n",
       "\t<tr><td>41       </td><td>80       </td><td>3653     </td><td>3146     </td><td>24       </td><td>215673   </td><td> 2095    </td><td>10       </td><td>3184.5291</td></tr>\n",
       "\t<tr><td>42       </td><td>83       </td><td>3474     </td><td>3251     </td><td>28       </td><td>215525   </td><td> 8865    </td><td>10       </td><td>3427.6977</td></tr>\n",
       "\t<tr><td>43       </td><td>76       </td><td>2568     </td><td>2205     </td><td>29       </td><td>203590   </td><td>25076    </td><td> 9       </td><td>2733.9900</td></tr>\n",
       "\t<tr><td>44       </td><td>73       </td><td>2854     </td><td>2218     </td><td>30       </td><td>228142   </td><td>32385    </td><td> 9       </td><td>2678.2944</td></tr>\n",
       "\t<tr><td>45       </td><td>69       </td><td>2744     </td><td>2269     </td><td>25       </td><td>223581   </td><td>23569    </td><td>10       </td><td>2535.7671</td></tr>\n",
       "\t<tr><td>46       </td><td>71       </td><td>2369     </td><td>2246     </td><td>21       </td><td>233331   </td><td>11111    </td><td>10       </td><td>2508.8488</td></tr>\n",
       "\t<tr><td>47       </td><td>67       </td><td>1833     </td><td>2299     </td><td>11       </td><td>229144   </td><td> 4805    </td><td> 8       </td><td>1936.3764</td></tr>\n",
       "\t<tr><td>48       </td><td>64       </td><td>1621     </td><td>2158     </td><td> 2       </td><td>239129   </td><td> 3706    </td><td>11       </td><td>1530.5488</td></tr>\n",
       "\t<tr><td>49       </td><td>63       </td><td>1627     </td><td>2184     </td><td> 2       </td><td>240416   </td><td> 2528    </td><td> 9       </td><td>1462.5286</td></tr>\n",
       "\t<tr><td>50       </td><td>65       </td><td>1624     </td><td>2337     </td><td> 5       </td><td>217015   </td><td> 6667    </td><td> 9       </td><td>1685.7810</td></tr>\n",
       "\t<tr><td>51       </td><td>63       </td><td>2103     </td><td>2376     </td><td>12       </td><td>243648   </td><td> 4364    </td><td>11       </td><td>2173.2665</td></tr>\n",
       "\t<tr><td>52       </td><td>60       </td><td>2117     </td><td>2445     </td><td>15       </td><td>237340   </td><td> 6727    </td><td> 8       </td><td>2159.9152</td></tr>\n",
       "\t<tr><td>53       </td><td>62       </td><td>2606     </td><td>2419     </td><td>23       </td><td>245068   </td><td>17217    </td><td>10       </td><td>2595.3491</td></tr>\n",
       "\t<tr><td>54       </td><td>56       </td><td>2621     </td><td>1962     </td><td>28       </td><td>236180   </td><td> 7360    </td><td>11       </td><td>2751.4734</td></tr>\n",
       "\t<tr><td>55       </td><td>59       </td><td>2336     </td><td>1936     </td><td>29       </td><td>241687   </td><td>41344    </td><td> 8       </td><td>2337.6499</td></tr>\n",
       "\t<tr><td>56       </td><td>61       </td><td>2755     </td><td>1957     </td><td>31       </td><td>240142   </td><td>22284    </td><td>10       </td><td>2810.7534</td></tr>\n",
       "\t<tr><td>57       </td><td>59       </td><td>2992     </td><td>1928     </td><td>26       </td><td>231662   </td><td>13699    </td><td>12       </td><td>2713.3087</td></tr>\n",
       "\t<tr><td>58       </td><td>64       </td><td>2563     </td><td>1898     </td><td>21       </td><td>239981   </td><td> 3011    </td><td>10       </td><td>2566.9034</td></tr>\n",
       "\t<tr><td>59       </td><td>68       </td><td>1878     </td><td>1923     </td><td>12       </td><td>232854   </td><td> 2944    </td><td> 9       </td><td>2143.8010</td></tr>\n",
       "\t<tr><td>60       </td><td>65       </td><td>1770     </td><td>1939     </td><td> 5       </td><td>240458   </td><td>  202    </td><td>10       </td><td>1830.4942</td></tr>\n",
       "</tbody>\n",
       "</table>\n"
      ],
      "text/latex": [
       "\\begin{tabular}{r|lllllllll}\n",
       " X & ITEM\\_CNT & QTY & PRICE & MAXTEMP & SALEDAY & RAIN\\_DAY & HOLIDAY & pred\\_QTY\\\\\n",
       "\\hline\n",
       "\t  1        & 45        &  990      & 2611      &  4        & 126753    &   151     & 12        &  723.1825\\\\\n",
       "\t  2        & 45        & 1199      & 2689      &  9        & 113399    &  3014     &  8        &  815.0579\\\\\n",
       "\t  3        & 43        & 1102      & 2735      & 12        & 129162    &  1383     &  9        & 1041.4291\\\\\n",
       "\t  4        & 42        & 1326      & 2807      & 19        & 126277    &  3564     &  8        & 1367.4728\\\\\n",
       "\t  5        & 46        & 1672      & 2674      & 25        & 129584    &  9288     & 12        & 1835.6004\\\\\n",
       "\t  6        & 48        & 1875      & 2777      & 27        & 123218    &  9998     &  8        & 1837.5826\\\\\n",
       "\t  7        & 53        & 1663      & 2858      & 28        & 131083    & 17405     &  8        & 1939.7510\\\\\n",
       "\t  8        & 52        & 1957      & 2886      & 29        & 130040    &  7704     & 10        & 2208.4377\\\\\n",
       "\t  9        & 54        & 2021      & 2838      & 27        & 131989    &  4096     &  8        & 2082.7475\\\\\n",
       "\t 10        & 56        & 1718      & 2879      & 22        & 136095    &  2824     & 10        & 1996.8162\\\\\n",
       "\t 11        & 58        & 1204      & 2853      & 12        & 136152    &  3684     &  9        & 1457.5102\\\\\n",
       "\t 12        & 57        & 1147      & 2694      &  5        & 137391    &   216     &  9        & 1068.2079\\\\\n",
       "\t 13        & 55        & 1106      & 2746      &  2        & 141145    &   792     & 11        & 1004.7640\\\\\n",
       "\t 14        & 55        & 1361      & 2752      &  7        & 128528    &  4384     &  9        & 1153.2699\\\\\n",
       "\t 15        & 55        & 1432      & 2800      & 10        & 145771    &  2940     &  9        & 1364.3862\\\\\n",
       "\t 16        & 57        & 1750      & 2768      & 15        & 130412    &  5973     &  8        & 1583.7327\\\\\n",
       "\t 17        & 57        & 2204      & 2768      & 23        & 143681    &  8656     & 12        & 2178.4053\\\\\n",
       "\t 18        & 63        & 2366      & 2637      & 28        & 145035    &  6325     &  8        & 2343.7053\\\\\n",
       "\t 19        & 63        & 2681      & 2637      & 29        & 148561    & 14930     &  9        & 2364.4370\\\\\n",
       "\t 20        & 62        & 2321      & 2660      & 31        & 153056    & 30531     &  9        & 2304.5936\\\\\n",
       "\t 21        & 64        & 1963      & 2786      & 27        & 147804    & 23150     & 11        & 2373.9913\\\\\n",
       "\t 22        & 63        & 2321      & 2811      & 20        & 155952    &  1337     & 10        & 2218.4063\\\\\n",
       "\t 23        & 65        & 1548      & 2932      & 13        & 154482    &     0     &  8        & 1873.0916\\\\\n",
       "\t 24        & 66        & 1306      & 2958      &  5        & 161292    &   886     &  8        & 1489.5102\\\\\n",
       "\t 25        & 68        & 1268      & 2960      & -1        & 163610    &    82     & 10        & 1330.2839\\\\\n",
       "\t 26        & 65        & 1528      & 3042      &  7        & 149737    &  5587     & 11        & 1736.0691\\\\\n",
       "\t 27        & 63        & 1874      & 3112      & 10        & 169838    &   919     &  9        & 1865.6885\\\\\n",
       "\t 28        & 74        & 2200      & 2984      & 17        & 167577    &  8244     &  9        & 2297.8893\\\\\n",
       "\t 29        & 72        & 3247      & 2937      & 23        & 176452    &  7345     & 10        & 2635.8000\\\\\n",
       "\t 30        & 73        & 2783      & 2913      & 27        & 173664    & 25001     &  9        & 2624.7256\\\\\n",
       "\t 31        & 74        & 2593      & 3039      & 29        & 182676    & 43058     & 10        & 2658.3270\\\\\n",
       "\t 32        & 79        & 2765      & 2792      & 29        & 186850    & 20554     &  9        & 2866.7260\\\\\n",
       "\t 33        & 77        & 2971      & 2817      & 26        & 184270    &  5373     & 10        & 2923.1584\\\\\n",
       "\t 34        & 76        & 2459      & 2838      & 20        & 194286    &  4146     & 11        & 2680.0740\\\\\n",
       "\t 35        & 75        & 2299      & 2876      & 16        & 191703    & 10027     &  8        & 2280.9645\\\\\n",
       "\t 36        & 75        & 1823      & 2876      &  5        & 201541    &   489     &  9        & 1877.7278\\\\\n",
       "\t 37        & 71        & 1402      & 2942      &  3        & 203133    &   362     & 11        & 1847.2749\\\\\n",
       "\t 38        & 72        & 1859      & 2907      &  5        & 186880    &   377     &  8        & 1832.1203\\\\\n",
       "\t 39        & 70        & 2566      & 2941      & 11        & 212945    &  6556     & 10        & 2169.6372\\\\\n",
       "\t 40        & 77        & 2475      & 2818      & 18        & 209151    & 17042     &  9        & 2455.5101\\\\\n",
       "\t 41        & 80        & 3653      & 3146      & 24        & 215673    &  2095     & 10        & 3184.5291\\\\\n",
       "\t 42        & 83        & 3474      & 3251      & 28        & 215525    &  8865     & 10        & 3427.6977\\\\\n",
       "\t 43        & 76        & 2568      & 2205      & 29        & 203590    & 25076     &  9        & 2733.9900\\\\\n",
       "\t 44        & 73        & 2854      & 2218      & 30        & 228142    & 32385     &  9        & 2678.2944\\\\\n",
       "\t 45        & 69        & 2744      & 2269      & 25        & 223581    & 23569     & 10        & 2535.7671\\\\\n",
       "\t 46        & 71        & 2369      & 2246      & 21        & 233331    & 11111     & 10        & 2508.8488\\\\\n",
       "\t 47        & 67        & 1833      & 2299      & 11        & 229144    &  4805     &  8        & 1936.3764\\\\\n",
       "\t 48        & 64        & 1621      & 2158      &  2        & 239129    &  3706     & 11        & 1530.5488\\\\\n",
       "\t 49        & 63        & 1627      & 2184      &  2        & 240416    &  2528     &  9        & 1462.5286\\\\\n",
       "\t 50        & 65        & 1624      & 2337      &  5        & 217015    &  6667     &  9        & 1685.7810\\\\\n",
       "\t 51        & 63        & 2103      & 2376      & 12        & 243648    &  4364     & 11        & 2173.2665\\\\\n",
       "\t 52        & 60        & 2117      & 2445      & 15        & 237340    &  6727     &  8        & 2159.9152\\\\\n",
       "\t 53        & 62        & 2606      & 2419      & 23        & 245068    & 17217     & 10        & 2595.3491\\\\\n",
       "\t 54        & 56        & 2621      & 1962      & 28        & 236180    &  7360     & 11        & 2751.4734\\\\\n",
       "\t 55        & 59        & 2336      & 1936      & 29        & 241687    & 41344     &  8        & 2337.6499\\\\\n",
       "\t 56        & 61        & 2755      & 1957      & 31        & 240142    & 22284     & 10        & 2810.7534\\\\\n",
       "\t 57        & 59        & 2992      & 1928      & 26        & 231662    & 13699     & 12        & 2713.3087\\\\\n",
       "\t 58        & 64        & 2563      & 1898      & 21        & 239981    &  3011     & 10        & 2566.9034\\\\\n",
       "\t 59        & 68        & 1878      & 1923      & 12        & 232854    &  2944     &  9        & 2143.8010\\\\\n",
       "\t 60        & 65        & 1770      & 1939      &  5        & 240458    &   202     & 10        & 1830.4942\\\\\n",
       "\\end{tabular}\n"
      ],
      "text/markdown": [
       "\n",
       "| X | ITEM_CNT | QTY | PRICE | MAXTEMP | SALEDAY | RAIN_DAY | HOLIDAY | pred_QTY |\n",
       "|---|---|---|---|---|---|---|---|---|\n",
       "|  1        | 45        |  990      | 2611      |  4        | 126753    |   151     | 12        |  723.1825 |\n",
       "|  2        | 45        | 1199      | 2689      |  9        | 113399    |  3014     |  8        |  815.0579 |\n",
       "|  3        | 43        | 1102      | 2735      | 12        | 129162    |  1383     |  9        | 1041.4291 |\n",
       "|  4        | 42        | 1326      | 2807      | 19        | 126277    |  3564     |  8        | 1367.4728 |\n",
       "|  5        | 46        | 1672      | 2674      | 25        | 129584    |  9288     | 12        | 1835.6004 |\n",
       "|  6        | 48        | 1875      | 2777      | 27        | 123218    |  9998     |  8        | 1837.5826 |\n",
       "|  7        | 53        | 1663      | 2858      | 28        | 131083    | 17405     |  8        | 1939.7510 |\n",
       "|  8        | 52        | 1957      | 2886      | 29        | 130040    |  7704     | 10        | 2208.4377 |\n",
       "|  9        | 54        | 2021      | 2838      | 27        | 131989    |  4096     |  8        | 2082.7475 |\n",
       "| 10        | 56        | 1718      | 2879      | 22        | 136095    |  2824     | 10        | 1996.8162 |\n",
       "| 11        | 58        | 1204      | 2853      | 12        | 136152    |  3684     |  9        | 1457.5102 |\n",
       "| 12        | 57        | 1147      | 2694      |  5        | 137391    |   216     |  9        | 1068.2079 |\n",
       "| 13        | 55        | 1106      | 2746      |  2        | 141145    |   792     | 11        | 1004.7640 |\n",
       "| 14        | 55        | 1361      | 2752      |  7        | 128528    |  4384     |  9        | 1153.2699 |\n",
       "| 15        | 55        | 1432      | 2800      | 10        | 145771    |  2940     |  9        | 1364.3862 |\n",
       "| 16        | 57        | 1750      | 2768      | 15        | 130412    |  5973     |  8        | 1583.7327 |\n",
       "| 17        | 57        | 2204      | 2768      | 23        | 143681    |  8656     | 12        | 2178.4053 |\n",
       "| 18        | 63        | 2366      | 2637      | 28        | 145035    |  6325     |  8        | 2343.7053 |\n",
       "| 19        | 63        | 2681      | 2637      | 29        | 148561    | 14930     |  9        | 2364.4370 |\n",
       "| 20        | 62        | 2321      | 2660      | 31        | 153056    | 30531     |  9        | 2304.5936 |\n",
       "| 21        | 64        | 1963      | 2786      | 27        | 147804    | 23150     | 11        | 2373.9913 |\n",
       "| 22        | 63        | 2321      | 2811      | 20        | 155952    |  1337     | 10        | 2218.4063 |\n",
       "| 23        | 65        | 1548      | 2932      | 13        | 154482    |     0     |  8        | 1873.0916 |\n",
       "| 24        | 66        | 1306      | 2958      |  5        | 161292    |   886     |  8        | 1489.5102 |\n",
       "| 25        | 68        | 1268      | 2960      | -1        | 163610    |    82     | 10        | 1330.2839 |\n",
       "| 26        | 65        | 1528      | 3042      |  7        | 149737    |  5587     | 11        | 1736.0691 |\n",
       "| 27        | 63        | 1874      | 3112      | 10        | 169838    |   919     |  9        | 1865.6885 |\n",
       "| 28        | 74        | 2200      | 2984      | 17        | 167577    |  8244     |  9        | 2297.8893 |\n",
       "| 29        | 72        | 3247      | 2937      | 23        | 176452    |  7345     | 10        | 2635.8000 |\n",
       "| 30        | 73        | 2783      | 2913      | 27        | 173664    | 25001     |  9        | 2624.7256 |\n",
       "| 31        | 74        | 2593      | 3039      | 29        | 182676    | 43058     | 10        | 2658.3270 |\n",
       "| 32        | 79        | 2765      | 2792      | 29        | 186850    | 20554     |  9        | 2866.7260 |\n",
       "| 33        | 77        | 2971      | 2817      | 26        | 184270    |  5373     | 10        | 2923.1584 |\n",
       "| 34        | 76        | 2459      | 2838      | 20        | 194286    |  4146     | 11        | 2680.0740 |\n",
       "| 35        | 75        | 2299      | 2876      | 16        | 191703    | 10027     |  8        | 2280.9645 |\n",
       "| 36        | 75        | 1823      | 2876      |  5        | 201541    |   489     |  9        | 1877.7278 |\n",
       "| 37        | 71        | 1402      | 2942      |  3        | 203133    |   362     | 11        | 1847.2749 |\n",
       "| 38        | 72        | 1859      | 2907      |  5        | 186880    |   377     |  8        | 1832.1203 |\n",
       "| 39        | 70        | 2566      | 2941      | 11        | 212945    |  6556     | 10        | 2169.6372 |\n",
       "| 40        | 77        | 2475      | 2818      | 18        | 209151    | 17042     |  9        | 2455.5101 |\n",
       "| 41        | 80        | 3653      | 3146      | 24        | 215673    |  2095     | 10        | 3184.5291 |\n",
       "| 42        | 83        | 3474      | 3251      | 28        | 215525    |  8865     | 10        | 3427.6977 |\n",
       "| 43        | 76        | 2568      | 2205      | 29        | 203590    | 25076     |  9        | 2733.9900 |\n",
       "| 44        | 73        | 2854      | 2218      | 30        | 228142    | 32385     |  9        | 2678.2944 |\n",
       "| 45        | 69        | 2744      | 2269      | 25        | 223581    | 23569     | 10        | 2535.7671 |\n",
       "| 46        | 71        | 2369      | 2246      | 21        | 233331    | 11111     | 10        | 2508.8488 |\n",
       "| 47        | 67        | 1833      | 2299      | 11        | 229144    |  4805     |  8        | 1936.3764 |\n",
       "| 48        | 64        | 1621      | 2158      |  2        | 239129    |  3706     | 11        | 1530.5488 |\n",
       "| 49        | 63        | 1627      | 2184      |  2        | 240416    |  2528     |  9        | 1462.5286 |\n",
       "| 50        | 65        | 1624      | 2337      |  5        | 217015    |  6667     |  9        | 1685.7810 |\n",
       "| 51        | 63        | 2103      | 2376      | 12        | 243648    |  4364     | 11        | 2173.2665 |\n",
       "| 52        | 60        | 2117      | 2445      | 15        | 237340    |  6727     |  8        | 2159.9152 |\n",
       "| 53        | 62        | 2606      | 2419      | 23        | 245068    | 17217     | 10        | 2595.3491 |\n",
       "| 54        | 56        | 2621      | 1962      | 28        | 236180    |  7360     | 11        | 2751.4734 |\n",
       "| 55        | 59        | 2336      | 1936      | 29        | 241687    | 41344     |  8        | 2337.6499 |\n",
       "| 56        | 61        | 2755      | 1957      | 31        | 240142    | 22284     | 10        | 2810.7534 |\n",
       "| 57        | 59        | 2992      | 1928      | 26        | 231662    | 13699     | 12        | 2713.3087 |\n",
       "| 58        | 64        | 2563      | 1898      | 21        | 239981    |  3011     | 10        | 2566.9034 |\n",
       "| 59        | 68        | 1878      | 1923      | 12        | 232854    |  2944     |  9        | 2143.8010 |\n",
       "| 60        | 65        | 1770      | 1939      |  5        | 240458    |   202     | 10        | 1830.4942 |\n",
       "\n"
      ],
      "text/plain": [
       "   X  ITEM_CNT QTY  PRICE MAXTEMP SALEDAY RAIN_DAY HOLIDAY pred_QTY \n",
       "1   1 45        990 2611   4      126753    151    12       723.1825\n",
       "2   2 45       1199 2689   9      113399   3014     8       815.0579\n",
       "3   3 43       1102 2735  12      129162   1383     9      1041.4291\n",
       "4   4 42       1326 2807  19      126277   3564     8      1367.4728\n",
       "5   5 46       1672 2674  25      129584   9288    12      1835.6004\n",
       "6   6 48       1875 2777  27      123218   9998     8      1837.5826\n",
       "7   7 53       1663 2858  28      131083  17405     8      1939.7510\n",
       "8   8 52       1957 2886  29      130040   7704    10      2208.4377\n",
       "9   9 54       2021 2838  27      131989   4096     8      2082.7475\n",
       "10 10 56       1718 2879  22      136095   2824    10      1996.8162\n",
       "11 11 58       1204 2853  12      136152   3684     9      1457.5102\n",
       "12 12 57       1147 2694   5      137391    216     9      1068.2079\n",
       "13 13 55       1106 2746   2      141145    792    11      1004.7640\n",
       "14 14 55       1361 2752   7      128528   4384     9      1153.2699\n",
       "15 15 55       1432 2800  10      145771   2940     9      1364.3862\n",
       "16 16 57       1750 2768  15      130412   5973     8      1583.7327\n",
       "17 17 57       2204 2768  23      143681   8656    12      2178.4053\n",
       "18 18 63       2366 2637  28      145035   6325     8      2343.7053\n",
       "19 19 63       2681 2637  29      148561  14930     9      2364.4370\n",
       "20 20 62       2321 2660  31      153056  30531     9      2304.5936\n",
       "21 21 64       1963 2786  27      147804  23150    11      2373.9913\n",
       "22 22 63       2321 2811  20      155952   1337    10      2218.4063\n",
       "23 23 65       1548 2932  13      154482      0     8      1873.0916\n",
       "24 24 66       1306 2958   5      161292    886     8      1489.5102\n",
       "25 25 68       1268 2960  -1      163610     82    10      1330.2839\n",
       "26 26 65       1528 3042   7      149737   5587    11      1736.0691\n",
       "27 27 63       1874 3112  10      169838    919     9      1865.6885\n",
       "28 28 74       2200 2984  17      167577   8244     9      2297.8893\n",
       "29 29 72       3247 2937  23      176452   7345    10      2635.8000\n",
       "30 30 73       2783 2913  27      173664  25001     9      2624.7256\n",
       "31 31 74       2593 3039  29      182676  43058    10      2658.3270\n",
       "32 32 79       2765 2792  29      186850  20554     9      2866.7260\n",
       "33 33 77       2971 2817  26      184270   5373    10      2923.1584\n",
       "34 34 76       2459 2838  20      194286   4146    11      2680.0740\n",
       "35 35 75       2299 2876  16      191703  10027     8      2280.9645\n",
       "36 36 75       1823 2876   5      201541    489     9      1877.7278\n",
       "37 37 71       1402 2942   3      203133    362    11      1847.2749\n",
       "38 38 72       1859 2907   5      186880    377     8      1832.1203\n",
       "39 39 70       2566 2941  11      212945   6556    10      2169.6372\n",
       "40 40 77       2475 2818  18      209151  17042     9      2455.5101\n",
       "41 41 80       3653 3146  24      215673   2095    10      3184.5291\n",
       "42 42 83       3474 3251  28      215525   8865    10      3427.6977\n",
       "43 43 76       2568 2205  29      203590  25076     9      2733.9900\n",
       "44 44 73       2854 2218  30      228142  32385     9      2678.2944\n",
       "45 45 69       2744 2269  25      223581  23569    10      2535.7671\n",
       "46 46 71       2369 2246  21      233331  11111    10      2508.8488\n",
       "47 47 67       1833 2299  11      229144   4805     8      1936.3764\n",
       "48 48 64       1621 2158   2      239129   3706    11      1530.5488\n",
       "49 49 63       1627 2184   2      240416   2528     9      1462.5286\n",
       "50 50 65       1624 2337   5      217015   6667     9      1685.7810\n",
       "51 51 63       2103 2376  12      243648   4364    11      2173.2665\n",
       "52 52 60       2117 2445  15      237340   6727     8      2159.9152\n",
       "53 53 62       2606 2419  23      245068  17217    10      2595.3491\n",
       "54 54 56       2621 1962  28      236180   7360    11      2751.4734\n",
       "55 55 59       2336 1936  29      241687  41344     8      2337.6499\n",
       "56 56 61       2755 1957  31      240142  22284    10      2810.7534\n",
       "57 57 59       2992 1928  26      231662  13699    12      2713.3087\n",
       "58 58 64       2563 1898  21      239981   3011    10      2566.9034\n",
       "59 59 68       1878 1923  12      232854   2944     9      2143.8010\n",
       "60 60 65       1770 1939   5      240458    202    10      1830.4942"
      ]
     },
     "metadata": {},
     "output_type": "display_data"
    }
   ],
   "source": [
    "pred1 = product1 %>%\n",
    "  mutate(pred_QTY = -1854 + X * 18.47 + 16.46 * ITEM_CNT + 0.4013 * PRICE + 52.37 * MAXTEMP - 0.01127 * RAIN_DAY + 46.87 * HOLIDAY )"
   ]
  },
  {
   "cell_type": "code",
   "execution_count": 108,
   "metadata": {},
   "outputs": [
    {
     "data": {
      "text/html": [
       "<table>\n",
       "<thead><tr><th scope=col>fit</th><th scope=col>lwr</th><th scope=col>upr</th><th scope=col></th></tr></thead>\n",
       "<tbody>\n",
       "\t<tr><td> 686.8905</td><td> 172.4004</td><td>1201.381 </td><td> 990     </td></tr>\n",
       "\t<tr><td> 843.0463</td><td> 352.4525</td><td>1333.640 </td><td>1199     </td></tr>\n",
       "\t<tr><td>1125.2574</td><td> 643.3687</td><td>1607.146 </td><td>1102     </td></tr>\n",
       "\t<tr><td>1519.2904</td><td>1035.2684</td><td>2003.312 </td><td>1326     </td></tr>\n",
       "\t<tr><td>1884.4394</td><td>1383.6863</td><td>2385.193 </td><td>1672     </td></tr>\n",
       "\t<tr><td>1919.8102</td><td>1433.9404</td><td>2405.680 </td><td>1875     </td></tr>\n",
       "</tbody>\n",
       "</table>\n"
      ],
      "text/latex": [
       "\\begin{tabular}{r|llll}\n",
       " fit & lwr & upr & \\\\\n",
       "\\hline\n",
       "\t  686.8905 &  172.4004 & 1201.381  &  990     \\\\\n",
       "\t  843.0463 &  352.4525 & 1333.640  & 1199     \\\\\n",
       "\t 1125.2574 &  643.3687 & 1607.146  & 1102     \\\\\n",
       "\t 1519.2904 & 1035.2684 & 2003.312  & 1326     \\\\\n",
       "\t 1884.4394 & 1383.6863 & 2385.193  & 1672     \\\\\n",
       "\t 1919.8102 & 1433.9404 & 2405.680  & 1875     \\\\\n",
       "\\end{tabular}\n"
      ],
      "text/markdown": [
       "\n",
       "| fit | lwr | upr |  |\n",
       "|---|---|---|---|\n",
       "|  686.8905 |  172.4004 | 1201.381  |  990      |\n",
       "|  843.0463 |  352.4525 | 1333.640  | 1199      |\n",
       "| 1125.2574 |  643.3687 | 1607.146  | 1102      |\n",
       "| 1519.2904 | 1035.2684 | 2003.312  | 1326      |\n",
       "| 1884.4394 | 1383.6863 | 2385.193  | 1672      |\n",
       "| 1919.8102 | 1433.9404 | 2405.680  | 1875      |\n",
       "\n"
      ],
      "text/plain": [
       "  fit       lwr       upr          \n",
       "1  686.8905  172.4004 1201.381  990\n",
       "2  843.0463  352.4525 1333.640 1199\n",
       "3 1125.2574  643.3687 1607.146 1102\n",
       "4 1519.2904 1035.2684 2003.312 1326\n",
       "5 1884.4394 1383.6863 2385.193 1672\n",
       "6 1919.8102 1433.9404 2405.680 1875"
      ]
     },
     "metadata": {},
     "output_type": "display_data"
    },
    {
     "ename": "ERROR",
     "evalue": "Error in `*tmp*`$pre: $ operator is invalid for atomic vectors\n",
     "output_type": "error",
     "traceback": [
      "Error in `*tmp*`$pre: $ operator is invalid for atomic vectors\nTraceback:\n"
     ]
    }
   ],
   "source": [
    "a1 = predict(both1, product1, interval = 'predict')\n",
    "a2 = cbind(a1, product1$QTY)\n",
    "head(a2)\n",
    "a2$pre[a2$'product1$QTY' > a2$lwr & a2$'product1$QTY' < a2$upr] = T\n",
    "# a2$pre[is.na(a2$pre)] = F\n",
    "# [a1$lwr < a2 && a2 < a1$upr]"
   ]
  },
  {
   "cell_type": "code",
   "execution_count": 88,
   "metadata": {},
   "outputs": [
    {
     "data": {
      "text/html": [
       "<table>\n",
       "<thead><tr><th scope=col>fit</th><th scope=col>lwr</th><th scope=col>upr</th></tr></thead>\n",
       "<tbody>\n",
       "\t<tr><td> -86.739395</td><td>-523.63848 </td><td> 350.1597  </td></tr>\n",
       "\t<tr><td> -53.967037</td><td>-484.68973 </td><td> 376.7557  </td></tr>\n",
       "\t<tr><td>   3.113432</td><td>-426.33365 </td><td> 432.5605  </td></tr>\n",
       "\t<tr><td>  76.682400</td><td>-350.79259 </td><td> 504.1574  </td></tr>\n",
       "\t<tr><td> 181.602107</td><td>-247.37894 </td><td> 610.5832  </td></tr>\n",
       "\t<tr><td> 189.032071</td><td>-240.28008 </td><td> 618.3442  </td></tr>\n",
       "\t<tr><td> 270.545309</td><td>-161.95893 </td><td> 703.0496  </td></tr>\n",
       "\t<tr><td> 209.171227</td><td>-223.82960 </td><td> 642.1721  </td></tr>\n",
       "\t<tr><td> 170.085813</td><td>-263.75619 </td><td> 603.9278  </td></tr>\n",
       "\t<tr><td> 124.783224</td><td>-306.24657 </td><td> 555.8130  </td></tr>\n",
       "\t<tr><td>  37.171866</td><td>-394.48347 </td><td> 468.8272  </td></tr>\n",
       "\t<tr><td> 215.090041</td><td>-209.44075 </td><td> 639.6208  </td></tr>\n",
       "\t<tr><td> 200.613235</td><td>-226.35118 </td><td> 627.5776  </td></tr>\n",
       "\t<tr><td> 240.390047</td><td>-186.87452 </td><td> 667.6546  </td></tr>\n",
       "\t<tr><td> 302.575009</td><td>-116.24924 </td><td> 721.3993  </td></tr>\n",
       "\t<tr><td> 350.483211</td><td> -73.92390 </td><td> 774.8903  </td></tr>\n",
       "\t<tr><td> 478.345169</td><td>  56.90934 </td><td> 899.7810  </td></tr>\n",
       "\t<tr><td> 610.137711</td><td> 168.95114 </td><td>1051.3243  </td></tr>\n",
       "\t<tr><td> 645.215513</td><td> 217.59307 </td><td>1072.8380  </td></tr>\n",
       "\t<tr><td> 784.978137</td><td> 349.32443 </td><td>1220.6318  </td></tr>\n",
       "\t<tr><td> 682.204696</td><td> 253.31322 </td><td>1111.0962  </td></tr>\n",
       "\t<tr><td> 484.344905</td><td>  59.17991 </td><td> 909.5099  </td></tr>\n",
       "\t<tr><td> 405.540438</td><td> -16.08741 </td><td> 827.1683  </td></tr>\n",
       "\t<tr><td> 369.278132</td><td> -52.99772 </td><td> 791.5540  </td></tr>\n",
       "\t<tr><td> 313.299335</td><td>-115.52404 </td><td> 742.1227  </td></tr>\n",
       "\t<tr><td> 391.421098</td><td> -34.08506 </td><td> 816.9273  </td></tr>\n",
       "\t<tr><td> 438.303188</td><td>  20.47493 </td><td> 856.1315  </td></tr>\n",
       "\t<tr><td> 549.571233</td><td> 133.55168 </td><td> 965.5908  </td></tr>\n",
       "\t<tr><td> 633.407915</td><td> 214.53520 </td><td>1052.2806  </td></tr>\n",
       "\t<tr><td> 787.690027</td><td> 363.95950 </td><td>1211.4206  </td></tr>\n",
       "\t<tr><td> 989.652615</td><td> 530.79774 </td><td>1448.5075  </td></tr>\n",
       "\t<tr><td> 842.416002</td><td> 422.09572 </td><td>1262.7363  </td></tr>\n",
       "\t<tr><td> 701.128349</td><td> 275.00200 </td><td>1127.2547  </td></tr>\n",
       "\t<tr><td> 685.755377</td><td> 265.90203 </td><td>1105.6087  </td></tr>\n",
       "\t<tr><td> 687.662408</td><td> 272.16794 </td><td>1103.1569  </td></tr>\n",
       "\t<tr><td> 542.760781</td><td> 122.37458 </td><td> 963.1470  </td></tr>\n",
       "\t<tr><td> 527.190053</td><td> 104.90468 </td><td> 949.4754  </td></tr>\n",
       "\t<tr><td> 504.409517</td><td>  83.20692 </td><td> 925.6121  </td></tr>\n",
       "\t<tr><td> 670.834235</td><td> 253.64995 </td><td>1088.0185  </td></tr>\n",
       "\t<tr><td> 800.358013</td><td> 382.86695 </td><td>1217.8491  </td></tr>\n",
       "\t<tr><td> 764.472739</td><td> 335.70629 </td><td>1193.2392  </td></tr>\n",
       "\t<tr><td> 853.097061</td><td> 427.71520 </td><td>1278.4789  </td></tr>\n",
       "\t<tr><td> 952.023490</td><td> 529.64853 </td><td>1374.3984  </td></tr>\n",
       "\t<tr><td>1072.425340</td><td> 638.56960 </td><td>1506.2811  </td></tr>\n",
       "\t<tr><td> 999.672713</td><td> 577.66772 </td><td>1421.6777  </td></tr>\n",
       "\t<tr><td> 899.708233</td><td> 480.04393 </td><td>1319.3725  </td></tr>\n",
       "\t<tr><td> 750.932175</td><td> 331.03722 </td><td>1170.8271  </td></tr>\n",
       "\t<tr><td> 684.390068</td><td> 253.64378 </td><td>1115.1364  </td></tr>\n",
       "\t<tr><td> 669.880512</td><td> 238.60144 </td><td>1101.1596  </td></tr>\n",
       "\t<tr><td> 667.106183</td><td> 243.97149 </td><td>1090.2409  </td></tr>\n",
       "\t<tr><td> 829.359756</td><td> 406.12827 </td><td>1252.5912  </td></tr>\n",
       "\t<tr><td> 707.662289</td><td> 279.26830 </td><td>1136.0563  </td></tr>\n",
       "\t<tr><td> 885.655812</td><td> 453.62942 </td><td>1317.6822  </td></tr>\n",
       "\t<tr><td> 972.573997</td><td> 540.26857 </td><td>1404.8794  </td></tr>\n",
       "\t<tr><td>1232.175918</td><td> 778.59596 </td><td>1685.7559  </td></tr>\n",
       "\t<tr><td>1072.668808</td><td> 645.67066 </td><td>1499.6670  </td></tr>\n",
       "\t<tr><td> 948.565562</td><td> 526.82981 </td><td>1370.3013  </td></tr>\n",
       "\t<tr><td> 885.342182</td><td> 456.50831 </td><td>1314.1761  </td></tr>\n",
       "\t<tr><td> 784.582244</td><td> 363.15485 </td><td>1206.0096  </td></tr>\n",
       "\t<tr><td> 719.167511</td><td> 292.31110 </td><td>1146.0239  </td></tr>\n",
       "</tbody>\n",
       "</table>\n"
      ],
      "text/latex": [
       "\\begin{tabular}{r|lll}\n",
       " fit & lwr & upr\\\\\n",
       "\\hline\n",
       "\t  -86.739395 & -523.63848  &  350.1597  \\\\\n",
       "\t  -53.967037 & -484.68973  &  376.7557  \\\\\n",
       "\t    3.113432 & -426.33365  &  432.5605  \\\\\n",
       "\t   76.682400 & -350.79259  &  504.1574  \\\\\n",
       "\t  181.602107 & -247.37894  &  610.5832  \\\\\n",
       "\t  189.032071 & -240.28008  &  618.3442  \\\\\n",
       "\t  270.545309 & -161.95893  &  703.0496  \\\\\n",
       "\t  209.171227 & -223.82960  &  642.1721  \\\\\n",
       "\t  170.085813 & -263.75619  &  603.9278  \\\\\n",
       "\t  124.783224 & -306.24657  &  555.8130  \\\\\n",
       "\t   37.171866 & -394.48347  &  468.8272  \\\\\n",
       "\t  215.090041 & -209.44075  &  639.6208  \\\\\n",
       "\t  200.613235 & -226.35118  &  627.5776  \\\\\n",
       "\t  240.390047 & -186.87452  &  667.6546  \\\\\n",
       "\t  302.575009 & -116.24924  &  721.3993  \\\\\n",
       "\t  350.483211 &  -73.92390  &  774.8903  \\\\\n",
       "\t  478.345169 &   56.90934  &  899.7810  \\\\\n",
       "\t  610.137711 &  168.95114  & 1051.3243  \\\\\n",
       "\t  645.215513 &  217.59307  & 1072.8380  \\\\\n",
       "\t  784.978137 &  349.32443  & 1220.6318  \\\\\n",
       "\t  682.204696 &  253.31322  & 1111.0962  \\\\\n",
       "\t  484.344905 &   59.17991  &  909.5099  \\\\\n",
       "\t  405.540438 &  -16.08741  &  827.1683  \\\\\n",
       "\t  369.278132 &  -52.99772  &  791.5540  \\\\\n",
       "\t  313.299335 & -115.52404  &  742.1227  \\\\\n",
       "\t  391.421098 &  -34.08506  &  816.9273  \\\\\n",
       "\t  438.303188 &   20.47493  &  856.1315  \\\\\n",
       "\t  549.571233 &  133.55168  &  965.5908  \\\\\n",
       "\t  633.407915 &  214.53520  & 1052.2806  \\\\\n",
       "\t  787.690027 &  363.95950  & 1211.4206  \\\\\n",
       "\t  989.652615 &  530.79774  & 1448.5075  \\\\\n",
       "\t  842.416002 &  422.09572  & 1262.7363  \\\\\n",
       "\t  701.128349 &  275.00200  & 1127.2547  \\\\\n",
       "\t  685.755377 &  265.90203  & 1105.6087  \\\\\n",
       "\t  687.662408 &  272.16794  & 1103.1569  \\\\\n",
       "\t  542.760781 &  122.37458  &  963.1470  \\\\\n",
       "\t  527.190053 &  104.90468  &  949.4754  \\\\\n",
       "\t  504.409517 &   83.20692  &  925.6121  \\\\\n",
       "\t  670.834235 &  253.64995  & 1088.0185  \\\\\n",
       "\t  800.358013 &  382.86695  & 1217.8491  \\\\\n",
       "\t  764.472739 &  335.70629  & 1193.2392  \\\\\n",
       "\t  853.097061 &  427.71520  & 1278.4789  \\\\\n",
       "\t  952.023490 &  529.64853  & 1374.3984  \\\\\n",
       "\t 1072.425340 &  638.56960  & 1506.2811  \\\\\n",
       "\t  999.672713 &  577.66772  & 1421.6777  \\\\\n",
       "\t  899.708233 &  480.04393  & 1319.3725  \\\\\n",
       "\t  750.932175 &  331.03722  & 1170.8271  \\\\\n",
       "\t  684.390068 &  253.64378  & 1115.1364  \\\\\n",
       "\t  669.880512 &  238.60144  & 1101.1596  \\\\\n",
       "\t  667.106183 &  243.97149  & 1090.2409  \\\\\n",
       "\t  829.359756 &  406.12827  & 1252.5912  \\\\\n",
       "\t  707.662289 &  279.26830  & 1136.0563  \\\\\n",
       "\t  885.655812 &  453.62942  & 1317.6822  \\\\\n",
       "\t  972.573997 &  540.26857  & 1404.8794  \\\\\n",
       "\t 1232.175918 &  778.59596  & 1685.7559  \\\\\n",
       "\t 1072.668808 &  645.67066  & 1499.6670  \\\\\n",
       "\t  948.565562 &  526.82981  & 1370.3013  \\\\\n",
       "\t  885.342182 &  456.50831  & 1314.1761  \\\\\n",
       "\t  784.582244 &  363.15485  & 1206.0096  \\\\\n",
       "\t  719.167511 &  292.31110  & 1146.0239  \\\\\n",
       "\\end{tabular}\n"
      ],
      "text/markdown": [
       "\n",
       "| fit | lwr | upr |\n",
       "|---|---|---|\n",
       "|  -86.739395 | -523.63848  |  350.1597   |\n",
       "|  -53.967037 | -484.68973  |  376.7557   |\n",
       "|    3.113432 | -426.33365  |  432.5605   |\n",
       "|   76.682400 | -350.79259  |  504.1574   |\n",
       "|  181.602107 | -247.37894  |  610.5832   |\n",
       "|  189.032071 | -240.28008  |  618.3442   |\n",
       "|  270.545309 | -161.95893  |  703.0496   |\n",
       "|  209.171227 | -223.82960  |  642.1721   |\n",
       "|  170.085813 | -263.75619  |  603.9278   |\n",
       "|  124.783224 | -306.24657  |  555.8130   |\n",
       "|   37.171866 | -394.48347  |  468.8272   |\n",
       "|  215.090041 | -209.44075  |  639.6208   |\n",
       "|  200.613235 | -226.35118  |  627.5776   |\n",
       "|  240.390047 | -186.87452  |  667.6546   |\n",
       "|  302.575009 | -116.24924  |  721.3993   |\n",
       "|  350.483211 |  -73.92390  |  774.8903   |\n",
       "|  478.345169 |   56.90934  |  899.7810   |\n",
       "|  610.137711 |  168.95114  | 1051.3243   |\n",
       "|  645.215513 |  217.59307  | 1072.8380   |\n",
       "|  784.978137 |  349.32443  | 1220.6318   |\n",
       "|  682.204696 |  253.31322  | 1111.0962   |\n",
       "|  484.344905 |   59.17991  |  909.5099   |\n",
       "|  405.540438 |  -16.08741  |  827.1683   |\n",
       "|  369.278132 |  -52.99772  |  791.5540   |\n",
       "|  313.299335 | -115.52404  |  742.1227   |\n",
       "|  391.421098 |  -34.08506  |  816.9273   |\n",
       "|  438.303188 |   20.47493  |  856.1315   |\n",
       "|  549.571233 |  133.55168  |  965.5908   |\n",
       "|  633.407915 |  214.53520  | 1052.2806   |\n",
       "|  787.690027 |  363.95950  | 1211.4206   |\n",
       "|  989.652615 |  530.79774  | 1448.5075   |\n",
       "|  842.416002 |  422.09572  | 1262.7363   |\n",
       "|  701.128349 |  275.00200  | 1127.2547   |\n",
       "|  685.755377 |  265.90203  | 1105.6087   |\n",
       "|  687.662408 |  272.16794  | 1103.1569   |\n",
       "|  542.760781 |  122.37458  |  963.1470   |\n",
       "|  527.190053 |  104.90468  |  949.4754   |\n",
       "|  504.409517 |   83.20692  |  925.6121   |\n",
       "|  670.834235 |  253.64995  | 1088.0185   |\n",
       "|  800.358013 |  382.86695  | 1217.8491   |\n",
       "|  764.472739 |  335.70629  | 1193.2392   |\n",
       "|  853.097061 |  427.71520  | 1278.4789   |\n",
       "|  952.023490 |  529.64853  | 1374.3984   |\n",
       "| 1072.425340 |  638.56960  | 1506.2811   |\n",
       "|  999.672713 |  577.66772  | 1421.6777   |\n",
       "|  899.708233 |  480.04393  | 1319.3725   |\n",
       "|  750.932175 |  331.03722  | 1170.8271   |\n",
       "|  684.390068 |  253.64378  | 1115.1364   |\n",
       "|  669.880512 |  238.60144  | 1101.1596   |\n",
       "|  667.106183 |  243.97149  | 1090.2409   |\n",
       "|  829.359756 |  406.12827  | 1252.5912   |\n",
       "|  707.662289 |  279.26830  | 1136.0563   |\n",
       "|  885.655812 |  453.62942  | 1317.6822   |\n",
       "|  972.573997 |  540.26857  | 1404.8794   |\n",
       "| 1232.175918 |  778.59596  | 1685.7559   |\n",
       "| 1072.668808 |  645.67066  | 1499.6670   |\n",
       "|  948.565562 |  526.82981  | 1370.3013   |\n",
       "|  885.342182 |  456.50831  | 1314.1761   |\n",
       "|  784.582244 |  363.15485  | 1206.0096   |\n",
       "|  719.167511 |  292.31110  | 1146.0239   |\n",
       "\n"
      ],
      "text/plain": [
       "   fit         lwr        upr      \n",
       "1   -86.739395 -523.63848  350.1597\n",
       "2   -53.967037 -484.68973  376.7557\n",
       "3     3.113432 -426.33365  432.5605\n",
       "4    76.682400 -350.79259  504.1574\n",
       "5   181.602107 -247.37894  610.5832\n",
       "6   189.032071 -240.28008  618.3442\n",
       "7   270.545309 -161.95893  703.0496\n",
       "8   209.171227 -223.82960  642.1721\n",
       "9   170.085813 -263.75619  603.9278\n",
       "10  124.783224 -306.24657  555.8130\n",
       "11   37.171866 -394.48347  468.8272\n",
       "12  215.090041 -209.44075  639.6208\n",
       "13  200.613235 -226.35118  627.5776\n",
       "14  240.390047 -186.87452  667.6546\n",
       "15  302.575009 -116.24924  721.3993\n",
       "16  350.483211  -73.92390  774.8903\n",
       "17  478.345169   56.90934  899.7810\n",
       "18  610.137711  168.95114 1051.3243\n",
       "19  645.215513  217.59307 1072.8380\n",
       "20  784.978137  349.32443 1220.6318\n",
       "21  682.204696  253.31322 1111.0962\n",
       "22  484.344905   59.17991  909.5099\n",
       "23  405.540438  -16.08741  827.1683\n",
       "24  369.278132  -52.99772  791.5540\n",
       "25  313.299335 -115.52404  742.1227\n",
       "26  391.421098  -34.08506  816.9273\n",
       "27  438.303188   20.47493  856.1315\n",
       "28  549.571233  133.55168  965.5908\n",
       "29  633.407915  214.53520 1052.2806\n",
       "30  787.690027  363.95950 1211.4206\n",
       "31  989.652615  530.79774 1448.5075\n",
       "32  842.416002  422.09572 1262.7363\n",
       "33  701.128349  275.00200 1127.2547\n",
       "34  685.755377  265.90203 1105.6087\n",
       "35  687.662408  272.16794 1103.1569\n",
       "36  542.760781  122.37458  963.1470\n",
       "37  527.190053  104.90468  949.4754\n",
       "38  504.409517   83.20692  925.6121\n",
       "39  670.834235  253.64995 1088.0185\n",
       "40  800.358013  382.86695 1217.8491\n",
       "41  764.472739  335.70629 1193.2392\n",
       "42  853.097061  427.71520 1278.4789\n",
       "43  952.023490  529.64853 1374.3984\n",
       "44 1072.425340  638.56960 1506.2811\n",
       "45  999.672713  577.66772 1421.6777\n",
       "46  899.708233  480.04393 1319.3725\n",
       "47  750.932175  331.03722 1170.8271\n",
       "48  684.390068  253.64378 1115.1364\n",
       "49  669.880512  238.60144 1101.1596\n",
       "50  667.106183  243.97149 1090.2409\n",
       "51  829.359756  406.12827 1252.5912\n",
       "52  707.662289  279.26830 1136.0563\n",
       "53  885.655812  453.62942 1317.6822\n",
       "54  972.573997  540.26857 1404.8794\n",
       "55 1232.175918  778.59596 1685.7559\n",
       "56 1072.668808  645.67066 1499.6670\n",
       "57  948.565562  526.82981 1370.3013\n",
       "58  885.342182  456.50831 1314.1761\n",
       "59  784.582244  363.15485 1206.0096\n",
       "60  719.167511  292.31110 1146.0239"
      ]
     },
     "metadata": {},
     "output_type": "display_data"
    }
   ],
   "source": [
    "predict(both2, product2, interval = 'predict')"
   ]
  },
  {
   "cell_type": "code",
   "execution_count": 89,
   "metadata": {},
   "outputs": [
    {
     "data": {
      "text/html": [
       "<table>\n",
       "<thead><tr><th scope=col>fit</th><th scope=col>lwr</th><th scope=col>upr</th></tr></thead>\n",
       "<tbody>\n",
       "\t<tr><td>1248.767 </td><td> 775.6274</td><td>1721.906 </td></tr>\n",
       "\t<tr><td>1336.323 </td><td> 864.0665</td><td>1808.579 </td></tr>\n",
       "\t<tr><td>1654.316 </td><td>1187.9719</td><td>2120.659 </td></tr>\n",
       "\t<tr><td>1950.854 </td><td>1483.7693</td><td>2417.939 </td></tr>\n",
       "\t<tr><td>2239.549 </td><td>1771.6073</td><td>2707.491 </td></tr>\n",
       "\t<tr><td>2266.859 </td><td>1795.8821</td><td>2737.836 </td></tr>\n",
       "\t<tr><td>2348.527 </td><td>1878.5774</td><td>2818.476 </td></tr>\n",
       "\t<tr><td>2448.788 </td><td>1974.7549</td><td>2922.821 </td></tr>\n",
       "\t<tr><td>2394.791 </td><td>1920.1666</td><td>2869.416 </td></tr>\n",
       "\t<tr><td>2202.124 </td><td>1733.6096</td><td>2670.639 </td></tr>\n",
       "\t<tr><td>1711.238 </td><td>1246.4636</td><td>2176.012 </td></tr>\n",
       "\t<tr><td>1406.086 </td><td> 936.4414</td><td>1875.731 </td></tr>\n",
       "\t<tr><td>1295.115 </td><td> 821.7650</td><td>1768.466 </td></tr>\n",
       "\t<tr><td>1385.546 </td><td> 914.4115</td><td>1856.681 </td></tr>\n",
       "\t<tr><td>1717.521 </td><td>1253.3323</td><td>2181.710 </td></tr>\n",
       "\t<tr><td>1783.414 </td><td>1318.3472</td><td>2248.481 </td></tr>\n",
       "\t<tr><td>2291.055 </td><td>1826.9142</td><td>2755.196 </td></tr>\n",
       "\t<tr><td>2562.904 </td><td>2091.0088</td><td>3034.799 </td></tr>\n",
       "\t<tr><td>2592.353 </td><td>2125.2826</td><td>3059.422 </td></tr>\n",
       "\t<tr><td>2635.360 </td><td>2154.9144</td><td>3115.805 </td></tr>\n",
       "\t<tr><td>2434.551 </td><td>1963.6372</td><td>2905.465 </td></tr>\n",
       "\t<tr><td>2318.223 </td><td>1852.1111</td><td>2784.336 </td></tr>\n",
       "\t<tr><td>1971.578 </td><td>1508.2787</td><td>2434.877 </td></tr>\n",
       "\t<tr><td>1646.997 </td><td>1180.5173</td><td>2113.476 </td></tr>\n",
       "\t<tr><td>1384.382 </td><td> 909.3769</td><td>1859.388 </td></tr>\n",
       "\t<tr><td>1595.411 </td><td>1127.7573</td><td>2063.065 </td></tr>\n",
       "\t<tr><td>1977.435 </td><td>1515.1363</td><td>2439.734 </td></tr>\n",
       "\t<tr><td>2247.305 </td><td>1787.5811</td><td>2707.029 </td></tr>\n",
       "\t<tr><td>2635.705 </td><td>2172.9261</td><td>3098.485 </td></tr>\n",
       "\t<tr><td>2687.968 </td><td>2218.5899</td><td>3157.346 </td></tr>\n",
       "\t<tr><td>2761.529 </td><td>2252.1396</td><td>3270.918 </td></tr>\n",
       "\t<tr><td>2949.031 </td><td>2483.8239</td><td>3414.238 </td></tr>\n",
       "\t<tr><td>2874.377 </td><td>2405.0775</td><td>3343.676 </td></tr>\n",
       "\t<tr><td>2693.461 </td><td>2229.5733</td><td>3157.349 </td></tr>\n",
       "\t<tr><td>2434.775 </td><td>1975.0257</td><td>2894.523 </td></tr>\n",
       "\t<tr><td>2062.493 </td><td>1595.8732</td><td>2529.113 </td></tr>\n",
       "\t<tr><td>1982.455 </td><td>1513.5778</td><td>2451.331 </td></tr>\n",
       "\t<tr><td>1912.795 </td><td>1447.0880</td><td>2378.502 </td></tr>\n",
       "\t<tr><td>2432.056 </td><td>1968.8514</td><td>2895.260 </td></tr>\n",
       "\t<tr><td>2665.876 </td><td>2202.2793</td><td>3129.472 </td></tr>\n",
       "\t<tr><td>3120.449 </td><td>2644.5375</td><td>3596.360 </td></tr>\n",
       "\t<tr><td>3269.783 </td><td>2797.6253</td><td>3741.941 </td></tr>\n",
       "\t<tr><td>3091.707 </td><td>2623.0853</td><td>3560.329 </td></tr>\n",
       "\t<tr><td>3345.209 </td><td>2865.1848</td><td>3825.233 </td></tr>\n",
       "\t<tr><td>3112.121 </td><td>2643.5088</td><td>3580.734 </td></tr>\n",
       "\t<tr><td>3097.869 </td><td>2631.8786</td><td>3563.859 </td></tr>\n",
       "\t<tr><td>2609.510 </td><td>2143.2636</td><td>3075.757 </td></tr>\n",
       "\t<tr><td>2281.671 </td><td>1805.0087</td><td>2758.334 </td></tr>\n",
       "\t<tr><td>2302.449 </td><td>1825.8164</td><td>2779.082 </td></tr>\n",
       "\t<tr><td>2181.534 </td><td>1711.6596</td><td>2651.408 </td></tr>\n",
       "\t<tr><td>2809.747 </td><td>2339.8684</td><td>3279.626 </td></tr>\n",
       "\t<tr><td>2875.620 </td><td>2408.6291</td><td>3342.610 </td></tr>\n",
       "\t<tr><td>3276.221 </td><td>2807.3710</td><td>3745.070 </td></tr>\n",
       "\t<tr><td>3491.374 </td><td>3011.9038</td><td>3970.843 </td></tr>\n",
       "\t<tr><td>3377.986 </td><td>2875.7576</td><td>3880.214 </td></tr>\n",
       "\t<tr><td>3581.859 </td><td>3108.5560</td><td>4055.162 </td></tr>\n",
       "\t<tr><td>3307.078 </td><td>2838.7788</td><td>3775.378 </td></tr>\n",
       "\t<tr><td>3218.171 </td><td>2742.0650</td><td>3694.277 </td></tr>\n",
       "\t<tr><td>2708.133 </td><td>2240.2499</td><td>3176.015 </td></tr>\n",
       "\t<tr><td>2463.616 </td><td>1989.8228</td><td>2937.410 </td></tr>\n",
       "</tbody>\n",
       "</table>\n"
      ],
      "text/latex": [
       "\\begin{tabular}{r|lll}\n",
       " fit & lwr & upr\\\\\n",
       "\\hline\n",
       "\t 1248.767  &  775.6274 & 1721.906 \\\\\n",
       "\t 1336.323  &  864.0665 & 1808.579 \\\\\n",
       "\t 1654.316  & 1187.9719 & 2120.659 \\\\\n",
       "\t 1950.854  & 1483.7693 & 2417.939 \\\\\n",
       "\t 2239.549  & 1771.6073 & 2707.491 \\\\\n",
       "\t 2266.859  & 1795.8821 & 2737.836 \\\\\n",
       "\t 2348.527  & 1878.5774 & 2818.476 \\\\\n",
       "\t 2448.788  & 1974.7549 & 2922.821 \\\\\n",
       "\t 2394.791  & 1920.1666 & 2869.416 \\\\\n",
       "\t 2202.124  & 1733.6096 & 2670.639 \\\\\n",
       "\t 1711.238  & 1246.4636 & 2176.012 \\\\\n",
       "\t 1406.086  &  936.4414 & 1875.731 \\\\\n",
       "\t 1295.115  &  821.7650 & 1768.466 \\\\\n",
       "\t 1385.546  &  914.4115 & 1856.681 \\\\\n",
       "\t 1717.521  & 1253.3323 & 2181.710 \\\\\n",
       "\t 1783.414  & 1318.3472 & 2248.481 \\\\\n",
       "\t 2291.055  & 1826.9142 & 2755.196 \\\\\n",
       "\t 2562.904  & 2091.0088 & 3034.799 \\\\\n",
       "\t 2592.353  & 2125.2826 & 3059.422 \\\\\n",
       "\t 2635.360  & 2154.9144 & 3115.805 \\\\\n",
       "\t 2434.551  & 1963.6372 & 2905.465 \\\\\n",
       "\t 2318.223  & 1852.1111 & 2784.336 \\\\\n",
       "\t 1971.578  & 1508.2787 & 2434.877 \\\\\n",
       "\t 1646.997  & 1180.5173 & 2113.476 \\\\\n",
       "\t 1384.382  &  909.3769 & 1859.388 \\\\\n",
       "\t 1595.411  & 1127.7573 & 2063.065 \\\\\n",
       "\t 1977.435  & 1515.1363 & 2439.734 \\\\\n",
       "\t 2247.305  & 1787.5811 & 2707.029 \\\\\n",
       "\t 2635.705  & 2172.9261 & 3098.485 \\\\\n",
       "\t 2687.968  & 2218.5899 & 3157.346 \\\\\n",
       "\t 2761.529  & 2252.1396 & 3270.918 \\\\\n",
       "\t 2949.031  & 2483.8239 & 3414.238 \\\\\n",
       "\t 2874.377  & 2405.0775 & 3343.676 \\\\\n",
       "\t 2693.461  & 2229.5733 & 3157.349 \\\\\n",
       "\t 2434.775  & 1975.0257 & 2894.523 \\\\\n",
       "\t 2062.493  & 1595.8732 & 2529.113 \\\\\n",
       "\t 1982.455  & 1513.5778 & 2451.331 \\\\\n",
       "\t 1912.795  & 1447.0880 & 2378.502 \\\\\n",
       "\t 2432.056  & 1968.8514 & 2895.260 \\\\\n",
       "\t 2665.876  & 2202.2793 & 3129.472 \\\\\n",
       "\t 3120.449  & 2644.5375 & 3596.360 \\\\\n",
       "\t 3269.783  & 2797.6253 & 3741.941 \\\\\n",
       "\t 3091.707  & 2623.0853 & 3560.329 \\\\\n",
       "\t 3345.209  & 2865.1848 & 3825.233 \\\\\n",
       "\t 3112.121  & 2643.5088 & 3580.734 \\\\\n",
       "\t 3097.869  & 2631.8786 & 3563.859 \\\\\n",
       "\t 2609.510  & 2143.2636 & 3075.757 \\\\\n",
       "\t 2281.671  & 1805.0087 & 2758.334 \\\\\n",
       "\t 2302.449  & 1825.8164 & 2779.082 \\\\\n",
       "\t 2181.534  & 1711.6596 & 2651.408 \\\\\n",
       "\t 2809.747  & 2339.8684 & 3279.626 \\\\\n",
       "\t 2875.620  & 2408.6291 & 3342.610 \\\\\n",
       "\t 3276.221  & 2807.3710 & 3745.070 \\\\\n",
       "\t 3491.374  & 3011.9038 & 3970.843 \\\\\n",
       "\t 3377.986  & 2875.7576 & 3880.214 \\\\\n",
       "\t 3581.859  & 3108.5560 & 4055.162 \\\\\n",
       "\t 3307.078  & 2838.7788 & 3775.378 \\\\\n",
       "\t 3218.171  & 2742.0650 & 3694.277 \\\\\n",
       "\t 2708.133  & 2240.2499 & 3176.015 \\\\\n",
       "\t 2463.616  & 1989.8228 & 2937.410 \\\\\n",
       "\\end{tabular}\n"
      ],
      "text/markdown": [
       "\n",
       "| fit | lwr | upr |\n",
       "|---|---|---|\n",
       "| 1248.767  |  775.6274 | 1721.906  |\n",
       "| 1336.323  |  864.0665 | 1808.579  |\n",
       "| 1654.316  | 1187.9719 | 2120.659  |\n",
       "| 1950.854  | 1483.7693 | 2417.939  |\n",
       "| 2239.549  | 1771.6073 | 2707.491  |\n",
       "| 2266.859  | 1795.8821 | 2737.836  |\n",
       "| 2348.527  | 1878.5774 | 2818.476  |\n",
       "| 2448.788  | 1974.7549 | 2922.821  |\n",
       "| 2394.791  | 1920.1666 | 2869.416  |\n",
       "| 2202.124  | 1733.6096 | 2670.639  |\n",
       "| 1711.238  | 1246.4636 | 2176.012  |\n",
       "| 1406.086  |  936.4414 | 1875.731  |\n",
       "| 1295.115  |  821.7650 | 1768.466  |\n",
       "| 1385.546  |  914.4115 | 1856.681  |\n",
       "| 1717.521  | 1253.3323 | 2181.710  |\n",
       "| 1783.414  | 1318.3472 | 2248.481  |\n",
       "| 2291.055  | 1826.9142 | 2755.196  |\n",
       "| 2562.904  | 2091.0088 | 3034.799  |\n",
       "| 2592.353  | 2125.2826 | 3059.422  |\n",
       "| 2635.360  | 2154.9144 | 3115.805  |\n",
       "| 2434.551  | 1963.6372 | 2905.465  |\n",
       "| 2318.223  | 1852.1111 | 2784.336  |\n",
       "| 1971.578  | 1508.2787 | 2434.877  |\n",
       "| 1646.997  | 1180.5173 | 2113.476  |\n",
       "| 1384.382  |  909.3769 | 1859.388  |\n",
       "| 1595.411  | 1127.7573 | 2063.065  |\n",
       "| 1977.435  | 1515.1363 | 2439.734  |\n",
       "| 2247.305  | 1787.5811 | 2707.029  |\n",
       "| 2635.705  | 2172.9261 | 3098.485  |\n",
       "| 2687.968  | 2218.5899 | 3157.346  |\n",
       "| 2761.529  | 2252.1396 | 3270.918  |\n",
       "| 2949.031  | 2483.8239 | 3414.238  |\n",
       "| 2874.377  | 2405.0775 | 3343.676  |\n",
       "| 2693.461  | 2229.5733 | 3157.349  |\n",
       "| 2434.775  | 1975.0257 | 2894.523  |\n",
       "| 2062.493  | 1595.8732 | 2529.113  |\n",
       "| 1982.455  | 1513.5778 | 2451.331  |\n",
       "| 1912.795  | 1447.0880 | 2378.502  |\n",
       "| 2432.056  | 1968.8514 | 2895.260  |\n",
       "| 2665.876  | 2202.2793 | 3129.472  |\n",
       "| 3120.449  | 2644.5375 | 3596.360  |\n",
       "| 3269.783  | 2797.6253 | 3741.941  |\n",
       "| 3091.707  | 2623.0853 | 3560.329  |\n",
       "| 3345.209  | 2865.1848 | 3825.233  |\n",
       "| 3112.121  | 2643.5088 | 3580.734  |\n",
       "| 3097.869  | 2631.8786 | 3563.859  |\n",
       "| 2609.510  | 2143.2636 | 3075.757  |\n",
       "| 2281.671  | 1805.0087 | 2758.334  |\n",
       "| 2302.449  | 1825.8164 | 2779.082  |\n",
       "| 2181.534  | 1711.6596 | 2651.408  |\n",
       "| 2809.747  | 2339.8684 | 3279.626  |\n",
       "| 2875.620  | 2408.6291 | 3342.610  |\n",
       "| 3276.221  | 2807.3710 | 3745.070  |\n",
       "| 3491.374  | 3011.9038 | 3970.843  |\n",
       "| 3377.986  | 2875.7576 | 3880.214  |\n",
       "| 3581.859  | 3108.5560 | 4055.162  |\n",
       "| 3307.078  | 2838.7788 | 3775.378  |\n",
       "| 3218.171  | 2742.0650 | 3694.277  |\n",
       "| 2708.133  | 2240.2499 | 3176.015  |\n",
       "| 2463.616  | 1989.8228 | 2937.410  |\n",
       "\n"
      ],
      "text/plain": [
       "   fit      lwr       upr     \n",
       "1  1248.767  775.6274 1721.906\n",
       "2  1336.323  864.0665 1808.579\n",
       "3  1654.316 1187.9719 2120.659\n",
       "4  1950.854 1483.7693 2417.939\n",
       "5  2239.549 1771.6073 2707.491\n",
       "6  2266.859 1795.8821 2737.836\n",
       "7  2348.527 1878.5774 2818.476\n",
       "8  2448.788 1974.7549 2922.821\n",
       "9  2394.791 1920.1666 2869.416\n",
       "10 2202.124 1733.6096 2670.639\n",
       "11 1711.238 1246.4636 2176.012\n",
       "12 1406.086  936.4414 1875.731\n",
       "13 1295.115  821.7650 1768.466\n",
       "14 1385.546  914.4115 1856.681\n",
       "15 1717.521 1253.3323 2181.710\n",
       "16 1783.414 1318.3472 2248.481\n",
       "17 2291.055 1826.9142 2755.196\n",
       "18 2562.904 2091.0088 3034.799\n",
       "19 2592.353 2125.2826 3059.422\n",
       "20 2635.360 2154.9144 3115.805\n",
       "21 2434.551 1963.6372 2905.465\n",
       "22 2318.223 1852.1111 2784.336\n",
       "23 1971.578 1508.2787 2434.877\n",
       "24 1646.997 1180.5173 2113.476\n",
       "25 1384.382  909.3769 1859.388\n",
       "26 1595.411 1127.7573 2063.065\n",
       "27 1977.435 1515.1363 2439.734\n",
       "28 2247.305 1787.5811 2707.029\n",
       "29 2635.705 2172.9261 3098.485\n",
       "30 2687.968 2218.5899 3157.346\n",
       "31 2761.529 2252.1396 3270.918\n",
       "32 2949.031 2483.8239 3414.238\n",
       "33 2874.377 2405.0775 3343.676\n",
       "34 2693.461 2229.5733 3157.349\n",
       "35 2434.775 1975.0257 2894.523\n",
       "36 2062.493 1595.8732 2529.113\n",
       "37 1982.455 1513.5778 2451.331\n",
       "38 1912.795 1447.0880 2378.502\n",
       "39 2432.056 1968.8514 2895.260\n",
       "40 2665.876 2202.2793 3129.472\n",
       "41 3120.449 2644.5375 3596.360\n",
       "42 3269.783 2797.6253 3741.941\n",
       "43 3091.707 2623.0853 3560.329\n",
       "44 3345.209 2865.1848 3825.233\n",
       "45 3112.121 2643.5088 3580.734\n",
       "46 3097.869 2631.8786 3563.859\n",
       "47 2609.510 2143.2636 3075.757\n",
       "48 2281.671 1805.0087 2758.334\n",
       "49 2302.449 1825.8164 2779.082\n",
       "50 2181.534 1711.6596 2651.408\n",
       "51 2809.747 2339.8684 3279.626\n",
       "52 2875.620 2408.6291 3342.610\n",
       "53 3276.221 2807.3710 3745.070\n",
       "54 3491.374 3011.9038 3970.843\n",
       "55 3377.986 2875.7576 3880.214\n",
       "56 3581.859 3108.5560 4055.162\n",
       "57 3307.078 2838.7788 3775.378\n",
       "58 3218.171 2742.0650 3694.277\n",
       "59 2708.133 2240.2499 3176.015\n",
       "60 2463.616 1989.8228 2937.410"
      ]
     },
     "metadata": {},
     "output_type": "display_data"
    }
   ],
   "source": [
    "predict(both3, product3, interval = 'predict')"
   ]
  },
  {
   "cell_type": "code",
   "execution_count": 47,
   "metadata": {},
   "outputs": [
    {
     "name": "stderr",
     "output_type": "stream",
     "text": [
      "Warning message:\n",
      "\"package 'forecast' was built under R version 3.6.3\"Registered S3 method overwritten by 'quantmod':\n",
      "  method            from\n",
      "  as.zoo.data.frame zoo \n"
     ]
    }
   ],
   "source": [
    "library(forecast)"
   ]
  },
  {
   "cell_type": "code",
   "execution_count": null,
   "metadata": {},
   "outputs": [],
   "source": []
  },
  {
   "cell_type": "code",
   "execution_count": 83,
   "metadata": {},
   "outputs": [],
   "source": [
    "a =meanf(product1$QTY, 30)"
   ]
  },
  {
   "cell_type": "code",
   "execution_count": 84,
   "metadata": {},
   "outputs": [
    {
     "name": "stdout",
     "output_type": "stream",
     "text": [
      "\n",
      "Forecast method: Mean\n",
      "\n",
      "Model Information:\n",
      "$mu\n",
      "[1] 2074.217\n",
      "\n",
      "$mu.se\n",
      "[1] 81.37581\n",
      "\n",
      "$sd\n",
      "[1] 630.3343\n",
      "\n",
      "$bootstrap\n",
      "[1] FALSE\n",
      "\n",
      "$call\n",
      "meanf(y = product1$QTY, h = 30)\n",
      "\n",
      "attr(,\"class\")\n",
      "[1] \"meanf\"\n",
      "\n",
      "Error measures:\n",
      "                        ME     RMSE      MAE       MPE     MAPE MASE\n",
      "Training set -3.039236e-14 625.0595 528.4572 -10.25847 29.01239    1\n",
      "\n",
      "Forecasts:\n",
      "   Point Forecast    Lo 80    Hi 80    Lo 95   Hi 95\n",
      " 1       2074.217 1250.482 2897.951 802.4532 3345.98\n",
      " 2       2074.217 1250.482 2897.951 802.4532 3345.98\n",
      " 3       2074.217 1250.482 2897.951 802.4532 3345.98\n",
      " 4       2074.217 1250.482 2897.951 802.4532 3345.98\n",
      " 5       2074.217 1250.482 2897.951 802.4532 3345.98\n",
      " 6       2074.217 1250.482 2897.951 802.4532 3345.98\n",
      " 7       2074.217 1250.482 2897.951 802.4532 3345.98\n",
      " 8       2074.217 1250.482 2897.951 802.4532 3345.98\n",
      " 9       2074.217 1250.482 2897.951 802.4532 3345.98\n",
      "10       2074.217 1250.482 2897.951 802.4532 3345.98\n",
      "11       2074.217 1250.482 2897.951 802.4532 3345.98\n",
      "12       2074.217 1250.482 2897.951 802.4532 3345.98\n",
      "13       2074.217 1250.482 2897.951 802.4532 3345.98\n",
      "14       2074.217 1250.482 2897.951 802.4532 3345.98\n",
      "15       2074.217 1250.482 2897.951 802.4532 3345.98\n",
      "16       2074.217 1250.482 2897.951 802.4532 3345.98\n",
      "17       2074.217 1250.482 2897.951 802.4532 3345.98\n",
      "18       2074.217 1250.482 2897.951 802.4532 3345.98\n",
      "19       2074.217 1250.482 2897.951 802.4532 3345.98\n",
      "20       2074.217 1250.482 2897.951 802.4532 3345.98\n",
      "21       2074.217 1250.482 2897.951 802.4532 3345.98\n",
      "22       2074.217 1250.482 2897.951 802.4532 3345.98\n",
      "23       2074.217 1250.482 2897.951 802.4532 3345.98\n",
      "24       2074.217 1250.482 2897.951 802.4532 3345.98\n",
      "25       2074.217 1250.482 2897.951 802.4532 3345.98\n",
      "26       2074.217 1250.482 2897.951 802.4532 3345.98\n",
      "27       2074.217 1250.482 2897.951 802.4532 3345.98\n",
      "28       2074.217 1250.482 2897.951 802.4532 3345.98\n",
      "29       2074.217 1250.482 2897.951 802.4532 3345.98\n",
      "30       2074.217 1250.482 2897.951 802.4532 3345.98\n"
     ]
    }
   ],
   "source": [
    "summary(a)"
   ]
  },
  {
   "cell_type": "code",
   "execution_count": 72,
   "metadata": {},
   "outputs": [
    {
     "ename": "ERROR",
     "evalue": "Error in library(autoplot): there is no package called 'autoplot'\n",
     "output_type": "error",
     "traceback": [
      "Error in library(autoplot): there is no package called 'autoplot'\nTraceback:\n",
      "1. library(autoplot)"
     ]
    }
   ],
   "source": [
    "library(autoplot)"
   ]
  },
  {
   "cell_type": "code",
   "execution_count": 80,
   "metadata": {},
   "outputs": [
    {
     "ename": "ERROR",
     "evalue": "Error: Objects of type integer not supported by autoplot.\n",
     "output_type": "error",
     "traceback": [
      "Error: Objects of type integer not supported by autoplot.\nTraceback:\n",
      "1. autoplot(product1$QTY, product1$X)",
      "2. autoplot.default(product1$QTY, product1$X)",
      "3. abort(glue(\"Objects of type \", glue_collapse(class(object), \"/\"), \n .     \" not supported by autoplot.\"))",
      "4. signal_abort(cnd)"
     ]
    }
   ],
   "source": [
    "autoplot(product1$QTY, product1$X)"
   ]
  },
  {
   "cell_type": "code",
   "execution_count": null,
   "metadata": {},
   "outputs": [],
   "source": []
  }
 ],
 "metadata": {
  "kernelspec": {
   "display_name": "R",
   "language": "R",
   "name": "ir"
  },
  "language_info": {
   "codemirror_mode": "r",
   "file_extension": ".r",
   "mimetype": "text/x-r-source",
   "name": "R",
   "pygments_lexer": "r",
   "version": "3.6.1"
  }
 },
 "nbformat": 4,
 "nbformat_minor": 4
}
