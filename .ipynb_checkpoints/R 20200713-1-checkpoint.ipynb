{
 "cells": [
  {
   "cell_type": "code",
   "execution_count": 5,
   "metadata": {},
   "outputs": [
    {
     "name": "stderr",
     "output_type": "stream",
     "text": [
      "Warning message:\n",
      "\"package 'rpart' was built under R version 3.6.3\""
     ]
    }
   ],
   "source": [
    "library(nnet)\n",
    "library(rpart)"
   ]
  },
  {
   "cell_type": "code",
   "execution_count": 72,
   "metadata": {},
   "outputs": [
    {
     "name": "stderr",
     "output_type": "stream",
     "text": [
      "Warning message:\n",
      "\"package 'caret' was built under R version 3.6.3\"Loading required package: lattice\n",
      "Warning message:\n",
      "\"package 'lattice' was built under R version 3.6.3\"Loading required package: ggplot2\n",
      "Warning message:\n",
      "\"package 'ggplot2' was built under R version 3.6.3\""
     ]
    }
   ],
   "source": [
    "library(caret)"
   ]
  },
  {
   "cell_type": "code",
   "execution_count": 7,
   "metadata": {},
   "outputs": [],
   "source": [
    "data(iris)"
   ]
  },
  {
   "cell_type": "code",
   "execution_count": 10,
   "metadata": {},
   "outputs": [],
   "source": [
    "samp = c(sample(1:50,25), sample(51:100,25), sample(101:150,25))"
   ]
  },
  {
   "cell_type": "code",
   "execution_count": 12,
   "metadata": {},
   "outputs": [],
   "source": [
    "iris.tr = iris[samp,]\n",
    "iris.te = iris[-samp,]"
   ]
  },
  {
   "cell_type": "code",
   "execution_count": 14,
   "metadata": {},
   "outputs": [
    {
     "name": "stdout",
     "output_type": "stream",
     "text": [
      "# weights:  18 (10 variable)\n",
      "initial  value 82.395922 \n",
      "iter  10 value 11.276717\n",
      "iter  20 value 4.206440\n",
      "iter  30 value 3.997466\n",
      "iter  40 value 3.659400\n",
      "iter  50 value 3.466015\n",
      "iter  60 value 3.394436\n",
      "iter  70 value 3.033652\n",
      "iter  80 value 3.026376\n",
      "iter  90 value 3.018791\n",
      "iter 100 value 3.014369\n",
      "final  value 3.014369 \n",
      "stopped after 100 iterations\n"
     ]
    }
   ],
   "source": [
    "lout = multinom(Species~., data=iris.tr)\n",
    "pred = predict(lout, iris.te, type='class')"
   ]
  },
  {
   "cell_type": "code",
   "execution_count": 15,
   "metadata": {},
   "outputs": [
    {
     "data": {
      "text/plain": [
       "            \n",
       "pred         setosa versicolor virginica\n",
       "  setosa         25          0         0\n",
       "  versicolor      0         24         2\n",
       "  virginica       0          1        23"
      ]
     },
     "metadata": {},
     "output_type": "display_data"
    }
   ],
   "source": [
    "table(pred, iris.te$Species)"
   ]
  },
  {
   "cell_type": "code",
   "execution_count": null,
   "metadata": {},
   "outputs": [],
   "source": []
  },
  {
   "cell_type": "code",
   "execution_count": null,
   "metadata": {},
   "outputs": [],
   "source": [
    "rpart.result = rpart(Species~., data=iris.train)"
   ]
  },
  {
   "cell_type": "markdown",
   "metadata": {},
   "source": [
    "### ANN MODEL Method"
   ]
  },
  {
   "cell_type": "code",
   "execution_count": 87,
   "metadata": {},
   "outputs": [
    {
     "name": "stderr",
     "output_type": "stream",
     "text": [
      "Warning message:\n",
      "\"package 'e1071' was built under R version 3.6.3\""
     ]
    }
   ],
   "source": [
    "library(nnet)\n",
    "library(e1071)"
   ]
  },
  {
   "cell_type": "code",
   "execution_count": 86,
   "metadata": {},
   "outputs": [
    {
     "name": "stdout",
     "output_type": "stream",
     "text": [
      "package 'e1071' successfully unpacked and MD5 sums checked\n",
      "\n",
      "The downloaded binary packages are in\n",
      "\tC:\\Users\\15\\AppData\\Local\\Temp\\RtmpWq7bdN\\downloaded_packages\n"
     ]
    }
   ],
   "source": [
    "install.packages('e1071')"
   ]
  },
  {
   "cell_type": "code",
   "execution_count": 51,
   "metadata": {},
   "outputs": [],
   "source": [
    "data(iris)\n",
    "s = sample(150, 100)\n",
    "iris_train = iris[s,]\n",
    "iris_test = iris[-s,]"
   ]
  },
  {
   "cell_type": "code",
   "execution_count": 52,
   "metadata": {},
   "outputs": [
    {
     "data": {
      "text/html": [
       "<table>\n",
       "<thead><tr><th></th><th scope=col>Sepal.Length</th><th scope=col>Sepal.Width</th><th scope=col>Petal.Length</th><th scope=col>Petal.Width</th><th scope=col>Species</th></tr></thead>\n",
       "<tbody>\n",
       "\t<tr><th scope=row>113</th><td>6.8      </td><td>3.0      </td><td>5.5      </td><td>2.1      </td><td>virginica</td></tr>\n",
       "\t<tr><th scope=row>120</th><td>6.0      </td><td>2.2      </td><td>5.0      </td><td>1.5      </td><td>virginica</td></tr>\n",
       "\t<tr><th scope=row>4</th><td>4.6      </td><td>3.1      </td><td>1.5      </td><td>0.2      </td><td>setosa   </td></tr>\n",
       "\t<tr><th scope=row>36</th><td>5.0      </td><td>3.2      </td><td>1.2      </td><td>0.2      </td><td>setosa   </td></tr>\n",
       "\t<tr><th scope=row>107</th><td>4.9      </td><td>2.5      </td><td>4.5      </td><td>1.7      </td><td>virginica</td></tr>\n",
       "\t<tr><th scope=row>108</th><td>7.3      </td><td>2.9      </td><td>6.3      </td><td>1.8      </td><td>virginica</td></tr>\n",
       "</tbody>\n",
       "</table>\n"
      ],
      "text/latex": [
       "\\begin{tabular}{r|lllll}\n",
       "  & Sepal.Length & Sepal.Width & Petal.Length & Petal.Width & Species\\\\\n",
       "\\hline\n",
       "\t113 & 6.8       & 3.0       & 5.5       & 2.1       & virginica\\\\\n",
       "\t120 & 6.0       & 2.2       & 5.0       & 1.5       & virginica\\\\\n",
       "\t4 & 4.6       & 3.1       & 1.5       & 0.2       & setosa   \\\\\n",
       "\t36 & 5.0       & 3.2       & 1.2       & 0.2       & setosa   \\\\\n",
       "\t107 & 4.9       & 2.5       & 4.5       & 1.7       & virginica\\\\\n",
       "\t108 & 7.3       & 2.9       & 6.3       & 1.8       & virginica\\\\\n",
       "\\end{tabular}\n"
      ],
      "text/markdown": [
       "\n",
       "| <!--/--> | Sepal.Length | Sepal.Width | Petal.Length | Petal.Width | Species |\n",
       "|---|---|---|---|---|---|\n",
       "| 113 | 6.8       | 3.0       | 5.5       | 2.1       | virginica |\n",
       "| 120 | 6.0       | 2.2       | 5.0       | 1.5       | virginica |\n",
       "| 4 | 4.6       | 3.1       | 1.5       | 0.2       | setosa    |\n",
       "| 36 | 5.0       | 3.2       | 1.2       | 0.2       | setosa    |\n",
       "| 107 | 4.9       | 2.5       | 4.5       | 1.7       | virginica |\n",
       "| 108 | 7.3       | 2.9       | 6.3       | 1.8       | virginica |\n",
       "\n"
      ],
      "text/plain": [
       "    Sepal.Length Sepal.Width Petal.Length Petal.Width Species  \n",
       "113 6.8          3.0         5.5          2.1         virginica\n",
       "120 6.0          2.2         5.0          1.5         virginica\n",
       "4   4.6          3.1         1.5          0.2         setosa   \n",
       "36  5.0          3.2         1.2          0.2         setosa   \n",
       "107 4.9          2.5         4.5          1.7         virginica\n",
       "108 7.3          2.9         6.3          1.8         virginica"
      ]
     },
     "metadata": {},
     "output_type": "display_data"
    }
   ],
   "source": [
    "head(iris_train)"
   ]
  },
  {
   "cell_type": "code",
   "execution_count": 53,
   "metadata": {},
   "outputs": [],
   "source": [
    "iris_train_scale = as.data.frame(sapply(iris_train[, -5], scale))"
   ]
  },
  {
   "cell_type": "code",
   "execution_count": 54,
   "metadata": {},
   "outputs": [],
   "source": [
    "iris_test_scale = as.data.frame(sapply(iris_test[,- 5], scale))"
   ]
  },
  {
   "cell_type": "code",
   "execution_count": 55,
   "metadata": {},
   "outputs": [
    {
     "data": {
      "text/html": [
       "<table>\n",
       "<thead><tr><th scope=col>Sepal.Length</th><th scope=col>Sepal.Width</th><th scope=col>Petal.Length</th><th scope=col>Petal.Width</th></tr></thead>\n",
       "<tbody>\n",
       "\t<tr><td> 1.2226251</td><td>-0.1060936</td><td> 0.9925466</td><td> 1.1590717</td></tr>\n",
       "\t<tr><td> 0.2376300</td><td>-1.9119418</td><td> 0.7091238</td><td> 0.3785520</td></tr>\n",
       "\t<tr><td>-1.4861112</td><td> 0.1196374</td><td>-1.2748357</td><td>-1.3125739</td></tr>\n",
       "\t<tr><td>-0.9936137</td><td> 0.3453685</td><td>-1.4448894</td><td>-1.3125739</td></tr>\n",
       "\t<tr><td>-1.1167381</td><td>-1.2347487</td><td> 0.4257010</td><td> 0.6387253</td></tr>\n",
       "\t<tr><td> 1.8382470</td><td>-0.3318246</td><td> 1.4460231</td><td> 0.7688119</td></tr>\n",
       "</tbody>\n",
       "</table>\n"
      ],
      "text/latex": [
       "\\begin{tabular}{r|llll}\n",
       " Sepal.Length & Sepal.Width & Petal.Length & Petal.Width\\\\\n",
       "\\hline\n",
       "\t  1.2226251 & -0.1060936 &  0.9925466 &  1.1590717\\\\\n",
       "\t  0.2376300 & -1.9119418 &  0.7091238 &  0.3785520\\\\\n",
       "\t -1.4861112 &  0.1196374 & -1.2748357 & -1.3125739\\\\\n",
       "\t -0.9936137 &  0.3453685 & -1.4448894 & -1.3125739\\\\\n",
       "\t -1.1167381 & -1.2347487 &  0.4257010 &  0.6387253\\\\\n",
       "\t  1.8382470 & -0.3318246 &  1.4460231 &  0.7688119\\\\\n",
       "\\end{tabular}\n"
      ],
      "text/markdown": [
       "\n",
       "| Sepal.Length | Sepal.Width | Petal.Length | Petal.Width |\n",
       "|---|---|---|---|\n",
       "|  1.2226251 | -0.1060936 |  0.9925466 |  1.1590717 |\n",
       "|  0.2376300 | -1.9119418 |  0.7091238 |  0.3785520 |\n",
       "| -1.4861112 |  0.1196374 | -1.2748357 | -1.3125739 |\n",
       "| -0.9936137 |  0.3453685 | -1.4448894 | -1.3125739 |\n",
       "| -1.1167381 | -1.2347487 |  0.4257010 |  0.6387253 |\n",
       "|  1.8382470 | -0.3318246 |  1.4460231 |  0.7688119 |\n",
       "\n"
      ],
      "text/plain": [
       "  Sepal.Length Sepal.Width Petal.Length Petal.Width\n",
       "1  1.2226251   -0.1060936   0.9925466    1.1590717 \n",
       "2  0.2376300   -1.9119418   0.7091238    0.3785520 \n",
       "3 -1.4861112    0.1196374  -1.2748357   -1.3125739 \n",
       "4 -0.9936137    0.3453685  -1.4448894   -1.3125739 \n",
       "5 -1.1167381   -1.2347487   0.4257010    0.6387253 \n",
       "6  1.8382470   -0.3318246   1.4460231    0.7688119 "
      ]
     },
     "metadata": {},
     "output_type": "display_data"
    }
   ],
   "source": [
    "head(iris_train_scale)"
   ]
  },
  {
   "cell_type": "code",
   "execution_count": 56,
   "metadata": {},
   "outputs": [],
   "source": [
    "iris_train_scale$Species = iris_train$Species"
   ]
  },
  {
   "cell_type": "code",
   "execution_count": 57,
   "metadata": {},
   "outputs": [],
   "source": [
    "iris_test_scale$Species = iris_test$Species"
   ]
  },
  {
   "cell_type": "code",
   "execution_count": 62,
   "metadata": {},
   "outputs": [
    {
     "data": {
      "text/html": [
       "<table>\n",
       "<thead><tr><th scope=col>Sepal.Length</th><th scope=col>Sepal.Width</th><th scope=col>Petal.Length</th><th scope=col>Petal.Width</th><th scope=col>Species</th></tr></thead>\n",
       "<tbody>\n",
       "\t<tr><td> 1.2226251</td><td>-0.1060936</td><td> 0.9925466</td><td> 1.1590717</td><td>virginica </td></tr>\n",
       "\t<tr><td> 0.2376300</td><td>-1.9119418</td><td> 0.7091238</td><td> 0.3785520</td><td>virginica </td></tr>\n",
       "\t<tr><td>-1.4861112</td><td> 0.1196374</td><td>-1.2748357</td><td>-1.3125739</td><td>setosa    </td></tr>\n",
       "\t<tr><td>-0.9936137</td><td> 0.3453685</td><td>-1.4448894</td><td>-1.3125739</td><td>setosa    </td></tr>\n",
       "\t<tr><td>-1.1167381</td><td>-1.2347487</td><td> 0.4257010</td><td> 0.6387253</td><td>virginica </td></tr>\n",
       "\t<tr><td> 1.8382470</td><td>-0.3318246</td><td> 1.4460231</td><td> 0.7688119</td><td>virginica </td></tr>\n",
       "</tbody>\n",
       "</table>\n"
      ],
      "text/latex": [
       "\\begin{tabular}{r|lllll}\n",
       " Sepal.Length & Sepal.Width & Petal.Length & Petal.Width & Species\\\\\n",
       "\\hline\n",
       "\t  1.2226251 & -0.1060936 &  0.9925466 &  1.1590717 & virginica \\\\\n",
       "\t  0.2376300 & -1.9119418 &  0.7091238 &  0.3785520 & virginica \\\\\n",
       "\t -1.4861112 &  0.1196374 & -1.2748357 & -1.3125739 & setosa    \\\\\n",
       "\t -0.9936137 &  0.3453685 & -1.4448894 & -1.3125739 & setosa    \\\\\n",
       "\t -1.1167381 & -1.2347487 &  0.4257010 &  0.6387253 & virginica \\\\\n",
       "\t  1.8382470 & -0.3318246 &  1.4460231 &  0.7688119 & virginica \\\\\n",
       "\\end{tabular}\n"
      ],
      "text/markdown": [
       "\n",
       "| Sepal.Length | Sepal.Width | Petal.Length | Petal.Width | Species |\n",
       "|---|---|---|---|---|\n",
       "|  1.2226251 | -0.1060936 |  0.9925466 |  1.1590717 | virginica  |\n",
       "|  0.2376300 | -1.9119418 |  0.7091238 |  0.3785520 | virginica  |\n",
       "| -1.4861112 |  0.1196374 | -1.2748357 | -1.3125739 | setosa     |\n",
       "| -0.9936137 |  0.3453685 | -1.4448894 | -1.3125739 | setosa     |\n",
       "| -1.1167381 | -1.2347487 |  0.4257010 |  0.6387253 | virginica  |\n",
       "|  1.8382470 | -0.3318246 |  1.4460231 |  0.7688119 | virginica  |\n",
       "\n"
      ],
      "text/plain": [
       "  Sepal.Length Sepal.Width Petal.Length Petal.Width Species  \n",
       "1  1.2226251   -0.1060936   0.9925466    1.1590717  virginica\n",
       "2  0.2376300   -1.9119418   0.7091238    0.3785520  virginica\n",
       "3 -1.4861112    0.1196374  -1.2748357   -1.3125739  setosa   \n",
       "4 -0.9936137    0.3453685  -1.4448894   -1.3125739  setosa   \n",
       "5 -1.1167381   -1.2347487   0.4257010    0.6387253  virginica\n",
       "6  1.8382470   -0.3318246   1.4460231    0.7688119  virginica"
      ]
     },
     "metadata": {},
     "output_type": "display_data"
    }
   ],
   "source": [
    "head(iris_train_scale)"
   ]
  },
  {
   "cell_type": "code",
   "execution_count": 63,
   "metadata": {},
   "outputs": [
    {
     "data": {
      "text/html": [
       "<table>\n",
       "<thead><tr><th scope=col>Sepal.Length</th><th scope=col>Sepal.Width</th><th scope=col>Petal.Length</th><th scope=col>Petal.Width</th><th scope=col>Species</th></tr></thead>\n",
       "<tbody>\n",
       "\t<tr><td>-1.1777159 </td><td>-0.18357946</td><td>-1.330810  </td><td>-1.295493  </td><td>setosa     </td></tr>\n",
       "\t<tr><td>-1.4095497 </td><td> 0.28713710</td><td>-1.386821  </td><td>-1.295493  </td><td>setosa     </td></tr>\n",
       "\t<tr><td>-1.7573005 </td><td>-0.41893774</td><td>-1.330810  </td><td>-1.295493  </td><td>setosa     </td></tr>\n",
       "\t<tr><td>-1.1777159 </td><td> 0.05177882</td><td>-1.274800  </td><td>-1.427686  </td><td>setosa     </td></tr>\n",
       "\t<tr><td>-0.5981313 </td><td> 1.46392850</td><td>-1.274800  </td><td>-1.295493  </td><td>setosa     </td></tr>\n",
       "\t<tr><td>-1.2936328 </td><td> 0.75785366</td><td>-1.218789  </td><td>-1.295493  </td><td>setosa     </td></tr>\n",
       "</tbody>\n",
       "</table>\n"
      ],
      "text/latex": [
       "\\begin{tabular}{r|lllll}\n",
       " Sepal.Length & Sepal.Width & Petal.Length & Petal.Width & Species\\\\\n",
       "\\hline\n",
       "\t -1.1777159  & -0.18357946 & -1.330810   & -1.295493   & setosa     \\\\\n",
       "\t -1.4095497  &  0.28713710 & -1.386821   & -1.295493   & setosa     \\\\\n",
       "\t -1.7573005  & -0.41893774 & -1.330810   & -1.295493   & setosa     \\\\\n",
       "\t -1.1777159  &  0.05177882 & -1.274800   & -1.427686   & setosa     \\\\\n",
       "\t -0.5981313  &  1.46392850 & -1.274800   & -1.295493   & setosa     \\\\\n",
       "\t -1.2936328  &  0.75785366 & -1.218789   & -1.295493   & setosa     \\\\\n",
       "\\end{tabular}\n"
      ],
      "text/markdown": [
       "\n",
       "| Sepal.Length | Sepal.Width | Petal.Length | Petal.Width | Species |\n",
       "|---|---|---|---|---|\n",
       "| -1.1777159  | -0.18357946 | -1.330810   | -1.295493   | setosa      |\n",
       "| -1.4095497  |  0.28713710 | -1.386821   | -1.295493   | setosa      |\n",
       "| -1.7573005  | -0.41893774 | -1.330810   | -1.295493   | setosa      |\n",
       "| -1.1777159  |  0.05177882 | -1.274800   | -1.427686   | setosa      |\n",
       "| -0.5981313  |  1.46392850 | -1.274800   | -1.295493   | setosa      |\n",
       "| -1.2936328  |  0.75785366 | -1.218789   | -1.295493   | setosa      |\n",
       "\n"
      ],
      "text/plain": [
       "  Sepal.Length Sepal.Width Petal.Length Petal.Width Species\n",
       "1 -1.1777159   -0.18357946 -1.330810    -1.295493   setosa \n",
       "2 -1.4095497    0.28713710 -1.386821    -1.295493   setosa \n",
       "3 -1.7573005   -0.41893774 -1.330810    -1.295493   setosa \n",
       "4 -1.1777159    0.05177882 -1.274800    -1.427686   setosa \n",
       "5 -0.5981313    1.46392850 -1.274800    -1.295493   setosa \n",
       "6 -1.2936328    0.75785366 -1.218789    -1.295493   setosa "
      ]
     },
     "metadata": {},
     "output_type": "display_data"
    }
   ],
   "source": [
    "head(iris_test_scale)"
   ]
  },
  {
   "cell_type": "code",
   "execution_count": 64,
   "metadata": {},
   "outputs": [
    {
     "name": "stdout",
     "output_type": "stream",
     "text": [
      "# weights:  27\n",
      "initial  value 111.772524 \n",
      "iter  10 value 6.251600\n",
      "iter  20 value 0.252562\n",
      "iter  30 value 0.003322\n",
      "iter  40 value 0.000132\n",
      "final  value 0.000065 \n",
      "converged\n"
     ]
    }
   ],
   "source": [
    "# Size = 3 -> hidden layout\n",
    "nnet.result=nnet(Species~., iris_train_scale, size=3)"
   ]
  },
  {
   "cell_type": "code",
   "execution_count": 81,
   "metadata": {},
   "outputs": [],
   "source": [
    "nnet.pred = predict(nnet.result, iris_test_scale, type='class')"
   ]
  },
  {
   "cell_type": "code",
   "execution_count": 82,
   "metadata": {},
   "outputs": [
    {
     "data": {
      "text/plain": [
       "            \n",
       "nnet.pred    setosa versicolor virginica\n",
       "  setosa         17          0         0\n",
       "  versicolor      0         18         0\n",
       "  virginica       0          1        14"
      ]
     },
     "metadata": {},
     "output_type": "display_data"
    }
   ],
   "source": [
    "table(nnet.pred, iris_test$Species)"
   ]
  },
  {
   "cell_type": "code",
   "execution_count": 88,
   "metadata": {},
   "outputs": [
    {
     "data": {
      "text/plain": [
       "Confusion Matrix and Statistics\n",
       "\n",
       "            Reference\n",
       "Prediction   setosa versicolor virginica\n",
       "  setosa         17          0         0\n",
       "  versicolor      0         18         0\n",
       "  virginica       0          1        14\n",
       "\n",
       "Overall Statistics\n",
       "                                          \n",
       "               Accuracy : 0.98            \n",
       "                 95% CI : (0.8935, 0.9995)\n",
       "    No Information Rate : 0.38            \n",
       "    P-Value [Acc > NIR] : < 2.2e-16       \n",
       "                                          \n",
       "                  Kappa : 0.9699          \n",
       "                                          \n",
       " Mcnemar's Test P-Value : NA              \n",
       "\n",
       "Statistics by Class:\n",
       "\n",
       "                     Class: setosa Class: versicolor Class: virginica\n",
       "Sensitivity                   1.00            0.9474           1.0000\n",
       "Specificity                   1.00            1.0000           0.9722\n",
       "Pos Pred Value                1.00            1.0000           0.9333\n",
       "Neg Pred Value                1.00            0.9688           1.0000\n",
       "Prevalence                    0.34            0.3800           0.2800\n",
       "Detection Rate                0.34            0.3600           0.2800\n",
       "Detection Prevalence          0.34            0.3600           0.3000\n",
       "Balanced Accuracy             1.00            0.9737           0.9861"
      ]
     },
     "metadata": {},
     "output_type": "display_data"
    }
   ],
   "source": [
    "confusionMatrix(as.factor(nnet.pred), as.factor(iris_test$Species))"
   ]
  },
  {
   "cell_type": "markdown",
   "metadata": {},
   "source": [
    "### SVM"
   ]
  },
  {
   "cell_type": "code",
   "execution_count": 89,
   "metadata": {},
   "outputs": [
    {
     "name": "stdout",
     "output_type": "stream",
     "text": [
      "package 'kernlab' successfully unpacked and MD5 sums checked\n",
      "\n",
      "The downloaded binary packages are in\n",
      "\tC:\\Users\\15\\AppData\\Local\\Temp\\RtmpWq7bdN\\downloaded_packages\n"
     ]
    }
   ],
   "source": [
    "install.packages('kernlab')"
   ]
  },
  {
   "cell_type": "code",
   "execution_count": 90,
   "metadata": {},
   "outputs": [
    {
     "name": "stderr",
     "output_type": "stream",
     "text": [
      "\n",
      "Attaching package: 'kernlab'\n",
      "\n",
      "The following object is masked from 'package:ggplot2':\n",
      "\n",
      "    alpha\n",
      "\n"
     ]
    }
   ],
   "source": [
    "library(kernlab)"
   ]
  },
  {
   "cell_type": "code",
   "execution_count": 93,
   "metadata": {},
   "outputs": [],
   "source": [
    "svm.result=ksvm(Species~., data=iris_train, kernel='rbfdot')"
   ]
  },
  {
   "cell_type": "code",
   "execution_count": 95,
   "metadata": {},
   "outputs": [],
   "source": [
    "svm.pred = predict(svm.result, iris_test, type = 'response')"
   ]
  },
  {
   "cell_type": "code",
   "execution_count": 98,
   "metadata": {},
   "outputs": [
    {
     "data": {
      "text/plain": [
       "            \n",
       "svm.pred     setosa versicolor virginica\n",
       "  setosa         17          0         0\n",
       "  versicolor      0         18         0\n",
       "  virginica       0          1        14"
      ]
     },
     "metadata": {},
     "output_type": "display_data"
    }
   ],
   "source": [
    "table(svm.pred, iris_test$Species)"
   ]
  },
  {
   "cell_type": "code",
   "execution_count": 99,
   "metadata": {},
   "outputs": [
    {
     "data": {
      "text/plain": [
       "Confusion Matrix and Statistics\n",
       "\n",
       "            Reference\n",
       "Prediction   setosa versicolor virginica\n",
       "  setosa         17          0         0\n",
       "  versicolor      0         18         0\n",
       "  virginica       0          1        14\n",
       "\n",
       "Overall Statistics\n",
       "                                          \n",
       "               Accuracy : 0.98            \n",
       "                 95% CI : (0.8935, 0.9995)\n",
       "    No Information Rate : 0.38            \n",
       "    P-Value [Acc > NIR] : < 2.2e-16       \n",
       "                                          \n",
       "                  Kappa : 0.9699          \n",
       "                                          \n",
       " Mcnemar's Test P-Value : NA              \n",
       "\n",
       "Statistics by Class:\n",
       "\n",
       "                     Class: setosa Class: versicolor Class: virginica\n",
       "Sensitivity                   1.00            0.9474           1.0000\n",
       "Specificity                   1.00            1.0000           0.9722\n",
       "Pos Pred Value                1.00            1.0000           0.9333\n",
       "Neg Pred Value                1.00            0.9688           1.0000\n",
       "Prevalence                    0.34            0.3800           0.2800\n",
       "Detection Rate                0.34            0.3600           0.2800\n",
       "Detection Prevalence          0.34            0.3600           0.3000\n",
       "Balanced Accuracy             1.00            0.9737           0.9861"
      ]
     },
     "metadata": {},
     "output_type": "display_data"
    }
   ],
   "source": [
    "confusionMatrix(as.factor(svm.pred), as.factor(iris_test$Species))"
   ]
  },
  {
   "cell_type": "code",
   "execution_count": 100,
   "metadata": {},
   "outputs": [
    {
     "data": {
      "text/plain": [
       "Confusion Matrix and Statistics\n",
       "\n",
       "            Reference\n",
       "Prediction   setosa versicolor virginica\n",
       "  setosa         17          0         0\n",
       "  versicolor      0         18         0\n",
       "  virginica       0          1        14\n",
       "\n",
       "Overall Statistics\n",
       "                                          \n",
       "               Accuracy : 0.98            \n",
       "                 95% CI : (0.8935, 0.9995)\n",
       "    No Information Rate : 0.38            \n",
       "    P-Value [Acc > NIR] : < 2.2e-16       \n",
       "                                          \n",
       "                  Kappa : 0.9699          \n",
       "                                          \n",
       " Mcnemar's Test P-Value : NA              \n",
       "\n",
       "Statistics by Class:\n",
       "\n",
       "                     Class: setosa Class: versicolor Class: virginica\n",
       "Sensitivity                   1.00            0.9474           1.0000\n",
       "Specificity                   1.00            1.0000           0.9722\n",
       "Pos Pred Value                1.00            1.0000           0.9333\n",
       "Neg Pred Value                1.00            0.9688           1.0000\n",
       "Prevalence                    0.34            0.3800           0.2800\n",
       "Detection Rate                0.34            0.3600           0.2800\n",
       "Detection Prevalence          0.34            0.3600           0.3000\n",
       "Balanced Accuracy             1.00            0.9737           0.9861"
      ]
     },
     "metadata": {},
     "output_type": "display_data"
    }
   ],
   "source": [
    "confusionMatrix(svm.pred, iris_test$Species)"
   ]
  },
  {
   "cell_type": "markdown",
   "metadata": {},
   "source": [
    "### Random Forest"
   ]
  },
  {
   "cell_type": "code",
   "execution_count": 102,
   "metadata": {},
   "outputs": [
    {
     "name": "stdout",
     "output_type": "stream",
     "text": [
      "package 'randomForest' successfully unpacked and MD5 sums checked\n",
      "\n",
      "The downloaded binary packages are in\n",
      "\tC:\\Users\\15\\AppData\\Local\\Temp\\RtmpWq7bdN\\downloaded_packages\n"
     ]
    }
   ],
   "source": [
    "install.packages('randomForest')"
   ]
  },
  {
   "cell_type": "code",
   "execution_count": 103,
   "metadata": {},
   "outputs": [
    {
     "name": "stderr",
     "output_type": "stream",
     "text": [
      "Warning message:\n",
      "\"package 'randomForest' was built under R version 3.6.3\"randomForest 4.6-14\n",
      "Type rfNews() to see new features/changes/bug fixes.\n",
      "\n",
      "Attaching package: 'randomForest'\n",
      "\n",
      "The following object is masked from 'package:ggplot2':\n",
      "\n",
      "    margin\n",
      "\n"
     ]
    }
   ],
   "source": [
    "library(randomForest)"
   ]
  },
  {
   "cell_type": "code",
   "execution_count": 107,
   "metadata": {},
   "outputs": [],
   "source": [
    "rf.result = randomForest(Species~., data=iris_train, ntree=500)"
   ]
  },
  {
   "cell_type": "code",
   "execution_count": 111,
   "metadata": {},
   "outputs": [],
   "source": [
    "rf.pred = predict(rf.result, iris_test, type = 'response')"
   ]
  },
  {
   "cell_type": "code",
   "execution_count": 113,
   "metadata": {},
   "outputs": [
    {
     "data": {
      "text/plain": [
       "            \n",
       "rf.pred      setosa versicolor virginica\n",
       "  setosa         17          0         0\n",
       "  versicolor      0         18         0\n",
       "  virginica       0          1        14"
      ]
     },
     "metadata": {},
     "output_type": "display_data"
    }
   ],
   "source": [
    "table(rf.pred, iris_test$Species)"
   ]
  },
  {
   "cell_type": "code",
   "execution_count": 117,
   "metadata": {},
   "outputs": [
    {
     "data": {
      "text/plain": [
       "Confusion Matrix and Statistics\n",
       "\n",
       "            Reference\n",
       "Prediction   setosa versicolor virginica\n",
       "  setosa         17          0         0\n",
       "  versicolor      0         18         0\n",
       "  virginica       0          1        14\n",
       "\n",
       "Overall Statistics\n",
       "                                          \n",
       "               Accuracy : 0.98            \n",
       "                 95% CI : (0.8935, 0.9995)\n",
       "    No Information Rate : 0.38            \n",
       "    P-Value [Acc > NIR] : < 2.2e-16       \n",
       "                                          \n",
       "                  Kappa : 0.9699          \n",
       "                                          \n",
       " Mcnemar's Test P-Value : NA              \n",
       "\n",
       "Statistics by Class:\n",
       "\n",
       "                     Class: setosa Class: versicolor Class: virginica\n",
       "Sensitivity                   1.00            0.9474           1.0000\n",
       "Specificity                   1.00            1.0000           0.9722\n",
       "Pos Pred Value                1.00            1.0000           0.9333\n",
       "Neg Pred Value                1.00            0.9688           1.0000\n",
       "Prevalence                    0.34            0.3800           0.2800\n",
       "Detection Rate                0.34            0.3600           0.2800\n",
       "Detection Prevalence          0.34            0.3600           0.3000\n",
       "Balanced Accuracy             1.00            0.9737           0.9861"
      ]
     },
     "metadata": {},
     "output_type": "display_data"
    }
   ],
   "source": [
    "confusionMatrix(rf.pred, iris_test$Species)\n"
   ]
  },
  {
   "cell_type": "code",
   "execution_count": 119,
   "metadata": {},
   "outputs": [
    {
     "data": {
      "text/html": [
       "<h3>Data sets</h3>\n",
       "<table>\n",
       "<thead><tr><th scope=col>Package</th><th scope=col>Item</th><th scope=col>Title</th></tr></thead>\n",
       "<tbody>\n",
       "\t<tr><td>MASS                                                          </td><td>Aids2                                                         </td><td>Australian AIDS Survival Data                                 </td></tr>\n",
       "\t<tr><td>MASS                                                          </td><td>Animals                                                       </td><td>Brain and Body Weights for 28 Species                         </td></tr>\n",
       "\t<tr><td>MASS                                                          </td><td>Boston                                                        </td><td>Housing Values in Suburbs of Boston                           </td></tr>\n",
       "\t<tr><td>MASS                                                          </td><td>Cars93                                                        </td><td>Data from 93 Cars on Sale in the USA in 1993                  </td></tr>\n",
       "\t<tr><td>MASS                                                          </td><td>Cushings                                                      </td><td>Diagnostic Tests on Patients with Cushing's Syndrome          </td></tr>\n",
       "\t<tr><td>MASS                                                          </td><td>DDT                                                           </td><td>DDT in Kale                                                   </td></tr>\n",
       "\t<tr><td>MASS                                                          </td><td>GAGurine                                                      </td><td>Level of GAG in Urine of Children                             </td></tr>\n",
       "\t<tr><td>MASS                                                          </td><td>Insurance                                                     </td><td>Numbers of Car Insurance claims                               </td></tr>\n",
       "\t<tr><td>MASS                                                          </td><td>Melanoma                                                      </td><td>Survival from Malignant Melanoma                              </td></tr>\n",
       "\t<tr><td>MASS                                                          </td><td>OME                                                           </td><td>Tests of Auditory Perception in Children with OME             </td></tr>\n",
       "\t<tr><td>MASS                                                          </td><td>Pima.te                                                       </td><td>Diabetes in Pima Indian Women                                 </td></tr>\n",
       "\t<tr><td>MASS                                                          </td><td>Pima.tr                                                       </td><td>Diabetes in Pima Indian Women                                 </td></tr>\n",
       "\t<tr><td>MASS                                                          </td><td>Pima.tr2                                                      </td><td>Diabetes in Pima Indian Women                                 </td></tr>\n",
       "\t<tr><td>MASS                                                          </td><td>Rabbit                                                        </td><td>Blood Pressure in Rabbits                                     </td></tr>\n",
       "\t<tr><td>MASS                                                          </td><td>Rubber                                                        </td><td>Accelerated Testing of Tyre Rubber                            </td></tr>\n",
       "\t<tr><td>MASS                                                          </td><td>SP500                                                         </td><td>Returns of the Standard and Poors 500                         </td></tr>\n",
       "\t<tr><td>MASS                                                          </td><td>Sitka                                                         </td><td>Growth Curves for Sitka Spruce Trees in 1988                  </td></tr>\n",
       "\t<tr><td>MASS                                                          </td><td>Sitka89                                                       </td><td>Growth Curves for Sitka Spruce Trees in 1989                  </td></tr>\n",
       "\t<tr><td>MASS                                                          </td><td>Skye                                                          </td><td>AFM Compositions of Aphyric Skye Lavas                        </td></tr>\n",
       "\t<tr><td>MASS                                                          </td><td>Traffic                                                       </td><td>Effect of Swedish Speed Limits on Accidents                   </td></tr>\n",
       "\t<tr><td>MASS                                                          </td><td>UScereal                                                      </td><td>Nutritional and Marketing Information on US Cereals           </td></tr>\n",
       "\t<tr><td>MASS                                                          </td><td>UScrime                                                       </td><td>The Effect of Punishment Regimes on Crime Rates               </td></tr>\n",
       "\t<tr><td>MASS                                                          </td><td>VA                                                            </td><td>Veteran's Administration Lung Cancer Trial                    </td></tr>\n",
       "\t<tr><td>MASS                                                          </td><td>abbey                                                         </td><td>Determinations of Nickel Content                              </td></tr>\n",
       "\t<tr><td>MASS                                                          </td><td>accdeaths                                                     </td><td>Accidental Deaths in the US 1973-1978                         </td></tr>\n",
       "\t<tr><td>MASS                                                          </td><td>anorexia                                                      </td><td>Anorexia Data on Weight Change                                </td></tr>\n",
       "\t<tr><td>MASS                                                          </td><td>bacteria                                                      </td><td>Presence of Bacteria after Drug Treatments                    </td></tr>\n",
       "\t<tr><td>MASS                                                          </td><td>beav1                                                         </td><td>Body Temperature Series of Beaver 1                           </td></tr>\n",
       "\t<tr><td>MASS                                                          </td><td>beav2                                                         </td><td>Body Temperature Series of Beaver 2                           </td></tr>\n",
       "\t<tr><td>MASS                                                          </td><td>biopsy                                                        </td><td>Biopsy Data on Breast Cancer Patients                         </td></tr>\n",
       "\t<tr><td>MASS                                                          </td><td>birthwt                                                       </td><td>Risk Factors Associated with Low Infant Birth Weight          </td></tr>\n",
       "\t<tr><td>MASS                                                          </td><td>cabbages                                                      </td><td>Data from a cabbage field trial                               </td></tr>\n",
       "\t<tr><td>MASS                                                          </td><td>caith                                                         </td><td>Colours of Eyes and Hair of People in Caithness               </td></tr>\n",
       "\t<tr><td>MASS                                                          </td><td>cats                                                          </td><td>Anatomical Data from Domestic Cats                            </td></tr>\n",
       "\t<tr><td>MASS                                                          </td><td>cement                                                        </td><td>Heat Evolved by Setting Cements                               </td></tr>\n",
       "\t<tr><td>MASS                                                          </td><td>chem                                                          </td><td>Copper in Wholemeal Flour                                     </td></tr>\n",
       "\t<tr><td>MASS                                                          </td><td>coop                                                          </td><td>Co-operative Trial in Analytical Chemistry                    </td></tr>\n",
       "\t<tr><td>MASS                                                          </td><td>cpus                                                          </td><td>Performance of Computer CPUs                                  </td></tr>\n",
       "\t<tr><td>MASS                                                          </td><td>crabs                                                         </td><td>Morphological Measurements on Leptograpsus Crabs              </td></tr>\n",
       "\t<tr><td>MASS                                                          </td><td>deaths                                                        </td><td>Monthly Deaths from Lung Diseases in the UK                   </td></tr>\n",
       "\t<tr><td>MASS                                                          </td><td>drivers                                                       </td><td>Deaths of Car Drivers in Great Britain 1969-84                </td></tr>\n",
       "\t<tr><td>MASS                                                          </td><td>eagles                                                        </td><td>Foraging Ecology of Bald Eagles                               </td></tr>\n",
       "\t<tr><td>MASS                                                          </td><td>epil                                                          </td><td>Seizure Counts for Epileptics                                 </td></tr>\n",
       "\t<tr><td>MASS                                                          </td><td>farms                                                         </td><td>Ecological Factors in Farm Management                         </td></tr>\n",
       "\t<tr><td>MASS                                                          </td><td>fgl                                                           </td><td>Measurements of Forensic Glass Fragments                      </td></tr>\n",
       "\t<tr><td>MASS                                                          </td><td>forbes                                                        </td><td>Forbes' Data on Boiling Points in the Alps                    </td></tr>\n",
       "\t<tr><td>MASS                                                          </td><td>galaxies                                                      </td><td>Velocities for 82 Galaxies                                    </td></tr>\n",
       "\t<tr><td>MASS                                                          </td><td>gehan                                                         </td><td>Remission Times of Leukaemia Patients                         </td></tr>\n",
       "\t<tr><td>MASS                                                          </td><td>genotype                                                      </td><td>Rat Genotype Data                                             </td></tr>\n",
       "\t<tr><td>MASS                                                          </td><td>geyser                                                        </td><td>Old Faithful Geyser Data                                      </td></tr>\n",
       "\t<tr><td>MASS                                                          </td><td>gilgais                                                       </td><td>Line Transect of Soil in Gilgai Territory                     </td></tr>\n",
       "\t<tr><td>MASS                                                          </td><td>hills                                                         </td><td>Record Times in Scottish Hill Races                           </td></tr>\n",
       "\t<tr><td>MASS                                                          </td><td>housing                                                       </td><td>Frequency Table from a Copenhagen Housing Conditions Survey   </td></tr>\n",
       "\t<tr><td>MASS                                                          </td><td>immer                                                         </td><td>Yields from a Barley Field Trial                              </td></tr>\n",
       "\t<tr><td>MASS                                                          </td><td>leuk                                                          </td><td>Survival Times and White Blood Counts for Leukaemia Patients  </td></tr>\n",
       "\t<tr><td>MASS                                                          </td><td>mammals                                                       </td><td>Brain and Body Weights for 62 Species of Land Mammals         </td></tr>\n",
       "\t<tr><td>MASS                                                          </td><td>mcycle                                                        </td><td>Data from a Simulated Motorcycle Accident                     </td></tr>\n",
       "\t<tr><td>MASS                                                          </td><td>menarche                                                      </td><td>Age of Menarche in Warsaw                                     </td></tr>\n",
       "\t<tr><td>MASS                                                          </td><td>michelson                                                     </td><td>Michelson's Speed of Light Data                               </td></tr>\n",
       "\t<tr><td>MASS                                                          </td><td>minn38                                                        </td><td>Minnesota High School Graduates of 1938                       </td></tr>\n",
       "\t<tr><td>MASS                                                          </td><td>motors                                                        </td><td>Accelerated Life Testing of Motorettes                        </td></tr>\n",
       "\t<tr><td>MASS                                                          </td><td>muscle                                                        </td><td>Effect of Calcium Chloride on Muscle Contraction in Rat Hearts</td></tr>\n",
       "\t<tr><td>MASS                                                          </td><td>newcomb                                                       </td><td>Newcomb's Measurements of the Passage Time of Light           </td></tr>\n",
       "\t<tr><td>MASS                                                          </td><td>nlschools                                                     </td><td>Eighth-Grade Pupils in the Netherlands                        </td></tr>\n",
       "\t<tr><td>MASS                                                          </td><td>npk                                                           </td><td>Classical N, P, K Factorial Experiment                        </td></tr>\n",
       "\t<tr><td>MASS                                                          </td><td>npr1                                                          </td><td>US Naval Petroleum Reserve No. 1 data                         </td></tr>\n",
       "\t<tr><td>MASS                                                          </td><td>oats                                                          </td><td>Data from an Oats Field Trial                                 </td></tr>\n",
       "\t<tr><td>MASS                                                          </td><td>painters                                                      </td><td>The Painter's Data of de Piles                                </td></tr>\n",
       "\t<tr><td>MASS                                                          </td><td>petrol                                                        </td><td>N. L. Prater's Petrol Refinery Data                           </td></tr>\n",
       "\t<tr><td>MASS                                                          </td><td>phones                                                        </td><td>Belgium Phone Calls 1950-1973                                 </td></tr>\n",
       "\t<tr><td>MASS                                                          </td><td>quine                                                         </td><td>Absenteeism from School in Rural New South Wales              </td></tr>\n",
       "\t<tr><td>MASS                                                          </td><td>road                                                          </td><td>Road Accident Deaths in US States                             </td></tr>\n",
       "\t<tr><td>MASS                                                          </td><td>rotifer                                                       </td><td>Numbers of Rotifers by Fluid Density                          </td></tr>\n",
       "\t<tr><td>MASS                                                          </td><td>ships                                                         </td><td>Ships Damage Data                                             </td></tr>\n",
       "\t<tr><td>MASS                                                          </td><td>shoes                                                         </td><td>Shoe wear data of Box, Hunter and Hunter                      </td></tr>\n",
       "\t<tr><td>MASS                                                          </td><td>shrimp                                                        </td><td>Percentage of Shrimp in Shrimp Cocktail                       </td></tr>\n",
       "\t<tr><td>MASS                                                          </td><td>shuttle                                                       </td><td>Space Shuttle Autolander Problem                              </td></tr>\n",
       "\t<tr><td>MASS                                                          </td><td>snails                                                        </td><td>Snail Mortality Data                                          </td></tr>\n",
       "\t<tr><td>MASS                                                          </td><td>steam                                                         </td><td>The Saturated Steam Pressure Data                             </td></tr>\n",
       "\t<tr><td>MASS                                                          </td><td>stormer                                                       </td><td>The Stormer Viscometer Data                                   </td></tr>\n",
       "\t<tr><td>MASS                                                          </td><td>survey                                                        </td><td>Student Survey Data                                           </td></tr>\n",
       "\t<tr><td>MASS                                                          </td><td>synth.te                                                      </td><td>Synthetic Classification Problem                              </td></tr>\n",
       "\t<tr><td>MASS                                                          </td><td>synth.tr                                                      </td><td>Synthetic Classification Problem                              </td></tr>\n",
       "\t<tr><td>MASS                                                          </td><td>topo                                                          </td><td>Spatial Topographic Data                                      </td></tr>\n",
       "\t<tr><td>MASS                                                          </td><td>waders                                                        </td><td>Counts of Waders at 15 Sites in South Africa                  </td></tr>\n",
       "\t<tr><td>MASS                                                          </td><td>whiteside                                                     </td><td>House Insulation: Whiteside's Data                            </td></tr>\n",
       "\t<tr><td>MASS                                                          </td><td>wtloss                                                        </td><td>Weight Loss Data from an Obese Patient                        </td></tr>\n",
       "</tbody>\n",
       "</table>\n",
       "\n"
      ],
      "text/plain": [
       "Data sets in package 'MASS':\n",
       "\n",
       "Aids2                   Australian AIDS Survival Data\n",
       "Animals                 Brain and Body Weights for 28 Species\n",
       "Boston                  Housing Values in Suburbs of Boston\n",
       "Cars93                  Data from 93 Cars on Sale in the USA in 1993\n",
       "Cushings                Diagnostic Tests on Patients with Cushing's\n",
       "                        Syndrome\n",
       "DDT                     DDT in Kale\n",
       "GAGurine                Level of GAG in Urine of Children\n",
       "Insurance               Numbers of Car Insurance claims\n",
       "Melanoma                Survival from Malignant Melanoma\n",
       "OME                     Tests of Auditory Perception in Children with\n",
       "                        OME\n",
       "Pima.te                 Diabetes in Pima Indian Women\n",
       "Pima.tr                 Diabetes in Pima Indian Women\n",
       "Pima.tr2                Diabetes in Pima Indian Women\n",
       "Rabbit                  Blood Pressure in Rabbits\n",
       "Rubber                  Accelerated Testing of Tyre Rubber\n",
       "SP500                   Returns of the Standard and Poors 500\n",
       "Sitka                   Growth Curves for Sitka Spruce Trees in 1988\n",
       "Sitka89                 Growth Curves for Sitka Spruce Trees in 1989\n",
       "Skye                    AFM Compositions of Aphyric Skye Lavas\n",
       "Traffic                 Effect of Swedish Speed Limits on Accidents\n",
       "UScereal                Nutritional and Marketing Information on US\n",
       "                        Cereals\n",
       "UScrime                 The Effect of Punishment Regimes on Crime Rates\n",
       "VA                      Veteran's Administration Lung Cancer Trial\n",
       "abbey                   Determinations of Nickel Content\n",
       "accdeaths               Accidental Deaths in the US 1973-1978\n",
       "anorexia                Anorexia Data on Weight Change\n",
       "bacteria                Presence of Bacteria after Drug Treatments\n",
       "beav1                   Body Temperature Series of Beaver 1\n",
       "beav2                   Body Temperature Series of Beaver 2\n",
       "biopsy                  Biopsy Data on Breast Cancer Patients\n",
       "birthwt                 Risk Factors Associated with Low Infant Birth\n",
       "                        Weight\n",
       "cabbages                Data from a cabbage field trial\n",
       "caith                   Colours of Eyes and Hair of People in Caithness\n",
       "cats                    Anatomical Data from Domestic Cats\n",
       "cement                  Heat Evolved by Setting Cements\n",
       "chem                    Copper in Wholemeal Flour\n",
       "coop                    Co-operative Trial in Analytical Chemistry\n",
       "cpus                    Performance of Computer CPUs\n",
       "crabs                   Morphological Measurements on Leptograpsus\n",
       "                        Crabs\n",
       "deaths                  Monthly Deaths from Lung Diseases in the UK\n",
       "drivers                 Deaths of Car Drivers in Great Britain 1969-84\n",
       "eagles                  Foraging Ecology of Bald Eagles\n",
       "epil                    Seizure Counts for Epileptics\n",
       "farms                   Ecological Factors in Farm Management\n",
       "fgl                     Measurements of Forensic Glass Fragments\n",
       "forbes                  Forbes' Data on Boiling Points in the Alps\n",
       "galaxies                Velocities for 82 Galaxies\n",
       "gehan                   Remission Times of Leukaemia Patients\n",
       "genotype                Rat Genotype Data\n",
       "geyser                  Old Faithful Geyser Data\n",
       "gilgais                 Line Transect of Soil in Gilgai Territory\n",
       "hills                   Record Times in Scottish Hill Races\n",
       "housing                 Frequency Table from a Copenhagen Housing\n",
       "                        Conditions Survey\n",
       "immer                   Yields from a Barley Field Trial\n",
       "leuk                    Survival Times and White Blood Counts for\n",
       "                        Leukaemia Patients\n",
       "mammals                 Brain and Body Weights for 62 Species of Land\n",
       "                        Mammals\n",
       "mcycle                  Data from a Simulated Motorcycle Accident\n",
       "menarche                Age of Menarche in Warsaw\n",
       "michelson               Michelson's Speed of Light Data\n",
       "minn38                  Minnesota High School Graduates of 1938\n",
       "motors                  Accelerated Life Testing of Motorettes\n",
       "muscle                  Effect of Calcium Chloride on Muscle\n",
       "                        Contraction in Rat Hearts\n",
       "newcomb                 Newcomb's Measurements of the Passage Time of\n",
       "                        Light\n",
       "nlschools               Eighth-Grade Pupils in the Netherlands\n",
       "npk                     Classical N, P, K Factorial Experiment\n",
       "npr1                    US Naval Petroleum Reserve No. 1 data\n",
       "oats                    Data from an Oats Field Trial\n",
       "painters                The Painter's Data of de Piles\n",
       "petrol                  N. L. Prater's Petrol Refinery Data\n",
       "phones                  Belgium Phone Calls 1950-1973\n",
       "quine                   Absenteeism from School in Rural New South\n",
       "                        Wales\n",
       "road                    Road Accident Deaths in US States\n",
       "rotifer                 Numbers of Rotifers by Fluid Density\n",
       "ships                   Ships Damage Data\n",
       "shoes                   Shoe wear data of Box, Hunter and Hunter\n",
       "shrimp                  Percentage of Shrimp in Shrimp Cocktail\n",
       "shuttle                 Space Shuttle Autolander Problem\n",
       "snails                  Snail Mortality Data\n",
       "steam                   The Saturated Steam Pressure Data\n",
       "stormer                 The Stormer Viscometer Data\n",
       "survey                  Student Survey Data\n",
       "synth.te                Synthetic Classification Problem\n",
       "synth.tr                Synthetic Classification Problem\n",
       "topo                    Spatial Topographic Data\n",
       "waders                  Counts of Waders at 15 Sites in South Africa\n",
       "whiteside               House Insulation: Whiteside's Data\n",
       "wtloss                  Weight Loss Data from an Obese Patient"
      ]
     },
     "metadata": {},
     "output_type": "display_data"
    }
   ],
   "source": [
    "data(package = 'MASS')"
   ]
  },
  {
   "cell_type": "code",
   "execution_count": 120,
   "metadata": {},
   "outputs": [],
   "source": [
    "boston = as.data.frame(MASS::Boston)"
   ]
  },
  {
   "cell_type": "code",
   "execution_count": 122,
   "metadata": {},
   "outputs": [
    {
     "data": {
      "text/html": [
       "<ol class=list-inline>\n",
       "\t<li>'crim'</li>\n",
       "\t<li>'zn'</li>\n",
       "\t<li>'indus'</li>\n",
       "\t<li>'chas'</li>\n",
       "\t<li>'nox'</li>\n",
       "\t<li>'rm'</li>\n",
       "\t<li>'age'</li>\n",
       "\t<li>'dis'</li>\n",
       "\t<li>'rad'</li>\n",
       "\t<li>'tax'</li>\n",
       "\t<li>'ptratio'</li>\n",
       "\t<li>'black'</li>\n",
       "\t<li>'lstat'</li>\n",
       "\t<li>'medv'</li>\n",
       "</ol>\n"
      ],
      "text/latex": [
       "\\begin{enumerate*}\n",
       "\\item 'crim'\n",
       "\\item 'zn'\n",
       "\\item 'indus'\n",
       "\\item 'chas'\n",
       "\\item 'nox'\n",
       "\\item 'rm'\n",
       "\\item 'age'\n",
       "\\item 'dis'\n",
       "\\item 'rad'\n",
       "\\item 'tax'\n",
       "\\item 'ptratio'\n",
       "\\item 'black'\n",
       "\\item 'lstat'\n",
       "\\item 'medv'\n",
       "\\end{enumerate*}\n"
      ],
      "text/markdown": [
       "1. 'crim'\n",
       "2. 'zn'\n",
       "3. 'indus'\n",
       "4. 'chas'\n",
       "5. 'nox'\n",
       "6. 'rm'\n",
       "7. 'age'\n",
       "8. 'dis'\n",
       "9. 'rad'\n",
       "10. 'tax'\n",
       "11. 'ptratio'\n",
       "12. 'black'\n",
       "13. 'lstat'\n",
       "14. 'medv'\n",
       "\n",
       "\n"
      ],
      "text/plain": [
       " [1] \"crim\"    \"zn\"      \"indus\"   \"chas\"    \"nox\"     \"rm\"      \"age\"    \n",
       " [8] \"dis\"     \"rad\"     \"tax\"     \"ptratio\" \"black\"   \"lstat\"   \"medv\"   "
      ]
     },
     "metadata": {},
     "output_type": "display_data"
    }
   ],
   "source": [
    "names(boston)"
   ]
  },
  {
   "cell_type": "code",
   "execution_count": 124,
   "metadata": {},
   "outputs": [
    {
     "data": {
      "text/html": [
       "506"
      ],
      "text/latex": [
       "506"
      ],
      "text/markdown": [
       "506"
      ],
      "text/plain": [
       "[1] 506"
      ]
     },
     "metadata": {},
     "output_type": "display_data"
    }
   ],
   "source": [
    "nrow(boston)"
   ]
  },
  {
   "cell_type": "code",
   "execution_count": 125,
   "metadata": {},
   "outputs": [],
   "source": [
    "idx=sample(1:nrow(boston), size=nrow(boston)*0.7, replace = F)"
   ]
  },
  {
   "cell_type": "code",
   "execution_count": 129,
   "metadata": {},
   "outputs": [],
   "source": [
    "boston_train = boston[idx, ]\n",
    "boston_test = boston[-idx,]"
   ]
  },
  {
   "cell_type": "code",
   "execution_count": 131,
   "metadata": {},
   "outputs": [],
   "source": [
    "lm.fit  = lm(medv~., data=boston_train)"
   ]
  },
  {
   "cell_type": "code",
   "execution_count": 132,
   "metadata": {},
   "outputs": [
    {
     "data": {
      "text/plain": [
       "\n",
       "Call:\n",
       "lm(formula = medv ~ ., data = boston_train)\n",
       "\n",
       "Residuals:\n",
       "     Min       1Q   Median       3Q      Max \n",
       "-15.3402  -2.6981  -0.5727   1.6862  26.8290 \n",
       "\n",
       "Coefficients:\n",
       "              Estimate Std. Error t value Pr(>|t|)    \n",
       "(Intercept)  35.465540   6.173577   5.745 2.05e-08 ***\n",
       "crim         -0.114492   0.036070  -3.174 0.001640 ** \n",
       "zn            0.047072   0.017307   2.720 0.006867 ** \n",
       "indus        -0.006878   0.074839  -0.092 0.926832    \n",
       "chas          2.474197   0.951771   2.600 0.009741 ** \n",
       "nox         -17.492426   4.512961  -3.876 0.000127 ***\n",
       "rm            3.922853   0.516818   7.590 3.10e-13 ***\n",
       "age          -0.005261   0.016102  -0.327 0.744077    \n",
       "dis          -1.476480   0.234688  -6.291 9.69e-10 ***\n",
       "rad           0.289585   0.081922   3.535 0.000464 ***\n",
       "tax          -0.011162   0.004619  -2.416 0.016205 *  \n",
       "ptratio      -0.946837   0.154066  -6.146 2.23e-09 ***\n",
       "black         0.009830   0.003154   3.116 0.001987 ** \n",
       "lstat        -0.508002   0.063184  -8.040 1.50e-14 ***\n",
       "---\n",
       "Signif. codes:  0 '***' 0.001 '**' 0.01 '*' 0.05 '.' 0.1 ' ' 1\n",
       "\n",
       "Residual standard error: 4.79 on 340 degrees of freedom\n",
       "Multiple R-squared:  0.739,\tAdjusted R-squared:  0.729 \n",
       "F-statistic: 74.05 on 13 and 340 DF,  p-value: < 2.2e-16\n"
      ]
     },
     "metadata": {},
     "output_type": "display_data"
    }
   ],
   "source": [
    "summary(lm.fit)"
   ]
  },
  {
   "cell_type": "code",
   "execution_count": 134,
   "metadata": {},
   "outputs": [
    {
     "name": "stdout",
     "output_type": "stream",
     "text": [
      "Start:  AIC=1122.8\n",
      "medv ~ crim + zn + indus + chas + nox + rm + age + dis + rad + \n",
      "    tax + ptratio + black + lstat\n",
      "\n",
      "          Df Sum of Sq    RSS    AIC\n",
      "- indus    1      0.19 7800.7 1120.8\n",
      "- age      1      2.45 7803.0 1120.9\n",
      "<none>                 7800.5 1122.8\n",
      "- tax      1    133.95 7934.5 1126.8\n",
      "- chas     1    155.04 7955.6 1127.8\n",
      "- zn       1    169.72 7970.2 1128.4\n",
      "- black    1    222.81 8023.3 1130.8\n",
      "- crim     1    231.15 8031.7 1131.1\n",
      "- rad      1    286.68 8087.2 1133.6\n",
      "- nox      1    344.68 8145.2 1136.1\n",
      "- ptratio  1    866.53 8667.0 1158.1\n",
      "- dis      1    908.07 8708.6 1159.8\n",
      "- rm       1   1321.82 9122.3 1176.2\n",
      "- lstat    1   1483.07 9283.6 1182.4\n",
      "\n",
      "Step:  AIC=1120.81\n",
      "medv ~ crim + zn + chas + nox + rm + age + dis + rad + tax + \n",
      "    ptratio + black + lstat\n",
      "\n",
      "          Df Sum of Sq    RSS    AIC\n",
      "- age      1      2.48 7803.2 1118.9\n",
      "<none>                 7800.7 1120.8\n",
      "- chas     1    155.24 7955.9 1125.8\n",
      "- tax      1    165.76 7966.5 1126.2\n",
      "- zn       1    173.98 7974.7 1126.6\n",
      "- black    1    223.17 8023.9 1128.8\n",
      "- crim     1    231.08 8031.8 1129.1\n",
      "- rad      1    305.21 8105.9 1132.4\n",
      "- nox      1    371.04 8171.7 1135.3\n",
      "- ptratio  1    872.72 8673.4 1156.3\n",
      "- dis      1    935.36 8736.1 1158.9\n",
      "- rm       1   1340.25 9141.0 1174.9\n",
      "- lstat    1   1506.94 9307.6 1181.3\n",
      "\n",
      "Step:  AIC=1118.92\n",
      "medv ~ crim + zn + chas + nox + rm + dis + rad + tax + ptratio + \n",
      "    black + lstat\n",
      "\n",
      "          Df Sum of Sq    RSS    AIC\n",
      "<none>                 7803.2 1118.9\n",
      "- chas     1    154.12 7957.3 1123.8\n",
      "- tax      1    166.01 7969.2 1124.4\n",
      "- zn       1    184.46 7987.6 1125.2\n",
      "- black    1    221.20 8024.4 1126.8\n",
      "- crim     1    231.07 8034.2 1127.2\n",
      "- rad      1    309.97 8113.2 1130.7\n",
      "- nox      1    426.97 8230.2 1135.8\n",
      "- ptratio  1    892.46 8695.6 1155.2\n",
      "- dis      1    986.29 8789.5 1159.0\n",
      "- rm       1   1374.08 9177.3 1174.3\n",
      "- lstat    1   1720.24 9523.4 1187.4\n"
     ]
    },
    {
     "data": {
      "text/plain": [
       "\n",
       "Call:\n",
       "lm(formula = medv ~ crim + zn + chas + nox + rm + dis + rad + \n",
       "    tax + ptratio + black + lstat, data = boston_train)\n",
       "\n",
       "Residuals:\n",
       "     Min       1Q   Median       3Q      Max \n",
       "-15.2721  -2.6896  -0.5741   1.7249  26.6319 \n",
       "\n",
       "Coefficients:\n",
       "              Estimate Std. Error t value Pr(>|t|)    \n",
       "(Intercept)  35.669914   6.127452   5.821 1.34e-08 ***\n",
       "crim         -0.114316   0.035922  -3.182 0.001595 ** \n",
       "zn            0.048123   0.016925   2.843 0.004732 ** \n",
       "chas          2.456575   0.945193   2.599 0.009754 ** \n",
       "nox         -18.021413   4.165921  -4.326 2.00e-05 ***\n",
       "rm            3.893408   0.501704   7.760 9.88e-14 ***\n",
       "dis          -1.451194   0.220722  -6.575 1.82e-10 ***\n",
       "rad           0.292935   0.079475   3.686 0.000265 ***\n",
       "tax          -0.011343   0.004205  -2.697 0.007335 ** \n",
       "ptratio      -0.953162   0.152403  -6.254 1.19e-09 ***\n",
       "black         0.009776   0.003140   3.114 0.002004 ** \n",
       "lstat        -0.515234   0.059338  -8.683  < 2e-16 ***\n",
       "---\n",
       "Signif. codes:  0 '***' 0.001 '**' 0.01 '*' 0.05 '.' 0.1 ' ' 1\n",
       "\n",
       "Residual standard error: 4.777 on 342 degrees of freedom\n",
       "Multiple R-squared:  0.7389,\tAdjusted R-squared:  0.7305 \n",
       "F-statistic: 87.99 on 11 and 342 DF,  p-value: < 2.2e-16\n"
      ]
     },
     "metadata": {},
     "output_type": "display_data"
    }
   ],
   "source": [
    "lm.fit2 = step(lm.fit, metod= 'both')\n",
    "summary(lm.fit2)"
   ]
  },
  {
   "cell_type": "code",
   "execution_count": 135,
   "metadata": {},
   "outputs": [],
   "source": [
    "lm.yhat2 = predict(lm.fit2, newdata=boston_test)"
   ]
  },
  {
   "cell_type": "code",
   "execution_count": 137,
   "metadata": {},
   "outputs": [
    {
     "data": {
      "text/html": [
       "4.66503252274218"
      ],
      "text/latex": [
       "4.66503252274218"
      ],
      "text/markdown": [
       "4.66503252274218"
      ],
      "text/plain": [
       "[1] 4.665033"
      ]
     },
     "metadata": {},
     "output_type": "display_data"
    }
   ],
   "source": [
    "kk = mean((lm.yhat2 - boston_test$medv)^2)\n",
    "sqrt(kk)"
   ]
  },
  {
   "cell_type": "code",
   "execution_count": 139,
   "metadata": {},
   "outputs": [
    {
     "data": {
      "image/png": "[encoded data removed]",
      "text/plain": [
       "plot without title"
      ]
     },
     "metadata": {},
     "output_type": "display_data"
    }
   ],
   "source": [
    "plot(lm.yhat2, boston_test$medv)\n",
    "abline(a=0,b=1,col=2)"
   ]
  },
  {
   "cell_type": "markdown",
   "metadata": {},
   "source": [
    "### 수치해석에서의 다중분석"
   ]
  },
  {
   "cell_type": "code",
   "execution_count": 140,
   "metadata": {},
   "outputs": [
    {
     "name": "stdout",
     "output_type": "stream",
     "text": [
      "package 'tree' successfully unpacked and MD5 sums checked\n",
      "\n",
      "The downloaded binary packages are in\n",
      "\tC:\\Users\\15\\AppData\\Local\\Temp\\RtmpWq7bdN\\downloaded_packages\n"
     ]
    }
   ],
   "source": [
    "install.packages('tree')"
   ]
  },
  {
   "cell_type": "code",
   "execution_count": 141,
   "metadata": {},
   "outputs": [
    {
     "name": "stderr",
     "output_type": "stream",
     "text": [
      "Warning message:\n",
      "\"package 'tree' was built under R version 3.6.3\""
     ]
    }
   ],
   "source": [
    "library(tree)"
   ]
  },
  {
   "cell_type": "code",
   "execution_count": 143,
   "metadata": {},
   "outputs": [],
   "source": [
    "tree.fit = tree(medv~., data=boston_train)"
   ]
  },
  {
   "cell_type": "code",
   "execution_count": 144,
   "metadata": {},
   "outputs": [
    {
     "data": {
      "text/plain": [
       "\n",
       "Regression tree:\n",
       "tree(formula = medv ~ ., data = boston_train)\n",
       "Variables actually used in tree construction:\n",
       "[1] \"lstat\"   \"rm\"      \"ptratio\" \"crim\"   \n",
       "Number of terminal nodes:  8 \n",
       "Residual mean deviance:  18.73 = 6480 / 346 \n",
       "Distribution of residuals:\n",
       "    Min.  1st Qu.   Median     Mean  3rd Qu.     Max. \n",
       "-15.1300  -2.3470  -0.4391   0.0000   2.0480  29.0400 "
      ]
     },
     "metadata": {},
     "output_type": "display_data"
    }
   ],
   "source": [
    "summary(tree.fit)"
   ]
  },
  {
   "cell_type": "code",
   "execution_count": 147,
   "metadata": {},
   "outputs": [
    {
     "data": {
      "image/png": "[encoded data removed]",
      "text/plain": [
       "plot without title"
      ]
     },
     "metadata": {},
     "output_type": "display_data"
    }
   ],
   "source": [
    "plot(tree.fit)\n",
    "text(tree.fit, pretty=0)"
   ]
  },
  {
   "cell_type": "code",
   "execution_count": 148,
   "metadata": {},
   "outputs": [],
   "source": [
    "tree_yhat = predict(tree.fit, newdata=boston_test)"
   ]
  },
  {
   "cell_type": "code",
   "execution_count": 154,
   "metadata": {},
   "outputs": [],
   "source": [
    "kk = mean((tree_yhat - boston_test$medv)^2)"
   ]
  },
  {
   "cell_type": "code",
   "execution_count": 155,
   "metadata": {},
   "outputs": [
    {
     "data": {
      "text/html": [
       "4.2845724487724"
      ],
      "text/latex": [
       "4.2845724487724"
      ],
      "text/markdown": [
       "4.2845724487724"
      ],
      "text/plain": [
       "[1] 4.284572"
      ]
     },
     "metadata": {},
     "output_type": "display_data"
    }
   ],
   "source": [
    "sqrt(kk)"
   ]
  },
  {
   "cell_type": "markdown",
   "metadata": {},
   "source": [
    "### rpart"
   ]
  },
  {
   "cell_type": "code",
   "execution_count": 156,
   "metadata": {},
   "outputs": [],
   "source": [
    "library(rpart)"
   ]
  },
  {
   "cell_type": "code",
   "execution_count": 158,
   "metadata": {},
   "outputs": [
    {
     "name": "stdout",
     "output_type": "stream",
     "text": [
      "Call:\n",
      "rpart(formula = medv ~ ., data = boston_train)\n",
      "  n= 354 \n",
      "\n",
      "          CP nsplit rel error    xerror       xstd\n",
      "1 0.45823179      0 1.0000000 1.0095012 0.09847678\n",
      "2 0.12754358      1 0.5417682 0.5985154 0.06278363\n",
      "3 0.09991458      2 0.4142246 0.4771941 0.05723325\n",
      "4 0.03429563      3 0.3143101 0.3592445 0.05039513\n",
      "5 0.02784487      4 0.2800144 0.3380502 0.04927473\n",
      "6 0.02002356      5 0.2521696 0.3074847 0.05134615\n",
      "7 0.01000000      6 0.2321460 0.2926387 0.05105573\n",
      "\n",
      "Variable importance\n",
      "  lstat      rm   indus     nox     age      zn    crim     dis ptratio     tax \n",
      "     31      20      12       9       9       8       4       3       2       1 \n",
      "    rad \n",
      "      1 \n",
      "\n",
      "Node number 1: 354 observations,    complexity param=0.4582318\n",
      "  mean=22.53107, MSE=84.42768 \n",
      "  left son=2 (254 obs) right son=3 (100 obs)\n",
      "  Primary splits:\n",
      "      lstat   < 7.665    to the right, improve=0.4582318, (0 missing)\n",
      "      rm      < 6.797    to the left,  improve=0.4386913, (0 missing)\n",
      "      indus   < 6.66     to the right, improve=0.2803459, (0 missing)\n",
      "      nox     < 0.6695   to the right, improve=0.2387034, (0 missing)\n",
      "      ptratio < 19.65    to the right, improve=0.2303678, (0 missing)\n",
      "  Surrogate splits:\n",
      "      rm    < 6.547    to the left,  agree=0.842, adj=0.44, (0 split)\n",
      "      indus < 5.04     to the right, agree=0.825, adj=0.38, (0 split)\n",
      "      zn    < 17.75    to the left,  agree=0.805, adj=0.31, (0 split)\n",
      "      age   < 38.95    to the right, agree=0.788, adj=0.25, (0 split)\n",
      "      nox   < 0.4475   to the right, agree=0.785, adj=0.24, (0 split)\n",
      "\n",
      "Node number 2: 254 observations,    complexity param=0.09991458\n",
      "  mean=18.62835, MSE=32.96817 \n",
      "  left son=4 (113 obs) right son=5 (141 obs)\n",
      "  Primary splits:\n",
      "      lstat < 15       to the right, improve=0.3566058, (0 missing)\n",
      "      nox   < 0.6695   to the right, improve=0.2986222, (0 missing)\n",
      "      crim  < 8.492    to the right, improve=0.2501040, (0 missing)\n",
      "      dis   < 2.0754   to the left,  improve=0.2279412, (0 missing)\n",
      "      age   < 91.85    to the right, improve=0.2095810, (0 missing)\n",
      "  Surrogate splits:\n",
      "      age   < 91.15    to the right, agree=0.815, adj=0.584, (0 split)\n",
      "      dis   < 2.23935  to the left,  agree=0.760, adj=0.460, (0 split)\n",
      "      indus < 16.57    to the right, agree=0.732, adj=0.398, (0 split)\n",
      "      nox   < 0.657    to the right, agree=0.732, adj=0.398, (0 split)\n",
      "      crim  < 4.65786  to the right, agree=0.728, adj=0.389, (0 split)\n",
      "\n",
      "Node number 3: 100 observations,    complexity param=0.1275436\n",
      "  mean=32.444, MSE=78.18126 \n",
      "  left son=6 (79 obs) right son=7 (21 obs)\n",
      "  Primary splits:\n",
      "      rm      < 7.445    to the left,  improve=0.4875779, (0 missing)\n",
      "      lstat   < 4.295    to the right, improve=0.3751667, (0 missing)\n",
      "      ptratio < 15       to the right, improve=0.1731869, (0 missing)\n",
      "      dis     < 2.90485  to the right, improve=0.1633919, (0 missing)\n",
      "      nox     < 0.574    to the left,  improve=0.1546222, (0 missing)\n",
      "  Surrogate splits:\n",
      "      ptratio < 14.75    to the right, agree=0.84, adj=0.238, (0 split)\n",
      "      lstat   < 3.21     to the right, agree=0.83, adj=0.190, (0 split)\n",
      "      indus   < 1.215    to the right, agree=0.81, adj=0.095, (0 split)\n",
      "      nox     < 0.639    to the left,  agree=0.81, adj=0.095, (0 split)\n",
      "\n",
      "Node number 4: 113 observations,    complexity param=0.02784487\n",
      "  mean=14.79823, MSE=20.53663 \n",
      "  left son=8 (50 obs) right son=9 (63 obs)\n",
      "  Primary splits:\n",
      "      crim    < 6.502895 to the right, improve=0.3586126, (0 missing)\n",
      "      nox     < 0.657    to the right, improve=0.3222750, (0 missing)\n",
      "      tax     < 551.5    to the right, improve=0.3112718, (0 missing)\n",
      "      dis     < 2.0037   to the left,  improve=0.2953369, (0 missing)\n",
      "      ptratio < 19.65    to the right, improve=0.2843276, (0 missing)\n",
      "  Surrogate splits:\n",
      "      rad     < 16       to the right, agree=0.903, adj=0.78, (0 split)\n",
      "      tax     < 551.5    to the right, agree=0.876, adj=0.72, (0 split)\n",
      "      nox     < 0.657    to the right, agree=0.761, adj=0.46, (0 split)\n",
      "      ptratio < 20.15    to the right, agree=0.761, adj=0.46, (0 split)\n",
      "      dis     < 2.0037   to the left,  agree=0.717, adj=0.36, (0 split)\n",
      "\n",
      "Node number 5: 141 observations,    complexity param=0.02002356\n",
      "  mean=21.69787, MSE=21.75241 \n",
      "  left son=10 (125 obs) right son=11 (16 obs)\n",
      "  Primary splits:\n",
      "      rm      < 6.612    to the left,  improve=0.19512050, (0 missing)\n",
      "      indus   < 3.985    to the right, improve=0.13432270, (0 missing)\n",
      "      lstat   < 9.95     to the right, improve=0.11835190, (0 missing)\n",
      "      ptratio < 17.85    to the right, improve=0.07513898, (0 missing)\n",
      "      tax     < 267      to the right, improve=0.06979901, (0 missing)\n",
      "  Surrogate splits:\n",
      "      ptratio < 13.85    to the right, agree=0.915, adj=0.25, (0 split)\n",
      "\n",
      "Node number 6: 79 observations,    complexity param=0.03429563\n",
      "  mean=29.26076, MSE=39.29023 \n",
      "  left son=12 (39 obs) right son=13 (40 obs)\n",
      "  Primary splits:\n",
      "      rm    < 6.6805   to the left,  improve=0.3302290, (0 missing)\n",
      "      lstat < 5.145    to the right, improve=0.2801081, (0 missing)\n",
      "      age   < 91.6     to the left,  improve=0.2054580, (0 missing)\n",
      "      rad   < 7.5      to the left,  improve=0.1394561, (0 missing)\n",
      "      dis   < 3.2439   to the right, improve=0.1380253, (0 missing)\n",
      "  Surrogate splits:\n",
      "      lstat < 5.145    to the right, agree=0.696, adj=0.385, (0 split)\n",
      "      zn    < 31.5     to the left,  agree=0.620, adj=0.231, (0 split)\n",
      "      crim  < 0.091335 to the right, agree=0.608, adj=0.205, (0 split)\n",
      "      indus < 4.01     to the right, agree=0.608, adj=0.205, (0 split)\n",
      "      tax   < 274.5    to the right, agree=0.608, adj=0.205, (0 split)\n",
      "\n",
      "Node number 7: 21 observations\n",
      "  mean=44.41905, MSE=42.9644 \n",
      "\n",
      "Node number 8: 50 observations\n",
      "  mean=11.752, MSE=15.9217 \n",
      "\n",
      "Node number 9: 63 observations\n",
      "  mean=17.21587, MSE=10.98959 \n",
      "\n",
      "Node number 10: 125 observations\n",
      "  mean=20.9608, MSE=16.24846 \n",
      "\n",
      "Node number 11: 16 observations\n",
      "  mean=27.45625, MSE=27.34871 \n",
      "\n",
      "Node number 12: 39 observations\n",
      "  mean=25.61282, MSE=23.00676 \n",
      "\n",
      "Node number 13: 40 observations\n",
      "  mean=32.8175, MSE=29.54144 \n",
      "\n"
     ]
    }
   ],
   "source": [
    "rpart.fit = rpart(medv~., data=boston_train)\n",
    "summary(rpart.fit)"
   ]
  },
  {
   "cell_type": "code",
   "execution_count": 173,
   "metadata": {},
   "outputs": [
    {
     "name": "stdout",
     "output_type": "stream",
     "text": [
      "package 'rpart.plot' successfully unpacked and MD5 sums checked\n",
      "\n",
      "The downloaded binary packages are in\n",
      "\tC:\\Users\\15\\AppData\\Local\\Temp\\RtmpWq7bdN\\downloaded_packages\n"
     ]
    }
   ],
   "source": [
    "install.packages('rpart.plot')"
   ]
  },
  {
   "cell_type": "code",
   "execution_count": 174,
   "metadata": {},
   "outputs": [
    {
     "name": "stderr",
     "output_type": "stream",
     "text": [
      "Warning message:\n",
      "\"package 'rpart.plot' was built under R version 3.6.3\""
     ]
    }
   ],
   "source": [
    "library(rpart.plot)"
   ]
  },
  {
   "cell_type": "code",
   "execution_count": 175,
   "metadata": {},
   "outputs": [
    {
     "data": {
      "image/png": "[encoded data removed]",
      "text/plain": [
       "plot without title"
      ]
     },
     "metadata": {},
     "output_type": "display_data"
    }
   ],
   "source": [
    "rpart.plot(rpart.fit, digits=3, type = 0, extra=1, fallen.leaves= F, cex=1)\n",
    "# text(rpart.fit, pretty = F)"
   ]
  },
  {
   "cell_type": "code",
   "execution_count": 176,
   "metadata": {},
   "outputs": [],
   "source": [
    "rpart.yhat = predict(rpart.fit, newdata=boston_test)"
   ]
  },
  {
   "cell_type": "code",
   "execution_count": 177,
   "metadata": {},
   "outputs": [],
   "source": [
    "kk = mean((rpart.yhat - boston_test$medv)^2)"
   ]
  },
  {
   "cell_type": "code",
   "execution_count": 178,
   "metadata": {},
   "outputs": [
    {
     "data": {
      "text/html": [
       "4.1916872587141"
      ],
      "text/latex": [
       "4.1916872587141"
      ],
      "text/markdown": [
       "4.1916872587141"
      ],
      "text/plain": [
       "[1] 4.191687"
      ]
     },
     "metadata": {},
     "output_type": "display_data"
    }
   ],
   "source": [
    "sqrt(kk)"
   ]
  },
  {
   "cell_type": "markdown",
   "metadata": {},
   "source": [
    "### ANN  수치예측모형의 머신ㄹ런이 알고리즘 방법"
   ]
  },
  {
   "cell_type": "code",
   "execution_count": 179,
   "metadata": {},
   "outputs": [],
   "source": [
    "normalize = function(x) {return ((x-min(x))/max(x)-min(x))}"
   ]
  },
  {
   "cell_type": "code",
   "execution_count": 180,
   "metadata": {},
   "outputs": [],
   "source": [
    "boston_train_nom = as.data.frame(sapply(boston_train, normalize))"
   ]
  },
  {
   "cell_type": "code",
   "execution_count": 181,
   "metadata": {},
   "outputs": [],
   "source": [
    "boston_test_nom = as.data.frame(sapply(boston_test, normalize))"
   ]
  },
  {
   "cell_type": "code",
   "execution_count": 183,
   "metadata": {},
   "outputs": [
    {
     "name": "stdout",
     "output_type": "stream",
     "text": [
      "# weights:  76\n",
      "initial  value 9447.446228 \n",
      "final  value 7664.274096 \n",
      "converged\n"
     ]
    }
   ],
   "source": [
    "nnet.fit = nnet(medv~., data=boston_train_nom, size=5)"
   ]
  },
  {
   "cell_type": "code",
   "execution_count": 184,
   "metadata": {},
   "outputs": [],
   "source": [
    "nnet.yhat = predict(nnet.fit, newdata=boston_test_nom, type='raw')"
   ]
  },
  {
   "cell_type": "code",
   "execution_count": 188,
   "metadata": {},
   "outputs": [],
   "source": [
    "kk = mean((nnet.yhat - boston_test_nom$medv)^2)"
   ]
  },
  {
   "cell_type": "code",
   "execution_count": 189,
   "metadata": {},
   "outputs": [
    {
     "data": {
      "text/html": [
       "5.26447055867519"
      ],
      "text/latex": [
       "5.26447055867519"
      ],
      "text/markdown": [
       "5.26447055867519"
      ],
      "text/plain": [
       "[1] 5.264471"
      ]
     },
     "metadata": {},
     "output_type": "display_data"
    }
   ],
   "source": [
    "sqrt(kk)"
   ]
  },
  {
   "cell_type": "markdown",
   "metadata": {},
   "source": [
    "### ANN의 시각화 분석"
   ]
  },
  {
   "cell_type": "code",
   "execution_count": 190,
   "metadata": {},
   "outputs": [
    {
     "name": "stderr",
     "output_type": "stream",
     "text": [
      "also installing the dependency 'Deriv'\n",
      "\n"
     ]
    },
    {
     "name": "stdout",
     "output_type": "stream",
     "text": [
      "package 'Deriv' successfully unpacked and MD5 sums checked\n",
      "package 'neuralnet' successfully unpacked and MD5 sums checked\n",
      "\n",
      "The downloaded binary packages are in\n",
      "\tC:\\Users\\15\\AppData\\Local\\Temp\\RtmpWq7bdN\\downloaded_packages\n"
     ]
    }
   ],
   "source": [
    "install.packages('neuralnet')"
   ]
  },
  {
   "cell_type": "code",
   "execution_count": 191,
   "metadata": {},
   "outputs": [
    {
     "name": "stderr",
     "output_type": "stream",
     "text": [
      "Warning message:\n",
      "\"package 'neuralnet' was built under R version 3.6.3\""
     ]
    }
   ],
   "source": [
    "library(neuralnet)"
   ]
  },
  {
   "cell_type": "code",
   "execution_count": 197,
   "metadata": {},
   "outputs": [],
   "source": [
    "neural.fit = neuralnet(medv~crim+zn+indus+chas+nox+rm+age+tax+ptratio+black+lstat, data=boston_train_nom, hidden=5)"
   ]
  },
  {
   "cell_type": "code",
   "execution_count": 198,
   "metadata": {},
   "outputs": [],
   "source": [
    "neural.result = compute(neural.fit, boston_test_nom[1:13])"
   ]
  },
  {
   "cell_type": "code",
   "execution_count": 200,
   "metadata": {},
   "outputs": [],
   "source": [
    "neural.yhat = neural.result$net.result"
   ]
  },
  {
   "cell_type": "code",
   "execution_count": 205,
   "metadata": {},
   "outputs": [],
   "source": [
    "kk = mean((neural.yhat - boston_test_nom$medv)^2)"
   ]
  },
  {
   "cell_type": "code",
   "execution_count": 206,
   "metadata": {},
   "outputs": [
    {
     "data": {
      "text/html": [
       "0.638882870017401"
      ],
      "text/latex": [
       "0.638882870017401"
      ],
      "text/markdown": [
       "0.638882870017401"
      ],
      "text/plain": [
       "[1] 0.6388829"
      ]
     },
     "metadata": {},
     "output_type": "display_data"
    }
   ],
   "source": [
    "sqrt(kk)"
   ]
  },
  {
   "cell_type": "code",
   "execution_count": 209,
   "metadata": {},
   "outputs": [],
   "source": [
    "plot(neural.fit)"
   ]
  },
  {
   "cell_type": "markdown",
   "metadata": {},
   "source": [
    "## Ensemble"
   ]
  },
  {
   "cell_type": "code",
   "execution_count": 210,
   "metadata": {},
   "outputs": [],
   "source": [
    "library(randomForest)"
   ]
  },
  {
   "cell_type": "code",
   "execution_count": 211,
   "metadata": {},
   "outputs": [],
   "source": [
    "set.seed(1)"
   ]
  },
  {
   "cell_type": "code",
   "execution_count": 212,
   "metadata": {},
   "outputs": [],
   "source": [
    "rf.fit = randomForest(medv~., data=boston_train, mtry = 6, importance = T)"
   ]
  },
  {
   "cell_type": "code",
   "execution_count": 217,
   "metadata": {},
   "outputs": [
    {
     "data": {
      "text/plain": [
       "\n",
       "Call:\n",
       " randomForest(formula = medv ~ ., data = boston_train, mtry = 6,      importance = T) \n",
       "               Type of random forest: regression\n",
       "                     Number of trees: 500\n",
       "No. of variables tried at each split: 6\n",
       "\n",
       "          Mean of squared residuals: 12.66355\n",
       "                    % Var explained: 85"
      ]
     },
     "metadata": {},
     "output_type": "display_data"
    }
   ],
   "source": [
    "rf.fit"
   ]
  },
  {
   "cell_type": "code",
   "execution_count": 218,
   "metadata": {},
   "outputs": [
    {
     "data": {
      "image/png": "[encoded data removed]",
      "text/plain": [
       "Plot with title \"rf.fit\""
      ]
     },
     "metadata": {},
     "output_type": "display_data"
    }
   ],
   "source": [
    "plot(rf.fit)"
   ]
  },
  {
   "cell_type": "code",
   "execution_count": 219,
   "metadata": {},
   "outputs": [
    {
     "data": {
      "text/html": [
       "<table>\n",
       "<thead><tr><th></th><th scope=col>%IncMSE</th><th scope=col>IncNodePurity</th></tr></thead>\n",
       "<tbody>\n",
       "\t<tr><th scope=row>crim</th><td>14.923899 </td><td>1708.75815</td></tr>\n",
       "\t<tr><th scope=row>zn</th><td> 3.609774 </td><td> 126.66093</td></tr>\n",
       "\t<tr><th scope=row>indus</th><td> 9.110446 </td><td>1476.93682</td></tr>\n",
       "\t<tr><th scope=row>chas</th><td> 0.766000 </td><td>  94.00694</td></tr>\n",
       "\t<tr><th scope=row>nox</th><td>17.625250 </td><td>1823.84795</td></tr>\n",
       "\t<tr><th scope=row>rm</th><td>40.347412 </td><td>9704.09407</td></tr>\n",
       "\t<tr><th scope=row>age</th><td>12.870640 </td><td> 596.21932</td></tr>\n",
       "\t<tr><th scope=row>dis</th><td>14.257622 </td><td>1605.11401</td></tr>\n",
       "\t<tr><th scope=row>rad</th><td> 4.880301 </td><td> 194.62481</td></tr>\n",
       "\t<tr><th scope=row>tax</th><td>10.932751 </td><td> 590.42709</td></tr>\n",
       "\t<tr><th scope=row>ptratio</th><td>15.990051 </td><td>1104.93512</td></tr>\n",
       "\t<tr><th scope=row>black</th><td> 7.693046 </td><td> 434.84520</td></tr>\n",
       "\t<tr><th scope=row>lstat</th><td>29.667916 </td><td>9851.29153</td></tr>\n",
       "</tbody>\n",
       "</table>\n"
      ],
      "text/latex": [
       "\\begin{tabular}{r|ll}\n",
       "  & \\%IncMSE & IncNodePurity\\\\\n",
       "\\hline\n",
       "\tcrim & 14.923899  & 1708.75815\\\\\n",
       "\tzn &  3.609774  &  126.66093\\\\\n",
       "\tindus &  9.110446  & 1476.93682\\\\\n",
       "\tchas &  0.766000  &   94.00694\\\\\n",
       "\tnox & 17.625250  & 1823.84795\\\\\n",
       "\trm & 40.347412  & 9704.09407\\\\\n",
       "\tage & 12.870640  &  596.21932\\\\\n",
       "\tdis & 14.257622  & 1605.11401\\\\\n",
       "\trad &  4.880301  &  194.62481\\\\\n",
       "\ttax & 10.932751  &  590.42709\\\\\n",
       "\tptratio & 15.990051  & 1104.93512\\\\\n",
       "\tblack &  7.693046  &  434.84520\\\\\n",
       "\tlstat & 29.667916  & 9851.29153\\\\\n",
       "\\end{tabular}\n"
      ],
      "text/markdown": [
       "\n",
       "| <!--/--> | %IncMSE | IncNodePurity |\n",
       "|---|---|---|\n",
       "| crim | 14.923899  | 1708.75815 |\n",
       "| zn |  3.609774  |  126.66093 |\n",
       "| indus |  9.110446  | 1476.93682 |\n",
       "| chas |  0.766000  |   94.00694 |\n",
       "| nox | 17.625250  | 1823.84795 |\n",
       "| rm | 40.347412  | 9704.09407 |\n",
       "| age | 12.870640  |  596.21932 |\n",
       "| dis | 14.257622  | 1605.11401 |\n",
       "| rad |  4.880301  |  194.62481 |\n",
       "| tax | 10.932751  |  590.42709 |\n",
       "| ptratio | 15.990051  | 1104.93512 |\n",
       "| black |  7.693046  |  434.84520 |\n",
       "| lstat | 29.667916  | 9851.29153 |\n",
       "\n"
      ],
      "text/plain": [
       "        %IncMSE   IncNodePurity\n",
       "crim    14.923899 1708.75815   \n",
       "zn       3.609774  126.66093   \n",
       "indus    9.110446 1476.93682   \n",
       "chas     0.766000   94.00694   \n",
       "nox     17.625250 1823.84795   \n",
       "rm      40.347412 9704.09407   \n",
       "age     12.870640  596.21932   \n",
       "dis     14.257622 1605.11401   \n",
       "rad      4.880301  194.62481   \n",
       "tax     10.932751  590.42709   \n",
       "ptratio 15.990051 1104.93512   \n",
       "black    7.693046  434.84520   \n",
       "lstat   29.667916 9851.29153   "
      ]
     },
     "metadata": {},
     "output_type": "display_data"
    }
   ],
   "source": [
    "importance(rf.fit)"
   ]
  },
  {
   "cell_type": "code",
   "execution_count": 220,
   "metadata": {},
   "outputs": [
    {
     "data": {
      "image/png": "[encoded data removed]",
      "text/plain": [
       "plot without title"
      ]
     },
     "metadata": {},
     "output_type": "display_data"
    }
   ],
   "source": [
    "varImpPlot(rf.fit)"
   ]
  },
  {
   "cell_type": "code",
   "execution_count": null,
   "metadata": {},
   "outputs": [],
   "source": []
  },
  {
   "cell_type": "code",
   "execution_count": 213,
   "metadata": {},
   "outputs": [],
   "source": [
    "rf.yhat = predict(rf.fit, newdata=boston_test)"
   ]
  },
  {
   "cell_type": "code",
   "execution_count": 215,
   "metadata": {},
   "outputs": [],
   "source": [
    "kk = mean((rf.yhat - boston_test$medv)^2)"
   ]
  },
  {
   "cell_type": "code",
   "execution_count": 216,
   "metadata": {},
   "outputs": [
    {
     "data": {
      "text/html": [
       "2.98298632703501"
      ],
      "text/latex": [
       "2.98298632703501"
      ],
      "text/markdown": [
       "2.98298632703501"
      ],
      "text/plain": [
       "[1] 2.982986"
      ]
     },
     "metadata": {},
     "output_type": "display_data"
    }
   ],
   "source": [
    "sqrt(kk)"
   ]
  },
  {
   "cell_type": "code",
   "execution_count": null,
   "metadata": {},
   "outputs": [],
   "source": []
  }
 ],
 "metadata": {
  "kernelspec": {
   "display_name": "R",
   "language": "R",
   "name": "ir"
  },
  "language_info": {
   "codemirror_mode": "r",
   "file_extension": ".r",
   "mimetype": "text/x-r-source",
   "name": "R",
   "pygments_lexer": "r",
   "version": "3.6.1"
  }
 },
 "nbformat": 4,
 "nbformat_minor": 4
}
